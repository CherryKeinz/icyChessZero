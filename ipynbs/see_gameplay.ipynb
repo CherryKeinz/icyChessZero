{
 "cells": [
  {
   "cell_type": "code",
   "execution_count": 56,
   "metadata": {
    "collapsed": true
   },
   "outputs": [],
   "source": [
    "#coding:utf-8\n",
    "%reload_ext autoreload \n",
    "%autoreload 2\n",
    "import os\n",
    "import sys\n",
    "\n",
    "project_basedir = '..'\n",
    "sys.path.append(project_basedir)\n",
    "from cchess_zero import cbf\n",
    "from cchess_zero import board_visualizer\n",
    "from matplotlib import pyplot as plt\n",
    "import os\n",
    "from cchess_zero.gameboard import *\n",
    "from net import resnet\n",
    "import common\n",
    "from gameplays import gameplay,players\n",
    "from gameplays.analysis import get_km_json\n",
    "import json\n",
    "%matplotlib inline"
   ]
  },
  {
   "cell_type": "code",
   "execution_count": 57,
   "metadata": {},
   "outputs": [
    {
     "name": "stdout",
     "output_type": "stream",
     "text": [
      "2018-08-06_23-04-56_883_mcts-mcts_oldnet-newnet_w.cbf\r\n",
      "2018-08-06_23-05-32_601_mcts-mcts_oldnet-newnet_b.cbf\r\n",
      "2018-08-06_23-07-12_818_mcts-mcts_oldnet-newnet_peace.cbf\r\n",
      "2018-08-06_23-08-40_549_mcts-mcts_newnet-oldnet_w.cbf\r\n",
      "2018-08-06_23-09-46_18_mcts-mcts_oldnet-newnet_w.cbf\r\n",
      "2018-08-06_23-12-08_671_mcts-mcts_newnet-oldnet_b.cbf\r\n",
      "2018-08-06_23-13-00_521_mcts-mcts_newnet-oldnet_peace.cbf\r\n",
      "2018-08-06_23-13-15_157_mcts-mcts_oldnet-newnet_peace.cbf\r\n",
      "2018-08-06_23-13-46_303_mcts-mcts_oldnet-newnet_b.cbf\r\n",
      "2018-08-06_23-16-58_868_mcts-mcts_newnet-oldnet_peace.cbf\r\n"
     ]
    }
   ],
   "source": [
    "! ls '../data/validate/2018-08-06_19-13-25/' | tail"
   ]
  },
  {
   "cell_type": "code",
   "execution_count": 58,
   "metadata": {},
   "outputs": [
    {
     "name": "stdout",
     "output_type": "stream",
     "text": [
      "2018-08-06_23-13-46_303_mcts-mcts_oldnet-newnet_b.cbf\n"
     ]
    }
   ],
   "source": [
    "\n",
    "fullpath = '../data/validate/2018-08-06_19-13-25/2018-08-06_23-13-46_303_mcts-mcts_oldnet-newnet_b.cbf'\n",
    "moves = cbf.cbf2move(fullpath)\n",
    "fname = fullpath.split('/')[-1]\n",
    "print(fname)\n",
    "state = gameplay.GameState()"
   ]
  },
  {
   "cell_type": "code",
   "execution_count": 59,
   "metadata": {
    "collapsed": true
   },
   "outputs": [],
   "source": [
    "from PIL import Image\n",
    "import imageio\n",
    "imgs_for_gif = []\n",
    "state = gameplay.GameState()\n",
    "statestr = 'RNBAKABNR/9/1C5C1/P1P1P1P1P/9/9/p1p1p1p1p/1c5c1/9/rnbakabnr'\n",
    "for i in moves[:]: \n",
    "    statestr = GameBoard.sim_do_action(i,statestr)\n",
    "    imgs_for_gif.append(board_visualizer.get_board_img(statestr))\n",
    "    state.do_move(i)\n",
    "imgs_for_gif = imgs_for_gif[-10:]\n",
    "imageio.mimsave('../data/gif/{}.gif'.format(fname[:-4]), imgs_for_gif,duration=0.5)"
   ]
  },
  {
   "cell_type": "code",
   "execution_count": 60,
   "metadata": {},
   "outputs": [
    {
     "data": {
      "text/plain": [
       "('f0e1', 119)"
      ]
     },
     "execution_count": 60,
     "metadata": {},
     "output_type": "execute_result"
    }
   ],
   "source": [
    "i,len(moves)"
   ]
  },
  {
   "cell_type": "code",
   "execution_count": 61,
   "metadata": {
    "collapsed": true
   },
   "outputs": [],
   "source": [
    "def display_gif(fn):\n",
    "    from IPython import display\n",
    "    return display.HTML('<img src=\"{}\">'.format(fn))"
   ]
  },
  {
   "cell_type": "code",
   "execution_count": 62,
   "metadata": {},
   "outputs": [
    {
     "data": {
      "text/html": [
       "<img src=\"../data/gif/2018-08-06_23-13-46_303_mcts-mcts_oldnet-newnet_b.gif\">"
      ],
      "text/plain": [
       "<IPython.core.display.HTML object>"
      ]
     },
     "execution_count": 62,
     "metadata": {},
     "output_type": "execute_result"
    }
   ],
   "source": [
    "display_gif('../data/gif/{}.gif'.format(fname[:-4]))"
   ]
  },
  {
   "cell_type": "markdown",
   "metadata": {
    "collapsed": true
   },
   "source": [
    "# ANALYSIS"
   ]
  },
  {
   "cell_type": "code",
   "execution_count": 129,
   "metadata": {},
   "outputs": [
    {
     "name": "stdout",
     "output_type": "stream",
     "text": [
      "0\n",
      "[None, 10, 9, 128]\n",
      "[None, 10, 9, 128]\n",
      "[None, 10, 9, 128]\n",
      "[None, 10, 9, 128]\n",
      "[None, 10, 9, 128]\n",
      "[None, 10, 9, 128]\n",
      "[None, 10, 9, 128]\n",
      "inside res net [None, 10, 9, 128]\n",
      "INFO:tensorflow:Restoring parameters from ../data/prepare_weight/2018-07-25_22-18-46\n"
     ]
    }
   ],
   "source": [
    "network = resnet.get_model(os.path.join(project_basedir,\n",
    "    '../data/prepare_weight/2018-07-25_22-18-46'[3:]),\n",
    "    common.board.create_uci_labels(),GPU_CORE=[None],FILTERS=128,NUM_RES_LAYERS=7)"
   ]
  },
  {
   "cell_type": "code",
   "execution_count": 134,
   "metadata": {
    "collapsed": true
   },
   "outputs": [],
   "source": [
    "network_player = players.NetworkPlayer(state.currentplayer,network,n_playout=400)"
   ]
  },
  {
   "cell_type": "code",
   "execution_count": 135,
   "metadata": {},
   "outputs": [
    {
     "data": {
      "text/plain": [
       "('e1d1', 0.26717197106045204)"
      ]
     },
     "execution_count": 135,
     "metadata": {},
     "output_type": "execute_result"
    }
   ],
   "source": [
    "network_player.make_move(state=state,actual_move=False)"
   ]
  },
  {
   "cell_type": "code",
   "execution_count": 136,
   "metadata": {},
   "outputs": [
    {
     "name": "stdout",
     "output_type": "stream",
     "text": [
      "b0a2 0 4.9169368e-05 0\n",
      "b0d1 12 0.018395053 0.24550490205486614\n",
      "b0c2 0 0.00020596824 0\n",
      "c3b3 0 1.0081266e-05 0\n",
      "c3d3 0 8.3958175e-06 0\n",
      "c3c0 0 2.3718806e-06 0\n",
      "c3c1 0 1.5922126e-06 0\n",
      "c3c2 0 3.3794254e-07 0\n",
      "c3c5 0 9.780939e-07 0\n",
      "e1d1 266 0.32702333 0.4471466393512848\n",
      "e1f1 34 0.49376035 -1.0\n",
      "e1e0 0 0.00011869673 0\n",
      "e1e2 1 0.004035793 -1.0\n",
      "e5c5 0 4.2461957e-06 0\n",
      "e5d5 0 0.00036026465 0\n",
      "e5f5 0 0.0009615962 0\n",
      "e5g5 0 6.967882e-06 0\n",
      "e5h5 0 4.8325285e-07 0\n",
      "e5e3 0 2.0202579e-05 0\n",
      "e5e4 0 0.000933298 0\n",
      "e5e6 0 0.0001555884 0\n",
      "e5e7 0 0.00019506543 0\n",
      "g7f7 0 9.827086e-06 0\n",
      "g7h7 0 0.0037287443 0\n",
      "g7g8 0 3.452016e-05 0\n",
      "h2d2 0 0.00032670892 0\n",
      "h2e2 0 0.00076633267 0\n",
      "h2f2 0 0.0005389656 0\n",
      "h2g2 0 0.00011242429 0\n",
      "h2h0 0 2.3433591e-05 0\n",
      "h2h1 0 0.00010361684 0\n",
      "h2h3 0 2.8984734e-05 0\n",
      "h2h4 0 5.418088e-05 0\n",
      "h2h5 0 1.1451802e-05 0\n",
      "h2h6 0 2.3306018e-05 0\n",
      "h2h7 0 0.0004233554 0\n",
      "h2h8 0 7.880476e-05 0\n",
      "h2h9 30 0.0075685116 0.4245055218537649\n",
      "i2h0 0 1.2329712e-05 0\n",
      "i2h4 0 0.0008276026 0\n",
      "i5h5 0 0.00010810893 0\n",
      "i5i6 0 1.7538223e-06 0\n",
      "c4a2 0 0.00030596118 0\n",
      "c4e2 43 0.10854153 0.12799882784832356\n",
      "g0e2 13 0.026781164 0.11951930018571705\n"
     ]
    }
   ],
   "source": [
    "childs = network_player.mcts_policy._root._children\n",
    "for move in childs:\n",
    "    val = childs[move]\n",
    "    print(move,val._n_visits,val._P,val._Q)"
   ]
  },
  {
   "cell_type": "code",
   "execution_count": 28,
   "metadata": {
    "collapsed": true
   },
   "outputs": [],
   "source": [
    "datajson = get_km_json(network_player.mcts_policy,state.statestr,depth=40)"
   ]
  },
  {
   "cell_type": "code",
   "execution_count": 29,
   "metadata": {
    "collapsed": true
   },
   "outputs": [],
   "source": [
    "with open('../data/mstc_vis/sample.km','w') as whdl:\n",
    "    json.dump(datajson,whdl)"
   ]
  },
  {
   "cell_type": "code",
   "execution_count": null,
   "metadata": {
    "collapsed": true
   },
   "outputs": [],
   "source": []
  }
 ],
 "metadata": {
  "kernelspec": {
   "display_name": "tf1.3_python",
   "language": "python",
   "name": "tf1.3_kernel"
  },
  "language_info": {
   "codemirror_mode": {
    "name": "ipython",
    "version": 3
   },
   "file_extension": ".py",
   "mimetype": "text/x-python",
   "name": "python",
   "nbconvert_exporter": "python",
   "pygments_lexer": "ipython3",
   "version": "3.6.0"
  }
 },
 "nbformat": 4,
 "nbformat_minor": 2
}
