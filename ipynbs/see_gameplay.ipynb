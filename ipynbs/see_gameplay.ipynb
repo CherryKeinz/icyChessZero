{
 "cells": [
  {
   "cell_type": "code",
   "execution_count": 62,
   "metadata": {
    "collapsed": true
   },
   "outputs": [],
   "source": [
    "#coding:utf-8\n",
    "%reload_ext autoreload \n",
    "%autoreload 2\n",
    "import os\n",
    "import sys\n",
    "\n",
    "project_basedir = '..'\n",
    "sys.path.append(project_basedir)\n",
    "from cchess_zero import cbf\n",
    "from cchess_zero import board_visualizer\n",
    "from matplotlib import pyplot as plt\n",
    "import os\n",
    "from cchess_zero.gameboard import *\n",
    "from net import resnet\n",
    "import common\n",
    "from gameplays import gameplay,players\n",
    "from gameplays.analysis import get_km_json\n",
    "import json\n",
    "%matplotlib inline"
   ]
  },
  {
   "cell_type": "code",
   "execution_count": 158,
   "metadata": {},
   "outputs": [
    {
     "name": "stdout",
     "output_type": "stream",
     "text": [
      "2018-06-28_12-00-57_833_mcts-mcts_newnet-oldnet_w.cbf\n"
     ]
    }
   ],
   "source": [
    "\n",
    "fullpath = '../data/validate/2018-06-28_12-00-57_833_mcts-mcts_newnet-oldnet_w.cbf'\n",
    "moves = cbf.cbf2move(fullpath)\n",
    "fname = fullpath.split('/')[-1]\n",
    "print(fname)\n",
    "state = gameplay.GameState()"
   ]
  },
  {
   "cell_type": "code",
   "execution_count": 159,
   "metadata": {
    "collapsed": true
   },
   "outputs": [],
   "source": [
    "from PIL import Image\n",
    "import imageio\n",
    "imgs_for_gif = []\n",
    "state = gameplay.GameState()\n",
    "statestr = 'RNBAKABNR/9/1C5C1/P1P1P1P1P/9/9/p1p1p1p1p/1c5c1/9/rnbakabnr'\n",
    "for i in moves[:]: \n",
    "    statestr = GameBoard.sim_do_action(i,statestr)\n",
    "    imgs_for_gif.append(board_visualizer.get_board_img(statestr))\n",
    "    state.do_move(i)\n",
    "imgs_for_gif = imgs_for_gif[-20:]\n",
    "imageio.mimsave('../data/gif/{}-.gif'.format(fname[:-4]), imgs_for_gif,duration=0.5)"
   ]
  },
  {
   "cell_type": "code",
   "execution_count": 160,
   "metadata": {},
   "outputs": [
    {
     "data": {
      "text/plain": [
       "'g5i7'"
      ]
     },
     "execution_count": 160,
     "metadata": {},
     "output_type": "execute_result"
    }
   ],
   "source": [
    "i"
   ]
  },
  {
   "cell_type": "code",
   "execution_count": 161,
   "metadata": {
    "collapsed": true
   },
   "outputs": [],
   "source": [
    "def display_gif(fn):\n",
    "    from IPython import display\n",
    "    return display.HTML('<img src=\"{}\">'.format(fn))"
   ]
  },
  {
   "cell_type": "code",
   "execution_count": 162,
   "metadata": {},
   "outputs": [
    {
     "data": {
      "text/html": [
       "<img src=\"../data/gif/2018-06-28_12-00-57_833_mcts-mcts_newnet-oldnet_w-.gif\">"
      ],
      "text/plain": [
       "<IPython.core.display.HTML object>"
      ]
     },
     "execution_count": 162,
     "metadata": {},
     "output_type": "execute_result"
    }
   ],
   "source": [
    "display_gif('../data/gif/{}-.gif'.format(fname[:-4]))"
   ]
  },
  {
   "cell_type": "markdown",
   "metadata": {
    "collapsed": true
   },
   "source": [
    "# ANALYSIS"
   ]
  },
  {
   "cell_type": "code",
   "execution_count": 7,
   "metadata": {},
   "outputs": [
    {
     "name": "stdout",
     "output_type": "stream",
     "text": [
      "0\n",
      "[None, 10, 9, 128]\n",
      "[None, 10, 9, 128]\n",
      "[None, 10, 9, 128]\n",
      "[None, 10, 9, 128]\n",
      "[None, 10, 9, 128]\n",
      "[None, 10, 9, 128]\n",
      "[None, 10, 9, 128]\n",
      "inside res net [None, 10, 9, 128]\n",
      "INFO:tensorflow:Restoring parameters from ../data/prepare_weight/2018-06-07_14-13-24\n"
     ]
    }
   ],
   "source": [
    "network = resnet.get_model(os.path.join(project_basedir,\n",
    "    'data/prepare_weight/2018-06-07_14-13-24'),\n",
    "    common.board.create_uci_labels(),GPU_CORE=[\"\"],FILTERS=128,NUM_RES_LAYERS=7)"
   ]
  },
  {
   "cell_type": "code",
   "execution_count": 26,
   "metadata": {
    "collapsed": true
   },
   "outputs": [],
   "source": [
    "network_player = players.NetworkPlayer('w',network,n_playout=400)"
   ]
  },
  {
   "cell_type": "code",
   "execution_count": 27,
   "metadata": {},
   "outputs": [
    {
     "data": {
      "text/plain": [
       "('f0e1', -0.6701836578454821)"
      ]
     },
     "execution_count": 27,
     "metadata": {},
     "output_type": "execute_result"
    }
   ],
   "source": [
    "network_player.make_move(state=state,actual_move=False)"
   ]
  },
  {
   "cell_type": "code",
   "execution_count": 28,
   "metadata": {
    "collapsed": true
   },
   "outputs": [],
   "source": [
    "datajson = get_km_json(network_player.mcts_policy,state.statestr,depth=40)"
   ]
  },
  {
   "cell_type": "code",
   "execution_count": 29,
   "metadata": {
    "collapsed": true
   },
   "outputs": [],
   "source": [
    "with open('../data/mstc_vis/sample.km','w') as whdl:\n",
    "    json.dump(datajson,whdl)"
   ]
  },
  {
   "cell_type": "code",
   "execution_count": null,
   "metadata": {
    "collapsed": true
   },
   "outputs": [],
   "source": []
  }
 ],
 "metadata": {
  "kernelspec": {
   "display_name": "tf1.3_python",
   "language": "python",
   "name": "tf1.3_kernel"
  },
  "language_info": {
   "codemirror_mode": {
    "name": "ipython",
    "version": 3
   },
   "file_extension": ".py",
   "mimetype": "text/x-python",
   "name": "python",
   "nbconvert_exporter": "python",
   "pygments_lexer": "ipython3",
   "version": "3.6.0"
  }
 },
 "nbformat": 4,
 "nbformat_minor": 2
}
