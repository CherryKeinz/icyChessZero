{
 "cells": [
  {
   "cell_type": "code",
   "execution_count": 745,
   "metadata": {
    "collapsed": true
   },
   "outputs": [],
   "source": [
    "#coding:utf-8\n",
    "%reload_ext autoreload \n",
    "%autoreload 2\n",
    "import os\n",
    "import sys\n",
    "project_basedir = '..'\n",
    "sys.path.append(project_basedir)\n",
    "from config import conf\n",
    "import json\n",
    "from matplotlib import pyplot as plt\n",
    "import pandas as pd\n",
    "import numpy as np\n",
    "plt.style.use('ggplot')\n",
    "%matplotlib inline"
   ]
  },
  {
   "cell_type": "code",
   "execution_count": 746,
   "metadata": {
    "collapsed": true
   },
   "outputs": [],
   "source": [
    "validate_dirs = os.listdir(conf.validate_dir)\n",
    "validate_dirs = [i for i in validate_dirs if i != '_blank']\n",
    "validate_dirs = sorted(validate_dirs)\n",
    "validate_dirs = [os.path.join(conf.validate_dir,i) for i in validate_dirs]"
   ]
  },
  {
   "cell_type": "code",
   "execution_count": 747,
   "metadata": {
    "collapsed": true
   },
   "outputs": [],
   "source": [
    "def add_score(onedic,key,point):\n",
    "    onedic.setdefault(key,0)\n",
    "    onedic[key] += point\n",
    "def cal_points(gameplays):\n",
    "    point_dic = {}\n",
    "    for onegame in gameplays:\n",
    "        if onegame[-3:] != 'cbf':\n",
    "            continue\n",
    "        winner = onegame.split('_')[-1].split('.')[0]\n",
    "        player1 = onegame.split('_')[-2].split('-')[0]\n",
    "        player2 = onegame.split('_')[-2].split('-')[1]\n",
    "        assert(winner in ['w','b','peace'])\n",
    "        if winner == 'w':\n",
    "            add_score(point_dic,player1,1)\n",
    "            add_score(point_dic,player2,0)\n",
    "        elif winner == 'b':\n",
    "            add_score(point_dic,player1,0)\n",
    "            add_score(point_dic,player2,1)\n",
    "        elif winner == 'peace':\n",
    "            add_score(point_dic,player1,0.5)\n",
    "            add_score(point_dic,player2,0.5)\n",
    "            add_score(point_dic,'peace',1)\n",
    "        else:\n",
    "            raise\n",
    "    return point_dic"
   ]
  },
  {
   "cell_type": "code",
   "execution_count": 748,
   "metadata": {
    "collapsed": true
   },
   "outputs": [],
   "source": [
    "game_numbers = [0]\n",
    "game_numbers_identity = [0]\n",
    "elu_points = [0]\n",
    "validate_games = [0]\n",
    "win_rate = [0]\n",
    "dates = ['start']\n",
    "peace_rates = [0]\n",
    "delta_elo = [0]\n",
    "for one_dir in validate_dirs:\n",
    "    one_date = one_dir.split('/')[-1]\n",
    "    gameplays = os.listdir(one_dir)\n",
    "    pointcdic = cal_points(gameplays)\n",
    "    game_num = len(gameplays)\n",
    "    \n",
    "    game_numbers.append(game_numbers[-1] + len(os.listdir(os.path.join(conf.history_selfplay_dir,one_date))))\n",
    "    game_numbers_identity.append(len(os.listdir(os.path.join(conf.history_selfplay_dir,one_date))))\n",
    "    old_score = pointcdic['oldnet'] / game_num\n",
    "    peace_rate = pointcdic.get('peace',0) / game_num\n",
    "    elo = np.log10(1 / old_score - 1) * 400\n",
    "    elu_points.append(elu_points[-1] + elo)\n",
    "    validate_games.append(len(gameplays))\n",
    "    win_rate.append(1 - old_score)\n",
    "    dates.append(one_date)\n",
    "    peace_rates.append(peace_rate)\n",
    "    delta_elo.append(elo)"
   ]
  },
  {
   "cell_type": "code",
   "execution_count": 749,
   "metadata": {},
   "outputs": [
    {
     "data": {
      "text/plain": [
       "<matplotlib.text.Text at 0x7f62b917b940>"
      ]
     },
     "execution_count": 749,
     "metadata": {},
     "output_type": "execute_result"
    },
    {
     "data": {
      "image/png": "[encoded data removed]",
      "text/plain": [
       "<matplotlib.figure.Figure at 0x7f62b92e3ac8>"
      ]
     },
     "metadata": {},
     "output_type": "display_data"
    }
   ],
   "source": [
    "plt.figure(figsize=(10,5))\n",
    "plt.plot(game_numbers,elu_points,marker='o',mec='r',mfc='w',label='elo')\n",
    "plt.plot(game_numbers,delta_elo,marker='*',ms=10,label='delta elo')\n",
    "plt.legend()\n",
    "plt.xlabel(\"Game played\")\n",
    "plt.ylabel(\"Elo\")"
   ]
  },
  {
   "cell_type": "code",
   "execution_count": 750,
   "metadata": {},
   "outputs": [
    {
     "data": {
      "text/html": [
       "<div>\n",
       "<table border=\"1\" class=\"dataframe\">\n",
       "  <thead>\n",
       "    <tr style=\"text-align: right;\">\n",
       "      <th></th>\n",
       "      <th>dates</th>\n",
       "      <th>delta_elo</th>\n",
       "      <th>elu_points</th>\n",
       "      <th>game_numbers</th>\n",
       "      <th>game_numbers_identity</th>\n",
       "      <th>peace_rates</th>\n",
       "      <th>validate_games</th>\n",
       "      <th>win_rate</th>\n",
       "    </tr>\n",
       "  </thead>\n",
       "  <tbody>\n",
       "    <tr>\n",
       "      <th>0</th>\n",
       "      <td>start</td>\n",
       "      <td>0.000000</td>\n",
       "      <td>0.000000</td>\n",
       "      <td>0</td>\n",
       "      <td>0</td>\n",
       "      <td>0.000000</td>\n",
       "      <td>0</td>\n",
       "      <td>0.000000</td>\n",
       "    </tr>\n",
       "    <tr>\n",
       "      <th>1</th>\n",
       "      <td>2018-07-17_21-59-58</td>\n",
       "      <td>165.330901</td>\n",
       "      <td>165.330901</td>\n",
       "      <td>12033</td>\n",
       "      <td>12033</td>\n",
       "      <td>0.182648</td>\n",
       "      <td>219</td>\n",
       "      <td>0.721461</td>\n",
       "    </tr>\n",
       "    <tr>\n",
       "      <th>2</th>\n",
       "      <td>2018-07-18_21-06-47</td>\n",
       "      <td>54.379517</td>\n",
       "      <td>219.710418</td>\n",
       "      <td>28296</td>\n",
       "      <td>16263</td>\n",
       "      <td>0.141553</td>\n",
       "      <td>219</td>\n",
       "      <td>0.577626</td>\n",
       "    </tr>\n",
       "    <tr>\n",
       "      <th>3</th>\n",
       "      <td>2018-07-19_21-13-26</td>\n",
       "      <td>60.901819</td>\n",
       "      <td>280.612237</td>\n",
       "      <td>45797</td>\n",
       "      <td>17501</td>\n",
       "      <td>0.187215</td>\n",
       "      <td>219</td>\n",
       "      <td>0.586758</td>\n",
       "    </tr>\n",
       "    <tr>\n",
       "      <th>4</th>\n",
       "      <td>2018-07-20_21-13-25</td>\n",
       "      <td>56.006357</td>\n",
       "      <td>336.618595</td>\n",
       "      <td>61100</td>\n",
       "      <td>15303</td>\n",
       "      <td>0.200913</td>\n",
       "      <td>219</td>\n",
       "      <td>0.579909</td>\n",
       "    </tr>\n",
       "    <tr>\n",
       "      <th>5</th>\n",
       "      <td>2018-07-21_21-13-25</td>\n",
       "      <td>1.586475</td>\n",
       "      <td>338.205070</td>\n",
       "      <td>75075</td>\n",
       "      <td>13975</td>\n",
       "      <td>0.255708</td>\n",
       "      <td>219</td>\n",
       "      <td>0.502283</td>\n",
       "    </tr>\n",
       "    <tr>\n",
       "      <th>6</th>\n",
       "      <td>2018-07-25_22-18-46</td>\n",
       "      <td>44.665434</td>\n",
       "      <td>382.870504</td>\n",
       "      <td>95084</td>\n",
       "      <td>20009</td>\n",
       "      <td>0.251142</td>\n",
       "      <td>219</td>\n",
       "      <td>0.563927</td>\n",
       "    </tr>\n",
       "    <tr>\n",
       "      <th>7</th>\n",
       "      <td>2018-07-27_09-28-20</td>\n",
       "      <td>70.767080</td>\n",
       "      <td>453.637584</td>\n",
       "      <td>116102</td>\n",
       "      <td>21018</td>\n",
       "      <td>0.333333</td>\n",
       "      <td>219</td>\n",
       "      <td>0.600457</td>\n",
       "    </tr>\n",
       "    <tr>\n",
       "      <th>8</th>\n",
       "      <td>2018-07-29_00-13-25</td>\n",
       "      <td>17.465800</td>\n",
       "      <td>471.103384</td>\n",
       "      <td>136273</td>\n",
       "      <td>20171</td>\n",
       "      <td>0.365297</td>\n",
       "      <td>219</td>\n",
       "      <td>0.525114</td>\n",
       "    </tr>\n",
       "    <tr>\n",
       "      <th>9</th>\n",
       "      <td>2018-07-30_16-13-25</td>\n",
       "      <td>74.079908</td>\n",
       "      <td>545.183293</td>\n",
       "      <td>156787</td>\n",
       "      <td>20514</td>\n",
       "      <td>0.360731</td>\n",
       "      <td>219</td>\n",
       "      <td>0.605023</td>\n",
       "    </tr>\n",
       "    <tr>\n",
       "      <th>10</th>\n",
       "      <td>2018-08-01_12-13-25</td>\n",
       "      <td>20.648306</td>\n",
       "      <td>565.831598</td>\n",
       "      <td>177104</td>\n",
       "      <td>20317</td>\n",
       "      <td>0.310502</td>\n",
       "      <td>219</td>\n",
       "      <td>0.529680</td>\n",
       "    </tr>\n",
       "    <tr>\n",
       "      <th>11</th>\n",
       "      <td>2018-08-03_03-13-25</td>\n",
       "      <td>36.623718</td>\n",
       "      <td>602.455316</td>\n",
       "      <td>187294</td>\n",
       "      <td>10190</td>\n",
       "      <td>0.337900</td>\n",
       "      <td>219</td>\n",
       "      <td>0.552511</td>\n",
       "    </tr>\n",
       "    <tr>\n",
       "      <th>12</th>\n",
       "      <td>2018-08-05_00-13-25</td>\n",
       "      <td>108.061372</td>\n",
       "      <td>710.516688</td>\n",
       "      <td>197320</td>\n",
       "      <td>10026</td>\n",
       "      <td>0.342466</td>\n",
       "      <td>219</td>\n",
       "      <td>0.650685</td>\n",
       "    </tr>\n",
       "    <tr>\n",
       "      <th>13</th>\n",
       "      <td>2018-08-06_19-13-25</td>\n",
       "      <td>-36.623718</td>\n",
       "      <td>673.892970</td>\n",
       "      <td>207527</td>\n",
       "      <td>10207</td>\n",
       "      <td>0.273973</td>\n",
       "      <td>219</td>\n",
       "      <td>0.447489</td>\n",
       "    </tr>\n",
       "  </tbody>\n",
       "</table>\n",
       "</div>"
      ],
      "text/plain": [
       "                  dates   delta_elo  elu_points  game_numbers  \\\n",
       "0                 start    0.000000    0.000000             0   \n",
       "1   2018-07-17_21-59-58  165.330901  165.330901         12033   \n",
       "2   2018-07-18_21-06-47   54.379517  219.710418         28296   \n",
       "3   2018-07-19_21-13-26   60.901819  280.612237         45797   \n",
       "4   2018-07-20_21-13-25   56.006357  336.618595         61100   \n",
       "5   2018-07-21_21-13-25    1.586475  338.205070         75075   \n",
       "6   2018-07-25_22-18-46   44.665434  382.870504         95084   \n",
       "7   2018-07-27_09-28-20   70.767080  453.637584        116102   \n",
       "8   2018-07-29_00-13-25   17.465800  471.103384        136273   \n",
       "9   2018-07-30_16-13-25   74.079908  545.183293        156787   \n",
       "10  2018-08-01_12-13-25   20.648306  565.831598        177104   \n",
       "11  2018-08-03_03-13-25   36.623718  602.455316        187294   \n",
       "12  2018-08-05_00-13-25  108.061372  710.516688        197320   \n",
       "13  2018-08-06_19-13-25  -36.623718  673.892970        207527   \n",
       "\n",
       "    game_numbers_identity  peace_rates  validate_games  win_rate  \n",
       "0                       0     0.000000               0  0.000000  \n",
       "1                   12033     0.182648             219  0.721461  \n",
       "2                   16263     0.141553             219  0.577626  \n",
       "3                   17501     0.187215             219  0.586758  \n",
       "4                   15303     0.200913             219  0.579909  \n",
       "5                   13975     0.255708             219  0.502283  \n",
       "6                   20009     0.251142             219  0.563927  \n",
       "7                   21018     0.333333             219  0.600457  \n",
       "8                   20171     0.365297             219  0.525114  \n",
       "9                   20514     0.360731             219  0.605023  \n",
       "10                  20317     0.310502             219  0.529680  \n",
       "11                  10190     0.337900             219  0.552511  \n",
       "12                  10026     0.342466             219  0.650685  \n",
       "13                  10207     0.273973             219  0.447489  "
      ]
     },
     "execution_count": 750,
     "metadata": {},
     "output_type": "execute_result"
    }
   ],
   "source": [
    "pd.DataFrame({\n",
    "    'dates':dates,\n",
    "    'game_numbers':game_numbers,\n",
    "    'game_numbers_identity':game_numbers_identity,\n",
    "    'elu_points':elu_points,\n",
    "    'validate_games':validate_games,\n",
    "    'win_rate':win_rate,\n",
    "    'peace_rates':peace_rates,\n",
    "    'delta_elo':delta_elo,\n",
    "})"
   ]
  },
  {
   "cell_type": "code",
   "execution_count": 751,
   "metadata": {},
   "outputs": [
    {
     "name": "stdout",
     "output_type": "stream",
     "text": [
      "1145\r\n"
     ]
    }
   ],
   "source": [
    "!ls -l ../data/distributed/ | wc -l"
   ]
  },
  {
   "cell_type": "code",
   "execution_count": 754,
   "metadata": {},
   "outputs": [
    {
     "name": "stdout",
     "output_type": "stream",
     "text": [
      "320\r\n"
     ]
    }
   ],
   "source": [
    "!ls -l ../data/distributed/ | grep peace | wc -l"
   ]
  },
  {
   "cell_type": "code",
   "execution_count": 755,
   "metadata": {},
   "outputs": [
    {
     "name": "stdout",
     "output_type": "stream",
     "text": [
      "2018年 08月 07日 星期二 00:59:41 CST\r\n"
     ]
    }
   ],
   "source": [
    "! date"
   ]
  },
  {
   "cell_type": "code",
   "execution_count": null,
   "metadata": {
    "collapsed": true
   },
   "outputs": [],
   "source": []
  }
 ],
 "metadata": {
  "kernelspec": {
   "display_name": "tf1.3_python",
   "language": "python",
   "name": "tf1.3_kernel"
  },
  "language_info": {
   "codemirror_mode": {
    "name": "ipython",
    "version": 3
   },
   "file_extension": ".py",
   "mimetype": "text/x-python",
   "name": "python",
   "nbconvert_exporter": "python",
   "pygments_lexer": "ipython3",
   "version": "3.6.0"
  }
 },
 "nbformat": 4,
 "nbformat_minor": 2
}
