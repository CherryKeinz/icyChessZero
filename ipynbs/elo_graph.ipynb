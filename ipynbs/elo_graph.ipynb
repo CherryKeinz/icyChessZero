{
 "cells": [
  {
   "cell_type": "code",
   "execution_count": 291,
   "metadata": {
    "collapsed": true
   },
   "outputs": [],
   "source": [
    "#coding:utf-8\n",
    "%reload_ext autoreload \n",
    "%autoreload 2\n",
    "import os\n",
    "import sys\n",
    "project_basedir = '..'\n",
    "sys.path.append(project_basedir)\n",
    "from config import conf\n",
    "import json\n",
    "from matplotlib import pyplot as plt\n",
    "import pandas as pd\n",
    "import numpy as np\n",
    "plt.style.use('ggplot')\n",
    "%matplotlib inline"
   ]
  },
  {
   "cell_type": "code",
   "execution_count": 292,
   "metadata": {
    "collapsed": true
   },
   "outputs": [],
   "source": [
    "validate_dirs = os.listdir(conf.validate_dir)\n",
    "validate_dirs = [i for i in validate_dirs if i != '_blank']\n",
    "validate_dirs = sorted(validate_dirs)\n",
    "validate_dirs = [os.path.join(conf.validate_dir,i) for i in validate_dirs]"
   ]
  },
  {
   "cell_type": "code",
   "execution_count": 293,
   "metadata": {
    "collapsed": true
   },
   "outputs": [],
   "source": [
    "def add_score(onedic,key,point):\n",
    "    onedic.setdefault(key,0)\n",
    "    onedic[key] += point\n",
    "def cal_points(gameplays):\n",
    "    point_dic = {}\n",
    "    for onegame in gameplays:\n",
    "        if onegame[-3:] != 'cbf':\n",
    "            continue\n",
    "        winner = onegame.split('_')[-1].split('.')[0]\n",
    "        player1 = onegame.split('_')[-2].split('-')[0]\n",
    "        player2 = onegame.split('_')[-2].split('-')[1]\n",
    "        assert(winner in ['w','b','peace'])\n",
    "        if winner == 'w':\n",
    "            add_score(point_dic,player1,1)\n",
    "            add_score(point_dic,player2,0)\n",
    "        elif winner == 'b':\n",
    "            add_score(point_dic,player1,0)\n",
    "            add_score(point_dic,player2,1)\n",
    "        elif winner == 'peace':\n",
    "            add_score(point_dic,player1,0.5)\n",
    "            add_score(point_dic,player2,0.5)\n",
    "            add_score(point_dic,'peace',1)\n",
    "        else:\n",
    "            raise\n",
    "    return point_dic"
   ]
  },
  {
   "cell_type": "code",
   "execution_count": 294,
   "metadata": {
    "collapsed": true
   },
   "outputs": [],
   "source": [
    "game_numbers = [0]\n",
    "game_numbers_identity = [0]\n",
    "elu_points = [0]\n",
    "validate_games = [0]\n",
    "win_rate = [0]\n",
    "dates = ['start']\n",
    "peace_rates = [0]\n",
    "delta_elo = [0]\n",
    "for one_dir in validate_dirs:\n",
    "    one_date = one_dir.split('/')[-1]\n",
    "    gameplays = os.listdir(one_dir)\n",
    "    pointcdic = cal_points(gameplays)\n",
    "    game_num = len(gameplays)\n",
    "    \n",
    "    try:\n",
    "        gn = len(os.listdir(os.path.join(conf.history_selfplay_dir,one_date.replace('_noup',''))))\n",
    "    except:\n",
    "        gn = 0\n",
    "    game_numbers.append(game_numbers[-1] + gn)\n",
    "    game_numbers_identity.append(gn)\n",
    "    old_score = pointcdic['oldnet'] / game_num\n",
    "    peace_rate = pointcdic.get('peace',0) / game_num\n",
    "    elo = np.log10(1 / old_score - 1) * 400\n",
    "    elu_points.append(elu_points[-1] + elo)\n",
    "    validate_games.append(len(gameplays))\n",
    "    win_rate.append(1 - old_score)\n",
    "    dates.append(one_date)\n",
    "    peace_rates.append(peace_rate)\n",
    "    delta_elo.append(elo)"
   ]
  },
  {
   "cell_type": "code",
   "execution_count": 295,
   "metadata": {},
   "outputs": [
    {
     "data": {
      "text/plain": [
       "<matplotlib.text.Text at 0x7f696d94c518>"
      ]
     },
     "execution_count": 295,
     "metadata": {},
     "output_type": "execute_result"
    },
    {
     "data": {
      "image/png": "[encoded data removed]",
      "text/plain": [
       "<matplotlib.figure.Figure at 0x7f696d931160>"
      ]
     },
     "metadata": {},
     "output_type": "display_data"
    }
   ],
   "source": [
    "plt.figure(figsize=(10,5))\n",
    "plt.plot(game_numbers,elu_points,marker='o',mec='r',mfc='w',label='elo')\n",
    "plt.plot(game_numbers,delta_elo,marker='*',ms=10,label='delta elo')\n",
    "plt.legend()\n",
    "plt.xlabel(\"Game played\")\n",
    "plt.ylabel(\"Elo\")"
   ]
  },
  {
   "cell_type": "code",
   "execution_count": 296,
   "metadata": {},
   "outputs": [
    {
     "data": {
      "text/html": [
       "<div>\n",
       "<table border=\"1\" class=\"dataframe\">\n",
       "  <thead>\n",
       "    <tr style=\"text-align: right;\">\n",
       "      <th></th>\n",
       "      <th>dates</th>\n",
       "      <th>delta_elo</th>\n",
       "      <th>elu_points</th>\n",
       "      <th>game_numbers</th>\n",
       "      <th>game_numbers_identity</th>\n",
       "      <th>peace_rates</th>\n",
       "      <th>validate_games</th>\n",
       "      <th>win_rate</th>\n",
       "    </tr>\n",
       "  </thead>\n",
       "  <tbody>\n",
       "    <tr>\n",
       "      <th>17</th>\n",
       "      <td>2018-08-12_22-13-25</td>\n",
       "      <td>52.755039</td>\n",
       "      <td>819.154675</td>\n",
       "      <td>247905</td>\n",
       "      <td>10074</td>\n",
       "      <td>0.292237</td>\n",
       "      <td>219</td>\n",
       "      <td>0.575342</td>\n",
       "    </tr>\n",
       "    <tr>\n",
       "      <th>18</th>\n",
       "      <td>2018-08-14_11-13-25</td>\n",
       "      <td>-7.933698</td>\n",
       "      <td>811.220977</td>\n",
       "      <td>258169</td>\n",
       "      <td>10264</td>\n",
       "      <td>0.292237</td>\n",
       "      <td>219</td>\n",
       "      <td>0.488584</td>\n",
       "    </tr>\n",
       "    <tr>\n",
       "      <th>19</th>\n",
       "      <td>2018-08-17_11-13-25</td>\n",
       "      <td>692.151387</td>\n",
       "      <td>1503.372365</td>\n",
       "      <td>258169</td>\n",
       "      <td>0</td>\n",
       "      <td>0.018265</td>\n",
       "      <td>219</td>\n",
       "      <td>0.981735</td>\n",
       "    </tr>\n",
       "    <tr>\n",
       "      <th>20</th>\n",
       "      <td>2018-08-18_04-13-25</td>\n",
       "      <td>-7.933698</td>\n",
       "      <td>1495.438667</td>\n",
       "      <td>268419</td>\n",
       "      <td>10250</td>\n",
       "      <td>0.182648</td>\n",
       "      <td>219</td>\n",
       "      <td>0.488584</td>\n",
       "    </tr>\n",
       "    <tr>\n",
       "      <th>21</th>\n",
       "      <td>2018-08-19_08-13-25</td>\n",
       "      <td>-35.020327</td>\n",
       "      <td>1460.418340</td>\n",
       "      <td>278427</td>\n",
       "      <td>10008</td>\n",
       "      <td>0.196347</td>\n",
       "      <td>219</td>\n",
       "      <td>0.449772</td>\n",
       "    </tr>\n",
       "    <tr>\n",
       "      <th>22</th>\n",
       "      <td>2018-08-20_14-13-25</td>\n",
       "      <td>7.933698</td>\n",
       "      <td>1468.352038</td>\n",
       "      <td>288543</td>\n",
       "      <td>10116</td>\n",
       "      <td>0.191781</td>\n",
       "      <td>219</td>\n",
       "      <td>0.511416</td>\n",
       "    </tr>\n",
       "    <tr>\n",
       "      <th>23</th>\n",
       "      <td>2018-08-21_21-13-25</td>\n",
       "      <td>-38.228665</td>\n",
       "      <td>1430.123373</td>\n",
       "      <td>298579</td>\n",
       "      <td>10036</td>\n",
       "      <td>0.223744</td>\n",
       "      <td>219</td>\n",
       "      <td>0.445205</td>\n",
       "    </tr>\n",
       "    <tr>\n",
       "      <th>24</th>\n",
       "      <td>2018-08-23_14-13-26_noup</td>\n",
       "      <td>4.759689</td>\n",
       "      <td>1434.883063</td>\n",
       "      <td>308622</td>\n",
       "      <td>10043</td>\n",
       "      <td>0.210046</td>\n",
       "      <td>219</td>\n",
       "      <td>0.506849</td>\n",
       "    </tr>\n",
       "    <tr>\n",
       "      <th>25</th>\n",
       "      <td>2018-08-24_18-13-25_noup</td>\n",
       "      <td>44.665434</td>\n",
       "      <td>1479.548497</td>\n",
       "      <td>318780</td>\n",
       "      <td>10158</td>\n",
       "      <td>0.296804</td>\n",
       "      <td>219</td>\n",
       "      <td>0.563927</td>\n",
       "    </tr>\n",
       "    <tr>\n",
       "      <th>26</th>\n",
       "      <td>2018-08-26_21-13-25_noup</td>\n",
       "      <td>11.109031</td>\n",
       "      <td>1490.657528</td>\n",
       "      <td>328807</td>\n",
       "      <td>10027</td>\n",
       "      <td>0.210046</td>\n",
       "      <td>219</td>\n",
       "      <td>0.515982</td>\n",
       "    </tr>\n",
       "  </tbody>\n",
       "</table>\n",
       "</div>"
      ],
      "text/plain": [
       "                       dates   delta_elo   elu_points  game_numbers  \\\n",
       "17       2018-08-12_22-13-25   52.755039   819.154675        247905   \n",
       "18       2018-08-14_11-13-25   -7.933698   811.220977        258169   \n",
       "19       2018-08-17_11-13-25  692.151387  1503.372365        258169   \n",
       "20       2018-08-18_04-13-25   -7.933698  1495.438667        268419   \n",
       "21       2018-08-19_08-13-25  -35.020327  1460.418340        278427   \n",
       "22       2018-08-20_14-13-25    7.933698  1468.352038        288543   \n",
       "23       2018-08-21_21-13-25  -38.228665  1430.123373        298579   \n",
       "24  2018-08-23_14-13-26_noup    4.759689  1434.883063        308622   \n",
       "25  2018-08-24_18-13-25_noup   44.665434  1479.548497        318780   \n",
       "26  2018-08-26_21-13-25_noup   11.109031  1490.657528        328807   \n",
       "\n",
       "    game_numbers_identity  peace_rates  validate_games  win_rate  \n",
       "17                  10074     0.292237             219  0.575342  \n",
       "18                  10264     0.292237             219  0.488584  \n",
       "19                      0     0.018265             219  0.981735  \n",
       "20                  10250     0.182648             219  0.488584  \n",
       "21                  10008     0.196347             219  0.449772  \n",
       "22                  10116     0.191781             219  0.511416  \n",
       "23                  10036     0.223744             219  0.445205  \n",
       "24                  10043     0.210046             219  0.506849  \n",
       "25                  10158     0.296804             219  0.563927  \n",
       "26                  10027     0.210046             219  0.515982  "
      ]
     },
     "execution_count": 296,
     "metadata": {},
     "output_type": "execute_result"
    }
   ],
   "source": [
    "pd.DataFrame({\n",
    "    'dates':dates,\n",
    "    'game_numbers':game_numbers,\n",
    "    'game_numbers_identity':game_numbers_identity,\n",
    "    'elu_points':elu_points,\n",
    "    'validate_games':validate_games,\n",
    "    'win_rate':win_rate,\n",
    "    'peace_rates':peace_rates,\n",
    "    'delta_elo':delta_elo,\n",
    "})[-10:]"
   ]
  },
  {
   "cell_type": "code",
   "execution_count": 301,
   "metadata": {},
   "outputs": [
    {
     "name": "stdout",
     "output_type": "stream",
     "text": [
      "1168\r\n"
     ]
    }
   ],
   "source": [
    "!ls -l ../data/distributed/ | wc -l"
   ]
  },
  {
   "cell_type": "code",
   "execution_count": 302,
   "metadata": {},
   "outputs": [
    {
     "name": "stdout",
     "output_type": "stream",
     "text": [
      "180\r\n"
     ]
    }
   ],
   "source": [
    "!ls -l ../data/distributed/ | grep peace | wc -l"
   ]
  },
  {
   "cell_type": "code",
   "execution_count": 303,
   "metadata": {},
   "outputs": [
    {
     "name": "stdout",
     "output_type": "stream",
     "text": [
      "2018年 08月 27日 星期一 00:34:22 CST\r\n"
     ]
    }
   ],
   "source": [
    "! date"
   ]
  },
  {
   "cell_type": "code",
   "execution_count": 300,
   "metadata": {},
   "outputs": [
    {
     "data": {
      "text/plain": [
       "[1]"
      ]
     },
     "execution_count": 300,
     "metadata": {},
     "output_type": "execute_result"
    }
   ],
   "source": [
    "list(range(1,2))"
   ]
  },
  {
   "cell_type": "code",
   "execution_count": null,
   "metadata": {
    "collapsed": true
   },
   "outputs": [],
   "source": []
  }
 ],
 "metadata": {
  "kernelspec": {
   "display_name": "tf1.3_python",
   "language": "python",
   "name": "tf1.3_kernel"
  },
  "language_info": {
   "codemirror_mode": {
    "name": "ipython",
    "version": 3
   },
   "file_extension": ".py",
   "mimetype": "text/x-python",
   "name": "python",
   "nbconvert_exporter": "python",
   "pygments_lexer": "ipython3",
   "version": "3.6.0"
  }
 },
 "nbformat": 4,
 "nbformat_minor": 2
}
