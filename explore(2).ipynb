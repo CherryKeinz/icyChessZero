{
 "cells": [
  {
   "cell_type": "code",
   "execution_count": 1,
   "metadata": {},
   "outputs": [
    {
     "name": "stderr",
     "output_type": "stream",
     "text": [
      "/usr/local/lib/python3.6/importlib/_bootstrap.py:205: RuntimeWarning: compiletime version 3.5 of module 'tensorflow.python.framework.fast_tensor_util' does not match runtime version 3.6\n",
      "  return f(*args, **kwds)\n",
      "/usr/local/lib/python3.6/site-packages/h5py/__init__.py:36: FutureWarning: Conversion of the second argument of issubdtype from `float` to `np.floating` is deprecated. In future, it will be treated as `np.float64 == np.dtype(float).type`.\n",
      "  from ._conv import register_converters as _register_converters\n"
     ]
    }
   ],
   "source": [
    "#coding:utf-8\n",
    "%reload_ext autoreload \n",
    "%autoreload 2\n",
    "from asyncio import Future\n",
    "import asyncio\n",
    "from asyncio.queues import Queue\n",
    "import uvloop\n",
    "asyncio.set_event_loop_policy(uvloop.EventLoopPolicy())\n",
    "\n",
    "import tensorflow as tf\n",
    "import numpy as np\n",
    "import os\n",
    "import sys\n",
    "import random\n",
    "import time\n",
    "import argparse\n",
    "from collections import deque, defaultdict, namedtuple\n",
    "import scipy.stats\n",
    "from threading import Lock\n",
    "from concurrent.futures import ThreadPoolExecutor"
   ]
  },
  {
   "cell_type": "code",
   "execution_count": 2,
   "metadata": {
    "collapsed": true
   },
   "outputs": [],
   "source": [
    "from cchess_zero.gameboard import *"
   ]
  },
  {
   "cell_type": "code",
   "execution_count": 3,
   "metadata": {
    "collapsed": true
   },
   "outputs": [],
   "source": [
    "from cchess_zero import board_visualizer\n",
    "import cv2"
   ]
  },
  {
   "cell_type": "code",
   "execution_count": 4,
   "metadata": {
    "collapsed": true
   },
   "outputs": [],
   "source": [
    "from matplotlib import pyplot as plt\n",
    "%matplotlib inline"
   ]
  },
  {
   "cell_type": "code",
   "execution_count": 5,
   "metadata": {
    "collapsed": true
   },
   "outputs": [],
   "source": [
    "from net import resnet"
   ]
  },
  {
   "cell_type": "code",
   "execution_count": 6,
   "metadata": {
    "collapsed": true
   },
   "outputs": [],
   "source": [
    "import common\n",
    "from common import board\n",
    "labels = common.board.create_uci_labels()"
   ]
  },
  {
   "cell_type": "code",
   "execution_count": 7,
   "metadata": {
    "collapsed": true
   },
   "outputs": [],
   "source": [
    "from cchess_zero import mcts"
   ]
  },
  {
   "cell_type": "code",
   "execution_count": 8,
   "metadata": {
    "collapsed": true
   },
   "outputs": [],
   "source": [
    "from cchess import *\n",
    "from common import board\n",
    "import common\n",
    "from game_convert import boardarr2netinput"
   ]
  },
  {
   "cell_type": "code",
   "execution_count": 9,
   "metadata": {
    "collapsed": true
   },
   "outputs": [],
   "source": [
    "uci_labels = common.board.create_uci_labels()\n",
    "class GameState():\n",
    "    def __init__(self):\n",
    "        self.statestr = 'RNBAKABNR/9/1C5C1/P1P1P1P1P/9/9/p1p1p1p1p/1c5c1/9/rnbakabnr'\n",
    "        self.currentplayer = 'w'\n",
    "        self.ys = '9876543210'[::-1]\n",
    "        self.xs = 'abcdefghi'\n",
    "        self.pastdic = {}\n",
    "        self.maxrepeat = 0\n",
    "    def get_king_pos(self):\n",
    "        board = self.statestr.replace(\"1\", \" \")\n",
    "        board = board.replace(\"2\", \"  \")\n",
    "        board = board.replace(\"3\", \"   \")\n",
    "        board = board.replace(\"4\", \"    \")\n",
    "        board = board.replace(\"5\", \"     \")\n",
    "        board = board.replace(\"6\", \"      \")\n",
    "        board = board.replace(\"7\", \"       \")\n",
    "        board = board.replace(\"8\", \"        \")\n",
    "        board = board.replace(\"9\", \"         \")\n",
    "        board = board.split('/')\n",
    "\n",
    "        for i in range(3):\n",
    "            pos = board[i].find('K')\n",
    "            if pos != -1:\n",
    "                K = \"{}{}\".format(self.xs[pos],self.ys[i])\n",
    "        for i in range(-1,-4,-1):\n",
    "            pos = board[i].find('k')\n",
    "            if pos != -1:\n",
    "                k = \"{}{}\".format(self.xs[pos],self.ys[i])\n",
    "        return K,k\n",
    "            \n",
    "    def game_end(self):\n",
    "        #if self.statestr.find('k') == -1:\n",
    "        #    return True,'w'\n",
    "        #elif self.statestr.find('K') == -1:\n",
    "        #    return True,'b'\n",
    "        if self.maxrepeat >= 3:\n",
    "            return True,self.get_current_player()\n",
    "        wk,bk = self.get_king_pos()\n",
    "        targetkingdic = {'b':wk,'w':bk}\n",
    "        moveset = GameBoard.get_legal_moves(self.statestr,self.get_current_player())\n",
    "        \n",
    "        targetset = set([i[-2:] for i in moveset])\n",
    "        \n",
    "        targ_king = targetkingdic[self.currentplayer]\n",
    "        if targ_king in targetset:\n",
    "            return True,self.currentplayer\n",
    "        return False,None\n",
    "    \n",
    "    def get_current_player(self):\n",
    "        return self.currentplayer\n",
    "    \n",
    "    def do_move(self,move):\n",
    "        self.statestr = GameBoard.sim_do_action(move,self.statestr)\n",
    "        if self.currentplayer == 'w':\n",
    "            self.currentplayer = 'b'\n",
    "        elif self.currentplayer == 'b':\n",
    "            self.currentplayer = 'w'\n",
    "        self.pastdic.setdefault(self.statestr,0)\n",
    "        self.pastdic[self.statestr] += 1\n",
    "        self.maxrepeat = max(self.maxrepeat,self.pastdic[self.statestr])\n",
    "    \n",
    "def policy_value_fn(state):\n",
    "    bb = BaseChessBoard(state.statestr)\n",
    "    statestr = bb.get_board_arr()\n",
    "    net_x = np.transpose(boardarr2netinput(statestr,state.get_current_player()),[1,2,0])\n",
    "    net_x = np.expand_dims(net_x,0)\n",
    "    \n",
    "    with graph.as_default():\n",
    "        policyout,valout = sess.run([net_softmax,value_head],feed_dict={X:net_x,training:False})\n",
    "        policyout,valout = policyout[0],valout[0][0]\n",
    "    \n",
    "    legal_move = GameBoard.get_legal_moves(state.statestr,state.get_current_player())\n",
    "    #if state.currentplayer == 'b':\n",
    "    #    legal_move = board.flipped_uci_labels(legal_move)\n",
    "    legal_move = set(legal_move)\n",
    "    \n",
    "    action_probs = []\n",
    "    for move,prob in zip(uci_labels,policyout):\n",
    "        if state.currentplayer == 'b':\n",
    "            move = board.flipped_uci_labels([move])[0]\n",
    "        if move in legal_move:\n",
    "            action_probs.append((move,prob))\n",
    "    action_probs = sorted(action_probs,key=lambda x:x[1])\n",
    "    return action_probs, valout"
   ]
  },
  {
   "cell_type": "code",
   "execution_count": 13,
   "metadata": {},
   "outputs": [
    {
     "name": "stdout",
     "output_type": "stream",
     "text": [
      "0\n",
      "[None, 10, 9, 256]\n",
      "[None, 10, 9, 256]\n",
      "[None, 10, 9, 256]\n",
      "[None, 10, 9, 256]\n",
      "inside res net [None, 10, 9, 256]\n",
      "INFO:tensorflow:Restoring parameters from models/5_7_resnet_joint-two_stage/model_57\n"
     ]
    }
   ],
   "source": [
    "(sess,graph),((X,training),(net_softmax,value_head)) = resnet.get_model('models/5_7_resnet_joint-two_stage/model_57',labels)"
   ]
  },
  {
   "cell_type": "code",
   "execution_count": 42,
   "metadata": {
    "collapsed": true
   },
   "outputs": [],
   "source": [
    "from cchess import BaseChessBoard\n",
    "from cchess_zero import mcts_pool,mcts_async"
   ]
  },
  {
   "cell_type": "code",
   "execution_count": 36,
   "metadata": {
    "collapsed": true
   },
   "outputs": [],
   "source": [
    "from collections import deque, defaultdict, namedtuple\n",
    "QueueItem = namedtuple(\"QueueItem\", \"feature future\")"
   ]
  },
  {
   "cell_type": "code",
   "execution_count": 47,
   "metadata": {
    "collapsed": true
   },
   "outputs": [],
   "source": [
    "queue = Queue(400)\n",
    "async def push_queue( features,loop):\n",
    "    future = loop.create_future()\n",
    "    item = QueueItem(features, future)\n",
    "    await queue.put(item)\n",
    "    return future\n",
    "async def prediction_worker(mcts_policy_async):\n",
    "    q = queue\n",
    "    while mcts_policy_async.num_proceed < mcts_policy_async._n_playout:\n",
    "        if q.empty():\n",
    "            await asyncio.sleep(1e-3)\n",
    "            continue\n",
    "        item_list = [q.get_nowait() for _ in range(q.qsize())]\n",
    "        #print(\"processing : {} samples\".format(len(item_list)))\n",
    "        features = np.concatenate([item.feature for item in item_list],axis=0)\n",
    "        \n",
    "        action_probs, value = sess.run([net_softmax,value_head],feed_dict={X:features,training:False})\n",
    "        for p, v, item in zip(action_probs, value, item_list):\n",
    "            item.future.set_result((p, v))"
   ]
  },
  {
   "cell_type": "code",
   "execution_count": 48,
   "metadata": {
    "collapsed": true
   },
   "outputs": [],
   "source": [
    "async def policy_value_fn_queue(state,loop):\n",
    "    bb = BaseChessBoard(state.statestr)\n",
    "    statestr = bb.get_board_arr()\n",
    "    net_x = np.transpose(boardarr2netinput(statestr,state.get_current_player()),[1,2,0])\n",
    "    net_x = np.expand_dims(net_x,0)\n",
    "    future = await push_queue(net_x,loop)\n",
    "    await future\n",
    "    policyout,valout = future.result()\n",
    "    #policyout,valout = sess.run([net_softmax,value_head],feed_dict={X:net_x,training:False})\n",
    "    #result = work.delay((state.statestr,state.get_current_player()))\n",
    "    #while True:\n",
    "    #    if result.ready():\n",
    "    #        policyout,valout = result.get()\n",
    "    #        break\n",
    "    #    else:\n",
    "    #        await asyncio.sleep(1e-3)\n",
    "    #policyout,valout = policyout[0],valout[0][0]\n",
    "    policyout,valout = policyout,valout[0]\n",
    "    legal_move = GameBoard.get_legal_moves(state.statestr,state.get_current_player())\n",
    "    #if state.currentplayer == 'b':\n",
    "    #    legal_move = board.flipped_uci_labels(legal_move)\n",
    "    legal_move = set(legal_move)\n",
    "    legal_move_b = set(board.flipped_uci_labels(legal_move))\n",
    "    \n",
    "    action_probs = []\n",
    "    if state.currentplayer == 'b':\n",
    "        for move,prob in zip(uci_labels,policyout):\n",
    "            if move in legal_move_b:\n",
    "                move = board.flipped_uci_labels([move])[0]\n",
    "                action_probs.append((move,prob))\n",
    "    else:\n",
    "        for move,prob in zip(uci_labels,policyout):\n",
    "            if move in legal_move:\n",
    "                action_probs.append((move,prob))\n",
    "    action_probs = sorted(action_probs,key=lambda x:x[1])\n",
    "    return action_probs, valout"
   ]
  },
  {
   "cell_type": "code",
   "execution_count": 57,
   "metadata": {},
   "outputs": [
    {
     "name": "stdout",
     "output_type": "stream",
     "text": [
      "13.728056192398071\n"
     ]
    }
   ],
   "source": [
    "mcts_policy_async = mcts_async.MCTS(policy_value_fn_queue,n_playout=1600,search_threads=1,virtual_loss=0.00,policy_loop_arg=True)\n",
    "start = time.time()\n",
    "acts_3, act_probs_3 = mcts_policy_async.get_move_probs(GameState(),temp=1e-2,verbose=False\n",
    "                                                       ,predict_workers=[prediction_worker(mcts_policy_async)])\n",
    "print(time.time() - start)"
   ]
  },
  {
   "cell_type": "code",
   "execution_count": 58,
   "metadata": {},
   "outputs": [
    {
     "data": {
      "text/plain": [
       "(5.435314893722534, 6.874048709869385, 1.0834743976593018)"
      ]
     },
     "execution_count": 58,
     "metadata": {},
     "output_type": "execute_result"
    }
   ],
   "source": [
    "mcts_policy_async.select_time,mcts_policy_async.policy_time,mcts_policy_async.update_time"
   ]
  },
  {
   "cell_type": "code",
   "execution_count": 59,
   "metadata": {},
   "outputs": [
    {
     "name": "stdout",
     "output_type": "stream",
     "text": [
      "19.653907299041748\n"
     ]
    }
   ],
   "source": [
    "start = time.time()\n",
    "mcts_policy_nonasync = mcts.MCTS(policy_value_fn,n_playout=1600)\n",
    "acts_2, act_probs_2 = mcts_policy_nonasync.get_move_probs(GameState(),temp=1e-2,verbose=False)\n",
    "print(time.time() - start)"
   ]
  },
  {
   "cell_type": "code",
   "execution_count": 60,
   "metadata": {},
   "outputs": [
    {
     "name": "stdout",
     "output_type": "stream",
     "text": [
      "i0i2 0\n",
      "a0a2 0\n",
      "e3e4 0\n",
      "b2b3 0\n",
      "e0e1 0\n",
      "h2h3 0\n",
      "h2h5 0\n",
      "i0i1 0\n",
      "h2h9 0\n",
      "b2b5 0\n",
      "c0a2 0\n",
      "g0i2 0\n",
      "b2b9 0\n",
      "i3i4 0\n",
      "a0a1 0\n",
      "h2h6 0\n",
      "b2b1 0\n",
      "h2h1 0\n",
      "h2i2 0\n",
      "a3a4 0\n",
      "h2h4 0\n",
      "b2b6 0\n",
      "b2a2 0\n",
      "b2b4 0\n",
      "f0e1 0\n",
      "d0e1 0\n",
      "h2g2 0\n",
      "b2c2 0\n",
      "h2c2 0\n",
      "b2g2 1\n",
      "h0i2 2\n",
      "b0a2 2\n",
      "h2f2 9\n",
      "b2d2 9\n",
      "b2f2 32\n",
      "h2d2 32\n",
      "h0g2 37\n",
      "b0c2 40\n",
      "g0e2 82\n",
      "c0e2 98\n",
      "c3c4 318\n",
      "g3g4 332\n",
      "h2e2 264\n",
      "b2e2 341\n"
     ]
    }
   ],
   "source": [
    "for i in mcts_policy_async._root._children:\n",
    "    chi = mcts_policy_async._root._children[i]\n",
    "    print(i,chi._n_visits)"
   ]
  },
  {
   "cell_type": "code",
   "execution_count": 61,
   "metadata": {},
   "outputs": [
    {
     "name": "stdout",
     "output_type": "stream",
     "text": [
      "i0i2 0\n",
      "a0a2 0\n",
      "e3e4 0\n",
      "b2b3 0\n",
      "e0e1 0\n",
      "h2h3 0\n",
      "h2h5 0\n",
      "i0i1 0\n",
      "h2h9 0\n",
      "b2b5 0\n",
      "c0a2 0\n",
      "g0i2 0\n",
      "b2b9 0\n",
      "i3i4 0\n",
      "a0a1 0\n",
      "h2h6 0\n",
      "b2b1 0\n",
      "h2h1 0\n",
      "h2i2 0\n",
      "a3a4 0\n",
      "h2h4 0\n",
      "b2b6 0\n",
      "b2a2 0\n",
      "b2b4 0\n",
      "f0e1 0\n",
      "d0e1 0\n",
      "h2g2 0\n",
      "b2c2 0\n",
      "h2c2 0\n",
      "b2g2 1\n",
      "h0i2 2\n",
      "b0a2 2\n",
      "h2f2 9\n",
      "b2d2 9\n",
      "b2f2 32\n",
      "h2d2 32\n",
      "h0g2 37\n",
      "b0c2 40\n",
      "g0e2 82\n",
      "c0e2 98\n",
      "c3c4 318\n",
      "g3g4 332\n",
      "h2e2 264\n",
      "b2e2 341\n"
     ]
    }
   ],
   "source": [
    "for i in mcts_policy_nonasync._root._children:\n",
    "    chi = mcts_policy_nonasync._root._children[i]\n",
    "    print(i,chi._n_visits)"
   ]
  },
  {
   "cell_type": "code",
   "execution_count": null,
   "metadata": {
    "collapsed": true
   },
   "outputs": [],
   "source": []
  }
 ],
 "metadata": {
  "kernelspec": {
   "display_name": "tf1.3_python",
   "language": "python",
   "name": "tf1.3_kernel"
  },
  "language_info": {
   "codemirror_mode": {
    "name": "ipython",
    "version": 3
   },
   "file_extension": ".py",
   "mimetype": "text/x-python",
   "name": "python",
   "nbconvert_exporter": "python",
   "pygments_lexer": "ipython3",
   "version": "3.6.0"
  }
 },
 "nbformat": 4,
 "nbformat_minor": 2
}
