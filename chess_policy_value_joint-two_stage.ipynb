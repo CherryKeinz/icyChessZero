{
 "cells": [
  {
   "cell_type": "code",
   "execution_count": 2,
   "metadata": {
    "collapsed": true
   },
   "outputs": [],
   "source": [
    "%reload_ext autoreload \n",
    "%autoreload 2\n",
    "\n",
    "import tensorflow as tf\n",
    "import numpy as np\n",
    "from matplotlib import pyplot as plt\n",
    "import random \n",
    "import time\n",
    "from utils import Dataset,ProgressBar\n",
    "from tflearn.data_flow import DataFlow,DataFlowStatus,FeedDictFlow\n",
    "from tflearn.data_utils import Preloader,ImagePreloader\n",
    "import scipy\n",
    "import pandas as pd\n",
    "import xmltodict\n",
    "import common\n",
    "import tflearn\n",
    "import copy\n",
    "from cchess import *\n",
    "from game_convert import convert_game,convert_game_value,convert_game_board"
   ]
  },
  {
   "cell_type": "code",
   "execution_count": 3,
   "metadata": {},
   "outputs": [
    {
     "name": "stdout",
     "output_type": "stream",
     "text": [
      "Wed May  9 23:06:14 2018       \r\n",
      "+-----------------------------------------------------------------------------+\r\n",
      "| NVIDIA-SMI 384.111                Driver Version: 384.111                   |\r\n",
      "|-------------------------------+----------------------+----------------------+\r\n",
      "| GPU  Name        Persistence-M| Bus-Id        Disp.A | Volatile Uncorr. ECC |\r\n",
      "| Fan  Temp  Perf  Pwr:Usage/Cap|         Memory-Usage | GPU-Util  Compute M. |\r\n",
      "|===============================+======================+======================|\r\n",
      "|   0  GeForce GTX 108...  Off  | 00000000:05:00.0 Off |                  N/A |\r\n",
      "| 23%   37C    P8    10W / 250W |   1523MiB / 11172MiB |      0%      Default |\r\n",
      "+-------------------------------+----------------------+----------------------+\r\n",
      "|   1  GeForce GTX 108...  Off  | 00000000:42:00.0 Off |                  N/A |\r\n",
      "| 24%   42C    P8    17W / 250W |   4578MiB / 11172MiB |      0%      Default |\r\n",
      "+-------------------------------+----------------------+----------------------+\r\n",
      "                                                                               \r\n",
      "+-----------------------------------------------------------------------------+\r\n",
      "| Processes:                                                       GPU Memory |\r\n",
      "|  GPU       PID   Type   Process name                             Usage      |\r\n",
      "|=============================================================================|\r\n",
      "|    0     20109      C   /usr/local/bin/python3                      1217MiB |\r\n",
      "|    0     27638      C   /usr/local/bin/python3                       296MiB |\r\n",
      "|    1     20109      C   /usr/local/bin/python3                       153MiB |\r\n",
      "|    1     27638      C   /usr/local/bin/python3                      4415MiB |\r\n",
      "+-----------------------------------------------------------------------------+\r\n"
     ]
    }
   ],
   "source": [
    "!nvidia-smi"
   ]
  },
  {
   "cell_type": "markdown",
   "metadata": {},
   "source": [
    "# a network predict select and move of Chinese chess, with minimal preprocessing"
   ]
  },
  {
   "cell_type": "code",
   "execution_count": 4,
   "metadata": {
    "collapsed": true
   },
   "outputs": [],
   "source": [
    "GPU_CORE = [0]\n",
    "BATCH_SIZE = 512\n",
    "BEGINING_LR = 0.01\n",
    "#TESTIMG_WIDTH = 500\n",
    "model_name = '5_7_resnet_joint-two_stage'\n",
    "data_dir = 'data/imsa-cbf/'"
   ]
  },
  {
   "cell_type": "code",
   "execution_count": 5,
   "metadata": {
    "collapsed": true
   },
   "outputs": [],
   "source": [
    "labels = common.board.create_uci_labels()\n",
    "label2ind = dict(zip(labels,list(range(len(labels)))))"
   ]
  },
  {
   "cell_type": "code",
   "execution_count": 6,
   "metadata": {
    "collapsed": true
   },
   "outputs": [],
   "source": [
    "pgn2value = dict(pd.read_csv('./data/resultlist.csv').values[:,1:])"
   ]
  },
  {
   "cell_type": "code",
   "execution_count": 7,
   "metadata": {
    "collapsed": true
   },
   "outputs": [],
   "source": [
    "rev_ab = dict(zip('abcdefghi','abcdefghi'[::-1]))\n",
    "rev_num = dict(zip('0123456789','0123456789'[::-1]))"
   ]
  },
  {
   "cell_type": "code",
   "execution_count": 8,
   "metadata": {
    "collapsed": true
   },
   "outputs": [],
   "source": [
    "class ElePreloader(object):\n",
    "    def __init__(self,datafile,batch_size=64):\n",
    "        self.batch_size=batch_size\n",
    "        content = pd.read_csv(datafile,header=None,index_col=None)\n",
    "        self.filelist = [i[0] for i in content.get_values()]\n",
    "        self.pos = 0\n",
    "        self.feature_list = {\"red\":['A', 'B', 'C', 'K', 'N', 'P', 'R']\n",
    "                             ,\"black\":['a', 'b', 'c', 'k', 'n', 'p', 'r']}\n",
    "        self.batch_size = batch_size\n",
    "        self.batch_iter = self.__iter()\n",
    "        assert(len(self.filelist) > batch_size)\n",
    "        self.game_iterlist = [None for i in self.filelist]\n",
    "    \n",
    "    def __iter(self):\n",
    "        retx1,rety1,retx2,rety2 = [],[],[],[]\n",
    "        vals = []\n",
    "        filelist = []\n",
    "        while True:\n",
    "            for i in range(self.batch_size):\n",
    "                if self.game_iterlist[i] == None:\n",
    "                    if len(filelist) == 0:\n",
    "                        filelist = copy.copy(self.filelist)\n",
    "                        random.shuffle(filelist)\n",
    "                    self.game_iterlist[i] = convert_game_value(filelist.pop(),self.feature_list,pgn2value)\n",
    "                game_iter = self.game_iterlist[i]\n",
    "                \n",
    "                try:\n",
    "                    x1,y1,val1 = game_iter.__next__()\n",
    "                    x1 = np.transpose(x1,[1,2,0])\n",
    "                    x1 = np.expand_dims(x1,axis=0)\n",
    "                    \n",
    "                    if random.random() < 0.5:\n",
    "                        y1 = [rev_ab[y1[0]],y1[1],rev_ab[y1[2]],y1[3]]\n",
    "                        x1 = x1[:,:,::-1,:]\n",
    "                        #x1 = np.concatenate((x1[:,::-1,:,7:],x1[:,::-1,:,:7]),axis=-1)\n",
    "                    retx1.append(x1)\n",
    "                    #rety1.append(y1)\n",
    "                    oney = np.zeros(len(labels))\n",
    "                    oney[label2ind[''.join(y1)]] = 1\n",
    "                    rety1.append(oney)\n",
    "                    vals.append(val1)\n",
    "\n",
    "                    if len(retx1) >= self.batch_size:\n",
    "                        yield (np.concatenate(retx1,axis=0),np.asarray(rety1),np.asarray(vals))\n",
    "                        retx1,rety1 = [],[]\n",
    "                        vals = []\n",
    "                except :\n",
    "                    self.game_iterlist[i] = None\n",
    "\n",
    "    def __getitem__(self, id):\n",
    "        \n",
    "        x1,y1,val1 = self.batch_iter.__next__()\n",
    "        return x1,y1,val1\n",
    "        \n",
    "    def __len__(self):\n",
    "        return 10000"
   ]
  },
  {
   "cell_type": "code",
   "execution_count": 9,
   "metadata": {
    "collapsed": true
   },
   "outputs": [],
   "source": [
    "trainset = ElePreloader(datafile='data/train_list.csv',batch_size=BATCH_SIZE)\n",
    "with tf.device(\"/gpu:{}\".format(GPU_CORE[0])):\n",
    "    coord = tf.train.Coordinator()\n",
    "    trainflow = FeedDictFlow({\n",
    "            'data':trainset,\n",
    "        },coord,batch_size=BATCH_SIZE,shuffle=True,continuous=True,num_threads=1)\n",
    "trainflow.start()"
   ]
  },
  {
   "cell_type": "code",
   "execution_count": 10,
   "metadata": {
    "collapsed": true
   },
   "outputs": [],
   "source": [
    "testset = ElePreloader(datafile='data/test_list.csv',batch_size=BATCH_SIZE)\n",
    "with tf.device(\"/gpu:{}\".format(GPU_CORE[0])):\n",
    "    coord = tf.train.Coordinator()\n",
    "    testflow = FeedDictFlow({\n",
    "            'data':testset,\n",
    "        },coord,batch_size=BATCH_SIZE,shuffle=True,continuous=True,num_threads=1)\n",
    "testflow.start()"
   ]
  },
  {
   "cell_type": "code",
   "execution_count": 11,
   "metadata": {
    "collapsed": true
   },
   "outputs": [],
   "source": [
    "sample_x1,sample_y1,sample_value = trainflow.next()['data']"
   ]
  },
  {
   "cell_type": "code",
   "execution_count": 12,
   "metadata": {
    "collapsed": true
   },
   "outputs": [],
   "source": [
    "sample_x1,sample_y1,sample_value = testflow.next()['data']"
   ]
  },
  {
   "cell_type": "code",
   "execution_count": 13,
   "metadata": {},
   "outputs": [
    {
     "data": {
      "text/plain": [
       "((512, 10, 9, 14), (512, 2086), (512,))"
      ]
     },
     "execution_count": 13,
     "metadata": {},
     "output_type": "execute_result"
    }
   ],
   "source": [
    "sample_x1.shape,sample_y1.shape,sample_value.shape"
   ]
  },
  {
   "cell_type": "code",
   "execution_count": 14,
   "metadata": {},
   "outputs": [
    {
     "data": {
      "text/plain": [
       "'g3g4'"
      ]
     },
     "execution_count": 14,
     "metadata": {},
     "output_type": "execute_result"
    }
   ],
   "source": [
    "labels[np.argmax(sample_y1[0])]"
   ]
  },
  {
   "cell_type": "code",
   "execution_count": 15,
   "metadata": {},
   "outputs": [
    {
     "data": {
      "text/plain": [
       "array([[1, 1, 1, 1, 1, 1, 1, 1, 1],\n",
       "       [0, 0, 0, 0, 0, 0, 0, 0, 0],\n",
       "       [0, 1, 0, 0, 0, 0, 0, 1, 0],\n",
       "       [1, 0, 1, 0, 1, 0, 1, 0, 1],\n",
       "       [0, 0, 0, 0, 0, 0, 0, 0, 0],\n",
       "       [0, 0, 0, 0, 0, 0, 0, 0, 0],\n",
       "       [1, 0, 1, 0, 1, 0, 1, 0, 1],\n",
       "       [0, 1, 0, 0, 0, 0, 0, 1, 0],\n",
       "       [0, 0, 0, 0, 0, 0, 0, 0, 0],\n",
       "       [1, 1, 1, 1, 1, 1, 1, 1, 1]], dtype=uint64)"
      ]
     },
     "execution_count": 15,
     "metadata": {},
     "output_type": "execute_result"
    }
   ],
   "source": [
    "np.sum(sample_x1[0],axis=-1)"
   ]
  },
  {
   "cell_type": "code",
   "execution_count": 16,
   "metadata": {},
   "outputs": [
    {
     "data": {
      "text/plain": [
       "array([ 1., -1.,  0., -1.,  0.,  0.,  1.,  1., -1.,  0.])"
      ]
     },
     "execution_count": 16,
     "metadata": {},
     "output_type": "execute_result"
    }
   ],
   "source": [
    "sample_value[:10]"
   ]
  },
  {
   "cell_type": "code",
   "execution_count": 17,
   "metadata": {},
   "outputs": [
    {
     "data": {
      "text/plain": [
       "2086"
      ]
     },
     "execution_count": 17,
     "metadata": {},
     "output_type": "execute_result"
    }
   ],
   "source": [
    "len(labels)"
   ]
  },
  {
   "cell_type": "code",
   "execution_count": 18,
   "metadata": {},
   "outputs": [
    {
     "data": {
      "text/plain": [
       "(10, 9)"
      ]
     },
     "execution_count": 18,
     "metadata": {},
     "output_type": "execute_result"
    }
   ],
   "source": [
    "np.sum(sample_x1[0],axis=-1).shape"
   ]
  },
  {
   "cell_type": "code",
   "execution_count": 19,
   "metadata": {
    "collapsed": true
   },
   "outputs": [],
   "source": [
    "def res_block(inputx,name,training,block_num=2,filters=256,kernel_size=(3,3)):\n",
    "    net = inputx\n",
    "    for i in range(block_num):\n",
    "        net = tf.layers.conv2d(net,filters=filters,kernel_size=kernel_size,activation=None,name=\"{}_res_conv{}\".format(name,i),padding='same')\n",
    "        net = tf.layers.batch_normalization(net,training=training,name=\"{}_res_bn{}\".format(name,i))\n",
    "        if i == block_num - 1:\n",
    "            net = net + inputx #= tf.concat((inputx,net),axis=-1)\n",
    "        net = tf.nn.elu(net,name=\"{}_res_elu{}\".format(name,i))\n",
    "    return net\n",
    "\n",
    "def conv_block(inputx,name,training,block_num=1,filters=2,kernel_size=(1,1)):\n",
    "    net = inputx\n",
    "    for i in range(block_num):\n",
    "        net = tf.layers.conv2d(net,filters=filters,kernel_size=kernel_size,activation=None,name=\"{}_convblock_conv{}\".format(name,i),padding='same')\n",
    "        net = tf.layers.batch_normalization(net,training=training,name=\"{}_convblock_bn{}\".format(name,i))\n",
    "        net = tf.nn.elu(net,name=\"{}_convblock_elu{}\".format(name,i))\n",
    "    # net [None,10,9,2]\n",
    "    netshape = net.get_shape().as_list()\n",
    "    print(\"inside conv block {}\".format(str(netshape)))\n",
    "    net = tf.reshape(net,shape=(-1,netshape[1] * netshape[2] * netshape[3]))\n",
    "    net = tf.layers.dense(net,10 * 9,name=\"{}_dense\".format(name))\n",
    "    net = tf.nn.elu(net,name=\"{}_elu\".format(name))\n",
    "    return net\n",
    "\n",
    "def res_net_board(inputx,name,training,filters=256):\n",
    "    net = inputx\n",
    "    net = tf.layers.conv2d(net,filters=filters,kernel_size=(3,3),activation=None,name=\"{}_res_convb\".format(name),padding='same')\n",
    "    net = tf.layers.batch_normalization(net,training=training,name=\"{}_res_bnb\".format(name))\n",
    "    net = tf.nn.elu(net,name=\"{}_res_elub\".format(name))\n",
    "    for i in range(NUM_RES_LAYERS):\n",
    "        net = res_block(net,name=\"{}_layer_{}\".format(name,i + 1),training=training)\n",
    "        print(net.get_shape().as_list())\n",
    "    print(\"inside res net {}\".format(str(net.get_shape().as_list())))\n",
    "    #net_unsoftmax = conv_block(net,name=\"{}_conv\".format(name),training=training)\n",
    "    return net\n",
    "\n",
    "def get_scatter(name):\n",
    "    with tf.variable_scope(\"Test\"):\n",
    "        ph = tf.placeholder(tf.float32,name=name)\n",
    "        op = tf.summary.scalar(name,ph)\n",
    "    return ph,op"
   ]
  },
  {
   "cell_type": "code",
   "execution_count": 20,
   "metadata": {
    "collapsed": true
   },
   "outputs": [],
   "source": [
    "def average_gradients(tower_grads):\n",
    "    \"\"\"Calculate the average gradient for each shared variable across all towers.\n",
    "    Note that this function provides a synchronization point across all towers.\n",
    "    Args:\n",
    "    tower_grads: List of lists of (gradient, variable) tuples. The outer list\n",
    "      is over individual gradients. The inner list is over the gradient\n",
    "      calculation for each tower.\n",
    "    Returns:\n",
    "     List of pairs of (gradient, variable) where the gradient has been averaged\n",
    "     across all towers.\n",
    "\n",
    "\n",
    "    \"\"\"\n",
    "    average_grads = []\n",
    "    for grad_and_vars in zip(*tower_grads):\n",
    "        # Note that each grad_and_vars looks like the following:\n",
    "        #   ((grad0_gpu0, var0_gpu0), ... , (grad0_gpuN, var0_gpuN))\n",
    "        grads = []\n",
    "        for g, _ in grad_and_vars:\n",
    "            # Add 0 dimension to the gradients to represent the tower.\n",
    "            expanded_g = tf.expand_dims(g, 0)\n",
    "            # Append on a 'tower' dimension which we will average over below.\n",
    "            grads.append(expanded_g)\n",
    "\n",
    "        # Average over the 'tower' dimension.\n",
    "        grad = tf.concat(grads,0)\n",
    "        grad = tf.reduce_mean(grad, 0)\n",
    "\n",
    "        # Keep in mind that the Variables are redundant because they are shared\n",
    "        # across towers. So .. we will just return the first tower's pointer to\n",
    "        # the Variable.\n",
    "        v = grad_and_vars[0][1]\n",
    "        grad_and_var = (grad, v)\n",
    "        average_grads.append(grad_and_var)\n",
    "    return average_grads\n",
    "\n",
    "def add_grad_to_list(opt,train_param,loss,tower_grad):\n",
    "    grads = opt.compute_gradients(loss, var_list = train_param)\n",
    "    grads = [i[0] for i in grads]\n",
    "    #print(grads)\n",
    "    tower_grad.append(zip(grads,train_param))\n",
    "    \n",
    "def get_op_mul(tower_gradients,optimizer,gs):\n",
    "    grads = average_gradients(tower_gradients)\n",
    "    train_op = optimizer.apply_gradients(grads,gs)\n",
    "    return train_op\n",
    "\n",
    "def reduce_mean(x):\n",
    "    return tf.reduce_mean(x)\n",
    "\n",
    "def merge(x):\n",
    "    return tf.concat(x,axis=0)"
   ]
  },
  {
   "cell_type": "code",
   "execution_count": 21,
   "metadata": {},
   "outputs": [
    {
     "data": {
      "text/plain": [
       "[0]"
      ]
     },
     "execution_count": 21,
     "metadata": {},
     "output_type": "execute_result"
    }
   ],
   "source": [
    "GPU_CORE"
   ]
  },
  {
   "cell_type": "code",
   "execution_count": 22,
   "metadata": {},
   "outputs": [
    {
     "name": "stdout",
     "output_type": "stream",
     "text": [
      "0\n",
      "[None, 10, 9, 256]\n",
      "[None, 10, 9, 256]\n",
      "[None, 10, 9, 256]\n",
      "[None, 10, 9, 256]\n",
      "inside res net [None, 10, 9, 256]\n"
     ]
    }
   ],
   "source": [
    "tf.reset_default_graph()\n",
    "\n",
    "NUM_RES_LAYERS = 4\n",
    "\n",
    "graph = tf.Graph()\n",
    "with graph.as_default():\n",
    "#with tf.device(\"/gpu:{}\".format(GPU_CORE)):\n",
    "    X = tf.placeholder(tf.float32,[None,10,9,14])\n",
    "    nextmove = tf.placeholder(tf.float32,[None,len(labels)])\n",
    "    score = tf.placeholder(tf.float32,[None,1])\n",
    "    \n",
    "    training = tf.placeholder(tf.bool,name='training_mode')\n",
    "    learning_rate = tf.placeholder(tf.float32)\n",
    "    global_step = tf.train.get_or_create_global_step()\n",
    "    optimizer_policy = tf.train.MomentumOptimizer(learning_rate=learning_rate,momentum=0.9)\n",
    "    optimizer_value = tf.train.MomentumOptimizer(learning_rate=learning_rate,momentum=0.9)\n",
    "    optimizer_multitarg = tf.train.MomentumOptimizer(learning_rate=learning_rate,momentum=0.9)\n",
    "    \n",
    "    tower_gradients_policy,tower_gradients_value,tower_gradients_multitarg = [],[],[]\n",
    "    \n",
    "    net_softmax_collection = []\n",
    "    value_head_collection = []\n",
    "    multitarget_loss_collection = []\n",
    "    value_loss_collection = []\n",
    "    policy_loss_collection = []\n",
    "    accuracy_select_collection = []\n",
    "    with tf.variable_scope(tf.get_variable_scope()) as vscope:\n",
    "        for ind,one_core in enumerate(GPU_CORE):\n",
    "            with tf.device(\"/gpu:{}\".format(one_core)):\n",
    "                print(ind)\n",
    "                body = res_net_board(X[ind * (BATCH_SIZE // len(GPU_CORE)):(ind + 1) * (BATCH_SIZE // len(GPU_CORE))],\n",
    "                                     \"selectnet\",training=training)\n",
    "                with tf.variable_scope(\"policy_head\"):\n",
    "                    policy_head = tf.layers.conv2d(body, 2, 1, padding='SAME')\n",
    "                    policy_head = tf.contrib.layers.batch_norm(policy_head, center=False, epsilon=1e-5, fused=True,\n",
    "                                                                is_training=training, activation_fn=tf.nn.relu)\n",
    "\n",
    "                    # print(self.policy_head.shape)  # (?, 9, 10, 2)\n",
    "                    policy_head = tf.reshape(policy_head, [-1, 9 * 10 * 2])\n",
    "                    policy_head = tf.contrib.layers.fully_connected(policy_head, len(labels), activation_fn=None)\n",
    "                    #self.policy_head.append(policy_head)    # 保存多个gpu的策略头结果（走子概率向量）\n",
    "\n",
    "                # 价值头\n",
    "                with tf.variable_scope(\"value_head\"):\n",
    "                    value_head = tf.layers.conv2d(body, 1, 1, padding='SAME')\n",
    "                    value_head = tf.contrib.layers.batch_norm(value_head, center=False, epsilon=1e-5, fused=True,\n",
    "                                                    is_training=training, activation_fn=tf.nn.relu)\n",
    "                    # print(self.value_head.shape)  # (?, 9, 10, 1)\n",
    "                    value_head = tf.reshape(value_head, [-1, 9 * 10 * 1])\n",
    "                    value_head = tf.contrib.layers.fully_connected(value_head, 256, activation_fn=tf.nn.relu)\n",
    "                    value_head = tf.contrib.layers.fully_connected(value_head, 1, activation_fn=tf.nn.tanh)\n",
    "                    value_head_collection.append(value_head)\n",
    "                net_unsoftmax = policy_head\n",
    "\n",
    "                with tf.variable_scope(\"Loss\"):\n",
    "                    policy_loss = tf.reduce_mean(tf.nn.softmax_cross_entropy_with_logits(\n",
    "                        labels=nextmove[ind * (BATCH_SIZE // len(GPU_CORE)):(ind + 1) * (BATCH_SIZE // len(GPU_CORE))],\n",
    "                        logits=net_unsoftmax))\n",
    "                    #loss_summary = tf.summary.scalar(\"move_loss\",policy_loss)\n",
    "                    value_loss = tf.losses.mean_squared_error(\n",
    "                        labels=score[ind * (BATCH_SIZE // len(GPU_CORE)):(ind + 1) * (BATCH_SIZE // len(GPU_CORE))],\n",
    "                        predictions=value_head) \n",
    "                    value_loss = tf.reduce_mean(value_loss)\n",
    "                    regularizer = tf.contrib.layers.l2_regularizer(scale=1e-6)\n",
    "                    regular_variables = tf.trainable_variables()\n",
    "                    l2_loss = tf.contrib.layers.apply_regularization(regularizer, regular_variables)\n",
    "                    multitarget_loss = value_loss + policy_loss + l2_loss\n",
    "                    \n",
    "                    multitarget_loss_collection.append(multitarget_loss)\n",
    "                    value_loss_collection.append(value_loss)\n",
    "                    policy_loss_collection.append(policy_loss)\n",
    "                net_softmax = tf.nn.softmax(net_unsoftmax)\n",
    "                net_softmax_collection.append(net_softmax)\n",
    "                \n",
    "                correct_prediction = tf.equal(tf.argmax(nextmove,1), tf.argmax(net_softmax,1))\n",
    "\n",
    "                with tf.variable_scope(\"Accuracy\"):\n",
    "                    accuracy_select = tf.reduce_mean(tf.cast(correct_prediction, tf.float32))\n",
    "                    accuracy_select_collection.append(accuracy_select)\n",
    "                tf.get_variable_scope().reuse_variables()\n",
    "                trainable_params = tf.trainable_variables()\n",
    "                tp_policy = [i for i in trainable_params if \n",
    "                                    ('value_head' not in i.name)]\n",
    "                tp_value = [i for i in trainable_params if \n",
    "                                    ('policy_head' not in i.name)]\n",
    "\n",
    "                add_grad_to_list(optimizer_policy,tp_policy,policy_loss,tower_gradients_policy)\n",
    "                add_grad_to_list(optimizer_value,tp_value,value_loss,tower_gradients_value)\n",
    "                add_grad_to_list(optimizer_multitarg,trainable_params,multitarget_loss,tower_gradients_multitarg)\n",
    "               \n",
    "    update_ops = tf.get_collection(tf.GraphKeys.UPDATE_OPS)\n",
    "    with tf.control_dependencies(update_ops):\n",
    "        #gradients_policy = average_gradients(tower_gradients_policy)\n",
    "        train_op_policy = get_op_mul(tower_gradients_policy,optimizer_policy,global_step)\n",
    "        train_op_value = get_op_mul(tower_gradients_value,optimizer_value,global_step)\n",
    "        train_op_multitarg = get_op_mul(tower_gradients_multitarg,optimizer_multitarg,global_step)\n",
    "        #train_op = optimizer.minimize(policy_loss,global_step=global_step)\n",
    "    net_softmax = merge(net_softmax_collection)\n",
    "    value_head = merge(value_head_collection)\n",
    "    multitarget_loss = reduce_mean(multitarget_loss_collection)\n",
    "    value_loss = reduce_mean(value_loss_collection)\n",
    "    policy_loss = reduce_mean(policy_loss_collection)\n",
    "    accuracy_select = reduce_mean(accuracy_select_collection)"
   ]
  },
  {
   "cell_type": "code",
   "execution_count": 23,
   "metadata": {
    "collapsed": true
   },
   "outputs": [],
   "source": [
    "with graph.as_default():\n",
    "    config = tf.ConfigProto()\n",
    "    config.gpu_options.allow_growth = True\n",
    "    config.allow_soft_placement = True\n",
    "    sess = tf.Session(config=config)\n",
    "    sess.run(tf.global_variables_initializer())\n",
    "    \n",
    "    tf.train.global_step(sess, global_step)"
   ]
  },
  {
   "cell_type": "code",
   "execution_count": 23,
   "metadata": {},
   "outputs": [
    {
     "name": "stdout",
     "output_type": "stream",
     "text": [
      "mkdir: 无法创建目录\"models\": 文件已存在\r\n"
     ]
    }
   ],
   "source": [
    "!mkdir models"
   ]
  },
  {
   "cell_type": "code",
   "execution_count": 24,
   "metadata": {
    "collapsed": true
   },
   "outputs": [],
   "source": [
    "import os\n",
    "if not os.path.exists(\"models/{}\".format(model_name)):\n",
    "    os.mkdir(\"models/{}\".format(model_name))"
   ]
  },
  {
   "cell_type": "code",
   "execution_count": 25,
   "metadata": {
    "collapsed": true
   },
   "outputs": [],
   "source": [
    "N_BATCH = 10000 * (128 / BATCH_SIZE)\n",
    "N_BATCH_TEST = 300 * (128 / BATCH_SIZE)\n",
    "N_BATCH = int(N_BATCH)\n",
    "N_BATCH_TEST = int(N_BATCH_TEST)"
   ]
  },
  {
   "cell_type": "code",
   "execution_count": 26,
   "metadata": {},
   "outputs": [
    {
     "data": {
      "text/plain": [
       "(2500, 75)"
      ]
     },
     "execution_count": 26,
     "metadata": {},
     "output_type": "execute_result"
    }
   ],
   "source": [
    "N_BATCH,N_BATCH_TEST"
   ]
  },
  {
   "cell_type": "code",
   "execution_count": 27,
   "metadata": {},
   "outputs": [
    {
     "data": {
      "text/plain": [
       "(0, 512)"
      ]
     },
     "execution_count": 27,
     "metadata": {},
     "output_type": "execute_result"
    }
   ],
   "source": [
    "ind * (BATCH_SIZE // len(GPU_CORE)),(ind + 1) * (BATCH_SIZE // len(GPU_CORE))"
   ]
  },
  {
   "cell_type": "code",
   "execution_count": 30,
   "metadata": {},
   "outputs": [
    {
     "name": "stdout",
     "output_type": "stream",
     "text": [
      "INFO:tensorflow:Restoring parameters from models/5_7_resnet_joint-two_stage/model_29\n"
     ]
    }
   ],
   "source": [
    "with graph.as_default():\n",
    "    train_epoch = 30\n",
    "    train_batch = 0\n",
    "    saver = tf.train.Saver(var_list=tf.global_variables())\n",
    "    saver.restore(sess,\"models/{}/model_{}\".format(model_name,train_epoch - 1))"
   ]
  },
  {
   "cell_type": "code",
   "execution_count": 25,
   "metadata": {},
   "outputs": [
    {
     "name": "stdout",
     "output_type": "stream",
     "text": [
      "INFO:tensorflow:Restoring parameters from models/5_7_resnet_joint-two_stage/model_57\n"
     ]
    }
   ],
   "source": [
    "with graph.as_default():\n",
    "    train_epoch = 58\n",
    "    train_batch = 0\n",
    "    saver = tf.train.Saver(var_list=tf.global_variables())\n",
    "    saver.restore(sess,\"models/{}/model_{}\".format(model_name,train_epoch - 1))"
   ]
  },
  {
   "cell_type": "code",
   "execution_count": 29,
   "metadata": {
    "collapsed": true
   },
   "outputs": [],
   "source": [
    "train_epoch = 1\n",
    "train_batch = 0"
   ]
  },
  {
   "cell_type": "code",
   "execution_count": 47,
   "metadata": {
    "scrolled": false
   },
   "outputs": [
    {
     "name": "stdout",
     "output_type": "stream",
     "text": [
      "EPOCH 43 STEP 2499 LR 0.05 ACC 49.16 LOSS 1.68 value_loss 0.36 100.00 % [==================================================>] 1280000/1280000 \t used:821s eta:0 ss80000 \t used:0s eta:0 s\n",
      " epoch 43 100.00 % [==================================================>] 320000/320000 \t used:203s eta:0 sEPOCH 43 valid loss 1.8762359619140625 value loss 0.5446912050247192 acc 44.8725\n",
      "\n",
      "EPOCH 44 STEP 2499 LR 0.05 ACC 49.41 LOSS 1.68 value_loss 0.38 100.00 % [==================================================>] 1280000/1280000 \t used:1593s eta:0 ss\n",
      " epoch 44 100.00 % [==================================================>] 320000/320000 \t used:204s eta:0 sEPOCH 44 valid loss 1.8729877471923828 value loss 0.5302838087081909 acc 45.04875\n",
      "\n",
      "EPOCH 45 STEP 2499 LR 0.05 ACC 50.32 LOSS 1.64 value_loss 0.34 100.00 % [==================================================>] 1280000/1280000 \t used:1592s eta:0 ss\n",
      " epoch 45 100.00 % [==================================================>] 320000/320000 \t used:204s eta:0 sEPOCH 45 valid loss 1.877827763557434 value loss 0.5233810544013977 acc 44.92125\n",
      "\n",
      "EPOCH 46 STEP 2499 LR 0.05 ACC 50.26 LOSS 1.64 value_loss 0.35 100.00 % [==================================================>] 1280000/1280000 \t used:1593s eta:0 ss\n",
      " epoch 46 100.00 % [==================================================>] 320000/320000 \t used:204s eta:0 sEPOCH 46 valid loss 1.8777515888214111 value loss 0.5338009595870972 acc 44.934375\n",
      "\n",
      "EPOCH 47 STEP 2499 LR 0.05 ACC 50.07 LOSS 1.66 value_loss 0.36 100.00 % [==================================================>] 1280000/1280000 \t used:1594s eta:0 ss\n",
      " epoch 47 100.00 % [==================================================>] 320000/320000 \t used:202s eta:0 sEPOCH 47 valid loss 1.8720803260803223 value loss 0.5171815156936646 acc 44.9940625\n",
      "\n",
      "EPOCH 48 STEP 2499 LR 0.05 ACC 51.03 LOSS 1.62 value_loss 0.32 100.00 % [==================================================>] 1280000/1280000 \t used:1593s eta:0 ss\n",
      " epoch 48 100.00 % [==================================================>] 320000/320000 \t used:204s eta:0 sEPOCH 48 valid loss 1.8820213079452515 value loss 0.5408220291137695 acc 44.988125\n",
      "\n",
      "EPOCH 49 STEP 2499 LR 0.05 ACC 50.36 LOSS 1.65 value_loss 0.34 100.00 % [==================================================>] 1280000/1280000 \t used:1593s eta:0 ss\n",
      " epoch 49 100.00 % [==================================================>] 320000/320000 \t used:204s eta:0 sEPOCH 49 valid loss 1.8797781467437744 value loss 0.5537617802619934 acc 44.9684375\n",
      "\n",
      "EPOCH 50 STEP 2499 LR 0.05 ACC 50.92 LOSS 1.63 value_loss 0.35 100.00 % [==================================================>] 1280000/1280000 \t used:1592s eta:0 ss\n",
      " epoch 50 100.00 % [==================================================>] 320000/320000 \t used:203s eta:0 sEPOCH 50 valid loss 1.8839772939682007 value loss 0.5277128219604492 acc 44.8634375\n",
      "\n",
      "EPOCH 51 STEP 2499 LR 0.05 ACC 51.63 LOSS 1.59 value_loss 0.35 100.00 % [==================================================>] 1280000/1280000 \t used:1594s eta:0 ss\n",
      " epoch 51 100.00 % [==================================================>] 320000/320000 \t used:204s eta:0 sEPOCH 51 valid loss 1.870617389678955 value loss 0.5347340106964111 acc 45.1025\n",
      "\n",
      "EPOCH 52 STEP 2499 LR 0.05 ACC 50.16 LOSS 1.65 value_loss 0.34 100.00 % [==================================================>] 1280000/1280000 \t used:1593s eta:0 ss\n",
      " epoch 52 100.00 % [==================================================>] 320000/320000 \t used:205s eta:0 sEPOCH 52 valid loss 1.8802398443222046 value loss 0.5374746322631836 acc 45.0365625\n",
      "\n",
      "EPOCH 53 STEP 2499 LR 0.05 ACC 51.14 LOSS 1.63 value_loss 0.35 100.00 % [==================================================>] 1280000/1280000 \t used:1593s eta:0 ss\n",
      " epoch 53 100.00 % [==================================================>] 320000/320000 \t used:204s eta:0 sEPOCH 53 valid loss 1.8761366605758667 value loss 0.5334969758987427 acc 45.153125\n",
      "\n",
      "EPOCH 54 STEP 2499 LR 0.05 ACC 51.53 LOSS 1.6 value_loss 0.33 100.00 % [==================================================>] 1280000/1280000 \t used:1592s eta:0 sss\n",
      " epoch 54 100.00 % [==================================================>] 320000/320000 \t used:203s eta:0 sEPOCH 54 valid loss 1.8739222288131714 value loss 0.5501577854156494 acc 45.11375\n",
      "\n",
      "EPOCH 55 STEP 2499 LR 0.05 ACC 50.74 LOSS 1.62 value_loss 0.34 100.00 % [==================================================>] 1280000/1280000 \t used:1592s eta:0 ss\n",
      " epoch 55 100.00 % [==================================================>] 320000/320000 \t used:204s eta:0 sEPOCH 55 valid loss 1.8785148859024048 value loss 0.5416907072067261 acc 45.125\n",
      "\n",
      "EPOCH 56 STEP 2499 LR 0.05 ACC 51.54 LOSS 1.61 value_loss 0.35 100.00 % [==================================================>] 1280000/1280000 \t used:1592s eta:0 ss\n",
      " epoch 56 100.00 % [==================================================>] 320000/320000 \t used:205s eta:0 sEPOCH 56 valid loss 1.8885953426361084 value loss 0.5456426739692688 acc 44.8228125\n",
      "\n",
      "EPOCH 57 STEP 2499 LR 0.05 ACC 50.99 LOSS 1.62 value_loss 0.36 100.00 % [==================================================>] 1280000/1280000 \t used:1594s eta:0 ss\n",
      " epoch 57 100.00 % [==================================================>] 320000/320000 \t used:204s eta:0 sEPOCH 57 valid loss 1.8700569868087769 value loss 0.5369458794593811 acc 45.243125\n",
      "\n",
      "EPOCH 58 STEP 2499 LR 0.05 ACC 51.64 LOSS 1.6 value_loss 0.35 100.00 % [==================================================>] 1280000/1280000 \t used:1595s eta:0 sss\n",
      " epoch 58 100.00 % [==================================================>] 320000/320000 \t used:204s eta:0 sEPOCH 58 valid loss 1.8798117637634277 value loss 0.5355849862098694 acc 45.1603125\n",
      "\n",
      "EPOCH 59 STEP 2499 LR 0.05 ACC 51.27 LOSS 1.62 value_loss 0.35 100.00 % [==================================================>] 1280000/1280000 \t used:1594s eta:0 ss\n",
      " epoch 59 100.00 % [==================================================>] 320000/320000 \t used:205s eta:0 sEPOCH 59 valid loss 1.8764644861221313 value loss 0.5467439293861389 acc 45.22125\n",
      "\n",
      "EPOCH 60 STEP 2499 LR 0.025 ACC 51.74 LOSS 1.58 value_loss 0.35 100.00 % [==================================================>] 1280000/1280000 \t used:1594s eta:0 ss\n",
      " epoch 60 100.00 % [==================================================>] 320000/320000 \t used:204s eta:0 sEPOCH 60 valid loss 1.8618745803833008 value loss 0.5341380834579468 acc 45.6103125\n",
      "\n",
      "EPOCH 61 STEP 2499 LR 0.025 ACC 53.29 LOSS 1.54 value_loss 0.33 100.00 % [==================================================>] 1280000/1280000 \t used:1595s eta:0 ss\n",
      " epoch 61 100.00 % [==================================================>] 320000/320000 \t used:204s eta:0 sEPOCH 61 valid loss 1.8681443929672241 value loss 0.5531971454620361 acc 45.629375\n",
      "\n",
      "EPOCH 62 STEP 2499 LR 0.025 ACC 53.13 LOSS 1.56 value_loss 0.32 100.00 % [==================================================>] 1280000/1280000 \t used:1593s eta:0 ss\n",
      " epoch 62 100.00 % [==================================================>] 320000/320000 \t used:203s eta:0 sEPOCH 62 valid loss 1.8656511306762695 value loss 0.5454599857330322 acc 45.6609375\n",
      "\n",
      "EPOCH 63 STEP 2499 LR 0.025 ACC 52.44 LOSS 1.56 value_loss 0.33 100.00 % [==================================================>] 1280000/1280000 \t used:1593s eta:0 ss\n",
      " epoch 63 100.00 % [==================================================>] 320000/320000 \t used:203s eta:0 sEPOCH 63 valid loss 1.8701045513153076 value loss 0.5452038049697876 acc 45.4703125\n",
      "\n",
      "EPOCH 64 STEP 2499 LR 0.025 ACC 53.12 LOSS 1.54 value_loss 0.31 100.00 % [==================================================>] 1280000/1280000 \t used:1593s eta:0 ss\n",
      " epoch 64 100.00 % [==================================================>] 320000/320000 \t used:203s eta:0 sEPOCH 64 valid loss 1.8680343627929688 value loss 0.5461254119873047 acc 45.6328125\n",
      "\n",
      "EPOCH 65 STEP 2499 LR 0.025 ACC 52.89 LOSS 1.55 value_loss 0.33 100.00 % [==================================================>] 1280000/1280000 \t used:1594s eta:0 ss\n",
      " epoch 65 100.00 % [==================================================>] 320000/320000 \t used:204s eta:0 sEPOCH 65 valid loss 1.8710476160049438 value loss 0.5563655495643616 acc 45.4928125\n",
      "\n",
      "EPOCH 66 STEP 2499 LR 0.025 ACC 53.07 LOSS 1.54 value_loss 0.32 100.00 % [==================================================>] 1280000/1280000 \t used:1594s eta:0 ss\n",
      " epoch 66 100.00 % [==================================================>] 320000/320000 \t used:205s eta:0 sEPOCH 66 valid loss 1.869554877281189 value loss 0.547745406627655 acc 45.4021875\n",
      "\n",
      "EPOCH 67 STEP 2499 LR 0.025 ACC 53.43 LOSS 1.54 value_loss 0.32 100.00 % [==================================================>] 1280000/1280000 \t used:1597s eta:0 ss\n",
      " epoch 67 100.00 % [==================================================>] 320000/320000 \t used:203s eta:0 sEPOCH 67 valid loss 1.8749244213104248 value loss 0.5467325448989868 acc 45.5528125\n",
      "\n",
      "EPOCH 68 STEP 2499 LR 0.025 ACC 53.17 LOSS 1.53 value_loss 0.32 100.00 % [==================================================>] 1280000/1280000 \t used:1595s eta:0 ss\n",
      " epoch 68 100.00 % [==================================================>] 320000/320000 \t used:204s eta:0 sEPOCH 68 valid loss 1.868100643157959 value loss 0.5409349799156189 acc 45.6690625\n",
      "\n",
      "EPOCH 69 STEP 963 LR 0.025 ACC 52.81 LOSS 1.55 value_loss 0.32 38.56 % [===================>-------------------------------] 493568/1280000 \t used:614s eta:978 ss"
     ]
    },
    {
     "ename": "KeyboardInterrupt",
     "evalue": "",
     "output_type": "error",
     "traceback": [
      "\u001b[0;31m---------------------------------------------------------------------------\u001b[0m",
      "\u001b[0;31mKeyboardInterrupt\u001b[0m                         Traceback (most recent call last)",
      "\u001b[0;32m<ipython-input-47-c8a8f48d7add>\u001b[0m in \u001b[0;36m<module>\u001b[0;34m()\u001b[0m\n\u001b[1;32m     57\u001b[0m             _,step_value_loss,step_val_predict = sess.run(\n\u001b[1;32m     58\u001b[0m                 [train_op_value,value_loss,value_head],feed_dict={\n\u001b[0;32m---> 59\u001b[0;31m                     \u001b[0mX\u001b[0m\u001b[0;34m:\u001b[0m\u001b[0mbatch_x\u001b[0m\u001b[0;34m,\u001b[0m\u001b[0mlearning_rate\u001b[0m\u001b[0;34m:\u001b[0m\u001b[0mbatch_lr\u001b[0m\u001b[0;34m,\u001b[0m\u001b[0mtraining\u001b[0m\u001b[0;34m:\u001b[0m\u001b[0;32mTrue\u001b[0m\u001b[0;34m,\u001b[0m\u001b[0mscore\u001b[0m\u001b[0;34m:\u001b[0m\u001b[0mbatch_v\u001b[0m\u001b[0;34m,\u001b[0m\u001b[0;34m\u001b[0m\u001b[0m\n\u001b[0m\u001b[1;32m     60\u001b[0m                 })\n\u001b[1;32m     61\u001b[0m \u001b[0;34m\u001b[0m\u001b[0m\n",
      "\u001b[0;32m/usr/local/lib/python3.6/site-packages/tensorflow/python/client/session.py\u001b[0m in \u001b[0;36mrun\u001b[0;34m(self, fetches, feed_dict, options, run_metadata)\u001b[0m\n\u001b[1;32m    893\u001b[0m     \u001b[0;32mtry\u001b[0m\u001b[0;34m:\u001b[0m\u001b[0;34m\u001b[0m\u001b[0m\n\u001b[1;32m    894\u001b[0m       result = self._run(None, fetches, feed_dict, options_ptr,\n\u001b[0;32m--> 895\u001b[0;31m                          run_metadata_ptr)\n\u001b[0m\u001b[1;32m    896\u001b[0m       \u001b[0;32mif\u001b[0m \u001b[0mrun_metadata\u001b[0m\u001b[0;34m:\u001b[0m\u001b[0;34m\u001b[0m\u001b[0m\n\u001b[1;32m    897\u001b[0m         \u001b[0mproto_data\u001b[0m \u001b[0;34m=\u001b[0m \u001b[0mtf_session\u001b[0m\u001b[0;34m.\u001b[0m\u001b[0mTF_GetBuffer\u001b[0m\u001b[0;34m(\u001b[0m\u001b[0mrun_metadata_ptr\u001b[0m\u001b[0;34m)\u001b[0m\u001b[0;34m\u001b[0m\u001b[0m\n",
      "\u001b[0;32m/usr/local/lib/python3.6/site-packages/tensorflow/python/client/session.py\u001b[0m in \u001b[0;36m_run\u001b[0;34m(self, handle, fetches, feed_dict, options, run_metadata)\u001b[0m\n\u001b[1;32m   1122\u001b[0m     \u001b[0;32mif\u001b[0m \u001b[0mfinal_fetches\u001b[0m \u001b[0;32mor\u001b[0m \u001b[0mfinal_targets\u001b[0m \u001b[0;32mor\u001b[0m \u001b[0;34m(\u001b[0m\u001b[0mhandle\u001b[0m \u001b[0;32mand\u001b[0m \u001b[0mfeed_dict_tensor\u001b[0m\u001b[0;34m)\u001b[0m\u001b[0;34m:\u001b[0m\u001b[0;34m\u001b[0m\u001b[0m\n\u001b[1;32m   1123\u001b[0m       results = self._do_run(handle, final_targets, final_fetches,\n\u001b[0;32m-> 1124\u001b[0;31m                              feed_dict_tensor, options, run_metadata)\n\u001b[0m\u001b[1;32m   1125\u001b[0m     \u001b[0;32melse\u001b[0m\u001b[0;34m:\u001b[0m\u001b[0;34m\u001b[0m\u001b[0m\n\u001b[1;32m   1126\u001b[0m       \u001b[0mresults\u001b[0m \u001b[0;34m=\u001b[0m \u001b[0;34m[\u001b[0m\u001b[0;34m]\u001b[0m\u001b[0;34m\u001b[0m\u001b[0m\n",
      "\u001b[0;32m/usr/local/lib/python3.6/site-packages/tensorflow/python/client/session.py\u001b[0m in \u001b[0;36m_do_run\u001b[0;34m(self, handle, target_list, fetch_list, feed_dict, options, run_metadata)\u001b[0m\n\u001b[1;32m   1319\u001b[0m     \u001b[0;32mif\u001b[0m \u001b[0mhandle\u001b[0m \u001b[0;32mis\u001b[0m \u001b[0;32mNone\u001b[0m\u001b[0;34m:\u001b[0m\u001b[0;34m\u001b[0m\u001b[0m\n\u001b[1;32m   1320\u001b[0m       return self._do_call(_run_fn, self._session, feeds, fetches, targets,\n\u001b[0;32m-> 1321\u001b[0;31m                            options, run_metadata)\n\u001b[0m\u001b[1;32m   1322\u001b[0m     \u001b[0;32melse\u001b[0m\u001b[0;34m:\u001b[0m\u001b[0;34m\u001b[0m\u001b[0m\n\u001b[1;32m   1323\u001b[0m       \u001b[0;32mreturn\u001b[0m \u001b[0mself\u001b[0m\u001b[0;34m.\u001b[0m\u001b[0m_do_call\u001b[0m\u001b[0;34m(\u001b[0m\u001b[0m_prun_fn\u001b[0m\u001b[0;34m,\u001b[0m \u001b[0mself\u001b[0m\u001b[0;34m.\u001b[0m\u001b[0m_session\u001b[0m\u001b[0;34m,\u001b[0m \u001b[0mhandle\u001b[0m\u001b[0;34m,\u001b[0m \u001b[0mfeeds\u001b[0m\u001b[0;34m,\u001b[0m \u001b[0mfetches\u001b[0m\u001b[0;34m)\u001b[0m\u001b[0;34m\u001b[0m\u001b[0m\n",
      "\u001b[0;32m/usr/local/lib/python3.6/site-packages/tensorflow/python/client/session.py\u001b[0m in \u001b[0;36m_do_call\u001b[0;34m(self, fn, *args)\u001b[0m\n\u001b[1;32m   1325\u001b[0m   \u001b[0;32mdef\u001b[0m \u001b[0m_do_call\u001b[0m\u001b[0;34m(\u001b[0m\u001b[0mself\u001b[0m\u001b[0;34m,\u001b[0m \u001b[0mfn\u001b[0m\u001b[0;34m,\u001b[0m \u001b[0;34m*\u001b[0m\u001b[0margs\u001b[0m\u001b[0;34m)\u001b[0m\u001b[0;34m:\u001b[0m\u001b[0;34m\u001b[0m\u001b[0m\n\u001b[1;32m   1326\u001b[0m     \u001b[0;32mtry\u001b[0m\u001b[0;34m:\u001b[0m\u001b[0;34m\u001b[0m\u001b[0m\n\u001b[0;32m-> 1327\u001b[0;31m       \u001b[0;32mreturn\u001b[0m \u001b[0mfn\u001b[0m\u001b[0;34m(\u001b[0m\u001b[0;34m*\u001b[0m\u001b[0margs\u001b[0m\u001b[0;34m)\u001b[0m\u001b[0;34m\u001b[0m\u001b[0m\n\u001b[0m\u001b[1;32m   1328\u001b[0m     \u001b[0;32mexcept\u001b[0m \u001b[0merrors\u001b[0m\u001b[0;34m.\u001b[0m\u001b[0mOpError\u001b[0m \u001b[0;32mas\u001b[0m \u001b[0me\u001b[0m\u001b[0;34m:\u001b[0m\u001b[0;34m\u001b[0m\u001b[0m\n\u001b[1;32m   1329\u001b[0m       \u001b[0mmessage\u001b[0m \u001b[0;34m=\u001b[0m \u001b[0mcompat\u001b[0m\u001b[0;34m.\u001b[0m\u001b[0mas_text\u001b[0m\u001b[0;34m(\u001b[0m\u001b[0me\u001b[0m\u001b[0;34m.\u001b[0m\u001b[0mmessage\u001b[0m\u001b[0;34m)\u001b[0m\u001b[0;34m\u001b[0m\u001b[0m\n",
      "\u001b[0;32m/usr/local/lib/python3.6/site-packages/tensorflow/python/client/session.py\u001b[0m in \u001b[0;36m_run_fn\u001b[0;34m(session, feed_dict, fetch_list, target_list, options, run_metadata)\u001b[0m\n\u001b[1;32m   1304\u001b[0m           return tf_session.TF_Run(session, options,\n\u001b[1;32m   1305\u001b[0m                                    \u001b[0mfeed_dict\u001b[0m\u001b[0;34m,\u001b[0m \u001b[0mfetch_list\u001b[0m\u001b[0;34m,\u001b[0m \u001b[0mtarget_list\u001b[0m\u001b[0;34m,\u001b[0m\u001b[0;34m\u001b[0m\u001b[0m\n\u001b[0;32m-> 1306\u001b[0;31m                                    status, run_metadata)\n\u001b[0m\u001b[1;32m   1307\u001b[0m \u001b[0;34m\u001b[0m\u001b[0m\n\u001b[1;32m   1308\u001b[0m     \u001b[0;32mdef\u001b[0m \u001b[0m_prun_fn\u001b[0m\u001b[0;34m(\u001b[0m\u001b[0msession\u001b[0m\u001b[0;34m,\u001b[0m \u001b[0mhandle\u001b[0m\u001b[0;34m,\u001b[0m \u001b[0mfeed_dict\u001b[0m\u001b[0;34m,\u001b[0m \u001b[0mfetch_list\u001b[0m\u001b[0;34m)\u001b[0m\u001b[0;34m:\u001b[0m\u001b[0;34m\u001b[0m\u001b[0m\n",
      "\u001b[0;31mKeyboardInterrupt\u001b[0m: "
     ]
    }
   ],
   "source": [
    "restore = True\n",
    "N_EPOCH = 100\n",
    "DECAY_EPOCH = 20\n",
    "\n",
    "class ExpVal:\n",
    "    def __init__(self,exp_a=0.97):\n",
    "        self.val = None\n",
    "        self.exp_a = exp_a\n",
    "    def update(self,newval):\n",
    "        if self.val == None:\n",
    "            self.val = newval\n",
    "        else:\n",
    "            self.val = self.exp_a * self.val + (1 - self.exp_a) * newval\n",
    "    def getval(self):\n",
    "        return round(self.val,2)\n",
    "    \n",
    "expacc_move = ExpVal()\n",
    "exploss = ExpVal()\n",
    "expsteploss = ExpVal()\n",
    "\n",
    "begining_learning_rate = 2e-1\n",
    "\n",
    "pred_image = None\n",
    "if restore == False:\n",
    "    train_epoch = 1\n",
    "    train_batch = 0\n",
    "for one_epoch in range(train_epoch,N_EPOCH):\n",
    "    train_epoch = one_epoch\n",
    "    pb = ProgressBar(worksum=N_BATCH * BATCH_SIZE,info=\" epoch {} batch {}\".format(train_epoch,train_batch))\n",
    "    pb.startjob()\n",
    "    \n",
    "    for one_batch in range(N_BATCH):\n",
    "        if restore == True and one_batch < train_batch:\n",
    "            pb.auto_display = False\n",
    "            pb.complete(BATCH_SIZE)\n",
    "            pb.auto_display = True\n",
    "            continue\n",
    "        else:\n",
    "            restore = False\n",
    "        train_batch = one_batch\n",
    "        \n",
    "        batch_x,batch_y,batch_v = trainflow.next()['data']\n",
    "        batch_v = np.expand_dims(np.nan_to_num(batch_v),1)\n",
    "        # learning rate decay strategy\n",
    "        batch_lr = begining_learning_rate * 2 ** -(one_epoch // DECAY_EPOCH)\n",
    "        with graph.as_default():\n",
    "            _,step_loss,step_acc_move,step_value = sess.run(\n",
    "                [train_op_policy,policy_loss,accuracy_select,global_step],feed_dict={\n",
    "                    X:batch_x,nextmove:batch_y,learning_rate:batch_lr,training:True,\n",
    "                })\n",
    "            _,step_value_loss,step_val_predict = sess.run(\n",
    "                [train_op_value,value_loss,value_head],feed_dict={\n",
    "                    X:batch_x,learning_rate:batch_lr,training:True,score:batch_v,\n",
    "                })\n",
    "            batch_v = - batch_v\n",
    "            batch_x = np.concatenate((batch_x[:,::-1,:,7:],batch_x[:,::-1,:,:7]),axis=-1)\n",
    "            _,step_value_loss,step_val_predict = sess.run(\n",
    "                [train_op_value,value_loss,value_head],feed_dict={\n",
    "                    X:batch_x,learning_rate:batch_lr,training:True,score:batch_v,\n",
    "                })\n",
    "            \n",
    "        \n",
    "        step_acc_move *= 100\n",
    "        \n",
    "        expacc_move.update(step_acc_move)\n",
    "        exploss.update(step_loss)\n",
    "        expsteploss.update(step_value_loss)\n",
    "\n",
    "       \n",
    "        pb.info = \"EPOCH {} STEP {} LR {} ACC {} LOSS {} value_loss {}\".format(\n",
    "            one_epoch,one_batch,batch_lr,expacc_move.getval(),exploss.getval(),expsteploss.getval())\n",
    "        \n",
    "        pb.complete(BATCH_SIZE)\n",
    "    print()\n",
    "    pb = ProgressBar(worksum=N_BATCH // 4 * BATCH_SIZE,info=\" epoch {}\".format(train_epoch))\n",
    "    pb.startjob()\n",
    "    losses = []\n",
    "    value_losses = []\n",
    "    accs = []\n",
    "    for one_batch in range(N_BATCH // 4):\n",
    "        batch_x,batch_y,batch_v = testflow.next()['data']\n",
    "        batch_v = np.expand_dims(np.nan_to_num(batch_v),1)\n",
    "        # learning rate decay strategy\n",
    "        batch_lr = begining_learning_rate * 10 ** -(one_epoch // DECAY_EPOCH)\n",
    "        with graph.as_default():\n",
    "            step_loss,step_value_loss,step_acc_move,step_value = sess.run(\n",
    "                [policy_loss,value_loss,accuracy_select,global_step],feed_dict={\n",
    "                    X:batch_x,nextmove:batch_y,learning_rate:batch_lr,training:False,score:batch_v,\n",
    "                })\n",
    "        \n",
    "        step_acc_move *= 100\n",
    "        losses.append(step_loss)\n",
    "        accs.append(step_acc_move)\n",
    "        value_losses.append(step_value_loss)\n",
    "        pb.complete(BATCH_SIZE)\n",
    "    print(\"EPOCH {} valid loss {} value loss {} acc {}\".format(train_epoch,np.average(losses)\n",
    "                                                               ,np.average(value_losses),np.average(accs)))\n",
    "    print()\n",
    "    with graph.as_default():\n",
    "        saver = tf.train.Saver(var_list=tf.global_variables())\n",
    "        saver.save(sess,\"models/{}/model_{}\".format(model_name,one_epoch))"
   ]
  },
  {
   "cell_type": "code",
   "execution_count": 52,
   "metadata": {
    "collapsed": true
   },
   "outputs": [],
   "source": [
    "ind = 9"
   ]
  },
  {
   "cell_type": "code",
   "execution_count": 53,
   "metadata": {
    "collapsed": true
   },
   "outputs": [],
   "source": [
    "gi = convert_game_value(testset.filelist[ind],testset.feature_list,pgn2value)"
   ]
  },
  {
   "cell_type": "code",
   "execution_count": 54,
   "metadata": {
    "collapsed": true
   },
   "outputs": [],
   "source": [
    "gb = convert_game_board(testset.filelist[ind],testset.feature_list,pgn2value)\n"
   ]
  },
  {
   "cell_type": "code",
   "execution_count": 55,
   "metadata": {
    "scrolled": false
   },
   "outputs": [
    {
     "name": "stdout",
     "output_type": "stream",
     "text": [
      "\n",
      "0 砗─碼─象─士─将─士─象─碼─砗\n",
      "  │  │  │  │＼│／│　│　│　│\n",
      "1 ├─┼─┼─┼─※─┼─┼─┼─┤\n",
      "  │　│　│　│／│＼│　│　│　│\n",
      "2 ├─砲─┼─┼─┼─┼─┼─砲─┤\n",
      "  │　│　│　│　│　│　│　│　│\n",
      "3 卒─┼─卒─┼─卒─┼─卒─┼─卒\n",
      "  │　│　│　│　│　│　│　│　│\n",
      "4 ├─┴─┴─┴─┴─┴─┴─┴─┤\n",
      "  │　                         　 │\n",
      "5 ├─┬─┬─┬─┬─┬─┬─┬─┤\n",
      "  │　│　│　│　│　│　│　│　│\n",
      "6 兵─┼─兵─┼─兵─┼─兵─┼─兵\n",
      "  │　│　│　│　│　│　│　│　│\n",
      "7 ├─炮─┼─┼─┼─┼─┼─炮─┤\n",
      "  │　│　│　│＼│／│　│　│　│\n",
      "8 ├─┼─┼─┼─※─┼─┼─┼─┤\n",
      "  │　│　│　│／│＼│　│　│　│\n",
      "9 车─马─相─仕─帅─仕─相─马─车\n",
      "  0   1   2   3   4   5   6   7   8\n",
      "\n",
      "[0.28047004, 0.22795878, 0.1119001, 0.10171503, 0.06740769, 0.063189253, 0.034739129, 0.033217646, 0.024611259, 0.023836587]\n",
      "1 0.0220189 1.0 (7, 7, 4, 7)\n",
      "\n",
      "0 砗─碼─象─士─将─士─象─碼─砗\n",
      "  │  │  │  │＼│／│　│　│　│\n",
      "1 ├─┼─┼─┼─※─┼─┼─┼─┤\n",
      "  │　│　│　│／│＼│　│　│　│\n",
      "2 ├─砲─┼─┼─┼─┼─┼─砲─┤\n",
      "  │　│　│　│　│　│　│　│　│\n",
      "3 卒─┼─卒─┼─卒─┼─卒─┼─卒\n",
      "  │　│　│　│　│　│　│　│　│\n",
      "4 ├─┴─┴─┴─┴─┴─┴─┴─┤\n",
      "  │　                         　 │\n",
      "5 ├─┬─┬─┬─┬─┬─┬─┬─┤\n",
      "  │　│　│　│　│　│　│　│　│\n",
      "6 兵─┼─兵─┼─兵─┼─兵─┼─兵\n",
      "  │　│　│　│　│　│　│　│　│\n",
      "7 ├─炮─┼─┼─炮─┼─┼─┼─┤\n",
      "  │　│　│　│＼│／│　│　│　│\n",
      "8 ├─┼─┼─┼─※─┼─┼─┼─┤\n",
      "  │　│　│　│／│＼│　│　│　│\n",
      "9 车─马─相─仕─帅─仕─相─马─车\n",
      "  0   1   2   3   4   5   6   7   8\n",
      "\n",
      "[0.74792457, 0.1390121, 0.094127417, 0.011864004, 0.0030493992, 0.0019161324, 0.00053097151, 0.00026088505, 0.00015622388, 0.00015331581]\n",
      "2 0.145185 1.0 (7, 0, 6, 2)\n"
     ]
    }
   ],
   "source": [
    "red = False\n",
    "xx = 0\n",
    "while True:\n",
    "    xx += 1\n",
    "    red = not red\n",
    "    bx,ba,bb = gi.__next__()\n",
    "    board_status,move = gb.__next__()\n",
    "\n",
    "    #print(np.sum(bx,axis=0))\n",
    "    x1 = np.transpose(bx,[1,2,0])\n",
    "    x1 = np.expand_dims(x1,axis=0)\n",
    "\n",
    "    x2 = np.concatenate((x1[:,::-1,:,7:],x1[:,::-1,:,:7]),axis=-1)\n",
    "    board_status.print_board()\n",
    "\n",
    "    with graph.as_default():\n",
    "        pred,pp = sess.run(\n",
    "            [value_head,net_softmax],feed_dict={\n",
    "                X:x1,training:False,\n",
    "            })\n",
    "        pred1 = sess.run(\n",
    "            [value_head],feed_dict={\n",
    "                X:x2,training:False,\n",
    "            })\n",
    "    #pp = list(zip(pp,))\n",
    "    print(sorted(pp.reshape(-1))[::-1][:10])\n",
    "    pred = pred[0][0]#(pred[0][0] - pred1[0][0]) / 2\n",
    "    #pred = (pred[0][0] - pred1[0][0]) / 2\n",
    "    if red:\n",
    "        print(xx,pred,bb,move)\n",
    "    else:\n",
    "        print(xx, - pred,-bb,move)\n",
    "    if xx >= 2:\n",
    "        break"
   ]
  },
  {
   "cell_type": "code",
   "execution_count": 59,
   "metadata": {},
   "outputs": [
    {
     "data": {
      "text/plain": [
       "array([[1, 1, 1, 1, 1, 1, 1, 1, 1],\n",
       "       [0, 0, 0, 0, 0, 0, 0, 0, 0],\n",
       "       [0, 1, 0, 0, 1, 0, 0, 0, 0],\n",
       "       [1, 0, 1, 0, 1, 0, 1, 0, 1],\n",
       "       [0, 0, 0, 0, 0, 0, 0, 0, 0],\n",
       "       [0, 0, 0, 0, 0, 0, 0, 0, 0],\n",
       "       [1, 0, 1, 0, 1, 0, 1, 0, 1],\n",
       "       [0, 1, 0, 0, 0, 0, 0, 1, 0],\n",
       "       [0, 0, 0, 0, 0, 0, 0, 0, 0],\n",
       "       [1, 1, 1, 1, 1, 1, 1, 1, 1]], dtype=uint64)"
      ]
     },
     "execution_count": 59,
     "metadata": {},
     "output_type": "execute_result"
    }
   ],
   "source": [
    "np.sum(bx,axis=0)"
   ]
  },
  {
   "cell_type": "code",
   "execution_count": 61,
   "metadata": {},
   "outputs": [
    {
     "name": "stdout",
     "output_type": "stream",
     "text": [
      "1957年全国象棋个人赛.cbf\n",
      "1958年全国象棋个人赛.cbf\n",
      "1959年全运会.cbf\n",
      "1960年全国个人赛.cbf\n",
      "1962年全国象棋个人赛.cbf\n",
      "1966年全国个人赛.cbf\n",
      "1966年全国象棋个人赛 {97D7C772-104C-4EB7-AB6A-AFCEAB43F143}.cbf\n",
      "1966年全国象棋个人赛.cbf\n",
      "1978年全国象棋团体赛.cbf\n",
      "1989年棋王预选赛 {1E3ECFB4-88C6-45AF-9A6D-29A9369CB395}.cbf\n",
      "ls: 写入错误: 断开的管道\n"
     ]
    }
   ],
   "source": [
    "! ls  'data/imsa-cbf/' | head"
   ]
  },
  {
   "cell_type": "code",
   "execution_count": 64,
   "metadata": {},
   "outputs": [
    {
     "name": "stdout",
     "output_type": "stream",
     "text": [
      "﻿<?xml version=\"1.0\" encoding=\"UTF-8\"?>\r",
      "\r\n",
      "<ChineseChessRecord Version=\"1.0\">\r",
      "\r\n",
      " <Head>\r",
      "\r\n",
      "  <Name>1957年全国象棋个人赛</Name>\r",
      "\r\n",
      "  <URL />\r",
      "\r\n",
      "  <From>10497.pgn</From>\r",
      "\r\n",
      "  <ContestType />\r",
      "\r\n",
      "  <Contest />\r",
      "\r\n",
      "  <Round>第15轮</Round>\r",
      "\r\n",
      "  <Group />\r",
      "\r\n",
      "  <Table />\r",
      "\r\n",
      "  <Date>1957-11-16</Date>\r",
      "\r\n",
      "  <Site>上海</Site>\r",
      "\r\n",
      "  <TimeRule />\r",
      "\r\n",
      "  <Red>李义庭</Red>\r",
      "\r\n",
      "  <RedTeam>武汉</RedTeam>\r",
      "\r\n",
      "  <RedTime />\r",
      "\r\n",
      "  <RedRating />\r",
      "\r\n",
      "  <Black>王嘉良</Black>\r",
      "\r\n",
      "  <BlackTeam>哈尔滨</BlackTeam>\r",
      "\r\n",
      "  <BlackTime />\r",
      "\r\n",
      "  <BlackRating />\r",
      "\r\n",
      "  <Referee />\r",
      "\r\n",
      "  <Recorder />\r",
      "\r\n",
      "  <Commentator />\r",
      "\r\n",
      "  <CommentatorURL />\r",
      "\r\n",
      "  <Creator />\r",
      "\r\n",
      "  <CreatorURL />\r",
      "\r\n",
      "  <DateCreated />\r",
      "\r\n",
      "  <DateModified>2017-11-04 18:20:55</DateModified>\r",
      "\r\n",
      "  <ECCO>D21</ECCO>\r",
      "\r\n",
      "  <RecordType>1</RecordType>\r",
      "\r\n",
      "  <RecordKind />\r",
      "\r\n",
      "  <RecordResult>0</RecordResult>\r",
      "\r\n",
      "  <ResultType />\r",
      "\r\n",
      "  <FEN>rnbakabnr/9/1c5c1/p1p1p1p1p/9/9/P1P1P1P1P/1C5C1/9/RNBAKABNR w - - 0 1</FEN>\r",
      "\r\n",
      " </Head>\r",
      "\r\n",
      " <MoveList>\r",
      "\r\n",
      "  <Move value=\"00-00\" />\r",
      "\r\n",
      "  <Move value=\"77-47\" />\r",
      "\r\n",
      "  <Move value=\"72-42\" />\r",
      "\r\n",
      "  <Move value=\"79-67\" />\r",
      "\r\n",
      "  <Move value=\"80-81\" />\r",
      "\r\n",
      "  <Move value=\"89-79\" />\r",
      "\r\n",
      "  <Move value=\"70-62\" />\r",
      "\r\n",
      "  <Move value=\"59-48\" />\r",
      "\r\n",
      "  <Move value=\"81-51\" />\r",
      "\r\n",
      "  <Move value=\"79-73\" />\r",
      "\r\n",
      "  <Move value=\"10-22\" />\r",
      "\r\n",
      "  <Move value=\"26-25\" />\r",
      "\r\n",
      "  <Move value=\"51-54\" />\r",
      "\r\n",
      "  <Move value=\"17-27\" />\r",
      "\r\n",
      "  <Move value=\"23-24\" />\r",
      "\r\n",
      "  <Move value=\"73-63\" />\r",
      "\r\n",
      "  <Move value=\"22-14\" />\r",
      "\r\n",
      "  <Move value=\"63-65\" />\r",
      "\r\n",
      "  <Move value=\"30-41\" />\r",
      "\r\n",
      "  <Move value=\"47-57\" />\r",
      "\r\n",
      "  <Move value=\"62-74\" />\r",
      "\r\n",
      "  <Move value=\"29-47\" />\r",
      "\r\n",
      "  <Move value=\"24-25\" />\r",
      "\r\n",
      "  <Move value=\"65-25\" />\r",
      "\r\n",
      "  <Move value=\"42-62\" />\r",
      "\r\n",
      "  <Move value=\"67-79\" />\r",
      "\r\n",
      "  <Move value=\"20-42\" />\r",
      "\r\n",
      "  <Move value=\"27-17\" />\r",
      "\r\n",
      "  <Move value=\"12-17\" />\r",
      "\r\n",
      "  <Move value=\"57-17\" />\r",
      "\r\n",
      "  <Move value=\"00-20\" />\r",
      "\r\n",
      "  <Move value=\"25-20\" />\r",
      "\r\n",
      "  <Move value=\"42-20\" />\r",
      "\r\n",
      "  <Move value=\"19-07\" />\r",
      "\r\n",
      "  <Move value=\"74-66\" />\r",
      "\r\n",
      "  <Move value=\"79-87\" />\r",
      "\r\n",
      "  <Move value=\"66-58\" />\r",
      "\r\n",
      "  <Move value=\"17-18\" />\r",
      "\r\n",
      "  <Move value=\"54-64\" />\r",
      "\r\n",
      "  <Move value=\"18-58\" />\r",
      "\r\n",
      "  <Move value=\"64-69\" />\r",
      "\r\n",
      "  <Move value=\"58-59\" />\r",
      "\r\n",
      "  <Move value=\"69-67\" />\r",
      "\r\n",
      "  <Move value=\"87-79\" />\r",
      "\r\n",
      "  <Move value=\"67-47\" />\r",
      "\r\n",
      "  <Move value=\"59-57\" />\r",
      "\r\n",
      "  <Move value=\"62-22\" />\r",
      "\r\n",
      "  <Move value=\"49-59\" />\r",
      "\r\n",
      "  <Move value=\"47-46\" />\r",
      "\r\n",
      "  <Move value=\"09-19\" />\r",
      "\r\n",
      "  <Move value=\"46-86\" />\r",
      "\r\n",
      "  <Move value=\"59-49\" />\r",
      "\r\n",
      "  <Move value=\"14-35\" />\r",
      "\r\n",
      "  <Move value=\"19-29\" />\r",
      "\r\n",
      "  <Move value=\"22-27\" />\r",
      "\r\n",
      "  <Move value=\"48-59\" />\r",
      "\r\n",
      "  <Move value=\"20-42\" />\r",
      "\r\n",
      "  <Move value=\"57-37\" />\r",
      "\r\n",
      "  <Move value=\"86-06\" />\r",
      "\r\n",
      "  <Move value=\"39-48\" />\r",
      "\r\n",
      "  <Move value=\"03-04\" />\r",
      "\r\n",
      "  <Move value=\"79-58\" />\r",
      "\r\n",
      "  <Move value=\"04-05\" />\r",
      "\r\n",
      "  <Move value=\"07-19\" />\r",
      "\r\n",
      "  <Move value=\"27-24\" />\r",
      "\r\n",
      "  <Move value=\"29-25\" />\r",
      "\r\n",
      "  <Move value=\"35-56\" />\r",
      "\r\n",
      "  <Move value=\"19-27\" />\r",
      "\r\n",
      "  <Move value=\"24-44\" />\r",
      "\r\n",
      "  <Move value=\"48-57\" />\r",
      "\r\n",
      "  <Move value=\"06-36\" />\r",
      "\r\n",
      "  <Move value=\"25-05\" />\r",
      "\r\n",
      "  <Move value=\"56-37\" />\r",
      "\r\n",
      "  <Move value=\"58-37\" />\r",
      "\r\n",
      "  <Move value=\"36-37\" />\r",
      "\r\n",
      "  <Move value=\"27-35\" />\r",
      "\r\n",
      "  <Move value=\"37-57\" />\r",
      "\r\n",
      "  <Move value=\"35-43\" />\r",
      "\r\n",
      "  <Move value=\"57-47\" />\r",
      "\r\n",
      "  <Move value=\"49-39\" />\r",
      "\r\n",
      "  <Move value=\"47-37\" />\r",
      "\r\n",
      "  <Move value=\"39-49\" />\r",
      "\r\n",
      "  <Move value=\"37-33\" />\r",
      "\r\n",
      "  <Move value=\"43-62\" />\r",
      "\r\n",
      "  <Move value=\"33-63\" />\r",
      "\r\n",
      "  <Move value=\"05-00\" />\r",
      "\r\n",
      "  <Move value=\"41-30\" />\r",
      "\r\n",
      "  <Move value=\"00-04\" />\r",
      "\r\n",
      "  <Move value=\"44-64\" end=\"1\" />\r",
      "\r\n",
      " </MoveList>\r",
      "\r\n",
      "</ChineseChessRecord>\r",
      "\r\n"
     ]
    }
   ],
   "source": [
    "! cat 'data/imsa-cbf/1957年全国象棋个人赛.cbf'"
   ]
  },
  {
   "cell_type": "code",
   "execution_count": null,
   "metadata": {
    "collapsed": true
   },
   "outputs": [],
   "source": [
    "77-47 h2e2"
   ]
  },
  {
   "cell_type": "code",
   "execution_count": 66,
   "metadata": {},
   "outputs": [
    {
     "data": {
      "text/plain": [
       "{'a': '0',\n",
       " 'b': '1',\n",
       " 'c': '2',\n",
       " 'd': '3',\n",
       " 'e': '4',\n",
       " 'f': '5',\n",
       " 'g': '6',\n",
       " 'h': '7',\n",
       " 'i': '8'}"
      ]
     },
     "execution_count": 66,
     "metadata": {},
     "output_type": "execute_result"
    }
   ],
   "source": [
    "dict(zip('abcdefghi','012345678'))"
   ]
  },
  {
   "cell_type": "code",
   "execution_count": 67,
   "metadata": {},
   "outputs": [
    {
     "data": {
      "text/plain": [
       "{'0': '9',\n",
       " '1': '8',\n",
       " '2': '7',\n",
       " '3': '6',\n",
       " '4': '5',\n",
       " '5': '4',\n",
       " '6': '3',\n",
       " '7': '2',\n",
       " '8': '1',\n",
       " '9': '0'}"
      ]
     },
     "execution_count": 67,
     "metadata": {},
     "output_type": "execute_result"
    }
   ],
   "source": [
    "dict(zip('9876543210','0123456789'))"
   ]
  },
  {
   "cell_type": "code",
   "execution_count": null,
   "metadata": {
    "collapsed": true
   },
   "outputs": [],
   "source": []
  }
 ],
 "metadata": {
  "anaconda-cloud": {},
  "kernelspec": {
   "display_name": "tf1.3_python",
   "language": "python",
   "name": "tf1.3_kernel"
  },
  "language_info": {
   "codemirror_mode": {
    "name": "ipython",
    "version": 3
   },
   "file_extension": ".py",
   "mimetype": "text/x-python",
   "name": "python",
   "nbconvert_exporter": "python",
   "pygments_lexer": "ipython3",
   "version": "3.6.0"
  }
 },
 "nbformat": 4,
 "nbformat_minor": 1
}
