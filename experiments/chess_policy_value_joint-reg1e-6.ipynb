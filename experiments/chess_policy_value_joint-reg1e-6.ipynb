{
 "cells": [
  {
   "cell_type": "code",
   "execution_count": 1,
   "metadata": {
    "collapsed": true
   },
   "outputs": [],
   "source": [
    "%reload_ext autoreload \n",
    "%autoreload 2\n",
    "\n",
    "import tensorflow as tf\n",
    "import numpy as np\n",
    "from matplotlib import pyplot as plt\n",
    "import random \n",
    "import time\n",
    "from utils import Dataset,ProgressBar\n",
    "from tflearn.data_flow import DataFlow,DataFlowStatus,FeedDictFlow\n",
    "from tflearn.data_utils import Preloader,ImagePreloader\n",
    "import scipy\n",
    "import pandas as pd\n",
    "import xmltodict\n",
    "import common\n",
    "import tflearn\n",
    "import copy\n",
    "from cchess import *\n",
    "from game_convert import convert_game,convert_game_value"
   ]
  },
  {
   "cell_type": "code",
   "execution_count": 2,
   "metadata": {},
   "outputs": [
    {
     "name": "stdout",
     "output_type": "stream",
     "text": [
      "Sun May  6 01:31:30 2018       \r\n",
      "+-----------------------------------------------------------------------------+\r\n",
      "| NVIDIA-SMI 384.111                Driver Version: 384.111                   |\r\n",
      "|-------------------------------+----------------------+----------------------+\r\n",
      "| GPU  Name        Persistence-M| Bus-Id        Disp.A | Volatile Uncorr. ECC |\r\n",
      "| Fan  Temp  Perf  Pwr:Usage/Cap|         Memory-Usage | GPU-Util  Compute M. |\r\n",
      "|===============================+======================+======================|\r\n",
      "|   0  GeForce GTX 108...  Off  | 00000000:05:00.0 Off |                  N/A |\r\n",
      "| 44%   74C    P2   105W / 250W |   6150MiB / 11172MiB |     24%      Default |\r\n",
      "+-------------------------------+----------------------+----------------------+\r\n",
      "|   1  GeForce GTX 108...  Off  | 00000000:42:00.0 Off |                  N/A |\r\n",
      "| 59%   85C    P2   214W / 250W |   2538MiB / 11172MiB |     67%      Default |\r\n",
      "+-------------------------------+----------------------+----------------------+\r\n",
      "                                                                               \r\n",
      "+-----------------------------------------------------------------------------+\r\n",
      "| Processes:                                                       GPU Memory |\r\n",
      "|  GPU       PID   Type   Process name                             Usage      |\r\n",
      "|=============================================================================|\r\n",
      "|    0     17764      C   /home/meta/anaconda3/bin/python             5951MiB |\r\n",
      "|    0     19366      C   /usr/local/bin/python3                       183MiB |\r\n",
      "|    1     17764      C   /home/meta/anaconda3/bin/python              153MiB |\r\n",
      "|    1     19366      C   /usr/local/bin/python3                      2369MiB |\r\n",
      "+-----------------------------------------------------------------------------+\r\n"
     ]
    }
   ],
   "source": [
    "!nvidia-smi"
   ]
  },
  {
   "cell_type": "markdown",
   "metadata": {},
   "source": [
    "# a network predict select and move of Chinese chess, with minimal preprocessing"
   ]
  },
  {
   "cell_type": "code",
   "execution_count": 3,
   "metadata": {
    "collapsed": true
   },
   "outputs": [],
   "source": [
    "GPU_CORE = [1]\n",
    "BATCH_SIZE = 256\n",
    "BEGINING_LR = 0.01\n",
    "#TESTIMG_WIDTH = 500\n",
    "model_name = '5_5_resnet_joint_1e-6'\n",
    "data_dir = 'data/imsa-cbf/'"
   ]
  },
  {
   "cell_type": "code",
   "execution_count": 4,
   "metadata": {
    "collapsed": true
   },
   "outputs": [],
   "source": [
    "labels = common.board.create_uci_labels()\n",
    "label2ind = dict(zip(labels,list(range(len(labels)))))"
   ]
  },
  {
   "cell_type": "code",
   "execution_count": 5,
   "metadata": {
    "collapsed": true
   },
   "outputs": [],
   "source": [
    "pgn2value = dict(pd.read_csv('./data/resultlist.csv').values[:,1:])"
   ]
  },
  {
   "cell_type": "code",
   "execution_count": 6,
   "metadata": {
    "collapsed": true
   },
   "outputs": [],
   "source": [
    "class ElePreloader(object):\n",
    "    def __init__(self,datafile,batch_size=64):\n",
    "        self.batch_size=batch_size\n",
    "        content = pd.read_csv(datafile,header=None,index_col=None)\n",
    "        self.filelist = [i[0] for i in content.get_values()]\n",
    "        self.pos = 0\n",
    "        self.feature_list = {\"red\":['A', 'B', 'C', 'K', 'N', 'P', 'R']\n",
    "                             ,\"black\":['a', 'b', 'c', 'k', 'n', 'p', 'r']}\n",
    "        self.batch_size = batch_size\n",
    "        self.batch_iter = self.__iter()\n",
    "        assert(len(self.filelist) > batch_size)\n",
    "        self.game_iterlist = [None for i in self.filelist]\n",
    "    \n",
    "    def __iter(self):\n",
    "        retx1,rety1,retx2,rety2 = [],[],[],[]\n",
    "        vals = []\n",
    "        filelist = []\n",
    "        while True:\n",
    "            for i in range(self.batch_size):\n",
    "                if self.game_iterlist[i] == None:\n",
    "                    if len(filelist) == 0:\n",
    "                        filelist = copy.copy(self.filelist)\n",
    "                        random.shuffle(filelist)\n",
    "                    self.game_iterlist[i] = convert_game_value(filelist.pop(),self.feature_list,pgn2value)\n",
    "                game_iter = self.game_iterlist[i]\n",
    "                \n",
    "                try:\n",
    "                    x1,y1,val1 = game_iter.__next__()\n",
    "                    x1 = np.transpose(x1,[1,2,0])\n",
    "                    x1 = np.expand_dims(x1,axis=0)\n",
    "                    retx1.append(x1)\n",
    "                    #rety1.append(y1)\n",
    "                    oney = np.zeros(len(labels))\n",
    "                    oney[label2ind[''.join(y1)]] = 1\n",
    "                    rety1.append(oney)\n",
    "                    vals.append(val1)\n",
    "\n",
    "                    if len(retx1) >= self.batch_size:\n",
    "                        yield (np.concatenate(retx1,axis=0),np.asarray(rety1),np.asarray(vals))\n",
    "                        retx1,rety1 = [],[]\n",
    "                        vals = []\n",
    "                except :\n",
    "                    self.game_iterlist[i] = None\n",
    "\n",
    "    def __getitem__(self, id):\n",
    "        \n",
    "        x1,y1,val1 = self.batch_iter.__next__()\n",
    "        return x1,y1,val1\n",
    "        \n",
    "    def __len__(self):\n",
    "        return 10000"
   ]
  },
  {
   "cell_type": "code",
   "execution_count": 7,
   "metadata": {
    "collapsed": true
   },
   "outputs": [],
   "source": [
    "trainset = ElePreloader(datafile='data/train_list.csv',batch_size=BATCH_SIZE)\n",
    "with tf.device(\"/gpu:{}\".format(GPU_CORE[0])):\n",
    "    coord = tf.train.Coordinator()\n",
    "    trainflow = FeedDictFlow({\n",
    "            'data':trainset,\n",
    "        },coord,batch_size=BATCH_SIZE,shuffle=True,continuous=True,num_threads=1)\n",
    "trainflow.start()"
   ]
  },
  {
   "cell_type": "code",
   "execution_count": 8,
   "metadata": {
    "collapsed": true
   },
   "outputs": [],
   "source": [
    "testset = ElePreloader(datafile='data/test_list.csv',batch_size=BATCH_SIZE)\n",
    "with tf.device(\"/gpu:{}\".format(GPU_CORE[0])):\n",
    "    coord = tf.train.Coordinator()\n",
    "    testflow = FeedDictFlow({\n",
    "            'data':testset,\n",
    "        },coord,batch_size=BATCH_SIZE,shuffle=True,continuous=True,num_threads=1)\n",
    "testflow.start()"
   ]
  },
  {
   "cell_type": "code",
   "execution_count": 9,
   "metadata": {
    "collapsed": true
   },
   "outputs": [],
   "source": [
    "sample_x1,sample_y1,sample_value = trainflow.next()['data']"
   ]
  },
  {
   "cell_type": "code",
   "execution_count": 10,
   "metadata": {
    "collapsed": true
   },
   "outputs": [],
   "source": [
    "sample_x1,sample_y1,sample_value = testflow.next()['data']"
   ]
  },
  {
   "cell_type": "code",
   "execution_count": 11,
   "metadata": {},
   "outputs": [
    {
     "data": {
      "text/plain": [
       "((256, 10, 9, 14), (256, 2086), (256,))"
      ]
     },
     "execution_count": 11,
     "metadata": {},
     "output_type": "execute_result"
    }
   ],
   "source": [
    "sample_x1.shape,sample_y1.shape,sample_value.shape"
   ]
  },
  {
   "cell_type": "code",
   "execution_count": 12,
   "metadata": {},
   "outputs": [
    {
     "data": {
      "text/plain": [
       "'b0c2'"
      ]
     },
     "execution_count": 12,
     "metadata": {},
     "output_type": "execute_result"
    }
   ],
   "source": [
    "labels[np.argmax(sample_y1[0])]"
   ]
  },
  {
   "cell_type": "code",
   "execution_count": 13,
   "metadata": {},
   "outputs": [
    {
     "data": {
      "text/plain": [
       "array([[1, 1, 1, 1, 1, 1, 1, 1, 1],\n",
       "       [0, 0, 0, 0, 0, 0, 0, 0, 0],\n",
       "       [0, 1, 0, 0, 0, 0, 0, 1, 0],\n",
       "       [1, 0, 1, 0, 1, 0, 1, 0, 1],\n",
       "       [0, 0, 0, 0, 0, 0, 0, 0, 0],\n",
       "       [0, 0, 0, 0, 0, 0, 0, 0, 0],\n",
       "       [1, 0, 1, 0, 1, 0, 1, 0, 1],\n",
       "       [0, 1, 0, 0, 0, 0, 0, 1, 0],\n",
       "       [0, 0, 0, 0, 0, 0, 0, 0, 0],\n",
       "       [1, 1, 1, 1, 1, 1, 1, 1, 1]], dtype=uint64)"
      ]
     },
     "execution_count": 13,
     "metadata": {},
     "output_type": "execute_result"
    }
   ],
   "source": [
    "np.sum(sample_x1[0],axis=-1)"
   ]
  },
  {
   "cell_type": "code",
   "execution_count": 14,
   "metadata": {},
   "outputs": [
    {
     "data": {
      "text/plain": [
       "array([ 0.,  1.,  0.,  1., -1., -1., -1.,  0., -1., -1.])"
      ]
     },
     "execution_count": 14,
     "metadata": {},
     "output_type": "execute_result"
    }
   ],
   "source": [
    "sample_value[:10]"
   ]
  },
  {
   "cell_type": "code",
   "execution_count": 15,
   "metadata": {},
   "outputs": [
    {
     "data": {
      "text/plain": [
       "2086"
      ]
     },
     "execution_count": 15,
     "metadata": {},
     "output_type": "execute_result"
    }
   ],
   "source": [
    "len(labels)"
   ]
  },
  {
   "cell_type": "code",
   "execution_count": 16,
   "metadata": {},
   "outputs": [
    {
     "data": {
      "text/plain": [
       "(10, 9)"
      ]
     },
     "execution_count": 16,
     "metadata": {},
     "output_type": "execute_result"
    }
   ],
   "source": [
    "np.sum(sample_x1[0],axis=-1).shape"
   ]
  },
  {
   "cell_type": "code",
   "execution_count": 17,
   "metadata": {
    "collapsed": true
   },
   "outputs": [],
   "source": [
    "def res_block(inputx,name,training,block_num=2,filters=256,kernel_size=(3,3)):\n",
    "    net = inputx\n",
    "    for i in range(block_num):\n",
    "        net = tf.layers.conv2d(net,filters=filters,kernel_size=kernel_size,activation=None,name=\"{}_res_conv{}\".format(name,i),padding='same')\n",
    "        net = tf.layers.batch_normalization(net,training=training,name=\"{}_res_bn{}\".format(name,i))\n",
    "        if i == block_num - 1:\n",
    "            net = net + inputx #= tf.concat((inputx,net),axis=-1)\n",
    "        net = tf.nn.elu(net,name=\"{}_res_elu{}\".format(name,i))\n",
    "    return net\n",
    "\n",
    "def conv_block(inputx,name,training,block_num=1,filters=2,kernel_size=(1,1)):\n",
    "    net = inputx\n",
    "    for i in range(block_num):\n",
    "        net = tf.layers.conv2d(net,filters=filters,kernel_size=kernel_size,activation=None,name=\"{}_convblock_conv{}\".format(name,i),padding='same')\n",
    "        net = tf.layers.batch_normalization(net,training=training,name=\"{}_convblock_bn{}\".format(name,i))\n",
    "        net = tf.nn.elu(net,name=\"{}_convblock_elu{}\".format(name,i))\n",
    "    # net [None,10,9,2]\n",
    "    netshape = net.get_shape().as_list()\n",
    "    print(\"inside conv block {}\".format(str(netshape)))\n",
    "    net = tf.reshape(net,shape=(-1,netshape[1] * netshape[2] * netshape[3]))\n",
    "    net = tf.layers.dense(net,10 * 9,name=\"{}_dense\".format(name))\n",
    "    net = tf.nn.elu(net,name=\"{}_elu\".format(name))\n",
    "    return net\n",
    "\n",
    "def res_net_board(inputx,name,training,filters=256):\n",
    "    net = inputx\n",
    "    net = tf.layers.conv2d(net,filters=filters,kernel_size=(3,3),activation=None,name=\"{}_res_convb\".format(name),padding='same')\n",
    "    net = tf.layers.batch_normalization(net,training=training,name=\"{}_res_bnb\".format(name))\n",
    "    net = tf.nn.elu(net,name=\"{}_res_elub\".format(name))\n",
    "    for i in range(NUM_RES_LAYERS):\n",
    "        net = res_block(net,name=\"{}_layer_{}\".format(name,i + 1),training=training)\n",
    "        print(net.get_shape().as_list())\n",
    "    print(\"inside res net {}\".format(str(net.get_shape().as_list())))\n",
    "    #net_unsoftmax = conv_block(net,name=\"{}_conv\".format(name),training=training)\n",
    "    return net\n",
    "\n",
    "def get_scatter(name):\n",
    "    with tf.variable_scope(\"Test\"):\n",
    "        ph = tf.placeholder(tf.float32,name=name)\n",
    "        op = tf.summary.scalar(name,ph)\n",
    "    return ph,op"
   ]
  },
  {
   "cell_type": "code",
   "execution_count": 18,
   "metadata": {
    "collapsed": true
   },
   "outputs": [],
   "source": [
    "def average_gradients(tower_grads):\n",
    "    \"\"\"Calculate the average gradient for each shared variable across all towers.\n",
    "    Note that this function provides a synchronization point across all towers.\n",
    "    Args:\n",
    "    tower_grads: List of lists of (gradient, variable) tuples. The outer list\n",
    "      is over individual gradients. The inner list is over the gradient\n",
    "      calculation for each tower.\n",
    "    Returns:\n",
    "     List of pairs of (gradient, variable) where the gradient has been averaged\n",
    "     across all towers.\n",
    "\n",
    "\n",
    "    \"\"\"\n",
    "    average_grads = []\n",
    "    for grad_and_vars in zip(*tower_grads):\n",
    "        # Note that each grad_and_vars looks like the following:\n",
    "        #   ((grad0_gpu0, var0_gpu0), ... , (grad0_gpuN, var0_gpuN))\n",
    "        grads = []\n",
    "        for g, _ in grad_and_vars:\n",
    "            # Add 0 dimension to the gradients to represent the tower.\n",
    "            expanded_g = tf.expand_dims(g, 0)\n",
    "            # Append on a 'tower' dimension which we will average over below.\n",
    "            grads.append(expanded_g)\n",
    "\n",
    "        # Average over the 'tower' dimension.\n",
    "        grad = tf.concat(grads,0)\n",
    "        grad = tf.reduce_mean(grad, 0)\n",
    "\n",
    "        # Keep in mind that the Variables are redundant because they are shared\n",
    "        # across towers. So .. we will just return the first tower's pointer to\n",
    "        # the Variable.\n",
    "        v = grad_and_vars[0][1]\n",
    "        grad_and_var = (grad, v)\n",
    "        average_grads.append(grad_and_var)\n",
    "    return average_grads\n",
    "\n",
    "def add_grad_to_list(opt,train_param,loss,tower_grad):\n",
    "    grads = opt.compute_gradients(loss, var_list = train_param)\n",
    "    grads = [i[0] for i in grads]\n",
    "    #print(grads)\n",
    "    tower_grad.append(zip(grads,train_param))\n",
    "    \n",
    "def get_op_mul(tower_gradients,optimizer,gs):\n",
    "    grads = average_gradients(tower_gradients)\n",
    "    train_op = optimizer.apply_gradients(grads,gs)\n",
    "    return train_op\n",
    "\n",
    "def reduce_mean(x):\n",
    "    return tf.reduce_mean(x)\n",
    "\n",
    "def merge(x):\n",
    "    return tf.concat(x,axis=0)"
   ]
  },
  {
   "cell_type": "code",
   "execution_count": 19,
   "metadata": {},
   "outputs": [
    {
     "data": {
      "text/plain": [
       "[1]"
      ]
     },
     "execution_count": 19,
     "metadata": {},
     "output_type": "execute_result"
    }
   ],
   "source": [
    "GPU_CORE"
   ]
  },
  {
   "cell_type": "code",
   "execution_count": 22,
   "metadata": {},
   "outputs": [
    {
     "name": "stdout",
     "output_type": "stream",
     "text": [
      "0\n",
      "[None, 10, 9, 256]\n",
      "[None, 10, 9, 256]\n",
      "[None, 10, 9, 256]\n",
      "[None, 10, 9, 256]\n",
      "inside res net [None, 10, 9, 256]\n"
     ]
    }
   ],
   "source": [
    "tf.reset_default_graph()\n",
    "\n",
    "NUM_RES_LAYERS = 4\n",
    "\n",
    "graph = tf.Graph()\n",
    "with graph.as_default():\n",
    "#with tf.device(\"/gpu:{}\".format(GPU_CORE)):\n",
    "    X = tf.placeholder(tf.float32,[None,10,9,14])\n",
    "    nextmove = tf.placeholder(tf.float32,[None,len(labels)])\n",
    "    score = tf.placeholder(tf.float32,[None,1])\n",
    "    \n",
    "    training = tf.placeholder(tf.bool,name='training_mode')\n",
    "    learning_rate = tf.placeholder(tf.float32)\n",
    "    global_step = tf.train.get_or_create_global_step()\n",
    "    optimizer_policy = tf.train.MomentumOptimizer(learning_rate=learning_rate,momentum=0.9)\n",
    "    optimizer_value = tf.train.MomentumOptimizer(learning_rate=learning_rate,momentum=0.9)\n",
    "    optimizer_multitarg = tf.train.MomentumOptimizer(learning_rate=learning_rate,momentum=0.9)\n",
    "    \n",
    "    tower_gradients_policy,tower_gradients_value,tower_gradients_multitarg = [],[],[]\n",
    "    \n",
    "    net_softmax_collection = []\n",
    "    value_head_collection = []\n",
    "    multitarget_loss_collection = []\n",
    "    value_loss_collection = []\n",
    "    policy_loss_collection = []\n",
    "    accuracy_select_collection = []\n",
    "    with tf.variable_scope(tf.get_variable_scope()) as vscope:\n",
    "        for ind,one_core in enumerate(GPU_CORE):\n",
    "            with tf.device(\"/gpu:{}\".format(one_core)):\n",
    "                print(ind)\n",
    "                body = res_net_board(X[ind * (BATCH_SIZE // len(GPU_CORE)):(ind + 1) * (BATCH_SIZE // len(GPU_CORE))],\n",
    "                                     \"selectnet\",training=training)\n",
    "                with tf.variable_scope(\"policy_head\"):\n",
    "                    policy_head = tf.layers.conv2d(body, 2, 1, padding='SAME')\n",
    "                    policy_head = tf.contrib.layers.batch_norm(policy_head, center=False, epsilon=1e-5, fused=True,\n",
    "                                                                is_training=training, activation_fn=tf.nn.relu)\n",
    "\n",
    "                    # print(self.policy_head.shape)  # (?, 9, 10, 2)\n",
    "                    policy_head = tf.reshape(policy_head, [-1, 9 * 10 * 2])\n",
    "                    policy_head = tf.contrib.layers.fully_connected(policy_head, len(labels), activation_fn=None)\n",
    "                    #self.policy_head.append(policy_head)    # 保存多个gpu的策略头结果（走子概率向量）\n",
    "\n",
    "                # 价值头\n",
    "                with tf.variable_scope(\"value_head\"):\n",
    "                    value_head = tf.layers.conv2d(body, 1, 1, padding='SAME')\n",
    "                    value_head = tf.contrib.layers.batch_norm(value_head, center=False, epsilon=1e-5, fused=True,\n",
    "                                                    is_training=training, activation_fn=tf.nn.relu)\n",
    "                    # print(self.value_head.shape)  # (?, 9, 10, 1)\n",
    "                    value_head = tf.reshape(value_head, [-1, 9 * 10 * 1])\n",
    "                    value_head = tf.contrib.layers.fully_connected(value_head, 256, activation_fn=tf.nn.relu)\n",
    "                    value_head = tf.contrib.layers.fully_connected(value_head, 1, activation_fn=tf.nn.tanh)\n",
    "                    value_head_collection.append(value_head)\n",
    "                net_unsoftmax = policy_head\n",
    "\n",
    "                with tf.variable_scope(\"Loss\"):\n",
    "                    policy_loss = tf.reduce_mean(tf.nn.softmax_cross_entropy_with_logits(\n",
    "                        labels=nextmove[ind * (BATCH_SIZE // len(GPU_CORE)):(ind + 1) * (BATCH_SIZE // len(GPU_CORE))],\n",
    "                        logits=net_unsoftmax))\n",
    "                    #loss_summary = tf.summary.scalar(\"move_loss\",policy_loss)\n",
    "                    value_loss = tf.losses.mean_squared_error(\n",
    "                        labels=score[ind * (BATCH_SIZE // len(GPU_CORE)):(ind + 1) * (BATCH_SIZE // len(GPU_CORE))],\n",
    "                        predictions=value_head) \n",
    "                    value_loss = tf.reduce_mean(value_loss)\n",
    "                    regularizer = tf.contrib.layers.l2_regularizer(scale=1e-6)\n",
    "                    regular_variables = tf.trainable_variables()\n",
    "                    l2_loss = tf.contrib.layers.apply_regularization(regularizer, regular_variables)\n",
    "                    multitarget_loss = value_loss + policy_loss + l2_loss\n",
    "                    \n",
    "                    multitarget_loss_collection.append(multitarget_loss)\n",
    "                    value_loss_collection.append(value_loss)\n",
    "                    policy_loss_collection.append(policy_loss)\n",
    "                net_softmax = tf.nn.softmax(net_unsoftmax)\n",
    "                net_softmax_collection.append(net_softmax)\n",
    "                \n",
    "                correct_prediction = tf.equal(tf.argmax(nextmove,1), tf.argmax(net_softmax,1))\n",
    "\n",
    "                with tf.variable_scope(\"Accuracy\"):\n",
    "                    accuracy_select = tf.reduce_mean(tf.cast(correct_prediction, tf.float32))\n",
    "                    accuracy_select_collection.append(accuracy_select)\n",
    "                tf.get_variable_scope().reuse_variables()\n",
    "                trainable_params = tf.trainable_variables()\n",
    "                tp_policy = [i for i in trainable_params if \n",
    "                                    ('value_head' not in i.name)]\n",
    "                tp_value = [i for i in trainable_params if \n",
    "                                    ('policy_head' not in i.name)]\n",
    "\n",
    "                add_grad_to_list(optimizer_policy,tp_policy,policy_loss,tower_gradients_policy)\n",
    "                add_grad_to_list(optimizer_value,tp_value,value_loss,tower_gradients_value)\n",
    "                add_grad_to_list(optimizer_multitarg,trainable_params,multitarget_loss,tower_gradients_multitarg)\n",
    "               \n",
    "    update_ops = tf.get_collection(tf.GraphKeys.UPDATE_OPS)\n",
    "    with tf.control_dependencies(update_ops):\n",
    "        #gradients_policy = average_gradients(tower_gradients_policy)\n",
    "        train_op_policy = get_op_mul(tower_gradients_policy,optimizer_policy,global_step)\n",
    "        train_op_value = get_op_mul(tower_gradients_value,optimizer_value,global_step)\n",
    "        train_op_multitarg = get_op_mul(tower_gradients_multitarg,optimizer_multitarg,global_step)\n",
    "        #train_op = optimizer.minimize(policy_loss,global_step=global_step)\n",
    "    net_softmax = merge(net_softmax_collection)\n",
    "    value_head = merge(value_head_collection)\n",
    "    multitarget_loss = reduce_mean(multitarget_loss_collection)\n",
    "    value_loss = reduce_mean(value_loss_collection)\n",
    "    policy_loss = reduce_mean(policy_loss_collection)\n",
    "    accuracy_select = reduce_mean(accuracy_select_collection)"
   ]
  },
  {
   "cell_type": "code",
   "execution_count": 23,
   "metadata": {
    "collapsed": true
   },
   "outputs": [],
   "source": [
    "with graph.as_default():\n",
    "    config = tf.ConfigProto()\n",
    "    config.gpu_options.allow_growth = True\n",
    "    config.allow_soft_placement = True\n",
    "    sess = tf.Session(config=config)\n",
    "    sess.run(tf.global_variables_initializer())\n",
    "    \n",
    "    tf.train.global_step(sess, global_step)"
   ]
  },
  {
   "cell_type": "code",
   "execution_count": 24,
   "metadata": {},
   "outputs": [
    {
     "name": "stdout",
     "output_type": "stream",
     "text": [
      "mkdir: 无法创建目录\"models\": 文件已存在\r\n"
     ]
    }
   ],
   "source": [
    "!mkdir models"
   ]
  },
  {
   "cell_type": "code",
   "execution_count": 25,
   "metadata": {
    "collapsed": true
   },
   "outputs": [],
   "source": [
    "import os\n",
    "if not os.path.exists(\"models/{}\".format(model_name)):\n",
    "    os.mkdir(\"models/{}\".format(model_name))"
   ]
  },
  {
   "cell_type": "code",
   "execution_count": 26,
   "metadata": {
    "collapsed": true
   },
   "outputs": [],
   "source": [
    "N_BATCH = 10000 * (128 / BATCH_SIZE)\n",
    "N_BATCH_TEST = 300 * (128 / BATCH_SIZE)\n",
    "N_BATCH = int(N_BATCH)\n",
    "N_BATCH_TEST = int(N_BATCH_TEST)"
   ]
  },
  {
   "cell_type": "code",
   "execution_count": 27,
   "metadata": {},
   "outputs": [
    {
     "data": {
      "text/plain": [
       "(5000, 150)"
      ]
     },
     "execution_count": 27,
     "metadata": {},
     "output_type": "execute_result"
    }
   ],
   "source": [
    "N_BATCH,N_BATCH_TEST"
   ]
  },
  {
   "cell_type": "code",
   "execution_count": 28,
   "metadata": {},
   "outputs": [
    {
     "data": {
      "text/plain": [
       "(0, 256)"
      ]
     },
     "execution_count": 28,
     "metadata": {},
     "output_type": "execute_result"
    }
   ],
   "source": [
    "ind * (BATCH_SIZE // len(GPU_CORE)),(ind + 1) * (BATCH_SIZE // len(GPU_CORE))"
   ]
  },
  {
   "cell_type": "raw",
   "metadata": {},
   "source": [
    "with graph.as_default():\n",
    "    train_epoch = 32\n",
    "    train_batch = 0\n",
    "    saver = tf.train.Saver(var_list=tf.global_variables())\n",
    "    saver.restore(sess,\"models/{}/model_{}\".format(model_name,train_epoch))"
   ]
  },
  {
   "cell_type": "code",
   "execution_count": 29,
   "metadata": {
    "scrolled": false
   },
   "outputs": [
    {
     "name": "stdout",
     "output_type": "stream",
     "text": [
      "EPOCH 2 STEP 4999 LR 0.1 ACC 25.01 LOSS 2.93 value_loss 0.51 100.00 % [==================================================>] 1280000/1280000 \t used:1596s eta:0 ssd:1s eta:7739 s\n",
      " epoch 2 100.00 % [==================================================>] 320000/320000 \t used:218s eta:0 sEPOCH 2 valid loss 2.921337842941284 value loss 0.5891401767730713 acc 25.9271875\n",
      "\n",
      "EPOCH 3 STEP 4999 LR 0.1 ACC 29.68 LOSS 2.69 value_loss 0.51 100.00 % [==================================================>] 1280000/1280000 \t used:1690s eta:0 ss\n",
      " epoch 3 100.00 % [==================================================>] 320000/320000 \t used:217s eta:0 sEPOCH 3 valid loss 2.7249062061309814 value loss 0.5684575438499451 acc 29.0253125\n",
      "\n",
      "EPOCH 4 STEP 4999 LR 0.1 ACC 30.93 LOSS 2.59 value_loss 0.51 100.00 % [==================================================>] 1280000/1280000 \t used:1690s eta:0 ss\n",
      " epoch 4 100.00 % [==================================================>] 320000/320000 \t used:217s eta:0 sEPOCH 4 valid loss 2.5725159645080566 value loss 0.5697727203369141 acc 31.313125\n",
      "\n",
      "EPOCH 5 STEP 4999 LR 0.1 ACC 33.22 LOSS 2.46 value_loss 0.49 100.00 % [==================================================>] 1280000/1280000 \t used:1688s eta:0 ss\n",
      " epoch 5 100.00 % [==================================================>] 320000/320000 \t used:218s eta:0 sEPOCH 5 valid loss 2.4631783962249756 value loss 0.5637104511260986 acc 33.3209375\n",
      "\n",
      "EPOCH 6 STEP 4999 LR 0.1 ACC 35.34 LOSS 2.36 value_loss 0.51 100.00 % [==================================================>] 1280000/1280000 \t used:1691s eta:0 ss\n",
      " epoch 6 100.00 % [==================================================>] 320000/320000 \t used:214s eta:0 sEPOCH 6 valid loss 2.4053194522857666 value loss 0.5727190971374512 acc 34.428125\n",
      "\n",
      "EPOCH 7 STEP 4999 LR 0.1 ACC 36.43 LOSS 2.31 value_loss 0.5 100.00 % [==================================================>] 1280000/1280000 \t used:1712s eta:0 sss\n",
      " epoch 7 100.00 % [==================================================>] 320000/320000 \t used:215s eta:0 sEPOCH 7 valid loss 2.338670015335083 value loss 0.5702300071716309 acc 35.6178125\n",
      "\n",
      "EPOCH 8 STEP 4999 LR 0.1 ACC 37.14 LOSS 2.25 value_loss 0.46 100.00 % [==================================================>] 1280000/1280000 \t used:1718s eta:0 ss\n",
      " epoch 8 100.00 % [==================================================>] 320000/320000 \t used:214s eta:0 sEPOCH 8 valid loss 2.278151035308838 value loss 0.5524578094482422 acc 36.76625\n",
      "\n",
      "EPOCH 9 STEP 4999 LR 0.1 ACC 38.92 LOSS 2.18 value_loss 0.52 100.00 % [==================================================>] 1280000/1280000 \t used:1706s eta:0 ss\n",
      " epoch 9 100.00 % [==================================================>] 320000/320000 \t used:214s eta:0 sEPOCH 9 valid loss 2.2359488010406494 value loss 0.5749926567077637 acc 37.8034375\n",
      "\n",
      "EPOCH 10 STEP 4999 LR 0.1 ACC 38.91 LOSS 2.15 value_loss 0.49 100.00 % [==================================================>] 1280000/1280000 \t used:1693s eta:0 ss\n",
      " epoch 10 100.00 % [==================================================>] 320000/320000 \t used:214s eta:0 sEPOCH 10 valid loss 2.1858537197113037 value loss 0.5592783093452454 acc 38.518125\n",
      "\n",
      "EPOCH 11 STEP 4999 LR 0.1 ACC 41.11 LOSS 2.06 value_loss 0.45 100.00 % [==================================================>] 1280000/1280000 \t used:1717s eta:0 ss\n",
      " epoch 11 100.00 % [==================================================>] 320000/320000 \t used:215s eta:0 sEPOCH 11 valid loss 2.170292377471924 value loss 0.5437633991241455 acc 39.0428125\n",
      "\n",
      "EPOCH 12 STEP 4999 LR 0.1 ACC 40.83 LOSS 2.05 value_loss 0.5 100.00 % [==================================================>] 1280000/1280000 \t used:1713s eta:0 sss\n",
      " epoch 12 100.00 % [==================================================>] 320000/320000 \t used:216s eta:0 sEPOCH 12 valid loss 2.1281700134277344 value loss 0.5452353358268738 acc 39.69125\n",
      "\n",
      "EPOCH 13 STEP 4999 LR 0.1 ACC 42.1 LOSS 2.01 value_loss 0.49 100.00 % [==================================================>] 1280000/1280000 \t used:1693s eta:0 sss\n",
      " epoch 13 100.00 % [==================================================>] 320000/320000 \t used:216s eta:0 sEPOCH 13 valid loss 2.0981078147888184 value loss 0.5378186702728271 acc 40.1159375\n",
      "\n",
      "EPOCH 14 STEP 4999 LR 0.1 ACC 43.79 LOSS 1.94 value_loss 0.43 100.00 % [==================================================>] 1280000/1280000 \t used:1692s eta:0 ss\n",
      " epoch 14 100.00 % [==================================================>] 320000/320000 \t used:215s eta:0 sEPOCH 14 valid loss 2.0818030834198 value loss 0.5534214973449707 acc 40.4828125\n",
      "\n",
      "EPOCH 15 STEP 4999 LR 0.05 ACC 45.53 LOSS 1.85 value_loss 0.43 100.00 % [==================================================>] 1280000/1280000 \t used:1692s eta:0 ss\n",
      " epoch 15 100.00 % [==================================================>] 320000/320000 \t used:214s eta:0 sEPOCH 15 valid loss 1.984492540359497 value loss 0.5185543894767761 acc 42.723125\n",
      "\n",
      "EPOCH 16 STEP 4999 LR 0.05 ACC 45.33 LOSS 1.86 value_loss 0.45 100.00 % [==================================================>] 1280000/1280000 \t used:1691s eta:0 ss\n",
      " epoch 16 100.00 % [==================================================>] 320000/320000 \t used:214s eta:0 sEPOCH 16 valid loss 1.97944176197052 value loss 0.533103883266449 acc 42.7553125\n",
      "\n",
      "EPOCH 17 STEP 4999 LR 0.05 ACC 48.34 LOSS 1.73 value_loss 0.43 100.00 % [==================================================>] 1280000/1280000 \t used:1695s eta:0 ss\n",
      " epoch 17 100.00 % [==================================================>] 320000/320000 \t used:214s eta:0 sEPOCH 17 valid loss 1.9688187837600708 value loss 0.5217990875244141 acc 43.1971875\n",
      "\n",
      "EPOCH 18 STEP 4999 LR 0.05 ACC 45.78 LOSS 1.83 value_loss 0.47 100.00 % [==================================================>] 1280000/1280000 \t used:1687s eta:0 ss\n",
      " epoch 18 100.00 % [==================================================>] 320000/320000 \t used:214s eta:0 sEPOCH 18 valid loss 1.9651265144348145 value loss 0.5424669981002808 acc 43.0875\n",
      "\n",
      "EPOCH 19 STEP 4999 LR 0.05 ACC 45.85 LOSS 1.81 value_loss 0.48 100.00 % [==================================================>] 1280000/1280000 \t used:1676s eta:0 ss\n",
      " epoch 19 100.00 % [==================================================>] 320000/320000 \t used:215s eta:0 sEPOCH 19 valid loss 1.949857473373413 value loss 0.5415502786636353 acc 43.4184375\n",
      "\n",
      "EPOCH 20 STEP 4999 LR 0.05 ACC 49.56 LOSS 1.68 value_loss 0.41 100.00 % [==================================================>] 1280000/1280000 \t used:1933s eta:0 ss\n",
      " epoch 20 100.00 % [==================================================>] 320000/320000 \t used:214s eta:0 sEPOCH 20 valid loss 1.9535255432128906 value loss 0.5588175058364868 acc 43.4928125\n",
      "\n",
      "EPOCH 21 STEP 4999 LR 0.05 ACC 48.23 LOSS 1.74 value_loss 0.46 100.00 % [==================================================>] 1280000/1280000 \t used:2354s eta:0 ss\n",
      " epoch 21 100.00 % [==================================================>] 320000/320000 \t used:217s eta:0 sEPOCH 21 valid loss 1.9525327682495117 value loss 0.5367535352706909 acc 43.4075\n",
      "\n",
      "EPOCH 22 STEP 4999 LR 0.05 ACC 47.44 LOSS 1.77 value_loss 0.45 100.00 % [==================================================>] 1280000/1280000 \t used:2351s eta:0 ss\n",
      " epoch 22 100.00 % [==================================================>] 320000/320000 \t used:216s eta:0 sEPOCH 22 valid loss 1.9394363164901733 value loss 0.5462809801101685 acc 43.398125\n",
      "\n",
      "EPOCH 23 STEP 4999 LR 0.05 ACC 50.23 LOSS 1.65 value_loss 0.45 100.00 % [==================================================>] 1280000/1280000 \t used:2313s eta:0 ss\n",
      " epoch 23 100.00 % [==================================================>] 320000/320000 \t used:214s eta:0 sEPOCH 23 valid loss 1.9451550245285034 value loss 0.5470441579818726 acc 43.7909375\n",
      "\n",
      "EPOCH 24 STEP 4999 LR 0.05 ACC 49.31 LOSS 1.69 value_loss 0.44 100.00 % [==================================================>] 1280000/1280000 \t used:1640s eta:0 ss\n",
      " epoch 24 100.00 % [==================================================>] 320000/320000 \t used:213s eta:0 sEPOCH 24 valid loss 1.9437785148620605 value loss 0.5329480171203613 acc 43.8059375\n",
      "\n"
     ]
    },
    {
     "name": "stdout",
     "output_type": "stream",
     "text": [
      "EPOCH 25 STEP 4999 LR 0.05 ACC 50.37 LOSS 1.65 value_loss 0.41 100.00 % [==================================================>] 1280000/1280000 \t used:1645s eta:0 ss\n",
      " epoch 25 100.00 % [==================================================>] 320000/320000 \t used:214s eta:0 sEPOCH 25 valid loss 1.9309608936309814 value loss 0.5263978838920593 acc 44.3103125\n",
      "\n",
      "EPOCH 26 STEP 4999 LR 0.05 ACC 52.67 LOSS 1.57 value_loss 0.4 100.00 % [==================================================>] 1280000/1280000 \t used:1135s eta:0 sss\n",
      " epoch 26 100.00 % [==================================================>] 320000/320000 \t used:214s eta:0 sEPOCH 26 valid loss 1.9328901767730713 value loss 0.5287930965423584 acc 43.8553125\n",
      "\n",
      "EPOCH 27 STEP 4999 LR 0.05 ACC 50.02 LOSS 1.66 value_loss 0.42 100.00 % [==================================================>] 1280000/1280000 \t used:1134s eta:0 ss\n",
      " epoch 27 100.00 % [==================================================>] 320000/320000 \t used:213s eta:0 sEPOCH 27 valid loss 1.9361590147018433 value loss 0.5530100464820862 acc 43.854375\n",
      "\n",
      "EPOCH 28 STEP 4999 LR 0.05 ACC 50.17 LOSS 1.65 value_loss 0.4 100.00 % [==================================================>] 1280000/1280000 \t used:1133s eta:0 sss\n",
      " epoch 28 100.00 % [==================================================>] 320000/320000 \t used:215s eta:0 sEPOCH 28 valid loss 1.9324121475219727 value loss 0.5631545186042786 acc 44.3528125\n",
      "\n",
      "EPOCH 29 STEP 4999 LR 0.05 ACC 49.39 LOSS 1.67 value_loss 0.44 100.00 % [==================================================>] 1280000/1280000 \t used:1133s eta:0 ss\n",
      " epoch 29 100.00 % [==================================================>] 320000/320000 \t used:212s eta:0 sEPOCH 29 valid loss 1.9113103151321411 value loss 0.5378882884979248 acc 44.733125\n",
      "\n",
      "EPOCH 30 STEP 4999 LR 0.025 ACC 54.94 LOSS 1.49 value_loss 0.41 100.00 % [==================================================>] 1280000/1280000 \t used:1137s eta:0 ss\n",
      " epoch 30 100.00 % [==================================================>] 320000/320000 \t used:214s eta:0 sEPOCH 30 valid loss 1.901949167251587 value loss 0.5262431502342224 acc 45.3875\n",
      "\n",
      "EPOCH 31 STEP 4999 LR 0.025 ACC 53.5 LOSS 1.53 value_loss 0.37 100.00 % [==================================================>] 1280000/1280000 \t used:1133s eta:0 sss\n",
      " epoch 31 100.00 % [==================================================>] 320000/320000 \t used:212s eta:0 sEPOCH 31 valid loss 1.896390676498413 value loss 0.5274261832237244 acc 45.628125\n",
      "\n",
      "EPOCH 32 STEP 4999 LR 0.025 ACC 53.36 LOSS 1.54 value_loss 0.4 100.00 % [==================================================>] 1280000/1280000 \t used:1133s eta:0 sss\n",
      " epoch 32 100.00 % [==================================================>] 320000/320000 \t used:213s eta:0 sEPOCH 32 valid loss 1.883178949356079 value loss 0.5197725892066956 acc 45.74125\n",
      "\n",
      "EPOCH 33 STEP 4999 LR 0.025 ACC 56.26 LOSS 1.44 value_loss 0.38 100.00 % [==================================================>] 1280000/1280000 \t used:1132s eta:0 ss\n",
      " epoch 33 100.00 % [==================================================>] 320000/320000 \t used:213s eta:0 sEPOCH 33 valid loss 1.921289086341858 value loss 0.5279514789581299 acc 45.5109375\n",
      "\n",
      "EPOCH 34 STEP 4999 LR 0.025 ACC 55.39 LOSS 1.46 value_loss 0.37 100.00 % [==================================================>] 1280000/1280000 \t used:1133s eta:0 ss\n",
      " epoch 34 100.00 % [==================================================>] 320000/320000 \t used:213s eta:0 sEPOCH 34 valid loss 1.9165849685668945 value loss 0.5216303467750549 acc 45.5659375\n",
      "\n",
      "EPOCH 35 STEP 4999 LR 0.025 ACC 55.19 LOSS 1.48 value_loss 0.4 100.00 % [==================================================>] 1280000/1280000 \t used:1135s eta:0 sss\n",
      " epoch 35 100.00 % [==================================================>] 320000/320000 \t used:214s eta:0 sEPOCH 35 valid loss 1.9038465023040771 value loss 0.5184506773948669 acc 45.63875\n",
      "\n",
      "EPOCH 36 STEP 4999 LR 0.025 ACC 56.06 LOSS 1.44 value_loss 0.36 100.00 % [==================================================>] 1280000/1280000 \t used:1135s eta:0 ss\n",
      " epoch 36 100.00 % [==================================================>] 320000/320000 \t used:213s eta:0 sEPOCH 36 valid loss 1.9276573657989502 value loss 0.5390311479568481 acc 45.6209375\n",
      "\n",
      "EPOCH 37 STEP 4999 LR 0.025 ACC 54.4 LOSS 1.49 value_loss 0.39 100.00 % [==================================================>] 1280000/1280000 \t used:1134s eta:0 sss\n",
      " epoch 37 100.00 % [==================================================>] 320000/320000 \t used:213s eta:0 sEPOCH 37 valid loss 1.921815276145935 value loss 0.5329625010490417 acc 45.4578125\n",
      "\n",
      "EPOCH 38 STEP 4999 LR 0.025 ACC 55.4 LOSS 1.47 value_loss 0.41 100.00 % [==================================================>] 1280000/1280000 \t used:1132s eta:0 sss\n",
      " epoch 38 100.00 % [==================================================>] 320000/320000 \t used:216s eta:0 sEPOCH 38 valid loss 1.9112095832824707 value loss 0.5217023491859436 acc 45.891875\n",
      "\n",
      "EPOCH 39 STEP 4999 LR 0.025 ACC 58.97 LOSS 1.35 value_loss 0.36 100.00 % [==================================================>] 1280000/1280000 \t used:1133s eta:0 ss\n",
      " epoch 39 100.00 % [==================================================>] 320000/320000 \t used:213s eta:0 sEPOCH 39 valid loss 1.9557355642318726 value loss 0.5366253852844238 acc 45.356875\n",
      "\n",
      "EPOCH 40 STEP 4999 LR 0.025 ACC 57.24 LOSS 1.39 value_loss 0.36 100.00 % [==================================================>] 1280000/1280000 \t used:1147s eta:0 ss\n",
      " epoch 40 100.00 % [==================================================>] 320000/320000 \t used:219s eta:0 sEPOCH 40 valid loss 1.9418234825134277 value loss 0.5310493111610413 acc 45.898125\n",
      "\n",
      "EPOCH 41 STEP 4999 LR 0.025 ACC 56.38 LOSS 1.43 value_loss 0.35 100.00 % [==================================================>] 1280000/1280000 \t used:1144s eta:0 ss\n",
      " epoch 41 100.00 % [==================================================>] 320000/320000 \t used:217s eta:0 sEPOCH 41 valid loss 1.922782063484192 value loss 0.5372869372367859 acc 46.0121875\n",
      "\n",
      "EPOCH 42 STEP 4999 LR 0.025 ACC 58.46 LOSS 1.35 value_loss 0.37 100.00 % [==================================================>] 1280000/1280000 \t used:1133s eta:0 ss\n",
      " epoch 42 100.00 % [==================================================>] 320000/320000 \t used:215s eta:0 sEPOCH 42 valid loss 1.9650508165359497 value loss 0.5520874857902527 acc 45.7328125\n",
      "\n",
      "EPOCH 43 STEP 4999 LR 0.025 ACC 58.2 LOSS 1.37 value_loss 0.33 100.00 % [==================================================>] 1280000/1280000 \t used:1134s eta:0 sss\n",
      " epoch 43 100.00 % [==================================================>] 320000/320000 \t used:215s eta:0 sEPOCH 43 valid loss 1.9575583934783936 value loss 0.5263970494270325 acc 45.818125\n",
      "\n",
      "EPOCH 44 STEP 4999 LR 0.025 ACC 57.38 LOSS 1.4 value_loss 0.37 100.00 % [==================================================>] 1280000/1280000 \t used:1133s eta:0 sss\n",
      " epoch 44 100.00 % [==================================================>] 320000/320000 \t used:214s eta:0 sEPOCH 44 valid loss 1.9502066373825073 value loss 0.5428422093391418 acc 45.76375\n",
      "\n",
      "EPOCH 45 STEP 4999 LR 0.0125 ACC 62.36 LOSS 1.23 value_loss 0.33 100.00 % [==================================================>] 1280000/1280000 \t used:1131s eta:0 ss\n",
      " epoch 45 100.00 % [==================================================>] 320000/320000 \t used:215s eta:0 sEPOCH 45 valid loss 1.9526773691177368 value loss 0.5363118052482605 acc 46.630625\n",
      "\n",
      "EPOCH 46 STEP 4999 LR 0.0125 ACC 61.84 LOSS 1.25 value_loss 0.35 100.00 % [==================================================>] 1280000/1280000 \t used:1137s eta:0 ss\n",
      " epoch 46 100.00 % [==================================================>] 320000/320000 \t used:215s eta:0 sEPOCH 46 valid loss 1.9644910097122192 value loss 0.528542160987854 acc 46.59875\n",
      "\n",
      "EPOCH 47 STEP 4999 LR 0.0125 ACC 61.78 LOSS 1.26 value_loss 0.34 100.00 % [==================================================>] 1280000/1280000 \t used:1134s eta:0 ss\n",
      " epoch 47 100.00 % [==================================================>] 320000/320000 \t used:215s eta:0 sEPOCH 47 valid loss 1.9610562324523926 value loss 0.5429493188858032 acc 46.6846875\n",
      "\n"
     ]
    },
    {
     "name": "stdout",
     "output_type": "stream",
     "text": [
      "EPOCH 48 STEP 4999 LR 0.0125 ACC 66.13 LOSS 1.11 value_loss 0.32 100.00 % [==================================================>] 1280000/1280000 \t used:1133s eta:0 ss\n",
      " epoch 48 100.00 % [==================================================>] 320000/320000 \t used:217s eta:0 sEPOCH 48 valid loss 1.9910664558410645 value loss 0.5427360534667969 acc 46.59125\n",
      "\n",
      "EPOCH 49 STEP 4999 LR 0.0125 ACC 62.29 LOSS 1.23 value_loss 0.36 100.00 % [==================================================>] 1280000/1280000 \t used:1136s eta:0 ss\n",
      " epoch 49 100.00 % [==================================================>] 320000/320000 \t used:223s eta:0 sEPOCH 49 valid loss 1.9991117715835571 value loss 0.5402572751045227 acc 46.4753125\n",
      "\n",
      "EPOCH 50 STEP 4999 LR 0.0125 ACC 61.91 LOSS 1.24 value_loss 0.32 100.00 % [==================================================>] 1280000/1280000 \t used:1141s eta:0 ss\n",
      " epoch 50 100.00 % [==================================================>] 320000/320000 \t used:222s eta:0 sEPOCH 50 valid loss 1.993790626525879 value loss 0.5407856106758118 acc 46.445\n",
      "\n",
      "EPOCH 51 STEP 4999 LR 0.0125 ACC 66.0 LOSS 1.11 value_loss 0.32 100.00 % [==================================================>] 1280000/1280000 \t used:1145s eta:0 sss\n",
      " epoch 51 100.00 % [==================================================>] 320000/320000 \t used:223s eta:0 sEPOCH 51 valid loss 1.9969687461853027 value loss 0.5409996509552002 acc 46.67125\n",
      "\n",
      "EPOCH 52 STEP 4999 LR 0.0125 ACC 64.49 LOSS 1.16 value_loss 0.34 100.00 % [==================================================>] 1280000/1280000 \t used:1156s eta:0 ss\n",
      " epoch 52 100.00 % [==================================================>] 320000/320000 \t used:222s eta:0 sEPOCH 52 valid loss 2.0133068561553955 value loss 0.5306296944618225 acc 46.50625\n",
      "\n",
      "EPOCH 53 STEP 4999 LR 0.0125 ACC 62.62 LOSS 1.22 value_loss 0.37 100.00 % [==================================================>] 1280000/1280000 \t used:1166s eta:0 ss\n",
      " epoch 53 100.00 % [==================================================>] 320000/320000 \t used:221s eta:0 sEPOCH 53 valid loss 2.019512176513672 value loss 0.5447885394096375 acc 46.506875\n",
      "\n",
      "EPOCH 54 STEP 4999 LR 0.0125 ACC 66.68 LOSS 1.1 value_loss 0.31 100.00 % [==================================================>] 1280000/1280000 \t used:1175s eta:0 sss\n",
      " epoch 54 100.00 % [==================================================>] 320000/320000 \t used:221s eta:0 sEPOCH 54 valid loss 2.0081288814544678 value loss 0.549555242061615 acc 46.7446875\n",
      "\n",
      "EPOCH 55 STEP 4999 LR 0.0125 ACC 64.61 LOSS 1.14 value_loss 0.34 100.00 % [==================================================>] 1280000/1280000 \t used:1188s eta:0 ss\n",
      " epoch 55 100.00 % [==================================================>] 320000/320000 \t used:219s eta:0 sEPOCH 55 valid loss 2.0360145568847656 value loss 0.5670675039291382 acc 46.690625\n",
      "\n",
      "EPOCH 56 STEP 4999 LR 0.0125 ACC 63.43 LOSS 1.18 value_loss 0.36 100.00 % [==================================================>] 1280000/1280000 \t used:1206s eta:0 ss\n",
      " epoch 56 100.00 % [==================================================>] 320000/320000 \t used:216s eta:0 sEPOCH 56 valid loss 2.033282995223999 value loss 0.559403121471405 acc 46.5275\n",
      "\n",
      "EPOCH 57 STEP 4999 LR 0.0125 ACC 62.48 LOSS 1.22 value_loss 0.34 100.00 % [==================================================>] 1280000/1280000 \t used:1219s eta:0 ss\n",
      " epoch 57 100.00 % [==================================================>] 320000/320000 \t used:213s eta:0 sEPOCH 57 valid loss 2.0007758140563965 value loss 0.5317090749740601 acc 47.1503125\n",
      "\n",
      "EPOCH 58 STEP 4999 LR 0.0125 ACC 65.47 LOSS 1.12 value_loss 0.33 100.00 % [==================================================>] 1280000/1280000 \t used:1219s eta:0 ss\n",
      " epoch 58 100.00 % [==================================================>] 320000/320000 \t used:213s eta:0 sEPOCH 58 valid loss 2.087010145187378 value loss 0.5479454398155212 acc 46.158125\n",
      "\n",
      "EPOCH 59 STEP 4999 LR 0.0125 ACC 64.48 LOSS 1.15 value_loss 0.31 100.00 % [==================================================>] 1280000/1280000 \t used:1202s eta:0 ss\n",
      " epoch 59 100.00 % [==================================================>] 320000/320000 \t used:215s eta:0 sEPOCH 59 valid loss 2.0573012828826904 value loss 0.5494951009750366 acc 46.5509375\n",
      "\n",
      "EPOCH 60 STEP 4999 LR 0.00625 ACC 65.79 LOSS 1.12 value_loss 0.32 100.00 % [==================================================>] 1280000/1280000 \t used:1187s eta:0 ss\n",
      " epoch 60 100.00 % [==================================================>] 320000/320000 \t used:213s eta:0 sEPOCH 60 valid loss 2.0365452766418457 value loss 0.5392125844955444 acc 47.2853125\n",
      "\n",
      "EPOCH 61 STEP 4999 LR 0.00625 ACC 69.95 LOSS 1.0 value_loss 0.3 100.00 % [==================================================>] 1280000/1280000 \t used:1175s eta:0 ssss\n",
      " epoch 61 100.00 % [==================================================>] 320000/320000 \t used:214s eta:0 sEPOCH 61 valid loss 2.10103702545166 value loss 0.5531071424484253 acc 46.7896875\n",
      "\n",
      "EPOCH 62 STEP 4999 LR 0.00625 ACC 67.99 LOSS 1.06 value_loss 0.3 100.00 % [==================================================>] 1280000/1280000 \t used:1163s eta:0 sss\n",
      " epoch 62 100.00 % [==================================================>] 320000/320000 \t used:215s eta:0 sEPOCH 62 valid loss 2.081454277038574 value loss 0.5472000241279602 acc 47.2884375\n",
      "\n",
      "EPOCH 63 STEP 4999 LR 0.00625 ACC 67.01 LOSS 1.08 value_loss 0.3 100.00 % [==================================================>] 1280000/1280000 \t used:1152s eta:0 sss\n",
      " epoch 63 100.00 % [==================================================>] 320000/320000 \t used:215s eta:0 sEPOCH 63 valid loss 2.0788679122924805 value loss 0.5471764802932739 acc 47.29125\n",
      "\n",
      "EPOCH 64 STEP 4999 LR 0.00625 ACC 69.61 LOSS 1.0 value_loss 0.29 100.00 % [==================================================>] 1280000/1280000 \t used:1141s eta:0 sss\n",
      " epoch 64 100.00 % [==================================================>] 320000/320000 \t used:215s eta:0 sEPOCH 64 valid loss 2.1310267448425293 value loss 0.5511844158172607 acc 46.774375\n",
      "\n",
      "EPOCH 65 STEP 4999 LR 0.00625 ACC 68.61 LOSS 1.02 value_loss 0.29 100.00 % [==================================================>] 1280000/1280000 \t used:1134s eta:0 ss\n",
      " epoch 65 100.00 % [==================================================>] 320000/320000 \t used:216s eta:0 sEPOCH 65 valid loss 2.1235790252685547 value loss 0.5416825413703918 acc 47.19\n",
      "\n",
      "EPOCH 66 STEP 4999 LR 0.00625 ACC 68.74 LOSS 1.02 value_loss 0.31 100.00 % [==================================================>] 1280000/1280000 \t used:1129s eta:0 ss\n",
      " epoch 66 100.00 % [==================================================>] 320000/320000 \t used:215s eta:0 sEPOCH 66 valid loss 2.099200487136841 value loss 0.5514430403709412 acc 47.2996875\n",
      "\n",
      "EPOCH 67 STEP 4999 LR 0.00625 ACC 70.92 LOSS 0.97 value_loss 0.3 100.00 % [==================================================>] 1280000/1280000 \t used:1131s eta:0 sss\n",
      " epoch 67 100.00 % [==================================================>] 320000/320000 \t used:215s eta:0 sEPOCH 67 valid loss 2.137199640274048 value loss 0.553158700466156 acc 47.1765625\n",
      "\n",
      "EPOCH 68 STEP 4999 LR 0.00625 ACC 69.05 LOSS 1.02 value_loss 0.31 100.00 % [==================================================>] 1280000/1280000 \t used:1128s eta:0 ss\n",
      " epoch 68 100.00 % [==================================================>] 320000/320000 \t used:215s eta:0 sEPOCH 68 valid loss 2.1366100311279297 value loss 0.5679637789726257 acc 47.1103125\n",
      "\n",
      "EPOCH 69 STEP 4999 LR 0.00625 ACC 69.09 LOSS 1.02 value_loss 0.29 100.00 % [==================================================>] 1280000/1280000 \t used:1129s eta:0 ss\n",
      " epoch 69 100.00 % [==================================================>] 320000/320000 \t used:214s eta:0 sEPOCH 69 valid loss 2.122924327850342 value loss 0.536822497844696 acc 47.34375\n",
      "\n",
      "EPOCH 70 STEP 4999 LR 0.00625 ACC 72.15 LOSS 0.94 value_loss 0.3 100.00 % [==================================================>] 1280000/1280000 \t used:1127s eta:0 sss\n",
      " epoch 70 100.00 % [==================================================>] 320000/320000 \t used:214s eta:0 sEPOCH 70 valid loss 2.1672916412353516 value loss 0.5581247806549072 acc 46.971875\n",
      "\n"
     ]
    },
    {
     "name": "stdout",
     "output_type": "stream",
     "text": [
      "EPOCH 71 STEP 4999 LR 0.00625 ACC 70.14 LOSS 0.98 value_loss 0.32 100.00 % [==================================================>] 1280000/1280000 \t used:1129s eta:0 ss\n",
      " epoch 71 100.00 % [==================================================>] 320000/320000 \t used:214s eta:0 sEPOCH 71 valid loss 2.1579391956329346 value loss 0.5517143607139587 acc 47.3884375\n",
      "\n",
      "EPOCH 72 STEP 4999 LR 0.00625 ACC 69.73 LOSS 0.99 value_loss 0.31 100.00 % [==================================================>] 1280000/1280000 \t used:1128s eta:0 ss\n",
      " epoch 72 100.00 % [==================================================>] 320000/320000 \t used:214s eta:0 sEPOCH 72 valid loss 2.1634581089019775 value loss 0.5740980505943298 acc 46.86375\n",
      "\n",
      "EPOCH 73 STEP 4999 LR 0.00625 ACC 72.61 LOSS 0.91 value_loss 0.28 100.00 % [==================================================>] 1280000/1280000 \t used:1125s eta:0 ss\n",
      " epoch 73 100.00 % [==================================================>] 320000/320000 \t used:214s eta:0 sEPOCH 73 valid loss 2.1811084747314453 value loss 0.5491088628768921 acc 47.243125\n",
      "\n",
      "EPOCH 74 STEP 4999 LR 0.00625 ACC 70.38 LOSS 0.97 value_loss 0.29 100.00 % [==================================================>] 1280000/1280000 \t used:1130s eta:0 ss\n",
      " epoch 74 100.00 % [==================================================>] 320000/320000 \t used:215s eta:0 sEPOCH 74 valid loss 2.186960458755493 value loss 0.5562534332275391 acc 47.2234375\n",
      "\n",
      "EPOCH 75 STEP 4999 LR 0.003125 ACC 71.73 LOSS 0.93 value_loss 0.29 100.00 % [==================================================>] 1280000/1280000 \t used:1126s eta:0 ss\n",
      " epoch 75 100.00 % [==================================================>] 320000/320000 \t used:214s eta:0 sEPOCH 75 valid loss 2.1820871829986572 value loss 0.5479486584663391 acc 47.520625\n",
      "\n",
      "EPOCH 76 STEP 4999 LR 0.003125 ACC 73.42 LOSS 0.89 value_loss 0.28 100.00 % [==================================================>] 1280000/1280000 \t used:1129s eta:0 ss\n",
      " epoch 76 100.00 % [==================================================>] 320000/320000 \t used:214s eta:0 sEPOCH 76 valid loss 2.1972320079803467 value loss 0.5726041793823242 acc 47.3103125\n",
      "\n",
      "EPOCH 77 STEP 4999 LR 0.003125 ACC 73.08 LOSS 0.89 value_loss 0.29 100.00 % [==================================================>] 1280000/1280000 \t used:1130s eta:0 ss\n",
      " epoch 77 100.00 % [==================================================>] 320000/320000 \t used:214s eta:0 sEPOCH 77 valid loss 2.2085890769958496 value loss 0.5581256747245789 acc 47.5765625\n",
      "\n",
      "EPOCH 78 STEP 4999 LR 0.003125 ACC 72.01 LOSS 0.92 value_loss 0.28 100.00 % [==================================================>] 1280000/1280000 \t used:1125s eta:0 ss\n",
      " epoch 78 100.00 % [==================================================>] 320000/320000 \t used:215s eta:0 sEPOCH 78 valid loss 2.212205410003662 value loss 0.5697692632675171 acc 47.3103125\n",
      "\n",
      "EPOCH 79 STEP 4999 LR 0.003125 ACC 74.94 LOSS 0.85 value_loss 0.28 100.00 % [==================================================>] 1280000/1280000 \t used:1130s eta:0 ss\n",
      " epoch 79 100.00 % [==================================================>] 320000/320000 \t used:214s eta:0 sEPOCH 79 valid loss 2.221782922744751 value loss 0.5667036175727844 acc 47.3315625\n",
      "\n",
      "EPOCH 80 STEP 4999 LR 0.003125 ACC 73.75 LOSS 0.87 value_loss 0.28 100.00 % [==================================================>] 1280000/1280000 \t used:1129s eta:0 ss\n",
      " epoch 80 100.00 % [==================================================>] 320000/320000 \t used:215s eta:0 sEPOCH 80 valid loss 2.228344678878784 value loss 0.5629580020904541 acc 47.63875\n",
      "\n",
      "EPOCH 81 STEP 4999 LR 0.003125 ACC 73.62 LOSS 0.88 value_loss 0.3 100.00 % [==================================================>] 1280000/1280000 \t used:1128s eta:0 sss\n",
      " epoch 81 100.00 % [==================================================>] 320000/320000 \t used:215s eta:0 sEPOCH 81 valid loss 2.2328555583953857 value loss 0.5681008696556091 acc 47.360625\n",
      "\n",
      "EPOCH 82 STEP 4999 LR 0.003125 ACC 75.88 LOSS 0.82 value_loss 0.28 100.00 % [==================================================>] 1280000/1280000 \t used:1130s eta:0 ss\n",
      " epoch 82 100.00 % [==================================================>] 320000/320000 \t used:214s eta:0 sEPOCH 82 valid loss 2.2295961380004883 value loss 0.5605400204658508 acc 47.5190625\n",
      "\n",
      "EPOCH 83 STEP 4999 LR 0.003125 ACC 74.29 LOSS 0.85 value_loss 0.28 100.00 % [==================================================>] 1280000/1280000 \t used:1126s eta:0 ss\n",
      " epoch 83 100.00 % [==================================================>] 320000/320000 \t used:215s eta:0 sEPOCH 83 valid loss 2.2538862228393555 value loss 0.571278989315033 acc 47.534375\n",
      "\n",
      "EPOCH 84 STEP 4999 LR 0.003125 ACC 72.35 LOSS 0.93 value_loss 0.29 100.00 % [==================================================>] 1280000/1280000 \t used:1129s eta:0 ss\n",
      " epoch 84 100.00 % [==================================================>] 320000/320000 \t used:215s eta:0 sEPOCH 84 valid loss 2.2563600540161133 value loss 0.5746949911117554 acc 47.3725\n",
      "\n",
      "EPOCH 85 STEP 4999 LR 0.003125 ACC 72.88 LOSS 0.89 value_loss 0.29 100.00 % [==================================================>] 1280000/1280000 \t used:1129s eta:0 ss\n",
      " epoch 85 100.00 % [==================================================>] 320000/320000 \t used:215s eta:0 sEPOCH 85 valid loss 2.241093873977661 value loss 0.5583562254905701 acc 47.6765625\n",
      "\n",
      "EPOCH 86 STEP 4999 LR 0.003125 ACC 74.92 LOSS 0.84 value_loss 0.29 100.00 % [==================================================>] 1280000/1280000 \t used:1125s eta:0 ss\n",
      " epoch 86 100.00 % [==================================================>] 320000/320000 \t used:213s eta:0 sEPOCH 86 valid loss 2.2904393672943115 value loss 0.5868718028068542 acc 47.075625\n",
      "\n",
      "EPOCH 87 STEP 4999 LR 0.003125 ACC 73.7 LOSS 0.87 value_loss 0.31 100.00 % [==================================================>] 1280000/1280000 \t used:1128s eta:0 sss\n",
      " epoch 87 100.00 % [==================================================>] 320000/320000 \t used:214s eta:0 sEPOCH 87 valid loss 2.254122257232666 value loss 0.5559890866279602 acc 47.7546875\n",
      "\n",
      "EPOCH 88 STEP 4999 LR 0.003125 ACC 74.67 LOSS 0.85 value_loss 0.27 100.00 % [==================================================>] 1280000/1280000 \t used:1128s eta:0 ss\n",
      " epoch 88 100.00 % [==================================================>] 320000/320000 \t used:213s eta:0 sEPOCH 88 valid loss 2.2636561393737793 value loss 0.5601329803466797 acc 47.56125\n",
      "\n",
      "EPOCH 89 STEP 4999 LR 0.003125 ACC 75.35 LOSS 0.82 value_loss 0.29 100.00 % [==================================================>] 1280000/1280000 \t used:1127s eta:0 ss\n",
      " epoch 89 100.00 % [==================================================>] 320000/320000 \t used:211s eta:0 sEPOCH 89 valid loss 2.2937796115875244 value loss 0.5743741989135742 acc 47.2946875\n",
      "\n",
      "EPOCH 90 STEP 4999 LR 0.0015625 ACC 75.03 LOSS 0.84 value_loss 0.29 100.00 % [==================================================>] 1280000/1280000 \t used:1119s eta:0 ss\n",
      " epoch 90 100.00 % [==================================================>] 320000/320000 \t used:210s eta:0 sEPOCH 90 valid loss 2.271261692047119 value loss 0.5765421986579895 acc 47.9834375\n",
      "\n",
      "EPOCH 91 STEP 4999 LR 0.0015625 ACC 74.62 LOSS 0.84 value_loss 0.28 100.00 % [==================================================>] 1280000/1280000 \t used:1118s eta:0 ss\n",
      " epoch 91 100.00 % [==================================================>] 320000/320000 \t used:212s eta:0 sEPOCH 91 valid loss 2.285419464111328 value loss 0.5702318549156189 acc 47.7075\n",
      "\n",
      "EPOCH 92 STEP 4999 LR 0.0015625 ACC 76.96 LOSS 0.79 value_loss 0.26 100.00 % [==================================================>] 1280000/1280000 \t used:1118s eta:0 ss\n",
      " epoch 92 100.00 % [==================================================>] 320000/320000 \t used:212s eta:0 sEPOCH 92 valid loss 2.3100321292877197 value loss 0.5774697065353394 acc 47.5896875\n",
      "\n",
      "EPOCH 93 STEP 4999 LR 0.0015625 ACC 76.68 LOSS 0.8 value_loss 0.26 100.00 % [==================================================>] 1280000/1280000 \t used:1117s eta:0 sss\n",
      " epoch 93 100.00 % [==================================================>] 320000/320000 \t used:213s eta:0 sEPOCH 93 valid loss 2.3098249435424805 value loss 0.5771481990814209 acc 47.439375\n",
      "\n"
     ]
    },
    {
     "name": "stdout",
     "output_type": "stream",
     "text": [
      "EPOCH 94 STEP 4999 LR 0.0015625 ACC 76.51 LOSS 0.8 value_loss 0.29 100.00 % [==================================================>] 1280000/1280000 \t used:1125s eta:0 sss\n",
      " epoch 94 100.00 % [==================================================>] 320000/320000 \t used:219s eta:0 sEPOCH 94 valid loss 2.3123042583465576 value loss 0.568417489528656 acc 47.679375\n",
      "\n",
      "EPOCH 95 STEP 4999 LR 0.0015625 ACC 76.95 LOSS 0.78 value_loss 0.27 100.00 % [==================================================>] 1280000/1280000 \t used:1135s eta:0 ss\n",
      " epoch 95 100.00 % [==================================================>] 320000/320000 \t used:219s eta:0 sEPOCH 95 valid loss 2.31787109375 value loss 0.5775895118713379 acc 47.7203125\n",
      "\n",
      "EPOCH 96 STEP 4999 LR 0.0015625 ACC 76.67 LOSS 0.8 value_loss 0.29 100.00 % [==================================================>] 1280000/1280000 \t used:1148s eta:0 sss\n",
      " epoch 96 100.00 % [==================================================>] 320000/320000 \t used:219s eta:0 sEPOCH 96 valid loss 2.3107454776763916 value loss 0.5778020620346069 acc 47.776875\n",
      "\n",
      "EPOCH 97 STEP 4999 LR 0.0015625 ACC 75.86 LOSS 0.81 value_loss 0.27 100.00 % [==================================================>] 1280000/1280000 \t used:1170s eta:0 ss\n",
      " epoch 97 100.00 % [==================================================>] 320000/320000 \t used:220s eta:0 sEPOCH 97 valid loss 2.3217737674713135 value loss 0.565670371055603 acc 47.5140625\n",
      "\n",
      "EPOCH 98 STEP 4999 LR 0.0015625 ACC 77.58 LOSS 0.77 value_loss 0.27 100.00 % [==================================================>] 1280000/1280000 \t used:1179s eta:0 ss\n",
      " epoch 98 100.00 % [==================================================>] 320000/320000 \t used:220s eta:0 sEPOCH 98 valid loss 2.323833465576172 value loss 0.576650857925415 acc 47.7090625\n",
      "\n",
      "EPOCH 99 STEP 4999 LR 0.0015625 ACC 76.66 LOSS 0.79 value_loss 0.25 100.00 % [==================================================>] 1280000/1280000 \t used:1194s eta:0 ss\n",
      " epoch 99 100.00 % [==================================================>] 320000/320000 \t used:220s eta:0 sEPOCH 99 valid loss 2.3340048789978027 value loss 0.5796318054199219 acc 47.59125\n",
      "\n"
     ]
    }
   ],
   "source": [
    "restore = False\n",
    "N_EPOCH = 100\n",
    "DECAY_EPOCH = 15\n",
    "\n",
    "class ExpVal:\n",
    "    def __init__(self,exp_a=0.97):\n",
    "        self.val = None\n",
    "        self.exp_a = exp_a\n",
    "    def update(self,newval):\n",
    "        if self.val == None:\n",
    "            self.val = newval\n",
    "        else:\n",
    "            self.val = self.exp_a * self.val + (1 - self.exp_a) * newval\n",
    "    def getval(self):\n",
    "        return round(self.val,2)\n",
    "    \n",
    "expacc_move = ExpVal()\n",
    "exploss = ExpVal()\n",
    "expsteploss = ExpVal()\n",
    "\n",
    "begining_learning_rate = 1e-1\n",
    "\n",
    "pred_image = None\n",
    "if restore == False:\n",
    "    train_epoch = 1\n",
    "    train_batch = 0\n",
    "for one_epoch in range(train_epoch + 1,N_EPOCH):\n",
    "    train_epoch = one_epoch\n",
    "    pb = ProgressBar(worksum=N_BATCH * BATCH_SIZE,info=\" epoch {} batch {}\".format(train_epoch,train_batch))\n",
    "    pb.startjob()\n",
    "    \n",
    "    for one_batch in range(N_BATCH):\n",
    "        if restore == True and one_batch < train_batch:\n",
    "            pb.auto_display = False\n",
    "            pb.complete(BATCH_SIZE)\n",
    "            pb.auto_display = True\n",
    "            continue\n",
    "        else:\n",
    "            restore = False\n",
    "        train_batch = one_batch\n",
    "        \n",
    "        batch_x,batch_y,batch_v = trainflow.next()['data']\n",
    "        batch_v = np.expand_dims(np.nan_to_num(batch_v),1)\n",
    "        # learning rate decay strategy\n",
    "        batch_lr = begining_learning_rate * 2 ** -(one_epoch // DECAY_EPOCH)\n",
    "        with graph.as_default():\n",
    "            _,step_loss,step_value_loss,step_acc_move,step_value,step_val_predict = sess.run(\n",
    "                [train_op_multitarg,policy_loss,value_loss,accuracy_select,global_step,value_head],feed_dict={\n",
    "                    X:batch_x,nextmove:batch_y,learning_rate:batch_lr,training:True,score:batch_v,\n",
    "                })\n",
    "        \n",
    "        step_acc_move *= 100\n",
    "        \n",
    "        expacc_move.update(step_acc_move)\n",
    "        exploss.update(step_loss)\n",
    "        expsteploss.update(step_value_loss)\n",
    "\n",
    "       \n",
    "        pb.info = \"EPOCH {} STEP {} LR {} ACC {} LOSS {} value_loss {}\".format(\n",
    "            one_epoch,one_batch,batch_lr,expacc_move.getval(),exploss.getval(),expsteploss.getval())\n",
    "        \n",
    "        pb.complete(BATCH_SIZE)\n",
    "    print()\n",
    "    pb = ProgressBar(worksum=N_BATCH // 4 * BATCH_SIZE,info=\" epoch {}\".format(train_epoch))\n",
    "    pb.startjob()\n",
    "    losses = []\n",
    "    value_losses = []\n",
    "    accs = []\n",
    "    for one_batch in range(N_BATCH // 4):\n",
    "        batch_x,batch_y,batch_v = testflow.next()['data']\n",
    "        batch_v = np.expand_dims(np.nan_to_num(batch_v),1)\n",
    "        # learning rate decay strategy\n",
    "        batch_lr = begining_learning_rate * 10 ** -(one_epoch // DECAY_EPOCH)\n",
    "        with graph.as_default():\n",
    "            step_loss,step_value_loss,step_acc_move,step_value = sess.run(\n",
    "                [policy_loss,value_loss,accuracy_select,global_step],feed_dict={\n",
    "                    X:batch_x,nextmove:batch_y,learning_rate:batch_lr,training:False,score:batch_v,\n",
    "                })\n",
    "        \n",
    "        step_acc_move *= 100\n",
    "        losses.append(step_loss)\n",
    "        accs.append(step_acc_move)\n",
    "        value_losses.append(step_value_loss)\n",
    "        pb.complete(BATCH_SIZE)\n",
    "    print(\"EPOCH {} valid loss {} value loss {} acc {}\".format(train_epoch,np.average(losses)\n",
    "                                                               ,np.average(value_losses),np.average(accs)))\n",
    "    print()\n",
    "    with graph.as_default():\n",
    "        saver = tf.train.Saver(var_list=tf.global_variables())\n",
    "        saver.save(sess,\"models/{}/model_{}\".format(model_name,one_epoch))"
   ]
  },
  {
   "cell_type": "code",
   "execution_count": null,
   "metadata": {
    "collapsed": true
   },
   "outputs": [],
   "source": []
  }
 ],
 "metadata": {
  "anaconda-cloud": {},
  "kernelspec": {
   "display_name": "tf1.3_python",
   "language": "python",
   "name": "tf1.3_kernel"
  },
  "language_info": {
   "codemirror_mode": {
    "name": "ipython",
    "version": 3
   },
   "file_extension": ".py",
   "mimetype": "text/x-python",
   "name": "python",
   "nbconvert_exporter": "python",
   "pygments_lexer": "ipython3",
   "version": "3.6.0"
  }
 },
 "nbformat": 4,
 "nbformat_minor": 1
}
