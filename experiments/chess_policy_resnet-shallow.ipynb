{
 "cells": [
  {
   "cell_type": "code",
   "execution_count": 1,
   "metadata": {
    "collapsed": true
   },
   "outputs": [],
   "source": [
    "%reload_ext autoreload \n",
    "%autoreload 2\n",
    "\n",
    "import tensorflow as tf\n",
    "import numpy as np\n",
    "from matplotlib import pyplot as plt\n",
    "import random \n",
    "import time\n",
    "from utils import Dataset,ProgressBar\n",
    "from tflearn.data_flow import DataFlow,DataFlowStatus,FeedDictFlow\n",
    "from tflearn.data_utils import Preloader,ImagePreloader\n",
    "import scipy\n",
    "import pandas as pd\n",
    "import xmltodict\n",
    "import common\n",
    "import tflearn\n",
    "import copy\n",
    "from cchess import *\n",
    "from game_convert import convert_game"
   ]
  },
  {
   "cell_type": "code",
   "execution_count": 11,
   "metadata": {},
   "outputs": [
    {
     "name": "stdout",
     "output_type": "stream",
     "text": [
      "Thu May  3 21:56:06 2018       \r\n",
      "+-----------------------------------------------------------------------------+\r\n",
      "| NVIDIA-SMI 384.111                Driver Version: 384.111                   |\r\n",
      "|-------------------------------+----------------------+----------------------+\r\n",
      "| GPU  Name        Persistence-M| Bus-Id        Disp.A | Volatile Uncorr. ECC |\r\n",
      "| Fan  Temp  Perf  Pwr:Usage/Cap|         Memory-Usage | GPU-Util  Compute M. |\r\n",
      "|===============================+======================+======================|\r\n",
      "|   0  GeForce GTX 108...  Off  | 00000000:05:00.0 Off |                  N/A |\r\n",
      "| 44%   73C    P2   112W / 250W |   9039MiB / 11172MiB |     17%      Default |\r\n",
      "+-------------------------------+----------------------+----------------------+\r\n",
      "|   1  GeForce GTX 108...  Off  | 00000000:42:00.0 Off |                  N/A |\r\n",
      "| 26%   44C    P8    17W / 250W |    169MiB / 11172MiB |      0%      Default |\r\n",
      "+-------------------------------+----------------------+----------------------+\r\n",
      "                                                                               \r\n",
      "+-----------------------------------------------------------------------------+\r\n",
      "| Processes:                                                       GPU Memory |\r\n",
      "|  GPU       PID   Type   Process name                             Usage      |\r\n",
      "|=============================================================================|\r\n",
      "|    0      9639      C   /home/meta/anaconda3/bin/python             9023MiB |\r\n",
      "|    1      9639      C   /home/meta/anaconda3/bin/python              153MiB |\r\n",
      "+-----------------------------------------------------------------------------+\r\n"
     ]
    }
   ],
   "source": [
    "!nvidia-smi"
   ]
  },
  {
   "cell_type": "markdown",
   "metadata": {},
   "source": [
    "# a network predict select and move of Chinese chess, with minimal preprocessing"
   ]
  },
  {
   "cell_type": "code",
   "execution_count": 12,
   "metadata": {
    "collapsed": true
   },
   "outputs": [],
   "source": [
    "GPU_CORE = [1]\n",
    "BATCH_SIZE = 256\n",
    "BEGINING_LR = 0.01\n",
    "#TESTIMG_WIDTH = 500\n",
    "model_name = '5_2_resnet20_shallow'\n",
    "data_dir = 'data/imsa-cbf/'"
   ]
  },
  {
   "cell_type": "code",
   "execution_count": 13,
   "metadata": {
    "collapsed": true
   },
   "outputs": [],
   "source": [
    "labels = common.board.create_uci_labels()\n",
    "label2ind = dict(zip(labels,list(range(len(labels)))))"
   ]
  },
  {
   "cell_type": "code",
   "execution_count": 14,
   "metadata": {
    "collapsed": true
   },
   "outputs": [],
   "source": [
    "class ElePreloader(object):\n",
    "    def __init__(self,datafile,batch_size=64):\n",
    "        self.batch_size=batch_size\n",
    "        content = pd.read_csv(datafile,header=None,index_col=None)\n",
    "        self.filelist = [i[0] for i in content.get_values()]\n",
    "        self.pos = 0\n",
    "        self.feature_list = {\"red\":['A', 'B', 'C', 'K', 'N', 'P', 'R']\n",
    "                             ,\"black\":['a', 'b', 'c', 'k', 'n', 'p', 'r']}\n",
    "        self.batch_size = batch_size\n",
    "        self.batch_iter = self.__iter()\n",
    "        assert(len(self.filelist) > batch_size)\n",
    "        self.game_iterlist = [None for i in self.filelist]\n",
    "    \n",
    "    def __iter(self):\n",
    "        retx1,rety1,retx2,rety2 = [],[],[],[]\n",
    "        filelist = []\n",
    "        while True:\n",
    "            for i in range(self.batch_size):\n",
    "                if self.game_iterlist[i] == None:\n",
    "                    if len(filelist) == 0:\n",
    "                        filelist = copy.copy(self.filelist)\n",
    "                        random.shuffle(filelist)\n",
    "                    self.game_iterlist[i] = convert_game(filelist.pop(),feature_list=self.feature_list)\n",
    "                game_iter = self.game_iterlist[i]\n",
    "                \n",
    "                try:\n",
    "                    x1,y1 = game_iter.__next__()\n",
    "                    x1 = np.transpose(x1,[1,2,0])\n",
    "                    x1 = np.expand_dims(x1,axis=0)\n",
    "                    retx1.append(x1)\n",
    "                    #rety1.append(y1)\n",
    "                    oney = np.zeros(len(labels))\n",
    "                    oney[label2ind[''.join(y1)]] = 1\n",
    "                    rety1.append(oney)\n",
    "\n",
    "                    if len(retx1) >= self.batch_size:\n",
    "                        yield (np.concatenate(retx1,axis=0),np.asarray(rety1))\n",
    "                        retx1,rety1 = [],[]\n",
    "                except :\n",
    "                    self.game_iterlist[i] = None\n",
    "\n",
    "    def __getitem__(self, id):\n",
    "        \n",
    "        x1,y1 = self.batch_iter.__next__()\n",
    "        return x1,y1\n",
    "        \n",
    "    def __len__(self):\n",
    "        return 10000"
   ]
  },
  {
   "cell_type": "code",
   "execution_count": 15,
   "metadata": {
    "collapsed": true
   },
   "outputs": [],
   "source": [
    "trainset = ElePreloader(datafile='data/train_list.csv',batch_size=BATCH_SIZE)\n",
    "with tf.device(\"/gpu:{}\".format(GPU_CORE[0])):\n",
    "    coord = tf.train.Coordinator()\n",
    "    trainflow = FeedDictFlow({\n",
    "            'data':trainset,\n",
    "        },coord,batch_size=BATCH_SIZE,shuffle=True,continuous=True,num_threads=1)\n",
    "trainflow.start()"
   ]
  },
  {
   "cell_type": "code",
   "execution_count": 16,
   "metadata": {
    "collapsed": true
   },
   "outputs": [],
   "source": [
    "testset = ElePreloader(datafile='data/test_list.csv',batch_size=BATCH_SIZE)\n",
    "with tf.device(\"/gpu:{}\".format(GPU_CORE[0])):\n",
    "    coord = tf.train.Coordinator()\n",
    "    testflow = FeedDictFlow({\n",
    "            'data':testset,\n",
    "        },coord,batch_size=BATCH_SIZE,shuffle=True,continuous=True,num_threads=1)\n",
    "testflow.start()"
   ]
  },
  {
   "cell_type": "code",
   "execution_count": 17,
   "metadata": {
    "collapsed": true
   },
   "outputs": [],
   "source": [
    "sample_x1,sample_y1 = trainflow.next()['data']"
   ]
  },
  {
   "cell_type": "code",
   "execution_count": 18,
   "metadata": {
    "collapsed": true
   },
   "outputs": [],
   "source": [
    "sample_x1,sample_y1 = testflow.next()['data']"
   ]
  },
  {
   "cell_type": "code",
   "execution_count": 19,
   "metadata": {},
   "outputs": [
    {
     "data": {
      "text/plain": [
       "((256, 10, 9, 14), (256, 2086))"
      ]
     },
     "execution_count": 19,
     "metadata": {},
     "output_type": "execute_result"
    }
   ],
   "source": [
    "sample_x1.shape,sample_y1.shape"
   ]
  },
  {
   "cell_type": "code",
   "execution_count": 20,
   "metadata": {},
   "outputs": [
    {
     "data": {
      "text/plain": [
       "'h0g2'"
      ]
     },
     "execution_count": 20,
     "metadata": {},
     "output_type": "execute_result"
    }
   ],
   "source": [
    "labels[np.argmax(sample_y1[0])]"
   ]
  },
  {
   "cell_type": "code",
   "execution_count": 21,
   "metadata": {},
   "outputs": [
    {
     "data": {
      "text/plain": [
       "array([[1, 1, 1, 1, 1, 1, 1, 1, 1],\n",
       "       [0, 0, 0, 0, 0, 0, 0, 0, 0],\n",
       "       [0, 1, 0, 0, 0, 0, 0, 1, 0],\n",
       "       [1, 0, 1, 0, 1, 0, 1, 0, 1],\n",
       "       [0, 0, 0, 0, 0, 0, 0, 0, 0],\n",
       "       [0, 0, 0, 0, 0, 0, 0, 0, 0],\n",
       "       [1, 0, 1, 0, 1, 0, 1, 0, 1],\n",
       "       [0, 1, 0, 0, 0, 0, 0, 1, 0],\n",
       "       [0, 0, 0, 0, 0, 0, 0, 0, 0],\n",
       "       [1, 1, 1, 1, 1, 1, 1, 1, 1]], dtype=uint64)"
      ]
     },
     "execution_count": 21,
     "metadata": {},
     "output_type": "execute_result"
    }
   ],
   "source": [
    "np.sum(sample_x1[0],axis=-1)"
   ]
  },
  {
   "cell_type": "code",
   "execution_count": 22,
   "metadata": {},
   "outputs": [
    {
     "data": {
      "text/plain": [
       "2086"
      ]
     },
     "execution_count": 22,
     "metadata": {},
     "output_type": "execute_result"
    }
   ],
   "source": [
    "len(labels)"
   ]
  },
  {
   "cell_type": "code",
   "execution_count": 23,
   "metadata": {},
   "outputs": [
    {
     "data": {
      "text/plain": [
       "(10, 9)"
      ]
     },
     "execution_count": 23,
     "metadata": {},
     "output_type": "execute_result"
    }
   ],
   "source": [
    "np.sum(sample_x1[0],axis=-1).shape"
   ]
  },
  {
   "cell_type": "code",
   "execution_count": 24,
   "metadata": {
    "collapsed": true
   },
   "outputs": [],
   "source": [
    "def res_block(inputx,name,training,block_num=2,filters=256,kernel_size=(3,3)):\n",
    "    net = inputx\n",
    "    for i in range(block_num):\n",
    "        net = tf.layers.conv2d(net,filters=filters,kernel_size=kernel_size,activation=None,name=\"{}_res_conv{}\".format(name,i),padding='same')\n",
    "        net = tf.layers.batch_normalization(net,training=training,name=\"{}_res_bn{}\".format(name,i))\n",
    "        if i == block_num - 1:\n",
    "            net = net + inputx #= tf.concat((inputx,net),axis=-1)\n",
    "        net = tf.nn.elu(net,name=\"{}_res_elu{}\".format(name,i))\n",
    "    return net\n",
    "\n",
    "def conv_block(inputx,name,training,block_num=1,filters=2,kernel_size=(1,1)):\n",
    "    net = inputx\n",
    "    for i in range(block_num):\n",
    "        net = tf.layers.conv2d(net,filters=filters,kernel_size=kernel_size,activation=None,name=\"{}_convblock_conv{}\".format(name,i),padding='same')\n",
    "        net = tf.layers.batch_normalization(net,training=training,name=\"{}_convblock_bn{}\".format(name,i))\n",
    "        net = tf.nn.elu(net,name=\"{}_convblock_elu{}\".format(name,i))\n",
    "    # net [None,10,9,2]\n",
    "    netshape = net.get_shape().as_list()\n",
    "    print(\"inside conv block {}\".format(str(netshape)))\n",
    "    net = tf.reshape(net,shape=(-1,netshape[1] * netshape[2] * netshape[3]))\n",
    "    net = tf.layers.dense(net,10 * 9,name=\"{}_dense\".format(name))\n",
    "    net = tf.nn.elu(net,name=\"{}_elu\".format(name))\n",
    "    return net\n",
    "\n",
    "def res_net_board(inputx,name,training,filters=256):\n",
    "    net = inputx\n",
    "    net = tf.layers.conv2d(net,filters=filters,kernel_size=(3,3),activation=None,name=\"{}_res_convb\".format(name),padding='same')\n",
    "    net = tf.layers.batch_normalization(net,training=training,name=\"{}_res_bnb\".format(name))\n",
    "    net = tf.nn.elu(net,name=\"{}_res_elub\".format(name))\n",
    "    for i in range(NUM_RES_LAYERS):\n",
    "        net = res_block(net,name=\"{}_layer_{}\".format(name,i + 1),training=training)\n",
    "        print(net.get_shape().as_list())\n",
    "    print(\"inside res net {}\".format(str(net.get_shape().as_list())))\n",
    "    #net_unsoftmax = conv_block(net,name=\"{}_conv\".format(name),training=training)\n",
    "    return net\n",
    "\n",
    "def get_scatter(name):\n",
    "    with tf.variable_scope(\"Test\"):\n",
    "        ph = tf.placeholder(tf.float32,name=name)\n",
    "        op = tf.summary.scalar(name,ph)\n",
    "    return ph,op"
   ]
  },
  {
   "cell_type": "code",
   "execution_count": 25,
   "metadata": {
    "collapsed": true
   },
   "outputs": [],
   "source": [
    "def average_gradients(tower_grads):\n",
    "    \"\"\"Calculate the average gradient for each shared variable across all towers.\n",
    "    Note that this function provides a synchronization point across all towers.\n",
    "    Args:\n",
    "    tower_grads: List of lists of (gradient, variable) tuples. The outer list\n",
    "      is over individual gradients. The inner list is over the gradient\n",
    "      calculation for each tower.\n",
    "    Returns:\n",
    "     List of pairs of (gradient, variable) where the gradient has been averaged\n",
    "     across all towers.\n",
    "\n",
    "\n",
    "    \"\"\"\n",
    "    average_grads = []\n",
    "    for grad_and_vars in zip(*tower_grads):\n",
    "        # Note that each grad_and_vars looks like the following:\n",
    "        #   ((grad0_gpu0, var0_gpu0), ... , (grad0_gpuN, var0_gpuN))\n",
    "        grads = []\n",
    "        for g, _ in grad_and_vars:\n",
    "            # Add 0 dimension to the gradients to represent the tower.\n",
    "            expanded_g = tf.expand_dims(g, 0)\n",
    "            # Append on a 'tower' dimension which we will average over below.\n",
    "            grads.append(expanded_g)\n",
    "\n",
    "        # Average over the 'tower' dimension.\n",
    "        grad = tf.concat(grads,0)\n",
    "        grad = tf.reduce_mean(grad, 0)\n",
    "\n",
    "        # Keep in mind that the Variables are redundant because they are shared\n",
    "        # across towers. So .. we will just return the first tower's pointer to\n",
    "        # the Variable.\n",
    "        v = grad_and_vars[0][1]\n",
    "        grad_and_var = (grad, v)\n",
    "        average_grads.append(grad_and_var)\n",
    "    return average_grads\n",
    "\n",
    "def add_grad_to_list(opt,train_param,loss,tower_grad):\n",
    "    grads = opt.compute_gradients(loss, var_list = train_param)\n",
    "    grads = [i[0] for i in grads]\n",
    "    #print(grads)\n",
    "    tower_grad.append(zip(grads,train_param))\n",
    "    \n",
    "def get_op_mul(tower_gradients,optimizer,gs):\n",
    "    grads = average_gradients(tower_gradients)\n",
    "    train_op = optimizer.apply_gradients(grads,gs)\n",
    "    return train_op\n",
    "\n",
    "def reduce_mean(x):\n",
    "    return tf.reduce_mean(x)\n",
    "\n",
    "def merge(x):\n",
    "    return tf.concat(x,axis=0)"
   ]
  },
  {
   "cell_type": "code",
   "execution_count": 26,
   "metadata": {},
   "outputs": [
    {
     "data": {
      "text/plain": [
       "[1]"
      ]
     },
     "execution_count": 26,
     "metadata": {},
     "output_type": "execute_result"
    }
   ],
   "source": [
    "GPU_CORE"
   ]
  },
  {
   "cell_type": "code",
   "execution_count": 27,
   "metadata": {},
   "outputs": [
    {
     "name": "stdout",
     "output_type": "stream",
     "text": [
      "0\n",
      "[None, 10, 9, 256]\n",
      "[None, 10, 9, 256]\n",
      "[None, 10, 9, 256]\n",
      "[None, 10, 9, 256]\n",
      "inside res net [None, 10, 9, 256]\n"
     ]
    }
   ],
   "source": [
    "tf.reset_default_graph()\n",
    "\n",
    "NUM_RES_LAYERS = 4\n",
    "\n",
    "graph = tf.Graph()\n",
    "with graph.as_default():\n",
    "#with tf.device(\"/gpu:{}\".format(GPU_CORE)):\n",
    "    X = tf.placeholder(tf.float32,[None,10,9,14])\n",
    "    nextmove = tf.placeholder(tf.float32,[None,len(labels)])\n",
    "    score = tf.placeholder(tf.float32,[None,1])\n",
    "    \n",
    "    training = tf.placeholder(tf.bool,name='training_mode')\n",
    "    learning_rate = tf.placeholder(tf.float32)\n",
    "    global_step = tf.train.get_or_create_global_step()\n",
    "    optimizer_policy = tf.train.MomentumOptimizer(learning_rate=learning_rate,momentum=0.9)\n",
    "    optimizer_value = tf.train.MomentumOptimizer(learning_rate=learning_rate,momentum=0.9)\n",
    "    optimizer_multitarg = tf.train.MomentumOptimizer(learning_rate=learning_rate,momentum=0.9)\n",
    "    \n",
    "    tower_gradients_policy,tower_gradients_value,tower_gradients_multitarg = [],[],[]\n",
    "    \n",
    "    net_softmax_collection = []\n",
    "    value_head_collection = []\n",
    "    multitarget_loss_collection = []\n",
    "    value_loss_collection = []\n",
    "    policy_loss_collection = []\n",
    "    accuracy_select_collection = []\n",
    "    with tf.variable_scope(tf.get_variable_scope()) as vscope:\n",
    "        for ind,one_core in enumerate(GPU_CORE):\n",
    "            with tf.device(\"/gpu:{}\".format(one_core)):\n",
    "                print(ind)\n",
    "                body = res_net_board(X[ind * (BATCH_SIZE // len(GPU_CORE)):(ind + 1) * (BATCH_SIZE // len(GPU_CORE))],\n",
    "                                     \"selectnet\",training=training)\n",
    "                with tf.variable_scope(\"policy_head\"):\n",
    "                    policy_head = tf.layers.conv2d(body, 2, 1, padding='SAME')\n",
    "                    policy_head = tf.contrib.layers.batch_norm(policy_head, center=False, epsilon=1e-5, fused=True,\n",
    "                                                                is_training=training, activation_fn=tf.nn.relu)\n",
    "\n",
    "                    # print(self.policy_head.shape)  # (?, 9, 10, 2)\n",
    "                    policy_head = tf.reshape(policy_head, [-1, 9 * 10 * 2])\n",
    "                    policy_head = tf.contrib.layers.fully_connected(policy_head, len(labels), activation_fn=None)\n",
    "                    #self.policy_head.append(policy_head)    # 保存多个gpu的策略头结果（走子概率向量）\n",
    "\n",
    "                # 价值头\n",
    "                with tf.variable_scope(\"value_head\"):\n",
    "                    value_head = tf.layers.conv2d(body, 1, 1, padding='SAME')\n",
    "                    value_head = tf.contrib.layers.batch_norm(value_head, center=False, epsilon=1e-5, fused=True,\n",
    "                                                    is_training=training, activation_fn=tf.nn.relu)\n",
    "                    # print(self.value_head.shape)  # (?, 9, 10, 1)\n",
    "                    value_head = tf.reshape(value_head, [-1, 9 * 10 * 1])\n",
    "                    value_head = tf.contrib.layers.fully_connected(value_head, 256, activation_fn=tf.nn.relu)\n",
    "                    value_head = tf.contrib.layers.fully_connected(value_head, 1, activation_fn=tf.nn.tanh)\n",
    "                    value_head_collection.append(value_head)\n",
    "                net_unsoftmax = policy_head\n",
    "\n",
    "                with tf.variable_scope(\"Loss\"):\n",
    "                    policy_loss = tf.reduce_mean(tf.nn.softmax_cross_entropy_with_logits(\n",
    "                        labels=nextmove[ind * (BATCH_SIZE // len(GPU_CORE)):(ind + 1) * (BATCH_SIZE // len(GPU_CORE))],\n",
    "                        logits=net_unsoftmax))\n",
    "                    #loss_summary = tf.summary.scalar(\"move_loss\",policy_loss)\n",
    "                    value_loss = tf.losses.mean_squared_error(\n",
    "                        labels=score[ind * (BATCH_SIZE // len(GPU_CORE)):(ind + 1) * (BATCH_SIZE // len(GPU_CORE))],\n",
    "                        predictions=value_head) \n",
    "                    value_loss = tf.reduce_mean(value_loss)\n",
    "                    regularizer = tf.contrib.layers.l2_regularizer(scale=0.0001)\n",
    "                    regular_variables = tf.trainable_variables()\n",
    "                    l2_loss = tf.contrib.layers.apply_regularization(regularizer, regular_variables)\n",
    "                    multitarget_loss = value_loss + policy_loss + l2_loss\n",
    "                    \n",
    "                    multitarget_loss_collection.append(multitarget_loss)\n",
    "                    value_loss_collection.append(value_loss)\n",
    "                    policy_loss_collection.append(policy_loss)\n",
    "                net_softmax = tf.nn.softmax(net_unsoftmax)\n",
    "                net_softmax_collection.append(net_softmax)\n",
    "                \n",
    "                correct_prediction = tf.equal(tf.argmax(nextmove,1), tf.argmax(net_softmax,1))\n",
    "\n",
    "                with tf.variable_scope(\"Accuracy\"):\n",
    "                    accuracy_select = tf.reduce_mean(tf.cast(correct_prediction, tf.float32))\n",
    "                    accuracy_select_collection.append(accuracy_select)\n",
    "                tf.get_variable_scope().reuse_variables()\n",
    "                trainable_params = tf.trainable_variables()\n",
    "                tp_policy = [i for i in trainable_params if \n",
    "                                    ('value_head' not in i.name)]\n",
    "                tp_value = [i for i in trainable_params if \n",
    "                                    ('policy_head' not in i.name)]\n",
    "\n",
    "                add_grad_to_list(optimizer_policy,tp_policy,policy_loss,tower_gradients_policy)\n",
    "                add_grad_to_list(optimizer_value,tp_value,value_loss,tower_gradients_value)\n",
    "                add_grad_to_list(optimizer_multitarg,trainable_params,multitarget_loss,tower_gradients_multitarg)\n",
    "               \n",
    "    update_ops = tf.get_collection(tf.GraphKeys.UPDATE_OPS)\n",
    "    with tf.control_dependencies(update_ops):\n",
    "        #gradients_policy = average_gradients(tower_gradients_policy)\n",
    "        train_op_policy = get_op_mul(tower_gradients_policy,optimizer_policy,global_step)\n",
    "        train_op_value = get_op_mul(tower_gradients_value,optimizer_value,global_step)\n",
    "        train_op_multitarg = get_op_mul(tower_gradients_multitarg,optimizer_multitarg,global_step)\n",
    "        #train_op = optimizer.minimize(policy_loss,global_step=global_step)\n",
    "    net_softmax = merge(net_softmax_collection)\n",
    "    value_head = merge(value_head_collection)\n",
    "    multitarget_loss = reduce_mean(multitarget_loss_collection)\n",
    "    value_loss = reduce_mean(value_loss_collection)\n",
    "    policy_loss = reduce_mean(policy_loss_collection)\n",
    "    accuracy_select = reduce_mean(accuracy_select_collection)"
   ]
  },
  {
   "cell_type": "code",
   "execution_count": 28,
   "metadata": {
    "collapsed": true
   },
   "outputs": [],
   "source": [
    "with graph.as_default():\n",
    "    config = tf.ConfigProto()\n",
    "    config.gpu_options.allow_growth = True\n",
    "    config.allow_soft_placement = True\n",
    "    sess = tf.Session(config=config)\n",
    "    sess.run(tf.global_variables_initializer())\n",
    "    \n",
    "    tf.train.global_step(sess, global_step)"
   ]
  },
  {
   "cell_type": "code",
   "execution_count": 29,
   "metadata": {},
   "outputs": [
    {
     "name": "stdout",
     "output_type": "stream",
     "text": [
      "mkdir: 无法创建目录\"models\": 文件已存在\r\n"
     ]
    }
   ],
   "source": [
    "!mkdir models"
   ]
  },
  {
   "cell_type": "code",
   "execution_count": 30,
   "metadata": {
    "collapsed": true
   },
   "outputs": [],
   "source": [
    "import os\n",
    "if not os.path.exists(\"models/{}\".format(model_name)):\n",
    "    os.mkdir(\"models/{}\".format(model_name))"
   ]
  },
  {
   "cell_type": "code",
   "execution_count": 31,
   "metadata": {
    "collapsed": true
   },
   "outputs": [],
   "source": [
    "N_BATCH = 10000 * (128 / BATCH_SIZE)\n",
    "N_BATCH_TEST = 300 * (128 / BATCH_SIZE)\n",
    "N_BATCH = int(N_BATCH)\n",
    "N_BATCH_TEST = int(N_BATCH_TEST)"
   ]
  },
  {
   "cell_type": "code",
   "execution_count": 32,
   "metadata": {},
   "outputs": [
    {
     "data": {
      "text/plain": [
       "(5000, 150)"
      ]
     },
     "execution_count": 32,
     "metadata": {},
     "output_type": "execute_result"
    }
   ],
   "source": [
    "N_BATCH,N_BATCH_TEST"
   ]
  },
  {
   "cell_type": "code",
   "execution_count": 33,
   "metadata": {},
   "outputs": [
    {
     "data": {
      "text/plain": [
       "(0, 256)"
      ]
     },
     "execution_count": 33,
     "metadata": {},
     "output_type": "execute_result"
    }
   ],
   "source": [
    "ind * (BATCH_SIZE // len(GPU_CORE)),(ind + 1) * (BATCH_SIZE // len(GPU_CORE))"
   ]
  },
  {
   "cell_type": "code",
   "execution_count": 34,
   "metadata": {},
   "outputs": [
    {
     "name": "stdout",
     "output_type": "stream",
     "text": [
      "INFO:tensorflow:Restoring parameters from models/5_2_resnet20_shallow/model_32\n"
     ]
    }
   ],
   "source": [
    "with graph.as_default():\n",
    "    train_epoch = 32\n",
    "    train_batch = 0\n",
    "    saver = tf.train.Saver(var_list=tf.global_variables())\n",
    "    saver.restore(sess,\"models/{}/model_{}\".format(model_name,train_epoch))"
   ]
  },
  {
   "cell_type": "code",
   "execution_count": 35,
   "metadata": {
    "scrolled": false
   },
   "outputs": [
    {
     "name": "stdout",
     "output_type": "stream",
     "text": [
      "EPOCH 33 STEP 4999 LR 0.025 ACC 58.44 LOSS 1.36  100.00 % [==================================================>] 1280000/1280000 \t used:834s eta:0 ss552 s\n",
      " epoch 33 100.00 % [==================================================>] 320000/320000 \t used:212s eta:0 sEPOCH 33 valid loss 1.9466822147369385 acc 46.3353125\n",
      "\n",
      "EPOCH 34 STEP 4999 LR 0.025 ACC 58.79 LOSS 1.34  100.00 % [==================================================>] 1280000/1280000 \t used:843s eta:0 ss\n",
      " epoch 34 100.00 % [==================================================>] 320000/320000 \t used:213s eta:0 sEPOCH 34 valid loss 1.924352765083313 acc 46.5953125\n",
      "\n",
      "EPOCH 35 STEP 4999 LR 0.025 ACC 58.45 LOSS 1.37  100.00 % [==================================================>] 1280000/1280000 \t used:844s eta:0 ss\n",
      " epoch 35 100.00 % [==================================================>] 320000/320000 \t used:213s eta:0 sEPOCH 35 valid loss 1.9462132453918457 acc 46.0440625\n",
      "\n",
      "EPOCH 36 STEP 4999 LR 0.025 ACC 61.0 LOSS 1.25  100.00 % [==================================================>] 1280000/1280000 \t used:848s eta:0 sss\n",
      " epoch 36 100.00 % [==================================================>] 320000/320000 \t used:213s eta:0 sEPOCH 36 valid loss 1.9735159873962402 acc 46.3928125\n",
      "\n",
      "EPOCH 37 STEP 4999 LR 0.025 ACC 58.89 LOSS 1.35  100.00 % [==================================================>] 1280000/1280000 \t used:845s eta:0 ss\n",
      " epoch 37 100.00 % [==================================================>] 320000/320000 \t used:211s eta:0 sEPOCH 37 valid loss 1.9721976518630981 acc 46.1128125\n",
      "\n",
      "EPOCH 38 STEP 4999 LR 0.025 ACC 58.98 LOSS 1.35  100.00 % [==================================================>] 1280000/1280000 \t used:833s eta:0 ss\n",
      " epoch 38 100.00 % [==================================================>] 320000/320000 \t used:212s eta:0 sEPOCH 38 valid loss 1.9524296522140503 acc 46.4253125\n",
      "\n",
      "EPOCH 39 STEP 4999 LR 0.025 ACC 63.24 LOSS 1.21  100.00 % [==================================================>] 1280000/1280000 \t used:836s eta:0 ss\n",
      " epoch 39 100.00 % [==================================================>] 320000/320000 \t used:211s eta:0 sEPOCH 39 valid loss 1.9975512027740479 acc 46.4025\n",
      "\n",
      "EPOCH 40 STEP 4999 LR 0.025 ACC 61.18 LOSS 1.27  100.00 % [==================================================>] 1280000/1280000 \t used:835s eta:0 ss\n",
      " epoch 40 100.00 % [==================================================>] 320000/320000 \t used:211s eta:0 sEPOCH 40 valid loss 1.9929949045181274 acc 46.4359375\n",
      "\n",
      "EPOCH 41 STEP 4999 LR 0.025 ACC 60.78 LOSS 1.28  100.00 % [==================================================>] 1280000/1280000 \t used:835s eta:0 ss\n",
      " epoch 41 100.00 % [==================================================>] 320000/320000 \t used:212s eta:0 sEPOCH 41 valid loss 1.974929928779602 acc 46.6365625\n",
      "\n",
      "EPOCH 42 STEP 4999 LR 0.025 ACC 63.79 LOSS 1.17  100.00 % [==================================================>] 1280000/1280000 \t used:838s eta:0 ss\n",
      " epoch 42 100.00 % [==================================================>] 320000/320000 \t used:211s eta:0 sEPOCH 42 valid loss 2.030177354812622 acc 46.2846875\n",
      "\n",
      "EPOCH 43 STEP 4999 LR 0.025 ACC 62.75 LOSS 1.22  100.00 % [==================================================>] 1280000/1280000 \t used:838s eta:0 ss\n",
      " epoch 43 100.00 % [==================================================>] 320000/320000 \t used:212s eta:0 sEPOCH 43 valid loss 2.0198378562927246 acc 46.43125\n",
      "\n",
      "EPOCH 44 STEP 4999 LR 0.025 ACC 60.67 LOSS 1.28  100.00 % [==================================================>] 1280000/1280000 \t used:837s eta:0 ss\n",
      " epoch 44 100.00 % [==================================================>] 320000/320000 \t used:211s eta:0 sEPOCH 44 valid loss 2.009204626083374 acc 46.5153125\n",
      "\n",
      "EPOCH 45 STEP 4999 LR 0.0125 ACC 68.02 LOSS 1.06  100.00 % [==================================================>] 1280000/1280000 \t used:836s eta:0 ss\n",
      " epoch 45 100.00 % [==================================================>] 320000/320000 \t used:212s eta:0 sEPOCH 45 valid loss 2.0293774604797363 acc 47.32\n",
      "\n",
      "EPOCH 46 STEP 4999 LR 0.0125 ACC 67.89 LOSS 1.06  100.00 % [==================================================>] 1280000/1280000 \t used:834s eta:0 ss\n",
      " epoch 46 100.00 % [==================================================>] 320000/320000 \t used:211s eta:0 sEPOCH 46 valid loss 2.0572094917297363 acc 47.1790625\n",
      "\n",
      "EPOCH 47 STEP 4999 LR 0.0125 ACC 66.65 LOSS 1.1  100.00 % [==================================================>] 1280000/1280000 \t used:835s eta:0 sss\n",
      " epoch 47 100.00 % [==================================================>] 320000/320000 \t used:212s eta:0 sEPOCH 47 valid loss 2.0349767208099365 acc 47.3815625\n",
      "\n",
      "EPOCH 48 STEP 4999 LR 0.0125 ACC 69.34 LOSS 1.0  100.00 % [==================================================>] 1280000/1280000 \t used:837s eta:0 sss\n",
      " epoch 48 100.00 % [==================================================>] 320000/320000 \t used:215s eta:0 sEPOCH 48 valid loss 2.095292568206787 acc 47.1425\n",
      "\n",
      "EPOCH 49 STEP 4999 LR 0.0125 ACC 68.46 LOSS 1.04  100.00 % [==================================================>] 1280000/1280000 \t used:840s eta:0 ss\n",
      " epoch 49 100.00 % [==================================================>] 320000/320000 \t used:216s eta:0 sEPOCH 49 valid loss 2.1043436527252197 acc 47.1840625\n",
      "\n",
      "EPOCH 50 STEP 4999 LR 0.0125 ACC 67.58 LOSS 1.05  100.00 % [==================================================>] 1280000/1280000 \t used:842s eta:0 ss\n",
      " epoch 50 100.00 % [==================================================>] 320000/320000 \t used:214s eta:0 sEPOCH 50 valid loss 2.0847530364990234 acc 47.371875\n",
      "\n",
      "EPOCH 51 STEP 4999 LR 0.0125 ACC 70.34 LOSS 0.97  100.00 % [==================================================>] 1280000/1280000 \t used:840s eta:0 ss\n",
      " epoch 51 100.00 % [==================================================>] 320000/320000 \t used:215s eta:0 sEPOCH 51 valid loss 2.123056650161743 acc 47.145625\n",
      "\n",
      "EPOCH 52 STEP 4999 LR 0.0125 ACC 69.15 LOSS 0.99  100.00 % [==================================================>] 1280000/1280000 \t used:839s eta:0 ss\n",
      " epoch 52 100.00 % [==================================================>] 320000/320000 \t used:214s eta:0 sEPOCH 52 valid loss 2.1151928901672363 acc 47.523125\n",
      "\n",
      "EPOCH 53 STEP 4999 LR 0.0125 ACC 69.27 LOSS 1.01  100.00 % [==================================================>] 1280000/1280000 \t used:838s eta:0 ss\n",
      " epoch 53 100.00 % [==================================================>] 320000/320000 \t used:215s eta:0 sEPOCH 53 valid loss 2.135974645614624 acc 47.0028125\n",
      "\n",
      "EPOCH 54 STEP 4999 LR 0.0125 ACC 71.67 LOSS 0.92  100.00 % [==================================================>] 1280000/1280000 \t used:839s eta:0 ss\n",
      " epoch 54 100.00 % [==================================================>] 320000/320000 \t used:216s eta:0 sEPOCH 54 valid loss 2.136880874633789 acc 47.3440625\n",
      "\n",
      "EPOCH 55 STEP 4999 LR 0.0125 ACC 70.28 LOSS 0.96  100.00 % [==================================================>] 1280000/1280000 \t used:841s eta:0 ss\n",
      " epoch 55 100.00 % [==================================================>] 320000/320000 \t used:216s eta:0 sEPOCH 55 valid loss 2.153095006942749 acc 47.49125\n",
      "\n",
      "EPOCH 56 STEP 4999 LR 0.0125 ACC 68.96 LOSS 1.01  100.00 % [==================================================>] 1280000/1280000 \t used:840s eta:0 ss\n",
      " epoch 56 100.00 % [==================================================>] 320000/320000 \t used:215s eta:0 sEPOCH 56 valid loss 2.165053606033325 acc 47.108125\n",
      "\n",
      "EPOCH 57 STEP 4999 LR 0.0125 ACC 73.59 LOSS 0.87  100.00 % [==================================================>] 1280000/1280000 \t used:837s eta:0 ss\n",
      " epoch 57 100.00 % [==================================================>] 320000/320000 \t used:216s eta:0 sEPOCH 57 valid loss 2.161835193634033 acc 47.27625\n",
      "\n",
      "EPOCH 58 STEP 4999 LR 0.0125 ACC 70.33 LOSS 0.96  100.00 % [==================================================>] 1280000/1280000 \t used:841s eta:0 ss\n",
      " epoch 58 100.00 % [==================================================>] 320000/320000 \t used:215s eta:0 sEPOCH 58 valid loss 2.1942570209503174 acc 47.271875\n",
      "\n",
      "EPOCH 59 STEP 4999 LR 0.0125 ACC 70.17 LOSS 0.96  100.00 % [==================================================>] 1280000/1280000 \t used:837s eta:0 ss\n",
      " epoch 59 100.00 % [==================================================>] 320000/320000 \t used:216s eta:0 sEPOCH 59 valid loss 2.1806139945983887 acc 47.603125\n",
      "\n",
      "EPOCH 60 STEP 4999 LR 0.00625 ACC 70.79 LOSS 0.95  100.00 % [==================================================>] 1280000/1280000 \t used:840s eta:0 ss\n",
      " epoch 60 100.00 % [==================================================>] 320000/320000 \t used:215s eta:0 sEPOCH 60 valid loss 2.1757047176361084 acc 48.0175\n",
      "\n",
      "EPOCH 61 STEP 4999 LR 0.00625 ACC 75.24 LOSS 0.82  100.00 % [==================================================>] 1280000/1280000 \t used:843s eta:0 ss\n",
      " epoch 61 100.00 % [==================================================>] 320000/320000 \t used:215s eta:0 sEPOCH 61 valid loss 2.2264955043792725 acc 47.9865625\n",
      "\n",
      "EPOCH 62 STEP 4999 LR 0.00625 ACC 74.29 LOSS 0.85  100.00 % [==================================================>] 1280000/1280000 \t used:842s eta:0 ss\n",
      " epoch 62 100.00 % [==================================================>] 320000/320000 \t used:215s eta:0 sEPOCH 62 valid loss 2.2301366329193115 acc 48.0471875\n",
      "\n",
      "EPOCH 63 STEP 4999 LR 0.00625 ACC 73.65 LOSS 0.86  100.00 % [==================================================>] 1280000/1280000 \t used:838s eta:0 ss\n",
      " epoch 63 100.00 % [==================================================>] 320000/320000 \t used:215s eta:0 sEPOCH 63 valid loss 2.232400894165039 acc 48.1878125\n",
      "\n",
      "EPOCH 64 STEP 4999 LR 0.00625 ACC 75.63 LOSS 0.81  100.00 % [==================================================>] 1280000/1280000 \t used:840s eta:0 ss\n",
      " epoch 64 100.00 % [==================================================>] 320000/320000 \t used:214s eta:0 sEPOCH 64 valid loss 2.2706351280212402 acc 47.7859375\n",
      "\n",
      "EPOCH 65 STEP 4999 LR 0.00625 ACC 73.83 LOSS 0.86  100.00 % [==================================================>] 1280000/1280000 \t used:837s eta:0 ss\n",
      " epoch 65 100.00 % [==================================================>] 320000/320000 \t used:215s eta:0 sEPOCH 65 valid loss 2.284256935119629 acc 47.7640625\n",
      "\n",
      "EPOCH 66 STEP 4999 LR 0.00625 ACC 74.03 LOSS 0.85  100.00 % [==================================================>] 1280000/1280000 \t used:840s eta:0 ss\n",
      " epoch 66 100.00 % [==================================================>] 320000/320000 \t used:215s eta:0 sEPOCH 66 valid loss 2.2772560119628906 acc 47.7828125\n",
      "\n",
      "EPOCH 67 STEP 4999 LR 0.00625 ACC 76.97 LOSS 0.78  100.00 % [==================================================>] 1280000/1280000 \t used:839s eta:0 ss\n",
      " epoch 67 100.00 % [==================================================>] 320000/320000 \t used:215s eta:0 sEPOCH 67 valid loss 2.303452253341675 acc 48.021875\n",
      "\n",
      "EPOCH 68 STEP 4999 LR 0.00625 ACC 76.75 LOSS 0.79  100.00 % [==================================================>] 1280000/1280000 \t used:838s eta:0 ss\n",
      " epoch 68 100.00 % [==================================================>] 320000/320000 \t used:216s eta:0 sEPOCH 68 valid loss 2.2822394371032715 acc 48.165\n",
      "\n",
      "EPOCH 69 STEP 4999 LR 0.00625 ACC 75.2 LOSS 0.82  100.00 % [==================================================>] 1280000/1280000 \t used:841s eta:0 sss\n",
      " epoch 69 100.00 % [==================================================>] 320000/320000 \t used:214s eta:0 sEPOCH 69 valid loss 2.304013967514038 acc 47.993125\n",
      "\n",
      "EPOCH 70 STEP 4999 LR 0.00625 ACC 77.56 LOSS 0.76  100.00 % [==================================================>] 1280000/1280000 \t used:836s eta:0 ss\n",
      " epoch 70 100.00 % [==================================================>] 320000/320000 \t used:215s eta:0 sEPOCH 70 valid loss 2.3292157649993896 acc 48.146875\n",
      "\n",
      "EPOCH 71 STEP 4999 LR 0.00625 ACC 76.47 LOSS 0.79  100.00 % [==================================================>] 1280000/1280000 \t used:841s eta:0 ss\n",
      " epoch 71 100.00 % [==================================================>] 320000/320000 \t used:216s eta:0 sEPOCH 71 valid loss 2.33823561668396 acc 48.0184375\n",
      "\n",
      "EPOCH 72 STEP 4999 LR 0.00625 ACC 75.74 LOSS 0.8  100.00 % [==================================================>] 1280000/1280000 \t used:839s eta:0 sss\n",
      " epoch 72 100.00 % [==================================================>] 320000/320000 \t used:215s eta:0 sEPOCH 72 valid loss 2.319270610809326 acc 48.2265625\n",
      "\n",
      "EPOCH 73 STEP 4999 LR 0.00625 ACC 79.24 LOSS 0.71  100.00 % [==================================================>] 1280000/1280000 \t used:842s eta:0 ss\n",
      " epoch 73 100.00 % [==================================================>] 320000/320000 \t used:215s eta:0 sEPOCH 73 valid loss 2.3676538467407227 acc 47.8678125\n",
      "\n",
      "EPOCH 74 STEP 4999 LR 0.00625 ACC 76.6 LOSS 0.78  100.00 % [==================================================>] 1280000/1280000 \t used:838s eta:0 sss\n",
      " epoch 74 100.00 % [==================================================>] 320000/320000 \t used:215s eta:0 sEPOCH 74 valid loss 2.3427252769470215 acc 48.4659375\n",
      "\n",
      "EPOCH 75 STEP 4999 LR 0.003125 ACC 77.12 LOSS 0.75  100.00 % [==================================================>] 1280000/1280000 \t used:837s eta:0 ss\n",
      " epoch 75 100.00 % [==================================================>] 320000/320000 \t used:215s eta:0 sEPOCH 75 valid loss 2.380706548690796 acc 48.01625\n",
      "\n",
      "EPOCH 76 STEP 4999 LR 0.003125 ACC 80.9 LOSS 0.68  100.00 % [==================================================>] 1280000/1280000 \t used:837s eta:0 sss\n",
      " epoch 76 100.00 % [==================================================>] 320000/320000 \t used:215s eta:0 sEPOCH 76 valid loss 2.386427640914917 acc 48.4078125\n",
      "\n",
      "EPOCH 77 STEP 4999 LR 0.003125 ACC 79.31 LOSS 0.71  100.00 % [==================================================>] 1280000/1280000 \t used:836s eta:0 ss\n",
      " epoch 77 100.00 % [==================================================>] 320000/320000 \t used:215s eta:0 sEPOCH 77 valid loss 2.39564847946167 acc 48.47625\n",
      "\n",
      "EPOCH 78 STEP 4999 LR 0.003125 ACC 79.36 LOSS 0.7  100.00 % [==================================================>] 1280000/1280000 \t used:843s eta:0 sss\n",
      " epoch 78 100.00 % [==================================================>] 320000/320000 \t used:215s eta:0 sEPOCH 78 valid loss 2.4212749004364014 acc 48.1946875\n",
      "\n",
      "EPOCH 79 STEP 4999 LR 0.003125 ACC 80.82 LOSS 0.67  100.00 % [==================================================>] 1280000/1280000 \t used:840s eta:0 ss\n",
      " epoch 79 100.00 % [==================================================>] 320000/320000 \t used:215s eta:0 sEPOCH 79 valid loss 2.4148800373077393 acc 48.405\n",
      "\n",
      "EPOCH 80 STEP 4999 LR 0.003125 ACC 79.61 LOSS 0.69  100.00 % [==================================================>] 1280000/1280000 \t used:838s eta:0 ss\n",
      " epoch 80 100.00 % [==================================================>] 320000/320000 \t used:211s eta:0 sEPOCH 80 valid loss 2.446467638015747 acc 48.1328125\n",
      "\n",
      "EPOCH 81 STEP 4999 LR 0.003125 ACC 79.52 LOSS 0.69  100.00 % [==================================================>] 1280000/1280000 \t used:837s eta:0 ss\n",
      " epoch 81 100.00 % [==================================================>] 320000/320000 \t used:215s eta:0 sEPOCH 81 valid loss 2.41670560836792 acc 48.5559375\n",
      "\n",
      "EPOCH 82 STEP 4999 LR 0.003125 ACC 80.91 LOSS 0.66  100.00 % [==================================================>] 1280000/1280000 \t used:838s eta:0 ss\n",
      " epoch 82 100.00 % [==================================================>] 320000/320000 \t used:213s eta:0 sEPOCH 82 valid loss 2.4308743476867676 acc 48.34125\n",
      "\n",
      "EPOCH 83 STEP 4999 LR 0.003125 ACC 80.35 LOSS 0.67  100.00 % [==================================================>] 1280000/1280000 \t used:837s eta:0 ss\n",
      " epoch 83 100.00 % [==================================================>] 320000/320000 \t used:214s eta:0 sEPOCH 83 valid loss 2.459115982055664 acc 48.2153125\n",
      "\n",
      "EPOCH 84 STEP 4999 LR 0.003125 ACC 78.82 LOSS 0.71  100.00 % [==================================================>] 1280000/1280000 \t used:842s eta:0 ss\n",
      " epoch 84 100.00 % [==================================================>] 320000/320000 \t used:215s eta:0 sEPOCH 84 valid loss 2.44876766204834 acc 48.3940625\n",
      "\n"
     ]
    },
    {
     "name": "stdout",
     "output_type": "stream",
     "text": [
      "EPOCH 85 STEP 4999 LR 0.003125 ACC 82.01 LOSS 0.64  100.00 % [==================================================>] 1280000/1280000 \t used:839s eta:0 ss\n",
      " epoch 85 100.00 % [==================================================>] 320000/320000 \t used:212s eta:0 sEPOCH 85 valid loss 2.4323627948760986 acc 48.7303125\n",
      "\n",
      "EPOCH 86 STEP 4999 LR 0.003125 ACC 80.67 LOSS 0.66  100.00 % [==================================================>] 1280000/1280000 \t used:835s eta:0 ss\n",
      " epoch 86 100.00 % [==================================================>] 320000/320000 \t used:212s eta:0 sEPOCH 86 valid loss 2.4792299270629883 acc 48.31875\n",
      "\n",
      "EPOCH 87 STEP 4999 LR 0.003125 ACC 80.94 LOSS 0.65  100.00 % [==================================================>] 1280000/1280000 \t used:835s eta:0 ss\n",
      " epoch 87 100.00 % [==================================================>] 320000/320000 \t used:212s eta:0 sEPOCH 87 valid loss 2.4632720947265625 acc 48.636875\n",
      "\n",
      "EPOCH 88 STEP 4999 LR 0.003125 ACC 79.2 LOSS 0.7  100.00 % [==================================================>] 1280000/1280000 \t used:836s eta:0 ssss\n",
      " epoch 88 100.00 % [==================================================>] 320000/320000 \t used:213s eta:0 sEPOCH 88 valid loss 2.483504056930542 acc 48.1440625\n",
      "\n",
      "EPOCH 89 STEP 4999 LR 0.003125 ACC 81.36 LOSS 0.64  100.00 % [==================================================>] 1280000/1280000 \t used:846s eta:0 ss\n",
      " epoch 89 100.00 % [==================================================>] 320000/320000 \t used:214s eta:0 sEPOCH 89 valid loss 2.5037460327148438 acc 48.386875\n",
      "\n",
      "EPOCH 90 STEP 4999 LR 0.0015625 ACC 80.89 LOSS 0.67  100.00 % [==================================================>] 1280000/1280000 \t used:843s eta:0 ss\n",
      " epoch 90 100.00 % [==================================================>] 320000/320000 \t used:215s eta:0 sEPOCH 90 valid loss 2.4807307720184326 acc 48.6590625\n",
      "\n",
      "EPOCH 91 STEP 4999 LR 0.0015625 ACC 80.6 LOSS 0.67  100.00 % [==================================================>] 1280000/1280000 \t used:841s eta:0 sss\n",
      " epoch 91 100.00 % [==================================================>] 320000/320000 \t used:215s eta:0 sEPOCH 91 valid loss 2.4833741188049316 acc 48.7475\n",
      "\n",
      "EPOCH 92 STEP 4999 LR 0.0015625 ACC 82.14 LOSS 0.62  100.00 % [==================================================>] 1280000/1280000 \t used:842s eta:0 ss\n",
      " epoch 92 100.00 % [==================================================>] 320000/320000 \t used:214s eta:0 sEPOCH 92 valid loss 2.524625301361084 acc 48.2965625\n",
      "\n",
      "EPOCH 93 STEP 4999 LR 0.0015625 ACC 82.58 LOSS 0.62  100.00 % [==================================================>] 1280000/1280000 \t used:845s eta:0 ss\n",
      " epoch 93 100.00 % [==================================================>] 320000/320000 \t used:214s eta:0 sEPOCH 93 valid loss 2.521289348602295 acc 48.7340625\n",
      "\n",
      "EPOCH 94 STEP 4999 LR 0.0015625 ACC 82.12 LOSS 0.63  100.00 % [==================================================>] 1280000/1280000 \t used:846s eta:0 ss\n",
      " epoch 94 100.00 % [==================================================>] 320000/320000 \t used:214s eta:0 sEPOCH 94 valid loss 2.51842999458313 acc 48.5253125\n",
      "\n",
      "EPOCH 95 STEP 4999 LR 0.0015625 ACC 82.62 LOSS 0.62  100.00 % [==================================================>] 1280000/1280000 \t used:843s eta:0 ss\n",
      " epoch 95 100.00 % [==================================================>] 320000/320000 \t used:214s eta:0 sEPOCH 95 valid loss 2.525319814682007 acc 48.6353125\n",
      "\n",
      "EPOCH 96 STEP 4999 LR 0.0015625 ACC 81.99 LOSS 0.63  100.00 % [==================================================>] 1280000/1280000 \t used:842s eta:0 ss\n",
      " epoch 96 100.00 % [==================================================>] 320000/320000 \t used:213s eta:0 sEPOCH 96 valid loss 2.511666774749756 acc 48.9340625\n",
      "\n",
      "EPOCH 97 STEP 4999 LR 0.0015625 ACC 81.7 LOSS 0.65  100.00 % [==================================================>] 1280000/1280000 \t used:884s eta:0 sss\n",
      " epoch 97 100.00 % [==================================================>] 320000/320000 \t used:205s eta:0 sEPOCH 97 valid loss 2.5515756607055664 acc 48.3375\n",
      "\n",
      "EPOCH 98 STEP 4999 LR 0.0015625 ACC 82.78 LOSS 0.6  100.00 % [==================================================>] 1280000/1280000 \t used:1138s eta:0 sss\n",
      " epoch 98 100.00 % [==================================================>] 320000/320000 \t used:206s eta:0 sEPOCH 98 valid loss 2.539060115814209 acc 48.5671875\n",
      "\n",
      "EPOCH 99 STEP 4999 LR 0.0015625 ACC 82.08 LOSS 0.62  100.00 % [==================================================>] 1280000/1280000 \t used:1140s eta:0 ss\n",
      " epoch 99 100.00 % [==================================================>] 320000/320000 \t used:206s eta:0 sEPOCH 99 valid loss 2.5622847080230713 acc 48.383125\n",
      "\n"
     ]
    }
   ],
   "source": [
    "restore = True\n",
    "N_EPOCH = 100\n",
    "DECAY_EPOCH = 15\n",
    "\n",
    "class ExpVal:\n",
    "    def __init__(self,exp_a=0.97):\n",
    "        self.val = None\n",
    "        self.exp_a = exp_a\n",
    "    def update(self,newval):\n",
    "        if self.val == None:\n",
    "            self.val = newval\n",
    "        else:\n",
    "            self.val = self.exp_a * self.val + (1 - self.exp_a) * newval\n",
    "    def getval(self):\n",
    "        return round(self.val,2)\n",
    "    \n",
    "expacc_move = ExpVal()\n",
    "exploss = ExpVal()\n",
    "\n",
    "\n",
    "begining_learning_rate = 1e-1\n",
    "\n",
    "pred_image = None\n",
    "if restore == False:\n",
    "    train_epoch = 1\n",
    "    train_batch = 0\n",
    "for one_epoch in range(train_epoch + 1,N_EPOCH):\n",
    "    train_epoch = one_epoch\n",
    "    pb = ProgressBar(worksum=N_BATCH * BATCH_SIZE,info=\" epoch {} batch {}\".format(train_epoch,train_batch))\n",
    "    pb.startjob()\n",
    "    \n",
    "    for one_batch in range(N_BATCH):\n",
    "        if restore == True and one_batch < train_batch:\n",
    "            pb.auto_display = False\n",
    "            pb.complete(BATCH_SIZE)\n",
    "            pb.auto_display = True\n",
    "            continue\n",
    "        else:\n",
    "            restore = False\n",
    "        train_batch = one_batch\n",
    "        \n",
    "        batch_x,batch_y = trainflow.next()['data']\n",
    "        # learning rate decay strategy\n",
    "        batch_lr = begining_learning_rate * 2 ** -(one_epoch // DECAY_EPOCH)\n",
    "        with graph.as_default():\n",
    "            _,step_loss,step_acc_move,step_value = sess.run(\n",
    "                [train_op_policy,policy_loss,accuracy_select,global_step],feed_dict={\n",
    "                    X:batch_x,nextmove:batch_y,learning_rate:batch_lr,training:True\n",
    "                })\n",
    "        \n",
    "        step_acc_move *= 100\n",
    "        \n",
    "        expacc_move.update(step_acc_move)\n",
    "        exploss.update(step_loss)\n",
    "\n",
    "       \n",
    "        pb.info = \"EPOCH {} STEP {} LR {} ACC {} LOSS {} \".format(\n",
    "            one_epoch,one_batch,batch_lr,expacc_move.getval(),exploss.getval())\n",
    "        \n",
    "        pb.complete(BATCH_SIZE)\n",
    "    print()\n",
    "    pb = ProgressBar(worksum=N_BATCH // 4 * BATCH_SIZE,info=\" epoch {}\".format(train_epoch))\n",
    "    pb.startjob()\n",
    "    losses = []\n",
    "    accs = []\n",
    "    for one_batch in range(N_BATCH // 4):\n",
    "        batch_x,batch_y = testflow.next()['data']\n",
    "        # learning rate decay strategy\n",
    "        batch_lr = begining_learning_rate * 10 ** -(one_epoch // DECAY_EPOCH)\n",
    "        with graph.as_default():\n",
    "            step_loss,step_acc_move,step_value = sess.run(\n",
    "                [policy_loss,accuracy_select,global_step],feed_dict={\n",
    "                    X:batch_x,nextmove:batch_y,learning_rate:batch_lr,training:False\n",
    "                })\n",
    "        \n",
    "        step_acc_move *= 100\n",
    "        losses.append(step_loss)\n",
    "        accs.append(step_acc_move)\n",
    "        pb.complete(BATCH_SIZE)\n",
    "    print(\"EPOCH {} valid loss {} acc {}\".format(train_epoch,np.average(losses),np.average(accs)))\n",
    "    print()\n",
    "    with graph.as_default():\n",
    "        saver = tf.train.Saver(var_list=tf.global_variables())\n",
    "        saver.save(sess,\"models/{}/model_{}\".format(model_name,one_epoch))"
   ]
  },
  {
   "cell_type": "code",
   "execution_count": null,
   "metadata": {
    "collapsed": true
   },
   "outputs": [],
   "source": []
  }
 ],
 "metadata": {
  "anaconda-cloud": {},
  "kernelspec": {
   "display_name": "tf1.3_python",
   "language": "python",
   "name": "tf1.3_kernel"
  },
  "language_info": {
   "codemirror_mode": {
    "name": "ipython",
    "version": 3
   },
   "file_extension": ".py",
   "mimetype": "text/x-python",
   "name": "python",
   "nbconvert_exporter": "python",
   "pygments_lexer": "ipython3",
   "version": "3.6.0"
  }
 },
 "nbformat": 4,
 "nbformat_minor": 1
}
