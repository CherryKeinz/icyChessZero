{
 "cells": [
  {
   "cell_type": "code",
   "execution_count": 3,
   "metadata": {
    "collapsed": true
   },
   "outputs": [],
   "source": [
    "%reload_ext autoreload \n",
    "%autoreload 2\n",
    "from cchess import *"
   ]
  },
  {
   "cell_type": "code",
   "execution_count": 4,
   "metadata": {
    "collapsed": true
   },
   "outputs": [],
   "source": [
    "bb = BaseChessBoard(FULL_INIT_FEN)"
   ]
  },
  {
   "cell_type": "code",
   "execution_count": 5,
   "metadata": {},
   "outputs": [
    {
     "name": "stdout",
     "output_type": "stream",
     "text": [
      "\n",
      "0 砗─碼─象─士─将─士─象─碼─砗\n",
      "  │  │  │  │＼│／│　│　│　│\n",
      "1 ├─┼─┼─┼─※─┼─┼─┼─┤\n",
      "  │　│　│　│／│＼│　│　│　│\n",
      "2 ├─砲─┼─┼─┼─┼─┼─砲─┤\n",
      "  │　│　│　│　│　│　│　│　│\n",
      "3 卒─┼─卒─┼─卒─┼─卒─┼─卒\n",
      "  │　│　│　│　│　│　│　│　│\n",
      "4 ├─┴─┴─┴─┴─┴─┴─┴─┤\n",
      "  │　                         　 │\n",
      "5 ├─┬─┬─┬─┬─┬─┬─┬─┤\n",
      "  │　│　│　│　│　│　│　│　│\n",
      "6 兵─┼─兵─┼─兵─┼─兵─┼─兵\n",
      "  │　│　│　│　│　│　│　│　│\n",
      "7 ├─炮─┼─┼─┼─┼─┼─炮─┤\n",
      "  │　│　│　│＼│／│　│　│　│\n",
      "8 ├─┼─┼─┼─※─┼─┼─┼─┤\n",
      "  │　│　│　│／│＼│　│　│　│\n",
      "9 车─马─相─仕─帅─仕─相─马─车\n",
      "  0   1   2   3   4   5   6   7   8\n",
      "\n"
     ]
    }
   ],
   "source": [
    "bb.print_board()"
   ]
  },
  {
   "cell_type": "code",
   "execution_count": 6,
   "metadata": {},
   "outputs": [
    {
     "data": {
      "text/plain": [
       "<cchess.move.Move at 0x7f65b9682c50>"
      ]
     },
     "execution_count": 6,
     "metadata": {},
     "output_type": "execute_result"
    }
   ],
   "source": [
    "bb.move(Pos(7,7),Pos(4,7))"
   ]
  },
  {
   "cell_type": "code",
   "execution_count": 7,
   "metadata": {},
   "outputs": [
    {
     "name": "stdout",
     "output_type": "stream",
     "text": [
      "\n",
      "0 砗─碼─象─士─将─士─象─碼─砗\n",
      "  │  │  │  │＼│／│　│　│　│\n",
      "1 ├─┼─┼─┼─※─┼─┼─┼─┤\n",
      "  │　│　│　│／│＼│　│　│　│\n",
      "2 ├─砲─┼─┼─┼─┼─┼─砲─┤\n",
      "  │　│　│　│　│　│　│　│　│\n",
      "3 卒─┼─卒─┼─卒─┼─卒─┼─卒\n",
      "  │　│　│　│　│　│　│　│　│\n",
      "4 ├─┴─┴─┴─┴─┴─┴─┴─┤\n",
      "  │　                         　 │\n",
      "5 ├─┬─┬─┬─┬─┬─┬─┬─┤\n",
      "  │　│　│　│　│　│　│　│　│\n",
      "6 兵─┼─兵─┼─兵─┼─兵─┼─兵\n",
      "  │　│　│　│　│　│　│　│　│\n",
      "7 ├─炮─┼─┼─炮─┼─┼─┼─┤\n",
      "  │　│　│　│＼│／│　│　│　│\n",
      "8 ├─┼─┼─┼─※─┼─┼─┼─┤\n",
      "  │　│　│　│／│＼│　│　│　│\n",
      "9 车─马─相─仕─帅─仕─相─马─车\n",
      "  0   1   2   3   4   5   6   7   8\n",
      "\n"
     ]
    }
   ],
   "source": [
    "bb.print_board()"
   ]
  },
  {
   "cell_type": "code",
   "execution_count": 6,
   "metadata": {},
   "outputs": [
    {
     "data": {
      "text/plain": [
       "array([['r', 'n', 'b', 'a', 'k', 'a', 'b', 'n', 'r'],\n",
       "       [None, None, None, None, None, None, None, None, None],\n",
       "       [None, 'c', None, None, None, None, None, 'c', None],\n",
       "       ['p', None, 'p', None, 'p', None, 'p', None, 'p'],\n",
       "       [None, None, None, None, None, None, None, None, None],\n",
       "       [None, None, None, None, None, None, None, None, None],\n",
       "       ['P', None, 'P', None, 'P', None, 'P', None, 'P'],\n",
       "       [None, 'C', None, None, 'C', None, None, None, None],\n",
       "       [None, None, None, None, None, None, None, None, None],\n",
       "       ['R', 'N', 'B', 'A', 'K', 'A', 'B', 'N', 'R']], dtype=object)"
      ]
     },
     "execution_count": 6,
     "metadata": {},
     "output_type": "execute_result"
    }
   ],
   "source": [
    "bb.get_board_arr()"
   ]
  },
  {
   "cell_type": "code",
   "execution_count": 7,
   "metadata": {},
   "outputs": [
    {
     "data": {
      "text/plain": [
       "(10, 9)"
      ]
     },
     "execution_count": 7,
     "metadata": {},
     "output_type": "execute_result"
    }
   ],
   "source": [
    "bb.get_board_arr().shape"
   ]
  },
  {
   "cell_type": "code",
   "execution_count": 8,
   "metadata": {
    "collapsed": true
   },
   "outputs": [],
   "source": [
    "target = np.zeros((10,9))\n",
    "target[7,4] = 1"
   ]
  },
  {
   "cell_type": "code",
   "execution_count": 9,
   "metadata": {},
   "outputs": [
    {
     "data": {
      "text/plain": [
       "array([[ 0.,  0.,  0.,  0.,  0.,  0.,  0.,  0.,  0.],\n",
       "       [ 0.,  0.,  0.,  0.,  0.,  0.,  0.,  0.,  0.],\n",
       "       [ 0.,  0.,  0.,  0.,  0.,  0.,  0.,  0.,  0.],\n",
       "       [ 0.,  0.,  0.,  0.,  0.,  0.,  0.,  0.,  0.],\n",
       "       [ 0.,  0.,  0.,  0.,  0.,  0.,  0.,  0.,  0.],\n",
       "       [ 0.,  0.,  0.,  0.,  0.,  0.,  0.,  0.,  0.],\n",
       "       [ 0.,  0.,  0.,  0.,  0.,  0.,  0.,  0.,  0.],\n",
       "       [ 0.,  0.,  0.,  0.,  1.,  0.,  0.,  0.,  0.],\n",
       "       [ 0.,  0.,  0.,  0.,  0.,  0.,  0.,  0.,  0.],\n",
       "       [ 0.,  0.,  0.,  0.,  0.,  0.,  0.,  0.,  0.]])"
      ]
     },
     "execution_count": 9,
     "metadata": {},
     "output_type": "execute_result"
    }
   ],
   "source": [
    "target"
   ]
  },
  {
   "cell_type": "code",
   "execution_count": 10,
   "metadata": {},
   "outputs": [
    {
     "data": {
      "text/plain": [
       "['c', 'N', 'A', 'p', 'K', 'b', 'n', 'r', 'k', None, 'P', 'R', 'a', 'B', 'C']"
      ]
     },
     "execution_count": 10,
     "metadata": {},
     "output_type": "execute_result"
    }
   ],
   "source": [
    "list(set(bb.get_board_arr().reshape(-1)))"
   ]
  },
  {
   "cell_type": "markdown",
   "metadata": {
    "collapsed": true
   },
   "source": [
    "# read a chess game"
   ]
  },
  {
   "cell_type": "code",
   "execution_count": 8,
   "metadata": {
    "collapsed": true
   },
   "outputs": [],
   "source": [
    "import xmltodict"
   ]
  },
  {
   "cell_type": "code",
   "execution_count": null,
   "metadata": {
    "collapsed": true
   },
   "outputs": [],
   "source": [
    "def cbf2pgn(cbfname):\n",
    "    doc = xmltodict.parse(open(cbfname,encoding='utf-8').read())\n",
    "    fen = doc['ChineseChessRecord'][\"Head\"][\"FEN\"]\n",
    "    pgnfile = doc['ChineseChessRecord'][\"Head\"][\"From\"]\n",
    "    return pgnfile"
   ]
  },
  {
   "cell_type": "code",
   "execution_count": 18,
   "metadata": {
    "collapsed": true
   },
   "outputs": [],
   "source": [
    "doc = xmltodict.parse(open('./data/samples/1966年全国象棋个人赛.cbf',encoding='utf-8').read())"
   ]
  },
  {
   "cell_type": "code",
   "execution_count": 19,
   "metadata": {
    "collapsed": true
   },
   "outputs": [],
   "source": [
    "fen = doc['ChineseChessRecord'][\"Head\"][\"FEN\"]"
   ]
  },
  {
   "cell_type": "code",
   "execution_count": 20,
   "metadata": {
    "collapsed": true
   },
   "outputs": [],
   "source": [
    "pgnfile = doc['ChineseChessRecord'][\"Head\"][\"From\"]"
   ]
  },
  {
   "cell_type": "code",
   "execution_count": 21,
   "metadata": {},
   "outputs": [
    {
     "data": {
      "text/plain": [
       "'12089.pgn'"
      ]
     },
     "execution_count": 21,
     "metadata": {},
     "output_type": "execute_result"
    }
   ],
   "source": [
    "pgnfile"
   ]
  },
  {
   "cell_type": "code",
   "execution_count": 14,
   "metadata": {},
   "outputs": [
    {
     "name": "stdout",
     "output_type": "stream",
     "text": [
      "总用量 223412\n",
      "-rw-rw-r-- 1 meta meta  601 11月  3  2017 10001.pgn\n",
      "-rw-rw-r-- 1 meta meta 1414 11月  3  2017 10002.pgn\n",
      "-rw-rw-r-- 1 meta meta 5260 11月  3  2017 10003.pgn\n",
      "-rw-rw-r-- 1 meta meta 1402 11月  3  2017 10004.pgn\n",
      "-rw-rw-r-- 1 meta meta 1486 11月  3  2017 10005.pgn\n",
      "-rw-rw-r-- 1 meta meta 1169 11月  3  2017 10006.pgn\n",
      "-rw-rw-r-- 1 meta meta  770 11月  3  2017 10007.pgn\n",
      "-rw-rw-r-- 1 meta meta  917 11月  3  2017 10008.pgn\n",
      "-rw-rw-r-- 1 meta meta 1073 11月  3  2017 10009.pgn\n",
      "ls: 写入错误: 断开的管道\n"
     ]
    }
   ],
   "source": [
    "!ls -l data/imsa_play/ | head"
   ]
  },
  {
   "cell_type": "raw",
   "metadata": {
    "collapsed": true
   },
   "source": [
    "! grep Result data/imsa_play/* > data/samples/results"
   ]
  },
  {
   "cell_type": "code",
   "execution_count": 15,
   "metadata": {
    "collapsed": true
   },
   "outputs": [],
   "source": [
    "from collections import Counter"
   ]
  },
  {
   "cell_type": "code",
   "execution_count": 16,
   "metadata": {},
   "outputs": [
    {
     "data": {
      "text/plain": [
       "55830"
      ]
     },
     "execution_count": 16,
     "metadata": {},
     "output_type": "execute_result"
    }
   ],
   "source": [
    "results = [i for i in open('data/samples/results',encoding='gbk').read().split(\"\\n\") if i]\n",
    "len(results)"
   ]
  },
  {
   "cell_type": "code",
   "execution_count": 78,
   "metadata": {
    "collapsed": true
   },
   "outputs": [],
   "source": [
    "pgns = [i.split(':')[0].split(\"/\")[-1] for i in results]"
   ]
  },
  {
   "cell_type": "code",
   "execution_count": 79,
   "metadata": {
    "collapsed": true
   },
   "outputs": [],
   "source": [
    "results = [i.split(' ')[-1][:-1].strip(\"\\\"\") for i in results]"
   ]
  },
  {
   "cell_type": "code",
   "execution_count": 80,
   "metadata": {},
   "outputs": [
    {
     "data": {
      "text/plain": [
       "Counter({'': 4,\n",
       "         '*': 393,\n",
       "         '0-1': 355,\n",
       "         '1-0': 570,\n",
       "         '1/2-1/2': 760,\n",
       "         '和棋': 3799,\n",
       "         '红': 1,\n",
       "         '红和': 15015,\n",
       "         '红胜': 20002,\n",
       "         '红负': 12249,\n",
       "         '黑胜': 2682})"
      ]
     },
     "execution_count": 80,
     "metadata": {},
     "output_type": "execute_result"
    }
   ],
   "source": [
    "Counter(results)"
   ]
  },
  {
   "cell_type": "code",
   "execution_count": 81,
   "metadata": {
    "collapsed": true
   },
   "outputs": [],
   "source": [
    "result2result = {'': np.nan,\n",
    "         '*': np.nan,\n",
    "         '0-1': -1,\n",
    "         '1-0': 1,\n",
    "         '1/2-1/2': 0,\n",
    "         '和棋': 0,\n",
    "         '红': np.nan,\n",
    "         '红和': 0,\n",
    "         '红胜': 1,\n",
    "         '红负': -1,\n",
    "         '黑胜': -1}"
   ]
  },
  {
   "cell_type": "code",
   "execution_count": 82,
   "metadata": {},
   "outputs": [
    {
     "data": {
      "text/plain": [
       "Counter({-1: 15286, 0: 19574, 1: 20572, nan: 398})"
      ]
     },
     "execution_count": 82,
     "metadata": {},
     "output_type": "execute_result"
    }
   ],
   "source": [
    "Counter(map(lambda x:result2result[x],results))"
   ]
  },
  {
   "cell_type": "code",
   "execution_count": 1,
   "metadata": {},
   "outputs": [
    {
     "data": {
      "text/plain": [
       "0.6468826670515225"
      ]
     },
     "execution_count": 1,
     "metadata": {},
     "output_type": "execute_result"
    }
   ],
   "source": [
    "(15286 + 20572) / (15286 + 20572 + 19574)"
   ]
  },
  {
   "cell_type": "code",
   "execution_count": 83,
   "metadata": {
    "collapsed": true
   },
   "outputs": [],
   "source": [
    "resultnum = list(map(lambda x:result2result[x],results))"
   ]
  },
  {
   "cell_type": "code",
   "execution_count": 84,
   "metadata": {},
   "outputs": [
    {
     "data": {
      "text/plain": [
       "(55830, 55830)"
      ]
     },
     "execution_count": 84,
     "metadata": {},
     "output_type": "execute_result"
    }
   ],
   "source": [
    "len(pgns),len(resultnum)"
   ]
  },
  {
   "cell_type": "code",
   "execution_count": 9,
   "metadata": {
    "collapsed": true
   },
   "outputs": [],
   "source": [
    "import pandas as pd"
   ]
  },
  {
   "cell_type": "code",
   "execution_count": 87,
   "metadata": {
    "collapsed": true
   },
   "outputs": [],
   "source": [
    "pd.DataFrame({\n",
    "    'pgnfile':pgns,\n",
    "    'result':resultnum\n",
    "}).to_csv('./data/resultlist.csv')"
   ]
  },
  {
   "cell_type": "code",
   "execution_count": 5,
   "metadata": {},
   "outputs": [
    {
     "data": {
      "text/plain": [
       "55830"
      ]
     },
     "execution_count": 5,
     "metadata": {},
     "output_type": "execute_result"
    }
   ],
   "source": [
    "len(pd.read_csv('./data/resultlist.csv'))"
   ]
  },
  {
   "cell_type": "code",
   "execution_count": 88,
   "metadata": {},
   "outputs": [
    {
     "name": "stdout",
     "output_type": "stream",
     "text": [
      "  55831 ./data/resultlist.csv\r\n",
      "   5554 ./data/test_list.csv\r\n",
      "  49982 ./data/train_list.csv\r\n",
      " 111367 总用量\r\n"
     ]
    }
   ],
   "source": [
    "! wc -l ./data/*.csv"
   ]
  },
  {
   "cell_type": "code",
   "execution_count": 89,
   "metadata": {},
   "outputs": [
    {
     "data": {
      "text/plain": [
       "295"
      ]
     },
     "execution_count": 89,
     "metadata": {},
     "output_type": "execute_result"
    }
   ],
   "source": [
    "55831 - (5554 + 49982)"
   ]
  },
  {
   "cell_type": "code",
   "execution_count": 10,
   "metadata": {},
   "outputs": [
    {
     "data": {
      "text/html": [
       "<div>\n",
       "<style>\n",
       "    .dataframe thead tr:only-child th {\n",
       "        text-align: right;\n",
       "    }\n",
       "\n",
       "    .dataframe thead th {\n",
       "        text-align: left;\n",
       "    }\n",
       "\n",
       "    .dataframe tbody tr th {\n",
       "        vertical-align: top;\n",
       "    }\n",
       "</style>\n",
       "<table border=\"1\" class=\"dataframe\">\n",
       "  <thead>\n",
       "    <tr style=\"text-align: right;\">\n",
       "      <th></th>\n",
       "      <th>Unnamed: 0</th>\n",
       "      <th>pgnfile</th>\n",
       "      <th>result</th>\n",
       "    </tr>\n",
       "  </thead>\n",
       "  <tbody>\n",
       "    <tr>\n",
       "      <th>55810</th>\n",
       "      <td>55810</td>\n",
       "      <td>697315.pgn</td>\n",
       "      <td>0.0</td>\n",
       "    </tr>\n",
       "    <tr>\n",
       "      <th>55811</th>\n",
       "      <td>55811</td>\n",
       "      <td>697319.pgn</td>\n",
       "      <td>1.0</td>\n",
       "    </tr>\n",
       "    <tr>\n",
       "      <th>55812</th>\n",
       "      <td>55812</td>\n",
       "      <td>697321.pgn</td>\n",
       "      <td>1.0</td>\n",
       "    </tr>\n",
       "    <tr>\n",
       "      <th>55813</th>\n",
       "      <td>55813</td>\n",
       "      <td>697329.pgn</td>\n",
       "      <td>-1.0</td>\n",
       "    </tr>\n",
       "    <tr>\n",
       "      <th>55814</th>\n",
       "      <td>55814</td>\n",
       "      <td>697399.pgn</td>\n",
       "      <td>0.0</td>\n",
       "    </tr>\n",
       "    <tr>\n",
       "      <th>55815</th>\n",
       "      <td>55815</td>\n",
       "      <td>697405.pgn</td>\n",
       "      <td>1.0</td>\n",
       "    </tr>\n",
       "    <tr>\n",
       "      <th>55816</th>\n",
       "      <td>55816</td>\n",
       "      <td>697407.pgn</td>\n",
       "      <td>-1.0</td>\n",
       "    </tr>\n",
       "    <tr>\n",
       "      <th>55817</th>\n",
       "      <td>55817</td>\n",
       "      <td>697431.pgn</td>\n",
       "      <td>0.0</td>\n",
       "    </tr>\n",
       "    <tr>\n",
       "      <th>55818</th>\n",
       "      <td>55818</td>\n",
       "      <td>697433.pgn</td>\n",
       "      <td>1.0</td>\n",
       "    </tr>\n",
       "    <tr>\n",
       "      <th>55819</th>\n",
       "      <td>55819</td>\n",
       "      <td>697435.pgn</td>\n",
       "      <td>0.0</td>\n",
       "    </tr>\n",
       "    <tr>\n",
       "      <th>55820</th>\n",
       "      <td>55820</td>\n",
       "      <td>697445.pgn</td>\n",
       "      <td>-1.0</td>\n",
       "    </tr>\n",
       "    <tr>\n",
       "      <th>55821</th>\n",
       "      <td>55821</td>\n",
       "      <td>697447.pgn</td>\n",
       "      <td>-1.0</td>\n",
       "    </tr>\n",
       "    <tr>\n",
       "      <th>55822</th>\n",
       "      <td>55822</td>\n",
       "      <td>697449.pgn</td>\n",
       "      <td>-1.0</td>\n",
       "    </tr>\n",
       "    <tr>\n",
       "      <th>55823</th>\n",
       "      <td>55823</td>\n",
       "      <td>697451.pgn</td>\n",
       "      <td>-1.0</td>\n",
       "    </tr>\n",
       "    <tr>\n",
       "      <th>55824</th>\n",
       "      <td>55824</td>\n",
       "      <td>697463.pgn</td>\n",
       "      <td>NaN</td>\n",
       "    </tr>\n",
       "    <tr>\n",
       "      <th>55825</th>\n",
       "      <td>55825</td>\n",
       "      <td>697525.pgn</td>\n",
       "      <td>0.0</td>\n",
       "    </tr>\n",
       "    <tr>\n",
       "      <th>55826</th>\n",
       "      <td>55826</td>\n",
       "      <td>697527.pgn</td>\n",
       "      <td>1.0</td>\n",
       "    </tr>\n",
       "    <tr>\n",
       "      <th>55827</th>\n",
       "      <td>55827</td>\n",
       "      <td>697529.pgn</td>\n",
       "      <td>0.0</td>\n",
       "    </tr>\n",
       "    <tr>\n",
       "      <th>55828</th>\n",
       "      <td>55828</td>\n",
       "      <td>697533.pgn</td>\n",
       "      <td>0.0</td>\n",
       "    </tr>\n",
       "    <tr>\n",
       "      <th>55829</th>\n",
       "      <td>55829</td>\n",
       "      <td>697535.pgn</td>\n",
       "      <td>1.0</td>\n",
       "    </tr>\n",
       "  </tbody>\n",
       "</table>\n",
       "</div>"
      ],
      "text/plain": [
       "       Unnamed: 0     pgnfile  result\n",
       "55810       55810  697315.pgn     0.0\n",
       "55811       55811  697319.pgn     1.0\n",
       "55812       55812  697321.pgn     1.0\n",
       "55813       55813  697329.pgn    -1.0\n",
       "55814       55814  697399.pgn     0.0\n",
       "55815       55815  697405.pgn     1.0\n",
       "55816       55816  697407.pgn    -1.0\n",
       "55817       55817  697431.pgn     0.0\n",
       "55818       55818  697433.pgn     1.0\n",
       "55819       55819  697435.pgn     0.0\n",
       "55820       55820  697445.pgn    -1.0\n",
       "55821       55821  697447.pgn    -1.0\n",
       "55822       55822  697449.pgn    -1.0\n",
       "55823       55823  697451.pgn    -1.0\n",
       "55824       55824  697463.pgn     NaN\n",
       "55825       55825  697525.pgn     0.0\n",
       "55826       55826  697527.pgn     1.0\n",
       "55827       55827  697529.pgn     0.0\n",
       "55828       55828  697533.pgn     0.0\n",
       "55829       55829  697535.pgn     1.0"
      ]
     },
     "execution_count": 10,
     "metadata": {},
     "output_type": "execute_result"
    }
   ],
   "source": [
    "pd.read_csv('./data/resultlist.csv').tail(20)"
   ]
  },
  {
   "cell_type": "code",
   "execution_count": 16,
   "metadata": {},
   "outputs": [
    {
     "data": {
      "text/plain": [
       "['[Result \"红胜\"]']"
      ]
     },
     "execution_count": 16,
     "metadata": {},
     "output_type": "execute_result"
    }
   ],
   "source": [
    "[i for i in open('./data/imsa_play/697527.pgn',encoding='gbk').read().split(\"\\n\") if 'Result' in i]"
   ]
  },
  {
   "cell_type": "code",
   "execution_count": 29,
   "metadata": {},
   "outputs": [
    {
     "name": "stdout",
     "output_type": "stream",
     "text": [
      "./data/imsa-cbf/2015年第二届淄博傅山杯象棋公开赛 {DD7D1558-A28F-4B6A-B435-230CC1C50C93}.cbf\r",
      "\r\n",
      "./data/imsa-cbf/2015年腾讯棋牌全国象棋甲级联赛 {2175680E-9C33-4222-84BF-8BF84FEBBAF2}.cbf\r",
      "\r\n",
      "./data/imsa-cbf/no {BEAF4864-1754-43D2-A241-43552C46B930}.cbf\r",
      "\r\n",
      "./data/imsa-cbf/no {8FFF0AA2-10E0-4DC8-AFC0-053A44E98F0E}.cbf\r",
      "\r\n",
      "./data/imsa-cbf/no {F6A30BD5-091C-4182-8A99-4D948C1C0EB2}.cbf\r",
      "\r\n",
      "./data/imsa-cbf/no {E566F43B-90F7-43DB-B427-76DFA360750A}.cbf\r",
      "\r\n",
      "./data/imsa-cbf/no {921A722D-86FA-4C11-9CFE-A4DB8B6CFF00}.cbf\r",
      "\r\n",
      "./data/imsa-cbf/no {8D7937EA-5C42-49A4-A630-E6F93A550629}.cbf\r",
      "\r\n",
      "./data/imsa-cbf/no {0773AD2E-4C05-4197-B338-7FC4F017FCC0}.cbf\r",
      "\r\n",
      "./data/imsa-cbf/2014年第04届周庄杯海峡两岸象棋大师赛 {000886FC-BFAE-4656-A28B-70F98E4F5A57}.cbf\r",
      "\r\n"
     ]
    }
   ],
   "source": [
    "! head data/train_list.csv"
   ]
  },
  {
   "cell_type": "code",
   "execution_count": 27,
   "metadata": {},
   "outputs": [
    {
     "data": {
      "text/plain": [
       "'\\ufeff<?xml version=\"1.0\" encoding=\"UTF-8\"?>\\n<ChineseChessRecord Version=\"1.0\">\\n <Head>\\n  <Name>2015年第二届淄博傅山杯象棋公开赛</Name>\\n  <URL />\\n  <From>13826.pgn</From>\\n  <ContestType />\\n  <Contest />\\n  <Round>第02轮</Round>\\n  <Group />\\n  <Table />\\n  <Date>2015-05-09</Date>\\n  <Site>淄博傅山文化宫</Site>\\n  <TimeRule />\\n  <Red>韩克刚</Red>\\n  <RedTeam>山东淄博</RedTeam>\\n  <RedTime />\\n  <RedRating />\\n  <Black>张一男</Black>\\n  <BlackTeam>北京</BlackTeam>\\n  <BlackTime />\\n  <BlackRating />\\n  <Referee />\\n  <Recorder />\\n  <Commentator />\\n  <CommentatorURL />\\n  <Creator />\\n  <CreatorURL />\\n  <DateCreated />\\n  <DateModified>2017-11-04 18:21:20</DateModified>\\n  <ECCO>D10</ECCO>\\n  <RecordType>1</RecordType>\\n  <RecordKind />\\n  <RecordResult>0</RecordResult>\\n  <ResultType />\\n  <FEN>rnbakabnr/9/1c5c1/p1p1p1p1p/9/9/P1P1P1P1P/1C5C1/9/RNBAKABNR w - - 0 1</FEN>\\n </Head>\\n <MoveList>\\n  <Move value=\"00-00\" />\\n  <Move value=\"77-47\" />\\n  <Move value=\"72-42\" />\\n  <Move value=\"79-67\" />\\n  <Move value=\"70-62\" />\\n  <Move value=\"89-79\" />\\n  <Move value=\"63-64\" />\\n  <Move value=\"19-07\" />\\n  <Move value=\"10-22\" />\\n  <Move value=\"09-08\" />\\n  <Move value=\"30-41\" />\\n  <Move value=\"08-38\" />\\n  <Move value=\"80-82\" />\\n  <Move value=\"38-34\" />\\n  <Move value=\"42-52\" />\\n  <Move value=\"17-13\" />\\n  <Move value=\"23-24\" />\\n  <Move value=\"13-23\" />\\n  <Move value=\"20-42\" />\\n  <Move value=\"79-75\" />\\n  <Move value=\"82-72\" />\\n  <Move value=\"75-72\" />\\n  <Move value=\"52-72\" />\\n  <Move value=\"34-35\" />\\n  <Move value=\"00-30\" />\\n  <Move value=\"35-30\" />\\n  <Move value=\"40-30\" />\\n  <Move value=\"23-83\" />\\n  <Move value=\"12-17\" />\\n  <Move value=\"67-48\" />\\n  <Move value=\"72-76\" />\\n  <Move value=\"83-85\" />\\n  <Move value=\"76-46\" />\\n  <Move value=\"85-35\" />\\n  <Move value=\"62-54\" />\\n  <Move value=\"35-37\" />\\n  <Move value=\"03-04\" />\\n  <Move value=\"86-85\" />\\n  <Move value=\"30-40\" />\\n  <Move value=\"07-19\" />\\n  <Move value=\"17-18\" />\\n  <Move value=\"37-17\" />\\n  <Move value=\"54-35\" end=\"1\" />\\n </MoveList>\\n</ChineseChessRecord>\\n'"
      ]
     },
     "execution_count": 27,
     "metadata": {},
     "output_type": "execute_result"
    }
   ],
   "source": [
    "open('data/imsa-cbf/2015年第二届淄博傅山杯象棋公开赛 {DD7D1558-A28F-4B6A-B435-230CC1C50C93}.cbf').read()"
   ]
  },
  {
   "cell_type": "code",
   "execution_count": 22,
   "metadata": {},
   "outputs": [
    {
     "data": {
      "text/plain": [
       "'\\n    [Game \"Chinese Chess\"]\\n    [Event \"1999年全国象棋个人赛\"]\\n    [Site \"镇江\"]\\n    [Seesion \"1\"]\\n    [Date \"2016-01-01\"]\\n    [Round \"\"]\\n    [Red \"孙勇征\"]\\n    [RedTeam \"上海\"]\\n    [Black \"庄玉庭\"]\\n    [BlackTeam \"广东\"]\\n    [Result 红胜]\\n    1.炮二退一 马8退7\\n\\n2.炮二退五 马7进6\\n\\n3.炮二平五 马6进5\\n\\n4.前炮平九 马5退4\\n\\n5.炮九进三 马4退3\\n\\n6.炮九退四 卒3进1\\n\\n7.炮九进一 马3进4\\n\\n8.炮九平五 马4进5\\n\\n9.前炮平二 马5退6\\n\\n10.炮二进三 马6退7\\n\\n11.炮二退一 马7进6\\n\\n12.炮二平五 马6进5\\n\\n13.前炮平三 马5退6\\n\\n14.炮五进二 马6进5\\n\\n15.帅六平五 马5进7\\n\\n16.帅五退一 车5平2\\n\\n17.炮三平五 \\n    '"
      ]
     },
     "execution_count": 22,
     "metadata": {},
     "output_type": "execute_result"
    }
   ],
   "source": [
    "open('./data/samples/10001.pgn',encoding='gbk').read()"
   ]
  },
  {
   "cell_type": "code",
   "execution_count": 17,
   "metadata": {},
   "outputs": [
    {
     "data": {
      "text/plain": [
       "'\\n    [Game \"Chinese Chess\"]\\n    [Event \"1966年全国象棋个人赛\"]\\n    [Site \"郑州\"]\\n    [Seesion \"1\"]\\n    [Date \"1966-04-12\"]\\n    [Round \"第03轮\"]\\n    [Red \"胡一鹏\"]\\n    [RedTeam \"青海\"]\\n    [Black \"杨官璘\"]\\n    [BlackTeam \"广东\"]\\n    [Result 黑胜]\\n    1.炮二平五 马8进7\\n\\n2.马二进三 车9平8\\n\\n3.车一平二 马2进3\\n\\n4.兵七进一 卒7进1\\n\\n5.车二进六 车1进1\\n\\n6.马八进七 车1平4\\n\\n7.车二平三 炮8退1\\n\\n8.炮八平九 车4进1\\n\\n9.车九平八 炮8平7\\n\\n10.车三进一 车4平7\\n\\n11.车八进七 士6进5\\n\\n12.马七进八 车7平4\\n\\n13.炮五平七 炮7进1\\n\\n14.炮七进四 象3进1\\n\\n15.马八进九 将5平6\\n\\n16.马九进七 炮7平3\\n\\n17.相七进五 车8进6\\n\\n18.车八平九 炮3退2\\n\\n19.车九进二 象7进5\\n\\n20.仕六进五 车8平7\\n\\n21.车九退四 车7平6\\n\\n22.马三进二 卒7进1\\n\\n23.马二进三 将6平5\\n\\n24.马三进一 车6退4\\n\\n25.马一进三 车6退1\\n\\n26.马三退二 卒7平6\\n\\n27.车九平二 士5退6\\n\\n28.相五退七 卒6进1\\n\\n29.炮九平一 卒6进1\\n\\n30.炮一进四 卒6进1\\n\\n31.炮一进三 将5进1\\n\\n32.车二平八 炮3进1\\n\\n33.炮七平九 车4平1\\n\\n34.车八进三 炮3平4\\n\\n35.车八退二 车6进2\\n\\n36.马二退三 车6进2\\n\\n37.相七进五 象5进7\\n\\n38.马三进一 车6退2\\n\\n39.车八平六 炮4进1\\n\\n40.马一进二 车6平8\\n\\n41.马二进三 车8退3\\n\\n42.车六平五 象7退5\\n\\n43.炮一退五 车8平7\\n\\n44.炮一平五 车7进4\\n\\n45.车五平三 将5平4\\n\\n46.车三平八 车1退1\\n\\n47.车八平六 车1进1\\n\\n48.车六平八 炮4平2\\n\\n49.车八平六 炮2平4\\n\\n50.兵九进一 车1平2\\n\\n51.炮五平六 将4平5\\n\\n52.炮六平五 将5平4\\n\\n53.炮九平八 车7平2\\n\\n54.炮八平七 后车进1\\n\\n55.炮五平六 前车进5\\n\\n56.炮六退四 将4平5\\n\\n57.车六平二 炮4进6\\n\\n58.车二平六 炮4平1\\n\\n59.车六平四 前车退3\\n\\n60.兵五进一 前车平4\\n\\n61.相五退七 车4退1\\n\\n62.兵五进一 车4平3\\n\\n63.炮七平五 象5退7\\n\\n64.仕五进六 车3进4\\n\\n65.车四退五 车3平4\\n\\n66.帅五平六 车2进6\\n\\n\\n    '"
      ]
     },
     "execution_count": 17,
     "metadata": {},
     "output_type": "execute_result"
    }
   ],
   "source": [
    "open(\"./data/imsa_play/\" + pgnfile,encoding='gbk').read()"
   ]
  },
  {
   "cell_type": "code",
   "execution_count": 13,
   "metadata": {
    "collapsed": true
   },
   "outputs": [],
   "source": [
    "moves = [i[\"@value\"] for i in  doc['ChineseChessRecord']['MoveList'][\"Move\"] if i[\"@value\"] != '00-00']"
   ]
  },
  {
   "cell_type": "code",
   "execution_count": 14,
   "metadata": {},
   "outputs": [
    {
     "data": {
      "text/plain": [
       "132"
      ]
     },
     "execution_count": 14,
     "metadata": {},
     "output_type": "execute_result"
    }
   ],
   "source": [
    "len(moves)"
   ]
  },
  {
   "cell_type": "code",
   "execution_count": 38,
   "metadata": {
    "scrolled": true
   },
   "outputs": [
    {
     "ename": "NameError",
     "evalue": "name 'BaseChessBoard' is not defined",
     "output_type": "error",
     "traceback": [
      "\u001b[0;31m---------------------------------------------------------------------------\u001b[0m",
      "\u001b[0;31mNameError\u001b[0m                                 Traceback (most recent call last)",
      "\u001b[0;32m<ipython-input-38-87b234226dc8>\u001b[0m in \u001b[0;36m<module>\u001b[0;34m()\u001b[0m\n\u001b[0;32m----> 1\u001b[0;31m \u001b[0mbb\u001b[0m \u001b[1;33m=\u001b[0m \u001b[0mBaseChessBoard\u001b[0m\u001b[1;33m(\u001b[0m\u001b[0mfen\u001b[0m\u001b[1;33m)\u001b[0m\u001b[1;33m\u001b[0m\u001b[0m\n\u001b[0m\u001b[1;32m      2\u001b[0m \u001b[0mred\u001b[0m \u001b[1;33m=\u001b[0m \u001b[1;32mFalse\u001b[0m\u001b[1;33m\u001b[0m\u001b[0m\n\u001b[1;32m      3\u001b[0m \u001b[1;32mfor\u001b[0m \u001b[0mi\u001b[0m \u001b[1;32min\u001b[0m \u001b[0mmoves\u001b[0m\u001b[1;33m:\u001b[0m\u001b[1;33m\u001b[0m\u001b[0m\n\u001b[1;32m      4\u001b[0m     \u001b[0mred\u001b[0m \u001b[1;33m=\u001b[0m \u001b[1;32mnot\u001b[0m \u001b[0mred\u001b[0m\u001b[1;33m\u001b[0m\u001b[0m\n\u001b[1;32m      5\u001b[0m     \u001b[0mx1\u001b[0m\u001b[1;33m,\u001b[0m\u001b[0my1\u001b[0m\u001b[1;33m,\u001b[0m\u001b[0mx2\u001b[0m\u001b[1;33m,\u001b[0m\u001b[0my2\u001b[0m \u001b[1;33m=\u001b[0m \u001b[0mint\u001b[0m\u001b[1;33m(\u001b[0m\u001b[0mi\u001b[0m\u001b[1;33m[\u001b[0m\u001b[1;36m0\u001b[0m\u001b[1;33m]\u001b[0m\u001b[1;33m)\u001b[0m\u001b[1;33m,\u001b[0m\u001b[0mint\u001b[0m\u001b[1;33m(\u001b[0m\u001b[0mi\u001b[0m\u001b[1;33m[\u001b[0m\u001b[1;36m1\u001b[0m\u001b[1;33m]\u001b[0m\u001b[1;33m)\u001b[0m\u001b[1;33m,\u001b[0m\u001b[0mint\u001b[0m\u001b[1;33m(\u001b[0m\u001b[0mi\u001b[0m\u001b[1;33m[\u001b[0m\u001b[1;36m3\u001b[0m\u001b[1;33m]\u001b[0m\u001b[1;33m)\u001b[0m\u001b[1;33m,\u001b[0m\u001b[0mint\u001b[0m\u001b[1;33m(\u001b[0m\u001b[0mi\u001b[0m\u001b[1;33m[\u001b[0m\u001b[1;36m4\u001b[0m\u001b[1;33m]\u001b[0m\u001b[1;33m)\u001b[0m\u001b[1;33m\u001b[0m\u001b[0m\n",
      "\u001b[0;31mNameError\u001b[0m: name 'BaseChessBoard' is not defined"
     ]
    }
   ],
   "source": [
    "bb = BaseChessBoard(fen)\n",
    "red = False\n",
    "for i in moves:\n",
    "    red = not red\n",
    "    x1,y1,x2,y2 = int(i[0]),int(i[1]),int(i[3]),int(i[4])\n",
    "    print(\"{} {}\".format(i,\"红\" if red else \"黑\"))\n",
    "    moveresult = bb.move(Pos(x1,y1),Pos(x2,y2))\n",
    "    assert(moveresult != None)\n",
    "    bb.print_board()"
   ]
  },
  {
   "cell_type": "code",
   "execution_count": 43,
   "metadata": {},
   "outputs": [
    {
     "data": {
      "text/plain": [
       "array([[None, None, 'b', 'a', None, 'k', None, None, None],\n",
       "       [None, None, None, None, 'a', None, None, None, None],\n",
       "       [None, None, None, None, 'b', None, None, None, None],\n",
       "       ['p', None, None, None, None, None, 'p', None, 'p'],\n",
       "       [None, None, 'P', None, None, None, None, None, None],\n",
       "       [None, None, None, None, 'C', None, 'P', None, None],\n",
       "       [None, None, None, None, 'P', None, None, None, 'P'],\n",
       "       ['N', None, 'R', None, 'K', 'r', None, None, None],\n",
       "       [None, 'c', 'C', None, None, None, None, None, None],\n",
       "       ['R', None, 'B', None, None, None, 'B', 'c', None]], dtype=object)"
      ]
     },
     "execution_count": 43,
     "metadata": {},
     "output_type": "execute_result"
    }
   ],
   "source": [
    "bb.get_board_arr()"
   ]
  },
  {
   "cell_type": "code",
   "execution_count": 48,
   "metadata": {},
   "outputs": [
    {
     "name": "stdout",
     "output_type": "stream",
     "text": [
      "\n",
      "0 ┌─┬─象─士───将─┬─┬─┐\n",
      "  │  │  │  │＼│／│　│　│　│\n",
      "1 ├─┼─┼─┼─士─┼─┼─┼─┤\n",
      "  │　│　│　│／│＼│　│　│　│\n",
      "2 ├─┼─┼─┼─象─┼─┼─┼─┤\n",
      "  │　│　│　│　│　│　│　│　│\n",
      "3 卒─┼─┼─┼─┼─┼─卒─┼─卒\n",
      "  │　│　│　│　│　│　│　│　│\n",
      "4 ├─┴─兵─┴─┴─┴─┴─┴─┤\n",
      "  │　                         　 │\n",
      "5 ├─┬─┬─┬─炮─┬─兵─┬─┤\n",
      "  │　│　│　│　│　│　│　│　│\n",
      "6 ├─┼─┼─┼─兵─┼─┼─┼─兵\n",
      "  │　│　│　│　│　│　│　│　│\n",
      "7 马─┼─车─┼─帅─砗─┼─┼─┤\n",
      "  │　│　│　│＼│／│　│　│　│\n",
      "8 ├─砲─炮─┼─※─┼─┼─┼─┤\n",
      "  │　│　│　│／│＼│　│　│　│\n",
      "9 车─┴─相─┴───┴─相─砲─┘\n",
      "  0   1   2   3   4   5   6   7   8\n",
      "\n"
     ]
    }
   ],
   "source": [
    "bb.print_board()"
   ]
  },
  {
   "cell_type": "code",
   "execution_count": 44,
   "metadata": {},
   "outputs": [
    {
     "data": {
      "text/plain": [
       "'2ba1k3/4a4/4b4/p5p1p/2P6/4C1P2/4P3P/N1R1Kr3/1cC6/R1B3Bc1 w - - 0 1'"
      ]
     },
     "execution_count": 44,
     "metadata": {},
     "output_type": "execute_result"
    }
   ],
   "source": [
    "bb.to_fen()"
   ]
  },
  {
   "cell_type": "code",
   "execution_count": 45,
   "metadata": {
    "collapsed": true
   },
   "outputs": [],
   "source": [
    "cc = BaseChessBoard(bb.to_fen())"
   ]
  },
  {
   "cell_type": "code",
   "execution_count": 47,
   "metadata": {},
   "outputs": [
    {
     "name": "stdout",
     "output_type": "stream",
     "text": [
      "\n",
      "0 ┌─┬─象─士───将─┬─┬─┐\n",
      "  │  │  │  │＼│／│　│　│　│\n",
      "1 ├─┼─┼─┼─士─┼─┼─┼─┤\n",
      "  │　│　│　│／│＼│　│　│　│\n",
      "2 ├─┼─┼─┼─象─┼─┼─┼─┤\n",
      "  │　│　│　│　│　│　│　│　│\n",
      "3 卒─┼─┼─┼─┼─┼─卒─┼─卒\n",
      "  │　│　│　│　│　│　│　│　│\n",
      "4 ├─┴─兵─┴─┴─┴─┴─┴─┤\n",
      "  │　                         　 │\n",
      "5 ├─┬─┬─┬─炮─┬─兵─┬─┤\n",
      "  │　│　│　│　│　│　│　│　│\n",
      "6 ├─┼─┼─┼─兵─┼─┼─┼─兵\n",
      "  │　│　│　│　│　│　│　│　│\n",
      "7 马─┼─车─┼─帅─砗─┼─┼─┤\n",
      "  │　│　│　│＼│／│　│　│　│\n",
      "8 ├─砲─炮─┼─※─┼─┼─┼─┤\n",
      "  │　│　│　│／│＼│　│　│　│\n",
      "9 车─┴─相─┴───┴─相─砲─┘\n",
      "  0   1   2   3   4   5   6   7   8\n",
      "\n"
     ]
    }
   ],
   "source": [
    "cc.print_board()"
   ]
  },
  {
   "cell_type": "code",
   "execution_count": 49,
   "metadata": {
    "collapsed": true
   },
   "outputs": [],
   "source": [
    "cbfdir = \"./data/imsa-cbf/\"\n",
    "allfiles = os.listdir(cbfdir)"
   ]
  },
  {
   "cell_type": "code",
   "execution_count": 54,
   "metadata": {
    "collapsed": true
   },
   "outputs": [],
   "source": [
    "allfiles = [os.path.join(cbfdir,i) for i in allfiles]"
   ]
  },
  {
   "cell_type": "code",
   "execution_count": 58,
   "metadata": {
    "collapsed": true
   },
   "outputs": [],
   "source": [
    "gap = int(len(allfiles) * 0.9)"
   ]
  },
  {
   "cell_type": "code",
   "execution_count": 61,
   "metadata": {
    "collapsed": true
   },
   "outputs": [],
   "source": [
    "import random\n",
    "random.shuffle(allfiles)"
   ]
  },
  {
   "cell_type": "code",
   "execution_count": 62,
   "metadata": {
    "collapsed": true
   },
   "outputs": [],
   "source": [
    "trainfiles = allfiles[:gap]\n",
    "testfiles = allfiles[gap:]"
   ]
  },
  {
   "cell_type": "code",
   "execution_count": 73,
   "metadata": {
    "collapsed": true
   },
   "outputs": [],
   "source": [
    "import pandas as pd\n",
    "trainframe = pd.DataFrame(trainfiles)\n",
    "trainframe.to_csv('data/train_list.csv',header=None,index=None,encoding='utf-8')"
   ]
  },
  {
   "cell_type": "code",
   "execution_count": 74,
   "metadata": {
    "collapsed": true
   },
   "outputs": [],
   "source": [
    "testframe = pd.DataFrame(testfiles)\n",
    "testframe.to_csv('data/test_list.csv',header=None,index=None,encoding='utf-8')"
   ]
  },
  {
   "cell_type": "code",
   "execution_count": 68,
   "metadata": {},
   "outputs": [
    {
     "data": {
      "text/plain": [
       "(49982, 5554)"
      ]
     },
     "execution_count": 68,
     "metadata": {},
     "output_type": "execute_result"
    }
   ],
   "source": [
    "len(trainframe),len(testframe)"
   ]
  },
  {
   "cell_type": "markdown",
   "metadata": {
    "collapsed": true
   },
   "source": [
    "# 统计"
   ]
  },
  {
   "cell_type": "code",
   "execution_count": 19,
   "metadata": {
    "collapsed": true
   },
   "outputs": [],
   "source": [
    "import pandas as pd\n",
    "trainframe = pd.read_csv('data/train_list.csv',header=None)"
   ]
  },
  {
   "cell_type": "code",
   "execution_count": 32,
   "metadata": {
    "collapsed": true
   },
   "outputs": [],
   "source": [
    "files = trainframe[0].values"
   ]
  },
  {
   "cell_type": "code",
   "execution_count": 34,
   "metadata": {
    "collapsed": true
   },
   "outputs": [],
   "source": [
    "samplefiles = files[:100]"
   ]
  },
  {
   "cell_type": "code",
   "execution_count": 35,
   "metadata": {
    "collapsed": true
   },
   "outputs": [],
   "source": [
    "total = 0\n",
    "for i in samplefiles:\n",
    "    doc = xmltodict.parse(open(i,encoding='utf-8').read())\n",
    "    moves = [i[\"@value\"] for i in  doc['ChineseChessRecord']['MoveList'][\"Move\"] if i[\"@value\"] != '00-00']\n",
    "    total += len(moves)"
   ]
  },
  {
   "cell_type": "code",
   "execution_count": 36,
   "metadata": {},
   "outputs": [
    {
     "name": "stdout",
     "output_type": "stream",
     "text": [
      "79.21\n"
     ]
    }
   ],
   "source": [
    "print(total / 100)"
   ]
  },
  {
   "cell_type": "code",
   "execution_count": null,
   "metadata": {
    "collapsed": true
   },
   "outputs": [],
   "source": []
  }
 ],
 "metadata": {
  "anaconda-cloud": {},
  "kernelspec": {
   "display_name": "Python 3",
   "language": "python",
   "name": "python3"
  },
  "language_info": {
   "codemirror_mode": {
    "name": "ipython",
    "version": 3
   },
   "file_extension": ".py",
   "mimetype": "text/x-python",
   "name": "python",
   "nbconvert_exporter": "python",
   "pygments_lexer": "ipython3",
   "version": "3.6.1"
  }
 },
 "nbformat": 4,
 "nbformat_minor": 1
}
