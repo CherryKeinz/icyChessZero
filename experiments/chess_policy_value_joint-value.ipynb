{
 "cells": [
  {
   "cell_type": "code",
   "execution_count": 1,
   "metadata": {
    "collapsed": true
   },
   "outputs": [],
   "source": [
    "%reload_ext autoreload \n",
    "%autoreload 2\n",
    "\n",
    "import tensorflow as tf\n",
    "import numpy as np\n",
    "from matplotlib import pyplot as plt\n",
    "import random \n",
    "import time\n",
    "from utils import Dataset,ProgressBar\n",
    "from tflearn.data_flow import DataFlow,DataFlowStatus,FeedDictFlow\n",
    "from tflearn.data_utils import Preloader,ImagePreloader\n",
    "import scipy\n",
    "import pandas as pd\n",
    "import xmltodict\n",
    "import common\n",
    "import tflearn\n",
    "import copy\n",
    "from cchess import *\n",
    "from game_convert import convert_game,convert_game_value"
   ]
  },
  {
   "cell_type": "code",
   "execution_count": 2,
   "metadata": {},
   "outputs": [
    {
     "name": "stdout",
     "output_type": "stream",
     "text": [
      "Sun May  6 02:03:28 2018       \r\n",
      "+-----------------------------------------------------------------------------+\r\n",
      "| NVIDIA-SMI 384.111                Driver Version: 384.111                   |\r\n",
      "|-------------------------------+----------------------+----------------------+\r\n",
      "| GPU  Name        Persistence-M| Bus-Id        Disp.A | Volatile Uncorr. ECC |\r\n",
      "| Fan  Temp  Perf  Pwr:Usage/Cap|         Memory-Usage | GPU-Util  Compute M. |\r\n",
      "|===============================+======================+======================|\r\n",
      "|   0  GeForce GTX 108...  Off  | 00000000:05:00.0 Off |                  N/A |\r\n",
      "| 68%   86C    P2   213W / 250W |   8885MiB / 11172MiB |     97%      Default |\r\n",
      "+-------------------------------+----------------------+----------------------+\r\n",
      "|   1  GeForce GTX 108...  Off  | 00000000:42:00.0 Off |                  N/A |\r\n",
      "| 71%   86C    P2   194W / 250W |   7429MiB / 11172MiB |     97%      Default |\r\n",
      "+-------------------------------+----------------------+----------------------+\r\n",
      "                                                                               \r\n",
      "+-----------------------------------------------------------------------------+\r\n",
      "| Processes:                                                       GPU Memory |\r\n",
      "|  GPU       PID   Type   Process name                             Usage      |\r\n",
      "|=============================================================================|\r\n",
      "|    0     17764      C   /home/meta/anaconda3/bin/python             5951MiB |\r\n",
      "|    0     19366      C   /usr/local/bin/python3                       183MiB |\r\n",
      "|    0     25225      C   /usr/local/bin/python3                       183MiB |\r\n",
      "|    0     25467      C   /usr/local/bin/python3                       183MiB |\r\n",
      "|    0     26476      C   /usr/local/bin/python3                      2369MiB |\r\n",
      "|    1     17764      C   /home/meta/anaconda3/bin/python              153MiB |\r\n",
      "|    1     19366      C   /usr/local/bin/python3                      2369MiB |\r\n",
      "|    1     25225      C   /usr/local/bin/python3                      2369MiB |\r\n",
      "|    1     25467      C   /usr/local/bin/python3                      2369MiB |\r\n",
      "|    1     26476      C   /usr/local/bin/python3                       153MiB |\r\n",
      "+-----------------------------------------------------------------------------+\r\n"
     ]
    }
   ],
   "source": [
    "!nvidia-smi"
   ]
  },
  {
   "cell_type": "markdown",
   "metadata": {},
   "source": [
    "# a network predict select and move of Chinese chess, with minimal preprocessing"
   ]
  },
  {
   "cell_type": "code",
   "execution_count": 3,
   "metadata": {
    "collapsed": true
   },
   "outputs": [],
   "source": [
    "GPU_CORE = [0]\n",
    "BATCH_SIZE = 256\n",
    "BEGINING_LR = 0.01\n",
    "#TESTIMG_WIDTH = 500\n",
    "model_name = '5_5_resnet_joint_value'\n",
    "data_dir = 'data/imsa-cbf/'"
   ]
  },
  {
   "cell_type": "code",
   "execution_count": 4,
   "metadata": {
    "collapsed": true
   },
   "outputs": [],
   "source": [
    "labels = common.board.create_uci_labels()\n",
    "label2ind = dict(zip(labels,list(range(len(labels)))))"
   ]
  },
  {
   "cell_type": "code",
   "execution_count": 5,
   "metadata": {
    "collapsed": true
   },
   "outputs": [],
   "source": [
    "pgn2value = dict(pd.read_csv('./data/resultlist.csv').values[:,1:])"
   ]
  },
  {
   "cell_type": "code",
   "execution_count": 6,
   "metadata": {
    "collapsed": true
   },
   "outputs": [],
   "source": [
    "class ElePreloader(object):\n",
    "    def __init__(self,datafile,batch_size=64):\n",
    "        self.batch_size=batch_size\n",
    "        content = pd.read_csv(datafile,header=None,index_col=None)\n",
    "        self.filelist = [i[0] for i in content.get_values()]\n",
    "        self.pos = 0\n",
    "        self.feature_list = {\"red\":['A', 'B', 'C', 'K', 'N', 'P', 'R']\n",
    "                             ,\"black\":['a', 'b', 'c', 'k', 'n', 'p', 'r']}\n",
    "        self.batch_size = batch_size\n",
    "        self.batch_iter = self.__iter()\n",
    "        assert(len(self.filelist) > batch_size)\n",
    "        self.game_iterlist = [None for i in self.filelist]\n",
    "    \n",
    "    def __iter(self):\n",
    "        retx1,rety1,retx2,rety2 = [],[],[],[]\n",
    "        vals = []\n",
    "        filelist = []\n",
    "        while True:\n",
    "            for i in range(self.batch_size):\n",
    "                if self.game_iterlist[i] == None:\n",
    "                    if len(filelist) == 0:\n",
    "                        filelist = copy.copy(self.filelist)\n",
    "                        random.shuffle(filelist)\n",
    "                    self.game_iterlist[i] = convert_game_value(filelist.pop(),self.feature_list,pgn2value)\n",
    "                game_iter = self.game_iterlist[i]\n",
    "                \n",
    "                try:\n",
    "                    x1,y1,val1 = game_iter.__next__()\n",
    "                    x1 = np.transpose(x1,[1,2,0])\n",
    "                    x1 = np.expand_dims(x1,axis=0)\n",
    "                    retx1.append(x1)\n",
    "                    #rety1.append(y1)\n",
    "                    oney = np.zeros(len(labels))\n",
    "                    oney[label2ind[''.join(y1)]] = 1\n",
    "                    rety1.append(oney)\n",
    "                    vals.append(val1)\n",
    "\n",
    "                    if len(retx1) >= self.batch_size:\n",
    "                        yield (np.concatenate(retx1,axis=0),np.asarray(rety1),np.asarray(vals))\n",
    "                        retx1,rety1 = [],[]\n",
    "                        vals = []\n",
    "                except :\n",
    "                    self.game_iterlist[i] = None\n",
    "\n",
    "    def __getitem__(self, id):\n",
    "        \n",
    "        x1,y1,val1 = self.batch_iter.__next__()\n",
    "        return x1,y1,val1\n",
    "        \n",
    "    def __len__(self):\n",
    "        return 10000"
   ]
  },
  {
   "cell_type": "code",
   "execution_count": 7,
   "metadata": {
    "collapsed": true
   },
   "outputs": [],
   "source": [
    "trainset = ElePreloader(datafile='data/train_list.csv',batch_size=BATCH_SIZE)\n",
    "with tf.device(\"/gpu:{}\".format(GPU_CORE[0])):\n",
    "    coord = tf.train.Coordinator()\n",
    "    trainflow = FeedDictFlow({\n",
    "            'data':trainset,\n",
    "        },coord,batch_size=BATCH_SIZE,shuffle=True,continuous=True,num_threads=1)\n",
    "trainflow.start()"
   ]
  },
  {
   "cell_type": "code",
   "execution_count": 8,
   "metadata": {
    "collapsed": true
   },
   "outputs": [],
   "source": [
    "testset = ElePreloader(datafile='data/test_list.csv',batch_size=BATCH_SIZE)\n",
    "with tf.device(\"/gpu:{}\".format(GPU_CORE[0])):\n",
    "    coord = tf.train.Coordinator()\n",
    "    testflow = FeedDictFlow({\n",
    "            'data':testset,\n",
    "        },coord,batch_size=BATCH_SIZE,shuffle=True,continuous=True,num_threads=1)\n",
    "testflow.start()"
   ]
  },
  {
   "cell_type": "code",
   "execution_count": 9,
   "metadata": {
    "collapsed": true
   },
   "outputs": [],
   "source": [
    "sample_x1,sample_y1,sample_value = trainflow.next()['data']"
   ]
  },
  {
   "cell_type": "code",
   "execution_count": 10,
   "metadata": {
    "collapsed": true
   },
   "outputs": [],
   "source": [
    "sample_x1,sample_y1,sample_value = testflow.next()['data']"
   ]
  },
  {
   "cell_type": "code",
   "execution_count": 11,
   "metadata": {},
   "outputs": [
    {
     "data": {
      "text/plain": [
       "((256, 10, 9, 14), (256, 2086), (256,))"
      ]
     },
     "execution_count": 11,
     "metadata": {},
     "output_type": "execute_result"
    }
   ],
   "source": [
    "sample_x1.shape,sample_y1.shape,sample_value.shape"
   ]
  },
  {
   "cell_type": "code",
   "execution_count": 12,
   "metadata": {},
   "outputs": [
    {
     "data": {
      "text/plain": [
       "'g3g4'"
      ]
     },
     "execution_count": 12,
     "metadata": {},
     "output_type": "execute_result"
    }
   ],
   "source": [
    "labels[np.argmax(sample_y1[0])]"
   ]
  },
  {
   "cell_type": "code",
   "execution_count": 13,
   "metadata": {},
   "outputs": [
    {
     "data": {
      "text/plain": [
       "array([[1, 1, 1, 1, 1, 1, 1, 1, 1],\n",
       "       [0, 0, 0, 0, 0, 0, 0, 0, 0],\n",
       "       [0, 1, 0, 0, 0, 0, 0, 1, 0],\n",
       "       [1, 0, 1, 0, 1, 0, 1, 0, 1],\n",
       "       [0, 0, 0, 0, 0, 0, 0, 0, 0],\n",
       "       [0, 0, 0, 0, 0, 0, 0, 0, 0],\n",
       "       [1, 0, 1, 0, 1, 0, 1, 0, 1],\n",
       "       [0, 1, 0, 0, 0, 0, 0, 1, 0],\n",
       "       [0, 0, 0, 0, 0, 0, 0, 0, 0],\n",
       "       [1, 1, 1, 1, 1, 1, 1, 1, 1]], dtype=uint64)"
      ]
     },
     "execution_count": 13,
     "metadata": {},
     "output_type": "execute_result"
    }
   ],
   "source": [
    "np.sum(sample_x1[0],axis=-1)"
   ]
  },
  {
   "cell_type": "code",
   "execution_count": 14,
   "metadata": {},
   "outputs": [
    {
     "data": {
      "text/plain": [
       "array([ 1.,  0.,  0.,  1., -1., -1.,  0., -1.,  0.,  1.])"
      ]
     },
     "execution_count": 14,
     "metadata": {},
     "output_type": "execute_result"
    }
   ],
   "source": [
    "sample_value[:10]"
   ]
  },
  {
   "cell_type": "code",
   "execution_count": 15,
   "metadata": {},
   "outputs": [
    {
     "data": {
      "text/plain": [
       "2086"
      ]
     },
     "execution_count": 15,
     "metadata": {},
     "output_type": "execute_result"
    }
   ],
   "source": [
    "len(labels)"
   ]
  },
  {
   "cell_type": "code",
   "execution_count": 16,
   "metadata": {},
   "outputs": [
    {
     "data": {
      "text/plain": [
       "(10, 9)"
      ]
     },
     "execution_count": 16,
     "metadata": {},
     "output_type": "execute_result"
    }
   ],
   "source": [
    "np.sum(sample_x1[0],axis=-1).shape"
   ]
  },
  {
   "cell_type": "code",
   "execution_count": 17,
   "metadata": {
    "collapsed": true
   },
   "outputs": [],
   "source": [
    "def res_block(inputx,name,training,block_num=2,filters=256,kernel_size=(3,3)):\n",
    "    net = inputx\n",
    "    for i in range(block_num):\n",
    "        net = tf.layers.conv2d(net,filters=filters,kernel_size=kernel_size,activation=None,name=\"{}_res_conv{}\".format(name,i),padding='same')\n",
    "        net = tf.layers.batch_normalization(net,training=training,name=\"{}_res_bn{}\".format(name,i))\n",
    "        if i == block_num - 1:\n",
    "            net = net + inputx #= tf.concat((inputx,net),axis=-1)\n",
    "        net = tf.nn.elu(net,name=\"{}_res_elu{}\".format(name,i))\n",
    "    return net\n",
    "\n",
    "def conv_block(inputx,name,training,block_num=1,filters=2,kernel_size=(1,1)):\n",
    "    net = inputx\n",
    "    for i in range(block_num):\n",
    "        net = tf.layers.conv2d(net,filters=filters,kernel_size=kernel_size,activation=None,name=\"{}_convblock_conv{}\".format(name,i),padding='same')\n",
    "        net = tf.layers.batch_normalization(net,training=training,name=\"{}_convblock_bn{}\".format(name,i))\n",
    "        net = tf.nn.elu(net,name=\"{}_convblock_elu{}\".format(name,i))\n",
    "    # net [None,10,9,2]\n",
    "    netshape = net.get_shape().as_list()\n",
    "    print(\"inside conv block {}\".format(str(netshape)))\n",
    "    net = tf.reshape(net,shape=(-1,netshape[1] * netshape[2] * netshape[3]))\n",
    "    net = tf.layers.dense(net,10 * 9,name=\"{}_dense\".format(name))\n",
    "    net = tf.nn.elu(net,name=\"{}_elu\".format(name))\n",
    "    return net\n",
    "\n",
    "def res_net_board(inputx,name,training,filters=256):\n",
    "    net = inputx\n",
    "    net = tf.layers.conv2d(net,filters=filters,kernel_size=(3,3),activation=None,name=\"{}_res_convb\".format(name),padding='same')\n",
    "    net = tf.layers.batch_normalization(net,training=training,name=\"{}_res_bnb\".format(name))\n",
    "    net = tf.nn.elu(net,name=\"{}_res_elub\".format(name))\n",
    "    for i in range(NUM_RES_LAYERS):\n",
    "        net = res_block(net,name=\"{}_layer_{}\".format(name,i + 1),training=training)\n",
    "        print(net.get_shape().as_list())\n",
    "    print(\"inside res net {}\".format(str(net.get_shape().as_list())))\n",
    "    #net_unsoftmax = conv_block(net,name=\"{}_conv\".format(name),training=training)\n",
    "    return net\n",
    "\n",
    "def get_scatter(name):\n",
    "    with tf.variable_scope(\"Test\"):\n",
    "        ph = tf.placeholder(tf.float32,name=name)\n",
    "        op = tf.summary.scalar(name,ph)\n",
    "    return ph,op"
   ]
  },
  {
   "cell_type": "code",
   "execution_count": 18,
   "metadata": {
    "collapsed": true
   },
   "outputs": [],
   "source": [
    "def average_gradients(tower_grads):\n",
    "    \"\"\"Calculate the average gradient for each shared variable across all towers.\n",
    "    Note that this function provides a synchronization point across all towers.\n",
    "    Args:\n",
    "    tower_grads: List of lists of (gradient, variable) tuples. The outer list\n",
    "      is over individual gradients. The inner list is over the gradient\n",
    "      calculation for each tower.\n",
    "    Returns:\n",
    "     List of pairs of (gradient, variable) where the gradient has been averaged\n",
    "     across all towers.\n",
    "\n",
    "\n",
    "    \"\"\"\n",
    "    average_grads = []\n",
    "    for grad_and_vars in zip(*tower_grads):\n",
    "        # Note that each grad_and_vars looks like the following:\n",
    "        #   ((grad0_gpu0, var0_gpu0), ... , (grad0_gpuN, var0_gpuN))\n",
    "        grads = []\n",
    "        for g, _ in grad_and_vars:\n",
    "            # Add 0 dimension to the gradients to represent the tower.\n",
    "            expanded_g = tf.expand_dims(g, 0)\n",
    "            # Append on a 'tower' dimension which we will average over below.\n",
    "            grads.append(expanded_g)\n",
    "\n",
    "        # Average over the 'tower' dimension.\n",
    "        grad = tf.concat(grads,0)\n",
    "        grad = tf.reduce_mean(grad, 0)\n",
    "\n",
    "        # Keep in mind that the Variables are redundant because they are shared\n",
    "        # across towers. So .. we will just return the first tower's pointer to\n",
    "        # the Variable.\n",
    "        v = grad_and_vars[0][1]\n",
    "        grad_and_var = (grad, v)\n",
    "        average_grads.append(grad_and_var)\n",
    "    return average_grads\n",
    "\n",
    "def add_grad_to_list(opt,train_param,loss,tower_grad):\n",
    "    grads = opt.compute_gradients(loss, var_list = train_param)\n",
    "    grads = [i[0] for i in grads]\n",
    "    #print(grads)\n",
    "    tower_grad.append(zip(grads,train_param))\n",
    "    \n",
    "def get_op_mul(tower_gradients,optimizer,gs):\n",
    "    grads = average_gradients(tower_gradients)\n",
    "    train_op = optimizer.apply_gradients(grads,gs)\n",
    "    return train_op\n",
    "\n",
    "def reduce_mean(x):\n",
    "    return tf.reduce_mean(x)\n",
    "\n",
    "def merge(x):\n",
    "    return tf.concat(x,axis=0)"
   ]
  },
  {
   "cell_type": "code",
   "execution_count": 19,
   "metadata": {},
   "outputs": [
    {
     "data": {
      "text/plain": [
       "[0]"
      ]
     },
     "execution_count": 19,
     "metadata": {},
     "output_type": "execute_result"
    }
   ],
   "source": [
    "GPU_CORE"
   ]
  },
  {
   "cell_type": "code",
   "execution_count": 20,
   "metadata": {},
   "outputs": [
    {
     "name": "stdout",
     "output_type": "stream",
     "text": [
      "0\n",
      "[None, 10, 9, 256]\n",
      "[None, 10, 9, 256]\n",
      "[None, 10, 9, 256]\n",
      "[None, 10, 9, 256]\n",
      "inside res net [None, 10, 9, 256]\n"
     ]
    }
   ],
   "source": [
    "tf.reset_default_graph()\n",
    "\n",
    "NUM_RES_LAYERS = 4\n",
    "\n",
    "graph = tf.Graph()\n",
    "with graph.as_default():\n",
    "#with tf.device(\"/gpu:{}\".format(GPU_CORE)):\n",
    "    X = tf.placeholder(tf.float32,[None,10,9,14])\n",
    "    nextmove = tf.placeholder(tf.float32,[None,len(labels)])\n",
    "    score = tf.placeholder(tf.float32,[None,1])\n",
    "    \n",
    "    training = tf.placeholder(tf.bool,name='training_mode')\n",
    "    learning_rate = tf.placeholder(tf.float32)\n",
    "    global_step = tf.train.get_or_create_global_step()\n",
    "    optimizer_policy = tf.train.MomentumOptimizer(learning_rate=learning_rate,momentum=0.9)\n",
    "    optimizer_value = tf.train.MomentumOptimizer(learning_rate=learning_rate,momentum=0.9)\n",
    "    optimizer_multitarg = tf.train.MomentumOptimizer(learning_rate=learning_rate,momentum=0.9)\n",
    "    \n",
    "    tower_gradients_policy,tower_gradients_value,tower_gradients_multitarg = [],[],[]\n",
    "    \n",
    "    net_softmax_collection = []\n",
    "    value_head_collection = []\n",
    "    multitarget_loss_collection = []\n",
    "    value_loss_collection = []\n",
    "    policy_loss_collection = []\n",
    "    accuracy_select_collection = []\n",
    "    with tf.variable_scope(tf.get_variable_scope()) as vscope:\n",
    "        for ind,one_core in enumerate(GPU_CORE):\n",
    "            with tf.device(\"/gpu:{}\".format(one_core)):\n",
    "                print(ind)\n",
    "                body = res_net_board(X[ind * (BATCH_SIZE // len(GPU_CORE)):(ind + 1) * (BATCH_SIZE // len(GPU_CORE))],\n",
    "                                     \"selectnet\",training=training)\n",
    "                with tf.variable_scope(\"policy_head\"):\n",
    "                    policy_head = tf.layers.conv2d(body, 2, 1, padding='SAME')\n",
    "                    policy_head = tf.contrib.layers.batch_norm(policy_head, center=False, epsilon=1e-5, fused=True,\n",
    "                                                                is_training=training, activation_fn=tf.nn.relu)\n",
    "\n",
    "                    # print(self.policy_head.shape)  # (?, 9, 10, 2)\n",
    "                    policy_head = tf.reshape(policy_head, [-1, 9 * 10 * 2])\n",
    "                    policy_head = tf.contrib.layers.fully_connected(policy_head, len(labels), activation_fn=None)\n",
    "                    #self.policy_head.append(policy_head)    # 保存多个gpu的策略头结果（走子概率向量）\n",
    "\n",
    "                # 价值头\n",
    "                with tf.variable_scope(\"value_head\"):\n",
    "                    value_head = tf.layers.conv2d(body, 1, 1, padding='SAME')\n",
    "                    value_head = tf.contrib.layers.batch_norm(value_head, center=False, epsilon=1e-5, fused=True,\n",
    "                                                    is_training=training, activation_fn=tf.nn.relu)\n",
    "                    # print(self.value_head.shape)  # (?, 9, 10, 1)\n",
    "                    value_head = tf.reshape(value_head, [-1, 9 * 10 * 1])\n",
    "                    value_head = tf.contrib.layers.fully_connected(value_head, 256, activation_fn=tf.nn.relu)\n",
    "                    value_head = tf.contrib.layers.fully_connected(value_head, 1, activation_fn=tf.nn.tanh)\n",
    "                    value_head_collection.append(value_head)\n",
    "                net_unsoftmax = policy_head\n",
    "\n",
    "                with tf.variable_scope(\"Loss\"):\n",
    "                    policy_loss = tf.reduce_mean(tf.nn.softmax_cross_entropy_with_logits(\n",
    "                        labels=nextmove[ind * (BATCH_SIZE // len(GPU_CORE)):(ind + 1) * (BATCH_SIZE // len(GPU_CORE))],\n",
    "                        logits=net_unsoftmax))\n",
    "                    #loss_summary = tf.summary.scalar(\"move_loss\",policy_loss)\n",
    "                    value_loss = tf.losses.mean_squared_error(\n",
    "                        labels=score[ind * (BATCH_SIZE // len(GPU_CORE)):(ind + 1) * (BATCH_SIZE // len(GPU_CORE))],\n",
    "                        predictions=value_head) \n",
    "                    value_loss = tf.reduce_mean(value_loss)\n",
    "                    regularizer = tf.contrib.layers.l2_regularizer(scale=0.0001)\n",
    "                    regular_variables = tf.trainable_variables()\n",
    "                    l2_loss = tf.contrib.layers.apply_regularization(regularizer, regular_variables)\n",
    "                    multitarget_loss = value_loss + policy_loss\n",
    "                    \n",
    "                    multitarget_loss_collection.append(multitarget_loss)\n",
    "                    value_loss_collection.append(value_loss)\n",
    "                    policy_loss_collection.append(policy_loss)\n",
    "                net_softmax = tf.nn.softmax(net_unsoftmax)\n",
    "                net_softmax_collection.append(net_softmax)\n",
    "                \n",
    "                correct_prediction = tf.equal(tf.argmax(nextmove,1), tf.argmax(net_softmax,1))\n",
    "\n",
    "                with tf.variable_scope(\"Accuracy\"):\n",
    "                    accuracy_select = tf.reduce_mean(tf.cast(correct_prediction, tf.float32))\n",
    "                    accuracy_select_collection.append(accuracy_select)\n",
    "                tf.get_variable_scope().reuse_variables()\n",
    "                trainable_params = tf.trainable_variables()\n",
    "                tp_policy = [i for i in trainable_params if \n",
    "                                    ('value_head' not in i.name)]\n",
    "                tp_value = [i for i in trainable_params if \n",
    "                                    ('policy_head' not in i.name)]\n",
    "\n",
    "                add_grad_to_list(optimizer_policy,tp_policy,policy_loss,tower_gradients_policy)\n",
    "                add_grad_to_list(optimizer_value,tp_value,value_loss,tower_gradients_value)\n",
    "                add_grad_to_list(optimizer_multitarg,trainable_params,multitarget_loss,tower_gradients_multitarg)\n",
    "               \n",
    "    update_ops = tf.get_collection(tf.GraphKeys.UPDATE_OPS)\n",
    "    with tf.control_dependencies(update_ops):\n",
    "        #gradients_policy = average_gradients(tower_gradients_policy)\n",
    "        train_op_policy = get_op_mul(tower_gradients_policy,optimizer_policy,global_step)\n",
    "        train_op_value = get_op_mul(tower_gradients_value,optimizer_value,global_step)\n",
    "        train_op_multitarg = get_op_mul(tower_gradients_multitarg,optimizer_multitarg,global_step)\n",
    "        #train_op = optimizer.minimize(policy_loss,global_step=global_step)\n",
    "    net_softmax = merge(net_softmax_collection)\n",
    "    value_head = merge(value_head_collection)\n",
    "    multitarget_loss = reduce_mean(multitarget_loss_collection)\n",
    "    value_loss = reduce_mean(value_loss_collection)\n",
    "    policy_loss = reduce_mean(policy_loss_collection)\n",
    "    accuracy_select = reduce_mean(accuracy_select_collection)"
   ]
  },
  {
   "cell_type": "code",
   "execution_count": 28,
   "metadata": {
    "collapsed": true
   },
   "outputs": [],
   "source": [
    "with graph.as_default():\n",
    "    config = tf.ConfigProto()\n",
    "    config.gpu_options.allow_growth = True\n",
    "    config.allow_soft_placement = True\n",
    "    sess = tf.Session(config=config)\n",
    "    sess.run(tf.global_variables_initializer())\n",
    "    \n",
    "    tf.train.global_step(sess, global_step)"
   ]
  },
  {
   "cell_type": "code",
   "execution_count": 22,
   "metadata": {},
   "outputs": [
    {
     "name": "stdout",
     "output_type": "stream",
     "text": [
      "mkdir: 无法创建目录\"models\": 文件已存在\r\n"
     ]
    }
   ],
   "source": [
    "!mkdir models"
   ]
  },
  {
   "cell_type": "code",
   "execution_count": 23,
   "metadata": {
    "collapsed": true
   },
   "outputs": [],
   "source": [
    "import os\n",
    "if not os.path.exists(\"models/{}\".format(model_name)):\n",
    "    os.mkdir(\"models/{}\".format(model_name))"
   ]
  },
  {
   "cell_type": "code",
   "execution_count": 24,
   "metadata": {
    "collapsed": true
   },
   "outputs": [],
   "source": [
    "N_BATCH = 10000 * (128 / BATCH_SIZE)\n",
    "N_BATCH_TEST = 300 * (128 / BATCH_SIZE)\n",
    "N_BATCH = int(N_BATCH)\n",
    "N_BATCH_TEST = int(N_BATCH_TEST)"
   ]
  },
  {
   "cell_type": "code",
   "execution_count": 25,
   "metadata": {},
   "outputs": [
    {
     "data": {
      "text/plain": [
       "(5000, 150)"
      ]
     },
     "execution_count": 25,
     "metadata": {},
     "output_type": "execute_result"
    }
   ],
   "source": [
    "N_BATCH,N_BATCH_TEST"
   ]
  },
  {
   "cell_type": "code",
   "execution_count": 26,
   "metadata": {},
   "outputs": [
    {
     "data": {
      "text/plain": [
       "(0, 256)"
      ]
     },
     "execution_count": 26,
     "metadata": {},
     "output_type": "execute_result"
    }
   ],
   "source": [
    "ind * (BATCH_SIZE // len(GPU_CORE)),(ind + 1) * (BATCH_SIZE // len(GPU_CORE))"
   ]
  },
  {
   "cell_type": "raw",
   "metadata": {},
   "source": [
    "with graph.as_default():\n",
    "    train_epoch = 32\n",
    "    train_batch = 0\n",
    "    saver = tf.train.Saver(var_list=tf.global_variables())\n",
    "    saver.restore(sess,\"models/{}/model_{}\".format(model_name,train_epoch))"
   ]
  },
  {
   "cell_type": "code",
   "execution_count": 29,
   "metadata": {
    "scrolled": false
   },
   "outputs": [
    {
     "name": "stdout",
     "output_type": "stream",
     "text": [
      "EPOCH 2 STEP 4999 LR 0.1 ACC 0.02 LOSS 7.73 value_loss 0.53 100.00 % [==================================================>] 1280000/1280000 \t used:1277s eta:0 ssed:0s eta:2419 s\n",
      " epoch 2 100.00 % [==================================================>] 320000/320000 \t used:219s eta:0 sEPOCH 2 valid loss 7.699052333831787 value loss 0.6480503082275391 acc 0.02875\n",
      "\n",
      "EPOCH 3 STEP 4999 LR 0.1 ACC 0.09 LOSS 7.74 value_loss 0.52 100.00 % [==================================================>] 1280000/1280000 \t used:1296s eta:0 ss\n",
      " epoch 3 100.00 % [==================================================>] 320000/320000 \t used:220s eta:0 sEPOCH 3 valid loss 7.770586013793945 value loss 0.5720261931419373 acc 0.111875\n",
      "\n",
      "EPOCH 4 STEP 4999 LR 0.1 ACC 0.12 LOSS 7.74 value_loss 0.52 100.00 % [==================================================>] 1280000/1280000 \t used:1245s eta:0 ss\n",
      " epoch 4 100.00 % [==================================================>] 320000/320000 \t used:220s eta:0 sEPOCH 4 valid loss 7.774113178253174 value loss 0.5663504600524902 acc 0.1290625\n",
      "\n",
      "EPOCH 5 STEP 4999 LR 0.1 ACC 0.1 LOSS 7.74 value_loss 0.57 100.00 % [==================================================>] 1280000/1280000 \t used:1258s eta:0 sss\n",
      " epoch 5 100.00 % [==================================================>] 320000/320000 \t used:221s eta:0 sEPOCH 5 valid loss 7.756077289581299 value loss 0.5682260394096375 acc 0.0996875\n",
      "\n",
      "EPOCH 6 STEP 4999 LR 0.1 ACC 0.07 LOSS 7.74 value_loss 0.53 100.00 % [==================================================>] 1280000/1280000 \t used:1293s eta:0 ss\n",
      " epoch 6 100.00 % [==================================================>] 320000/320000 \t used:222s eta:0 sEPOCH 6 valid loss 7.7394633293151855 value loss 0.5475485920906067 acc 0.069375\n",
      "\n",
      "EPOCH 7 STEP 4999 LR 0.1 ACC 0.08 LOSS 7.74 value_loss 0.5 100.00 % [==================================================>] 1280000/1280000 \t used:1238s eta:0 sss\n",
      " epoch 7 100.00 % [==================================================>] 320000/320000 \t used:221s eta:0 sEPOCH 7 valid loss 7.745770454406738 value loss 0.5514718890190125 acc 0.0825\n",
      "\n",
      "EPOCH 8 STEP 4999 LR 0.1 ACC 0.04 LOSS 7.75 value_loss 0.52 100.00 % [==================================================>] 1280000/1280000 \t used:1247s eta:0 ss\n",
      " epoch 8 100.00 % [==================================================>] 320000/320000 \t used:221s eta:0 sEPOCH 8 valid loss 7.7425127029418945 value loss 0.5537264943122864 acc 0.0765625\n",
      "\n",
      "EPOCH 9 STEP 4999 LR 0.1 ACC 0.03 LOSS 7.74 value_loss 0.53 100.00 % [==================================================>] 1280000/1280000 \t used:1294s eta:0 ss\n",
      " epoch 9 100.00 % [==================================================>] 320000/320000 \t used:215s eta:0 sEPOCH 9 valid loss 7.715914249420166 value loss 0.6187459230422974 acc 0.0521875\n",
      "\n",
      "EPOCH 10 STEP 4999 LR 0.1 ACC 0.1 LOSS 7.75 value_loss 0.51 100.00 % [==================================================>] 1280000/1280000 \t used:1246s eta:0 sss\n",
      " epoch 10 100.00 % [==================================================>] 320000/320000 \t used:214s eta:0 sEPOCH 10 valid loss 7.734967231750488 value loss 0.5561651587486267 acc 0.085625\n",
      "\n",
      "EPOCH 11 STEP 4999 LR 0.1 ACC 0.06 LOSS 7.74 value_loss 0.54 100.00 % [==================================================>] 1280000/1280000 \t used:1245s eta:0 ss\n",
      " epoch 11 100.00 % [==================================================>] 320000/320000 \t used:214s eta:0 sEPOCH 11 valid loss 7.745718955993652 value loss 0.549629807472229 acc 0.07125\n",
      "\n",
      "EPOCH 12 STEP 4999 LR 0.1 ACC 0.08 LOSS 7.74 value_loss 0.5 100.00 % [==================================================>] 1280000/1280000 \t used:1291s eta:0 sss\n",
      " epoch 12 100.00 % [==================================================>] 320000/320000 \t used:214s eta:0 sEPOCH 12 valid loss 7.7364912033081055 value loss 0.5470471382141113 acc 0.0621875\n",
      "\n",
      "EPOCH 13 STEP 4999 LR 0.1 ACC 0.11 LOSS 7.75 value_loss 0.51 100.00 % [==================================================>] 1280000/1280000 \t used:1244s eta:0 ss\n",
      " epoch 13 100.00 % [==================================================>] 320000/320000 \t used:217s eta:0 sEPOCH 13 valid loss 7.741264820098877 value loss 0.5431046485900879 acc 0.088125\n",
      "\n",
      "EPOCH 14 STEP 4999 LR 0.1 ACC 0.06 LOSS 7.75 value_loss 0.51 100.00 % [==================================================>] 1280000/1280000 \t used:1245s eta:0 ss\n",
      " epoch 14 100.00 % [==================================================>] 320000/320000 \t used:214s eta:0 sEPOCH 14 valid loss 7.7547125816345215 value loss 0.5539262890815735 acc 0.0559375\n",
      "\n",
      "EPOCH 15 STEP 4999 LR 0.05 ACC 0.04 LOSS 7.75 value_loss 0.45 100.00 % [==================================================>] 1280000/1280000 \t used:1291s eta:0 ss\n",
      " epoch 15 100.00 % [==================================================>] 320000/320000 \t used:217s eta:0 sEPOCH 15 valid loss 7.7493896484375 value loss 0.5323070287704468 acc 0.0684375\n",
      "\n",
      "EPOCH 16 STEP 4999 LR 0.05 ACC 0.05 LOSS 7.75 value_loss 0.5 100.00 % [==================================================>] 1280000/1280000 \t used:1248s eta:0 sss\n",
      " epoch 16 100.00 % [==================================================>] 320000/320000 \t used:219s eta:0 sEPOCH 16 valid loss 7.741179466247559 value loss 0.5213767290115356 acc 0.0578125\n",
      "\n",
      "EPOCH 17 STEP 4999 LR 0.05 ACC 0.11 LOSS 7.74 value_loss 0.5 100.00 % [==================================================>] 1280000/1280000 \t used:1248s eta:0 sss\n",
      " epoch 17 100.00 % [==================================================>] 320000/320000 \t used:222s eta:0 sEPOCH 17 valid loss 7.744323253631592 value loss 0.5433857440948486 acc 0.0740625\n",
      "\n",
      "EPOCH 18 STEP 4999 LR 0.05 ACC 0.07 LOSS 7.74 value_loss 0.48 100.00 % [==================================================>] 1280000/1280000 \t used:1293s eta:0 ss\n",
      " epoch 18 100.00 % [==================================================>] 320000/320000 \t used:216s eta:0 sEPOCH 18 valid loss 7.750918865203857 value loss 0.5339879989624023 acc 0.0709375\n",
      "\n",
      "EPOCH 19 STEP 4999 LR 0.05 ACC 0.07 LOSS 7.75 value_loss 0.51 100.00 % [==================================================>] 1280000/1280000 \t used:1252s eta:0 ss\n",
      " epoch 19 100.00 % [==================================================>] 320000/320000 \t used:215s eta:0 sEPOCH 19 valid loss 7.7502875328063965 value loss 0.5354160070419312 acc 0.0809375\n",
      "\n",
      "EPOCH 20 STEP 4999 LR 0.05 ACC 0.08 LOSS 7.74 value_loss 0.47 100.00 % [==================================================>] 1280000/1280000 \t used:1245s eta:0 ss\n",
      " epoch 20 100.00 % [==================================================>] 320000/320000 \t used:215s eta:0 sEPOCH 20 valid loss 7.745870113372803 value loss 0.5356389880180359 acc 0.08\n",
      "\n",
      "EPOCH 21 STEP 4999 LR 0.05 ACC 0.05 LOSS 7.74 value_loss 0.49 100.00 % [==================================================>] 1280000/1280000 \t used:1291s eta:0 ss\n",
      " epoch 21 100.00 % [==================================================>] 320000/320000 \t used:215s eta:0 sEPOCH 21 valid loss 7.743538856506348 value loss 0.5439314246177673 acc 0.079375\n",
      "\n",
      "EPOCH 22 STEP 4999 LR 0.05 ACC 0.06 LOSS 7.75 value_loss 0.51 100.00 % [==================================================>] 1280000/1280000 \t used:1250s eta:0 ss\n",
      " epoch 22 100.00 % [==================================================>] 320000/320000 \t used:214s eta:0 sEPOCH 22 valid loss 7.747862339019775 value loss 0.5304753184318542 acc 0.0590625\n",
      "\n",
      "EPOCH 23 STEP 4999 LR 0.05 ACC 0.08 LOSS 7.74 value_loss 0.47 100.00 % [==================================================>] 1280000/1280000 \t used:1241s eta:0 ss\n",
      " epoch 23 100.00 % [==================================================>] 320000/320000 \t used:214s eta:0 sEPOCH 23 valid loss 7.748504638671875 value loss 0.5404219031333923 acc 0.064375\n",
      "\n",
      "EPOCH 24 STEP 4999 LR 0.05 ACC 0.07 LOSS 7.75 value_loss 0.51 100.00 % [==================================================>] 1280000/1280000 \t used:1295s eta:0 ss\n",
      " epoch 24 100.00 % [==================================================>] 320000/320000 \t used:214s eta:0 sEPOCH 24 valid loss 7.746510982513428 value loss 0.5295111536979675 acc 0.0665625\n",
      "\n"
     ]
    },
    {
     "name": "stdout",
     "output_type": "stream",
     "text": [
      "EPOCH 25 STEP 4999 LR 0.05 ACC 0.09 LOSS 7.74 value_loss 0.47 100.00 % [==================================================>] 1280000/1280000 \t used:1252s eta:0 ss\n",
      " epoch 25 100.00 % [==================================================>] 320000/320000 \t used:217s eta:0 sEPOCH 25 valid loss 7.737100124359131 value loss 0.5342411994934082 acc 0.069375\n",
      "\n",
      "EPOCH 26 STEP 4999 LR 0.05 ACC 0.09 LOSS 7.75 value_loss 0.47 100.00 % [==================================================>] 1280000/1280000 \t used:1249s eta:0 ss\n",
      " epoch 26 100.00 % [==================================================>] 320000/320000 \t used:220s eta:0 sEPOCH 26 valid loss 7.749689102172852 value loss 0.534109890460968 acc 0.076875\n",
      "\n",
      "EPOCH 27 STEP 4999 LR 0.05 ACC 0.04 LOSS 7.74 value_loss 0.5 100.00 % [==================================================>] 1280000/1280000 \t used:1295s eta:0 sss\n",
      " epoch 27 100.00 % [==================================================>] 320000/320000 \t used:217s eta:0 sEPOCH 27 valid loss 7.736389636993408 value loss 0.5395967960357666 acc 0.0590625\n",
      "\n",
      "EPOCH 28 STEP 4999 LR 0.05 ACC 0.06 LOSS 7.74 value_loss 0.48 100.00 % [==================================================>] 1280000/1280000 \t used:1258s eta:0 ss\n",
      " epoch 28 100.00 % [==================================================>] 320000/320000 \t used:217s eta:0 sEPOCH 28 valid loss 7.742201328277588 value loss 0.5394248962402344 acc 0.0546875\n",
      "\n",
      "EPOCH 29 STEP 4999 LR 0.05 ACC 0.06 LOSS 7.75 value_loss 0.45 100.00 % [==================================================>] 1280000/1280000 \t used:1248s eta:0 ss\n",
      " epoch 29 100.00 % [==================================================>] 320000/320000 \t used:215s eta:0 sEPOCH 29 valid loss 7.753393173217773 value loss 0.5457847714424133 acc 0.0871875\n",
      "\n",
      "EPOCH 30 STEP 4999 LR 0.025 ACC 0.04 LOSS 7.75 value_loss 0.46 100.00 % [==================================================>] 1280000/1280000 \t used:1292s eta:0 ss\n",
      " epoch 30 100.00 % [==================================================>] 320000/320000 \t used:214s eta:0 sEPOCH 30 valid loss 7.74113130569458 value loss 0.519701361656189 acc 0.0640625\n",
      "\n",
      "EPOCH 31 STEP 4999 LR 0.025 ACC 0.06 LOSS 7.75 value_loss 0.47 100.00 % [==================================================>] 1280000/1280000 \t used:1265s eta:0 ss\n",
      " epoch 31 100.00 % [==================================================>] 320000/320000 \t used:214s eta:0 sEPOCH 31 valid loss 7.738965034484863 value loss 0.5318822264671326 acc 0.0665625\n",
      "\n",
      "EPOCH 32 STEP 4999 LR 0.025 ACC 0.09 LOSS 7.74 value_loss 0.49 100.00 % [==================================================>] 1280000/1280000 \t used:1238s eta:0 ss\n",
      " epoch 32 100.00 % [==================================================>] 320000/320000 \t used:215s eta:0 sEPOCH 32 valid loss 7.742311000823975 value loss 0.5230128765106201 acc 0.0575\n",
      "\n",
      "EPOCH 33 STEP 4999 LR 0.025 ACC 0.04 LOSS 7.75 value_loss 0.44 100.00 % [==================================================>] 1280000/1280000 \t used:1286s eta:0 ss\n",
      " epoch 33 100.00 % [==================================================>] 320000/320000 \t used:216s eta:0 sEPOCH 33 valid loss 7.744595527648926 value loss 0.5309221744537354 acc 0.0546875\n",
      "\n",
      "EPOCH 34 STEP 4999 LR 0.025 ACC 0.06 LOSS 7.75 value_loss 0.44 100.00 % [==================================================>] 1280000/1280000 \t used:1278s eta:0 ss\n",
      " epoch 34 100.00 % [==================================================>] 320000/320000 \t used:212s eta:0 sEPOCH 34 valid loss 7.7410430908203125 value loss 0.5234127640724182 acc 0.058125\n",
      "\n",
      "EPOCH 35 STEP 4999 LR 0.025 ACC 0.04 LOSS 7.74 value_loss 0.49 100.00 % [==================================================>] 1280000/1280000 \t used:1247s eta:0 ss\n",
      " epoch 35 100.00 % [==================================================>] 320000/320000 \t used:212s eta:0 sEPOCH 35 valid loss 7.750339031219482 value loss 0.5192534327507019 acc 0.063125\n",
      "\n",
      "EPOCH 36 STEP 4999 LR 0.025 ACC 0.06 LOSS 7.74 value_loss 0.48 100.00 % [==================================================>] 1280000/1280000 \t used:1291s eta:0 ss\n",
      " epoch 36 100.00 % [==================================================>] 320000/320000 \t used:211s eta:0 sEPOCH 36 valid loss 7.745068550109863 value loss 0.530478835105896 acc 0.053125\n",
      "\n",
      "EPOCH 37 STEP 4999 LR 0.025 ACC 0.05 LOSS 7.74 value_loss 0.44 100.00 % [==================================================>] 1280000/1280000 \t used:1269s eta:0 ss\n",
      " epoch 37 100.00 % [==================================================>] 320000/320000 \t used:211s eta:0 sEPOCH 37 valid loss 7.746605396270752 value loss 0.5184991955757141 acc 0.064375\n",
      "\n",
      "EPOCH 38 STEP 4999 LR 0.025 ACC 0.05 LOSS 7.74 value_loss 0.46 100.00 % [==================================================>] 1280000/1280000 \t used:1248s eta:0 ss\n",
      " epoch 38 100.00 % [==================================================>] 320000/320000 \t used:213s eta:0 sEPOCH 38 valid loss 7.7463459968566895 value loss 0.5285191535949707 acc 0.046875\n",
      "\n",
      "EPOCH 39 STEP 4999 LR 0.025 ACC 0.05 LOSS 7.74 value_loss 0.48 100.00 % [==================================================>] 1280000/1280000 \t used:1294s eta:0 ss\n",
      " epoch 39 100.00 % [==================================================>] 320000/320000 \t used:211s eta:0 sEPOCH 39 valid loss 7.744140625 value loss 0.535102903842926 acc 0.05375\n",
      "\n",
      "EPOCH 40 STEP 4999 LR 0.025 ACC 0.07 LOSS 7.74 value_loss 0.45 100.00 % [==================================================>] 1280000/1280000 \t used:1530s eta:0 ss\n",
      " epoch 40 100.00 % [==================================================>] 320000/320000 \t used:213s eta:0 sEPOCH 40 valid loss 7.735019683837891 value loss 0.5282542109489441 acc 0.0553125\n",
      "\n",
      "EPOCH 41 STEP 4999 LR 0.025 ACC 0.07 LOSS 7.74 value_loss 0.46 100.00 % [==================================================>] 1280000/1280000 \t used:1244s eta:0 ss\n",
      " epoch 41 100.00 % [==================================================>] 320000/320000 \t used:211s eta:0 sEPOCH 41 valid loss 7.75269079208374 value loss 0.5236960649490356 acc 0.06\n",
      "\n",
      "EPOCH 42 STEP 4999 LR 0.025 ACC 0.05 LOSS 7.75 value_loss 0.46 100.00 % [==================================================>] 1280000/1280000 \t used:1288s eta:0 ss\n",
      " epoch 42 100.00 % [==================================================>] 320000/320000 \t used:211s eta:0 sEPOCH 42 valid loss 7.733978271484375 value loss 0.5312150120735168 acc 0.0440625\n",
      "\n",
      "EPOCH 43 STEP 4999 LR 0.025 ACC 0.06 LOSS 7.74 value_loss 0.43 100.00 % [==================================================>] 1280000/1280000 \t used:1280s eta:0 ss\n",
      " epoch 43 100.00 % [==================================================>] 320000/320000 \t used:211s eta:0 sEPOCH 43 valid loss 7.741511821746826 value loss 0.5369526743888855 acc 0.0484375\n",
      "\n",
      "EPOCH 44 STEP 4999 LR 0.025 ACC 0.06 LOSS 7.74 value_loss 0.46 100.00 % [==================================================>] 1280000/1280000 \t used:1245s eta:0 ss\n",
      " epoch 44 100.00 % [==================================================>] 320000/320000 \t used:212s eta:0 sEPOCH 44 valid loss 7.7345781326293945 value loss 0.5357721447944641 acc 0.05375\n",
      "\n",
      "EPOCH 45 STEP 4999 LR 0.0125 ACC 0.05 LOSS 7.74 value_loss 0.47 100.00 % [==================================================>] 1280000/1280000 \t used:1291s eta:0 ss\n",
      " epoch 45 100.00 % [==================================================>] 320000/320000 \t used:212s eta:0 sEPOCH 45 valid loss 7.745358467102051 value loss 0.5275931358337402 acc 0.0634375\n",
      "\n",
      "EPOCH 46 STEP 4999 LR 0.0125 ACC 0.06 LOSS 7.74 value_loss 0.45 100.00 % [==================================================>] 1280000/1280000 \t used:1230s eta:0 ss\n",
      " epoch 46 100.00 % [==================================================>] 320000/320000 \t used:213s eta:0 sEPOCH 46 valid loss 7.740242004394531 value loss 0.5190509557723999 acc 0.045\n",
      "\n",
      "EPOCH 47 STEP 4999 LR 0.0125 ACC 0.07 LOSS 7.74 value_loss 0.44 100.00 % [==================================================>] 1280000/1280000 \t used:1167s eta:0 ss\n",
      " epoch 47 100.00 % [==================================================>] 320000/320000 \t used:219s eta:0 sEPOCH 47 valid loss 7.7406110763549805 value loss 0.5284556746482849 acc 0.04875\n",
      "\n"
     ]
    },
    {
     "name": "stdout",
     "output_type": "stream",
     "text": [
      "EPOCH 48 STEP 4999 LR 0.0125 ACC 0.06 LOSS 7.74 value_loss 0.46 100.00 % [==================================================>] 1280000/1280000 \t used:1236s eta:0 ss\n",
      " epoch 48 100.00 % [==================================================>] 320000/320000 \t used:220s eta:0 sEPOCH 48 valid loss 7.745699882507324 value loss 0.5288733243942261 acc 0.0646875\n",
      "\n",
      "EPOCH 49 STEP 4999 LR 0.0125 ACC 0.05 LOSS 7.75 value_loss 0.46 100.00 % [==================================================>] 1280000/1280000 \t used:1243s eta:0 ss\n",
      " epoch 49 100.00 % [==================================================>] 320000/320000 \t used:220s eta:0 sEPOCH 49 valid loss 7.747745513916016 value loss 0.5376850366592407 acc 0.059375\n",
      "\n",
      "EPOCH 50 STEP 4999 LR 0.0125 ACC 0.02 LOSS 7.75 value_loss 0.44 100.00 % [==================================================>] 1280000/1280000 \t used:1169s eta:0 ss\n",
      " epoch 50 100.00 % [==================================================>] 320000/320000 \t used:219s eta:0 sEPOCH 50 valid loss 7.746181488037109 value loss 0.5204813480377197 acc 0.0465625\n",
      "\n",
      "EPOCH 51 STEP 4999 LR 0.0125 ACC 0.05 LOSS 7.74 value_loss 0.45 100.00 % [==================================================>] 1280000/1280000 \t used:1192s eta:0 ss\n",
      " epoch 51 100.00 % [==================================================>] 320000/320000 \t used:220s eta:0 sEPOCH 51 valid loss 7.736698627471924 value loss 0.5466229915618896 acc 0.04875\n",
      "\n",
      "EPOCH 52 STEP 4999 LR 0.0125 ACC 0.06 LOSS 7.74 value_loss 0.45 100.00 % [==================================================>] 1280000/1280000 \t used:1241s eta:0 ss\n",
      " epoch 52 100.00 % [==================================================>] 320000/320000 \t used:219s eta:0 sEPOCH 52 valid loss 7.741976737976074 value loss 0.5270897746086121 acc 0.049375\n",
      "\n",
      "EPOCH 53 STEP 4999 LR 0.0125 ACC 0.08 LOSS 7.74 value_loss 0.44 100.00 % [==================================================>] 1280000/1280000 \t used:1171s eta:0 ss\n",
      " epoch 53 100.00 % [==================================================>] 320000/320000 \t used:217s eta:0 sEPOCH 53 valid loss 7.745118618011475 value loss 0.5292304158210754 acc 0.05375\n",
      "\n",
      "EPOCH 54 STEP 4999 LR 0.0125 ACC 0.08 LOSS 7.74 value_loss 0.43 100.00 % [==================================================>] 1280000/1280000 \t used:1165s eta:0 ss\n",
      " epoch 54 100.00 % [==================================================>] 320000/320000 \t used:217s eta:0 sEPOCH 54 valid loss 7.739448547363281 value loss 0.538825273513794 acc 0.0384375\n",
      "\n",
      "EPOCH 55 STEP 4999 LR 0.0125 ACC 0.03 LOSS 7.74 value_loss 0.42 100.00 % [==================================================>] 1280000/1280000 \t used:1239s eta:0 ss\n",
      " epoch 55 100.00 % [==================================================>] 320000/320000 \t used:216s eta:0 sEPOCH 55 valid loss 7.733077526092529 value loss 0.5412696599960327 acc 0.029375\n",
      "\n",
      "EPOCH 56 STEP 4999 LR 0.0125 ACC 0.02 LOSS 7.74 value_loss 0.42 100.00 % [==================================================>] 1280000/1280000 \t used:1166s eta:0 ss\n",
      " epoch 56 100.00 % [==================================================>] 320000/320000 \t used:218s eta:0 sEPOCH 56 valid loss 7.744771957397461 value loss 0.5112571120262146 acc 0.044375\n",
      "\n",
      "EPOCH 57 STEP 4999 LR 0.0125 ACC 0.01 LOSS 7.74 value_loss 0.42 100.00 % [==================================================>] 1280000/1280000 \t used:1167s eta:0 ss\n",
      " epoch 57 100.00 % [==================================================>] 320000/320000 \t used:216s eta:0 sEPOCH 57 valid loss 7.739009380340576 value loss 0.5464481711387634 acc 0.0353125\n",
      "\n",
      "EPOCH 58 STEP 4999 LR 0.0125 ACC 0.01 LOSS 7.74 value_loss 0.38 100.00 % [==================================================>] 1280000/1280000 \t used:1242s eta:0 ss\n",
      " epoch 58 100.00 % [==================================================>] 320000/320000 \t used:219s eta:0 sEPOCH 58 valid loss 7.743742942810059 value loss 0.5505259037017822 acc 0.0365625\n",
      "\n",
      "EPOCH 59 STEP 4999 LR 0.0125 ACC 0.02 LOSS 7.74 value_loss 0.4 100.00 % [==================================================>] 1280000/1280000 \t used:1204s eta:0 sss\n",
      " epoch 59 100.00 % [==================================================>] 320000/320000 \t used:220s eta:0 sEPOCH 59 valid loss 7.7380266189575195 value loss 0.5286985635757446 acc 0.0384375\n",
      "\n",
      "EPOCH 60 STEP 4999 LR 0.00625 ACC 0.03 LOSS 7.75 value_loss 0.4 100.00 % [==================================================>] 1280000/1280000 \t used:1167s eta:0 sss\n",
      " epoch 60 100.00 % [==================================================>] 320000/320000 \t used:220s eta:0 sEPOCH 60 valid loss 7.742953300476074 value loss 0.5226783156394958 acc 0.0425\n",
      "\n",
      "EPOCH 61 STEP 4999 LR 0.00625 ACC 0.03 LOSS 7.74 value_loss 0.43 100.00 % [==================================================>] 1280000/1280000 \t used:1238s eta:0 ss\n",
      " epoch 61 100.00 % [==================================================>] 320000/320000 \t used:221s eta:0 ssEPOCH 61 valid loss 7.7384233474731445 value loss 0.539209246635437 acc 0.0334375\n",
      "\n",
      "EPOCH 62 STEP 4999 LR 0.00625 ACC 0.03 LOSS 7.74 value_loss 0.41 100.00 % [==================================================>] 1280000/1280000 \t used:1245s eta:0 ss\n",
      " epoch 62 100.00 % [==================================================>] 320000/320000 \t used:220s eta:0 sEPOCH 62 valid loss 7.7404656410217285 value loss 0.5317177176475525 acc 0.0375\n",
      "\n",
      "EPOCH 63 STEP 4999 LR 0.00625 ACC 0.01 LOSS 7.74 value_loss 0.46 100.00 % [==================================================>] 1280000/1280000 \t used:1165s eta:0 ss\n",
      " epoch 63 100.00 % [==================================================>] 320000/320000 \t used:218s eta:0 sEPOCH 63 valid loss 7.746486663818359 value loss 0.5279881954193115 acc 0.040625\n",
      "\n",
      "EPOCH 64 STEP 4999 LR 0.00625 ACC 0.03 LOSS 7.74 value_loss 0.42 100.00 % [==================================================>] 1280000/1280000 \t used:1211s eta:0 ss\n",
      " epoch 64 100.00 % [==================================================>] 320000/320000 \t used:219s eta:0 sEPOCH 64 valid loss 7.736363887786865 value loss 0.5340150594711304 acc 0.0353125\n",
      "\n",
      "EPOCH 65 STEP 4999 LR 0.00625 ACC 0.07 LOSS 7.74 value_loss 0.42 100.00 % [==================================================>] 1280000/1280000 \t used:1242s eta:0 ss\n",
      " epoch 65 100.00 % [==================================================>] 320000/320000 \t used:219s eta:0 sEPOCH 65 valid loss 7.741325855255127 value loss 0.5409002900123596 acc 0.0425\n",
      "\n",
      "EPOCH 66 STEP 4999 LR 0.00625 ACC 0.06 LOSS 7.74 value_loss 0.44 100.00 % [==================================================>] 1280000/1280000 \t used:1169s eta:0 ss\n",
      " epoch 66 100.00 % [==================================================>] 320000/320000 \t used:219s eta:0 sEPOCH 66 valid loss 7.743642807006836 value loss 0.5248316526412964 acc 0.0396875\n",
      "\n",
      "EPOCH 67 STEP 4999 LR 0.00625 ACC 0.04 LOSS 7.74 value_loss 0.4 100.00 % [==================================================>] 1280000/1280000 \t used:1169s eta:0 sss\n",
      " epoch 67 100.00 % [==================================================>] 320000/320000 \t used:220s eta:0 sEPOCH 67 valid loss 7.748470306396484 value loss 0.5312012434005737 acc 0.0403125\n",
      "\n",
      "EPOCH 68 STEP 4999 LR 0.00625 ACC 0.04 LOSS 7.74 value_loss 0.39 100.00 % [==================================================>] 1280000/1280000 \t used:1241s eta:0 ss\n",
      " epoch 68 100.00 % [==================================================>] 320000/320000 \t used:220s eta:0 sEPOCH 68 valid loss 7.742363929748535 value loss 0.5471211075782776 acc 0.04\n",
      "\n",
      "EPOCH 69 STEP 4999 LR 0.00625 ACC 0.02 LOSS 7.74 value_loss 0.4 100.00 % [==================================================>] 1280000/1280000 \t used:1160s eta:0 sss\n",
      " epoch 69 100.00 % [==================================================>] 320000/320000 \t used:220s eta:0 sEPOCH 69 valid loss 7.7365593910217285 value loss 0.5396382212638855 acc 0.0253125\n",
      "\n",
      "EPOCH 70 STEP 4999 LR 0.00625 ACC 0.01 LOSS 7.74 value_loss 0.39 100.00 % [==================================================>] 1280000/1280000 \t used:1167s eta:0 ss\n",
      " epoch 70 100.00 % [==================================================>] 320000/320000 \t used:220s eta:0 sEPOCH 70 valid loss 7.735802173614502 value loss 0.5364505648612976 acc 0.03625\n",
      "\n"
     ]
    },
    {
     "name": "stdout",
     "output_type": "stream",
     "text": [
      "EPOCH 71 STEP 4999 LR 0.00625 ACC 0.03 LOSS 7.74 value_loss 0.38 100.00 % [==================================================>] 1280000/1280000 \t used:1241s eta:0 ss\n",
      " epoch 71 100.00 % [==================================================>] 320000/320000 \t used:220s eta:0 sEPOCH 71 valid loss 7.736893177032471 value loss 0.5384567975997925 acc 0.0275\n",
      "\n",
      "EPOCH 72 STEP 4999 LR 0.00625 ACC 0.03 LOSS 7.74 value_loss 0.39 100.00 % [==================================================>] 1280000/1280000 \t used:1204s eta:0 ss\n",
      " epoch 72 100.00 % [==================================================>] 320000/320000 \t used:219s eta:0 sEPOCH 72 valid loss 7.738132953643799 value loss 0.5389196872711182 acc 0.03375\n",
      "\n",
      "EPOCH 73 STEP 4999 LR 0.00625 ACC 0.05 LOSS 7.75 value_loss 0.4 100.00 % [==================================================>] 1280000/1280000 \t used:1170s eta:0 sss\n",
      " epoch 73 100.00 % [==================================================>] 320000/320000 \t used:220s eta:0 sEPOCH 73 valid loss 7.741528034210205 value loss 0.548877477645874 acc 0.035625\n",
      "\n",
      "EPOCH 74 STEP 4999 LR 0.00625 ACC 0.03 LOSS 7.74 value_loss 0.41 100.00 % [==================================================>] 1280000/1280000 \t used:1243s eta:0 ss\n",
      " epoch 74 100.00 % [==================================================>] 320000/320000 \t used:220s eta:0 sEPOCH 74 valid loss 7.739632606506348 value loss 0.5450582504272461 acc 0.0384375\n",
      "\n",
      "EPOCH 75 STEP 4999 LR 0.003125 ACC 0.01 LOSS 7.74 value_loss 0.41 100.00 % [==================================================>] 1280000/1280000 \t used:1246s eta:0 ss\n",
      " epoch 75 100.00 % [==================================================>] 320000/320000 \t used:221s eta:0 sEPOCH 75 valid loss 7.739240646362305 value loss 0.5389981865882874 acc 0.03\n",
      "\n",
      "EPOCH 76 STEP 4999 LR 0.003125 ACC 0.02 LOSS 7.74 value_loss 0.38 100.00 % [==================================================>] 1280000/1280000 \t used:1161s eta:0 ss\n",
      " epoch 76 100.00 % [==================================================>] 320000/320000 \t used:222s eta:0 sEPOCH 76 valid loss 7.740777969360352 value loss 0.538023054599762 acc 0.0353125\n",
      "\n",
      "EPOCH 77 STEP 4999 LR 0.003125 ACC 0.04 LOSS 7.74 value_loss 0.38 100.00 % [==================================================>] 1280000/1280000 \t used:1206s eta:0 ss\n",
      " epoch 77 100.00 % [==================================================>] 320000/320000 \t used:220s eta:0 sEPOCH 77 valid loss 7.742300987243652 value loss 0.5315588712692261 acc 0.0396875\n",
      "\n",
      "EPOCH 78 STEP 4999 LR 0.003125 ACC 0.03 LOSS 7.74 value_loss 0.39 100.00 % [==================================================>] 1280000/1280000 \t used:1239s eta:0 ss\n",
      " epoch 78 100.00 % [==================================================>] 320000/320000 \t used:219s eta:0 sEPOCH 78 valid loss 7.738100051879883 value loss 0.5505741834640503 acc 0.0334375\n",
      "\n",
      "EPOCH 79 STEP 4999 LR 0.003125 ACC 0.03 LOSS 7.74 value_loss 0.38 100.00 % [==================================================>] 1280000/1280000 \t used:1163s eta:0 ss\n",
      " epoch 79 100.00 % [==================================================>] 320000/320000 \t used:220s eta:0 sEPOCH 79 valid loss 7.736789703369141 value loss 0.5389925241470337 acc 0.0275\n",
      "\n",
      "EPOCH 80 STEP 4999 LR 0.003125 ACC 0.05 LOSS 7.74 value_loss 0.39 100.00 % [==================================================>] 1280000/1280000 \t used:1163s eta:0 ss\n",
      " epoch 80 100.00 % [==================================================>] 320000/320000 \t used:218s eta:0 sEPOCH 80 valid loss 7.741282939910889 value loss 0.5497381687164307 acc 0.031875\n",
      "\n",
      "EPOCH 81 STEP 4999 LR 0.003125 ACC 0.05 LOSS 7.74 value_loss 0.4 100.00 % [==================================================>] 1280000/1280000 \t used:1239s eta:0 sss\n",
      " epoch 81 100.00 % [==================================================>] 320000/320000 \t used:216s eta:0 sEPOCH 81 valid loss 7.743829727172852 value loss 0.5369912981987 acc 0.036875\n",
      "\n",
      "EPOCH 82 STEP 4999 LR 0.003125 ACC 0.03 LOSS 7.74 value_loss 0.36 100.00 % [==================================================>] 1280000/1280000 \t used:1167s eta:0 ss\n",
      " epoch 82 100.00 % [==================================================>] 320000/320000 \t used:218s eta:0 sEPOCH 82 valid loss 7.737193584442139 value loss 0.544012725353241 acc 0.0290625\n",
      "\n",
      "EPOCH 83 STEP 4999 LR 0.003125 ACC 0.03 LOSS 7.74 value_loss 0.37 100.00 % [==================================================>] 1280000/1280000 \t used:1160s eta:0 ss\n",
      " epoch 83 100.00 % [==================================================>] 320000/320000 \t used:217s eta:0 sEPOCH 83 valid loss 7.739814758300781 value loss 0.5342729687690735 acc 0.0278125\n",
      "\n",
      "EPOCH 84 STEP 4999 LR 0.003125 ACC 0.02 LOSS 7.74 value_loss 0.37 100.00 % [==================================================>] 1280000/1280000 \t used:1240s eta:0 ss\n",
      " epoch 84 100.00 % [==================================================>] 320000/320000 \t used:220s eta:0 sEPOCH 84 valid loss 7.7409820556640625 value loss 0.5465087294578552 acc 0.033125\n",
      "\n",
      "EPOCH 85 STEP 4999 LR 0.003125 ACC 0.03 LOSS 7.74 value_loss 0.35 100.00 % [==================================================>] 1280000/1280000 \t used:1211s eta:0 ss\n",
      " epoch 85 100.00 % [==================================================>] 320000/320000 \t used:220s eta:0 sEPOCH 85 valid loss 7.741970539093018 value loss 0.542290985584259 acc 0.03125\n",
      "\n",
      "EPOCH 86 STEP 4999 LR 0.003125 ACC 0.02 LOSS 7.74 value_loss 0.34 100.00 % [==================================================>] 1280000/1280000 \t used:1165s eta:0 ss\n",
      " epoch 86 100.00 % [==================================================>] 320000/320000 \t used:221s eta:0 sEPOCH 86 valid loss 7.743232727050781 value loss 0.5597349405288696 acc 0.0359375\n",
      "\n",
      "EPOCH 87 STEP 4999 LR 0.003125 ACC 0.02 LOSS 7.74 value_loss 0.37 100.00 % [==================================================>] 1280000/1280000 \t used:1238s eta:0 ss\n",
      " epoch 87 100.00 % [==================================================>] 320000/320000 \t used:219s eta:0 sEPOCH 87 valid loss 7.744117259979248 value loss 0.5351482629776001 acc 0.035\n",
      "\n",
      "EPOCH 88 STEP 4999 LR 0.003125 ACC 0.04 LOSS 7.74 value_loss 0.39 100.00 % [==================================================>] 1280000/1280000 \t used:1240s eta:0 ss\n",
      " epoch 88 100.00 % [==================================================>] 320000/320000 \t used:220s eta:0 sEPOCH 88 valid loss 7.741943836212158 value loss 0.5505226850509644 acc 0.0278125\n",
      "\n",
      "EPOCH 89 STEP 4999 LR 0.003125 ACC 0.03 LOSS 7.75 value_loss 0.36 100.00 % [==================================================>] 1280000/1280000 \t used:1159s eta:0 ss\n",
      " epoch 89 100.00 % [==================================================>] 320000/320000 \t used:220s eta:0 sEPOCH 89 valid loss 7.741918563842773 value loss 0.551774799823761 acc 0.0303125\n",
      "\n",
      "EPOCH 90 STEP 4999 LR 0.0015625 ACC 0.02 LOSS 7.74 value_loss 0.38 100.00 % [==================================================>] 1280000/1280000 \t used:1201s eta:0 ss\n",
      " epoch 90 100.00 % [==================================================>] 320000/320000 \t used:222s eta:0 sEPOCH 90 valid loss 7.738265514373779 value loss 0.5555621385574341 acc 0.0296875\n",
      "\n",
      "EPOCH 91 STEP 4999 LR 0.0015625 ACC 0.03 LOSS 7.74 value_loss 0.34 100.00 % [==================================================>] 1280000/1280000 \t used:1244s eta:0 ss\n",
      " epoch 91 100.00 % [==================================================>] 320000/320000 \t used:220s eta:0 sEPOCH 91 valid loss 7.742063999176025 value loss 0.5322198271751404 acc 0.03375\n",
      "\n",
      "EPOCH 92 STEP 4999 LR 0.0015625 ACC 0.03 LOSS 7.74 value_loss 0.36 100.00 % [==================================================>] 1280000/1280000 \t used:1163s eta:0 ss\n",
      " epoch 92 100.00 % [==================================================>] 320000/320000 \t used:221s eta:0 sEPOCH 92 valid loss 7.741214275360107 value loss 0.5491084456443787 acc 0.0321875\n",
      "\n",
      "EPOCH 93 STEP 4999 LR 0.0015625 ACC 0.05 LOSS 7.74 value_loss 0.33 100.00 % [==================================================>] 1280000/1280000 \t used:1167s eta:0 ss\n",
      " epoch 93 100.00 % [==================================================>] 320000/320000 \t used:213s eta:0 sEPOCH 93 valid loss 7.736496925354004 value loss 0.5482436418533325 acc 0.03125\n",
      "\n"
     ]
    },
    {
     "name": "stdout",
     "output_type": "stream",
     "text": [
      "EPOCH 94 STEP 4999 LR 0.0015625 ACC 0.03 LOSS 7.74 value_loss 0.37 100.00 % [==================================================>] 1280000/1280000 \t used:1240s eta:0 ss\n",
      " epoch 94 100.00 % [==================================================>] 320000/320000 \t used:208s eta:0 sEPOCH 94 valid loss 7.739734172821045 value loss 0.543205738067627 acc 0.0315625\n",
      "\n",
      "EPOCH 95 STEP 4999 LR 0.0015625 ACC 0.06 LOSS 7.74 value_loss 0.35 100.00 % [==================================================>] 1280000/1280000 \t used:1165s eta:0 ss\n",
      " epoch 95 100.00 % [==================================================>] 320000/320000 \t used:210s eta:0 sEPOCH 95 valid loss 7.740542411804199 value loss 0.5452911853790283 acc 0.0334375\n",
      "\n",
      "EPOCH 96 STEP 4999 LR 0.0015625 ACC 0.05 LOSS 7.74 value_loss 0.36 100.00 % [==================================================>] 1280000/1280000 \t used:1169s eta:0 ss\n",
      " epoch 96 100.00 % [==================================================>] 320000/320000 \t used:208s eta:0 sEPOCH 96 valid loss 7.73606538772583 value loss 0.5567395687103271 acc 0.030625\n",
      "\n",
      "EPOCH 97 STEP 4999 LR 0.0015625 ACC 0.04 LOSS 7.73 value_loss 0.33 100.00 % [==================================================>] 1280000/1280000 \t used:1236s eta:0 ss\n",
      " epoch 97 100.00 % [==================================================>] 320000/320000 \t used:210s eta:0 sEPOCH 97 valid loss 7.745223522186279 value loss 0.5403255224227905 acc 0.0321875\n",
      "\n",
      "EPOCH 98 STEP 4999 LR 0.0015625 ACC 0.04 LOSS 7.74 value_loss 0.35 100.00 % [==================================================>] 1280000/1280000 \t used:1182s eta:0 ss\n",
      " epoch 98 100.00 % [==================================================>] 320000/320000 \t used:209s eta:0 sEPOCH 98 valid loss 7.7351765632629395 value loss 0.5594453811645508 acc 0.02875\n",
      "\n",
      "EPOCH 99 STEP 4999 LR 0.0015625 ACC 0.03 LOSS 7.74 value_loss 0.33 100.00 % [==================================================>] 1280000/1280000 \t used:1171s eta:0 ss\n",
      " epoch 99 100.00 % [==================================================>] 320000/320000 \t used:209s eta:0 sEPOCH 99 valid loss 7.741922855377197 value loss 0.5522111058235168 acc 0.0365625\n",
      "\n"
     ]
    }
   ],
   "source": [
    "restore = False\n",
    "N_EPOCH = 100\n",
    "DECAY_EPOCH = 15\n",
    "\n",
    "class ExpVal:\n",
    "    def __init__(self,exp_a=0.97):\n",
    "        self.val = None\n",
    "        self.exp_a = exp_a\n",
    "    def update(self,newval):\n",
    "        if self.val == None:\n",
    "            self.val = newval\n",
    "        else:\n",
    "            self.val = self.exp_a * self.val + (1 - self.exp_a) * newval\n",
    "    def getval(self):\n",
    "        return round(self.val,2)\n",
    "    \n",
    "expacc_move = ExpVal()\n",
    "exploss = ExpVal()\n",
    "expsteploss = ExpVal()\n",
    "\n",
    "begining_learning_rate = 1e-1\n",
    "\n",
    "pred_image = None\n",
    "if restore == False:\n",
    "    train_epoch = 1\n",
    "    train_batch = 0\n",
    "for one_epoch in range(train_epoch + 1,N_EPOCH):\n",
    "    train_epoch = one_epoch\n",
    "    pb = ProgressBar(worksum=N_BATCH * BATCH_SIZE,info=\" epoch {} batch {}\".format(train_epoch,train_batch))\n",
    "    pb.startjob()\n",
    "    \n",
    "    for one_batch in range(N_BATCH):\n",
    "        if restore == True and one_batch < train_batch:\n",
    "            pb.auto_display = False\n",
    "            pb.complete(BATCH_SIZE)\n",
    "            pb.auto_display = True\n",
    "            continue\n",
    "        else:\n",
    "            restore = False\n",
    "        train_batch = one_batch\n",
    "        \n",
    "        batch_x,batch_y,batch_v = trainflow.next()['data']\n",
    "        batch_v = np.expand_dims(np.nan_to_num(batch_v),1)\n",
    "        # learning rate decay strategy\n",
    "        batch_lr = begining_learning_rate * 2 ** -(one_epoch // DECAY_EPOCH)\n",
    "        with graph.as_default():\n",
    "            _,step_loss,step_value_loss,step_acc_move,step_value,step_val_predict = sess.run(\n",
    "                [train_op_value,policy_loss,value_loss,accuracy_select,global_step,value_head],feed_dict={\n",
    "                    X:batch_x,nextmove:batch_y,learning_rate:batch_lr,training:True,score:batch_v,\n",
    "                })\n",
    "        \n",
    "        step_acc_move *= 100\n",
    "        \n",
    "        expacc_move.update(step_acc_move)\n",
    "        exploss.update(step_loss)\n",
    "        expsteploss.update(step_value_loss)\n",
    "\n",
    "       \n",
    "        pb.info = \"EPOCH {} STEP {} LR {} ACC {} LOSS {} value_loss {}\".format(\n",
    "            one_epoch,one_batch,batch_lr,expacc_move.getval(),exploss.getval(),expsteploss.getval())\n",
    "        \n",
    "        pb.complete(BATCH_SIZE)\n",
    "    print()\n",
    "    pb = ProgressBar(worksum=N_BATCH // 4 * BATCH_SIZE,info=\" epoch {}\".format(train_epoch))\n",
    "    pb.startjob()\n",
    "    losses = []\n",
    "    value_losses = []\n",
    "    accs = []\n",
    "    for one_batch in range(N_BATCH // 4):\n",
    "        batch_x,batch_y,batch_v = testflow.next()['data']\n",
    "        batch_v = np.expand_dims(np.nan_to_num(batch_v),1)\n",
    "        # learning rate decay strategy\n",
    "        batch_lr = begining_learning_rate * 10 ** -(one_epoch // DECAY_EPOCH)\n",
    "        with graph.as_default():\n",
    "            step_loss,step_value_loss,step_acc_move,step_value = sess.run(\n",
    "                [policy_loss,value_loss,accuracy_select,global_step],feed_dict={\n",
    "                    X:batch_x,nextmove:batch_y,learning_rate:batch_lr,training:False,score:batch_v,\n",
    "                })\n",
    "        \n",
    "        step_acc_move *= 100\n",
    "        losses.append(step_loss)\n",
    "        accs.append(step_acc_move)\n",
    "        value_losses.append(step_value_loss)\n",
    "        pb.complete(BATCH_SIZE)\n",
    "    print(\"EPOCH {} valid loss {} value loss {} acc {}\".format(train_epoch,np.average(losses)\n",
    "                                                               ,np.average(value_losses),np.average(accs)))\n",
    "    print()\n",
    "    with graph.as_default():\n",
    "        saver = tf.train.Saver(var_list=tf.global_variables())\n",
    "        saver.save(sess,\"models/{}/model_{}\".format(model_name,one_epoch))"
   ]
  },
  {
   "cell_type": "code",
   "execution_count": null,
   "metadata": {
    "collapsed": true
   },
   "outputs": [],
   "source": []
  }
 ],
 "metadata": {
  "anaconda-cloud": {},
  "kernelspec": {
   "display_name": "tf1.3_python",
   "language": "python",
   "name": "tf1.3_kernel"
  },
  "language_info": {
   "codemirror_mode": {
    "name": "ipython",
    "version": 3
   },
   "file_extension": ".py",
   "mimetype": "text/x-python",
   "name": "python",
   "nbconvert_exporter": "python",
   "pygments_lexer": "ipython3",
   "version": "3.6.0"
  }
 },
 "nbformat": 4,
 "nbformat_minor": 1
}
