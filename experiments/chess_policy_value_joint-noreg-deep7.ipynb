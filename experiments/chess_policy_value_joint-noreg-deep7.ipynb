{
 "cells": [
  {
   "cell_type": "code",
   "execution_count": 1,
   "metadata": {
    "collapsed": true
   },
   "outputs": [],
   "source": [
    "%reload_ext autoreload \n",
    "%autoreload 2\n",
    "\n",
    "import tensorflow as tf\n",
    "import numpy as np\n",
    "from matplotlib import pyplot as plt\n",
    "import random \n",
    "import time\n",
    "from utils import Dataset,ProgressBar\n",
    "from tflearn.data_flow import DataFlow,DataFlowStatus,FeedDictFlow\n",
    "from tflearn.data_utils import Preloader,ImagePreloader\n",
    "import scipy\n",
    "import pandas as pd\n",
    "import xmltodict\n",
    "import common\n",
    "import tflearn\n",
    "import copy\n",
    "from cchess import *\n",
    "from game_convert import convert_game,convert_game_value"
   ]
  },
  {
   "cell_type": "code",
   "execution_count": 2,
   "metadata": {},
   "outputs": [
    {
     "name": "stdout",
     "output_type": "stream",
     "text": [
      "Sun May  6 01:54:32 2018       \r\n",
      "+-----------------------------------------------------------------------------+\r\n",
      "| NVIDIA-SMI 384.111                Driver Version: 384.111                   |\r\n",
      "|-------------------------------+----------------------+----------------------+\r\n",
      "| GPU  Name        Persistence-M| Bus-Id        Disp.A | Volatile Uncorr. ECC |\r\n",
      "| Fan  Temp  Perf  Pwr:Usage/Cap|         Memory-Usage | GPU-Util  Compute M. |\r\n",
      "|===============================+======================+======================|\r\n",
      "|   0  GeForce GTX 108...  Off  | 00000000:05:00.0 Off |                  N/A |\r\n",
      "| 45%   75C    P2    89W / 250W |   6516MiB / 11172MiB |     32%      Default |\r\n",
      "+-------------------------------+----------------------+----------------------+\r\n",
      "|   1  GeForce GTX 108...  Off  | 00000000:42:00.0 Off |                  N/A |\r\n",
      "| 68%   85C    P2   182W / 250W |   7276MiB / 11172MiB |     97%      Default |\r\n",
      "+-------------------------------+----------------------+----------------------+\r\n",
      "                                                                               \r\n",
      "+-----------------------------------------------------------------------------+\r\n",
      "| Processes:                                                       GPU Memory |\r\n",
      "|  GPU       PID   Type   Process name                             Usage      |\r\n",
      "|=============================================================================|\r\n",
      "|    0     17764      C   /home/meta/anaconda3/bin/python             5951MiB |\r\n",
      "|    0     19366      C   /usr/local/bin/python3                       183MiB |\r\n",
      "|    0     25225      C   /usr/local/bin/python3                       183MiB |\r\n",
      "|    0     25467      C   /usr/local/bin/python3                       183MiB |\r\n",
      "|    1     17764      C   /home/meta/anaconda3/bin/python              153MiB |\r\n",
      "|    1     19366      C   /usr/local/bin/python3                      2369MiB |\r\n",
      "|    1     25225      C   /usr/local/bin/python3                      2369MiB |\r\n",
      "|    1     25467      C   /usr/local/bin/python3                      2369MiB |\r\n",
      "+-----------------------------------------------------------------------------+\r\n"
     ]
    }
   ],
   "source": [
    "!nvidia-smi"
   ]
  },
  {
   "cell_type": "markdown",
   "metadata": {},
   "source": [
    "# a network predict select and move of Chinese chess, with minimal preprocessing"
   ]
  },
  {
   "cell_type": "code",
   "execution_count": 3,
   "metadata": {
    "collapsed": true
   },
   "outputs": [],
   "source": [
    "GPU_CORE = [0]\n",
    "BATCH_SIZE = 256\n",
    "BEGINING_LR = 0.01\n",
    "#TESTIMG_WIDTH = 500\n",
    "model_name = '5_5_resnet_joint_noreg_deep7'\n",
    "data_dir = 'data/imsa-cbf/'"
   ]
  },
  {
   "cell_type": "code",
   "execution_count": 4,
   "metadata": {
    "collapsed": true
   },
   "outputs": [],
   "source": [
    "labels = common.board.create_uci_labels()\n",
    "label2ind = dict(zip(labels,list(range(len(labels)))))"
   ]
  },
  {
   "cell_type": "code",
   "execution_count": 5,
   "metadata": {
    "collapsed": true
   },
   "outputs": [],
   "source": [
    "pgn2value = dict(pd.read_csv('./data/resultlist.csv').values[:,1:])"
   ]
  },
  {
   "cell_type": "code",
   "execution_count": 6,
   "metadata": {
    "collapsed": true
   },
   "outputs": [],
   "source": [
    "class ElePreloader(object):\n",
    "    def __init__(self,datafile,batch_size=64):\n",
    "        self.batch_size=batch_size\n",
    "        content = pd.read_csv(datafile,header=None,index_col=None)\n",
    "        self.filelist = [i[0] for i in content.get_values()]\n",
    "        self.pos = 0\n",
    "        self.feature_list = {\"red\":['A', 'B', 'C', 'K', 'N', 'P', 'R']\n",
    "                             ,\"black\":['a', 'b', 'c', 'k', 'n', 'p', 'r']}\n",
    "        self.batch_size = batch_size\n",
    "        self.batch_iter = self.__iter()\n",
    "        assert(len(self.filelist) > batch_size)\n",
    "        self.game_iterlist = [None for i in self.filelist]\n",
    "    \n",
    "    def __iter(self):\n",
    "        retx1,rety1,retx2,rety2 = [],[],[],[]\n",
    "        vals = []\n",
    "        filelist = []\n",
    "        while True:\n",
    "            for i in range(self.batch_size):\n",
    "                if self.game_iterlist[i] == None:\n",
    "                    if len(filelist) == 0:\n",
    "                        filelist = copy.copy(self.filelist)\n",
    "                        random.shuffle(filelist)\n",
    "                    self.game_iterlist[i] = convert_game_value(filelist.pop(),self.feature_list,pgn2value)\n",
    "                game_iter = self.game_iterlist[i]\n",
    "                \n",
    "                try:\n",
    "                    x1,y1,val1 = game_iter.__next__()\n",
    "                    x1 = np.transpose(x1,[1,2,0])\n",
    "                    x1 = np.expand_dims(x1,axis=0)\n",
    "                    retx1.append(x1)\n",
    "                    #rety1.append(y1)\n",
    "                    oney = np.zeros(len(labels))\n",
    "                    oney[label2ind[''.join(y1)]] = 1\n",
    "                    rety1.append(oney)\n",
    "                    vals.append(val1)\n",
    "\n",
    "                    if len(retx1) >= self.batch_size:\n",
    "                        yield (np.concatenate(retx1,axis=0),np.asarray(rety1),np.asarray(vals))\n",
    "                        retx1,rety1 = [],[]\n",
    "                        vals = []\n",
    "                except :\n",
    "                    self.game_iterlist[i] = None\n",
    "\n",
    "    def __getitem__(self, id):\n",
    "        \n",
    "        x1,y1,val1 = self.batch_iter.__next__()\n",
    "        return x1,y1,val1\n",
    "        \n",
    "    def __len__(self):\n",
    "        return 10000"
   ]
  },
  {
   "cell_type": "code",
   "execution_count": 7,
   "metadata": {
    "collapsed": true
   },
   "outputs": [],
   "source": [
    "trainset = ElePreloader(datafile='data/train_list.csv',batch_size=BATCH_SIZE)\n",
    "with tf.device(\"/gpu:{}\".format(GPU_CORE[0])):\n",
    "    coord = tf.train.Coordinator()\n",
    "    trainflow = FeedDictFlow({\n",
    "            'data':trainset,\n",
    "        },coord,batch_size=BATCH_SIZE,shuffle=True,continuous=True,num_threads=1)\n",
    "trainflow.start()"
   ]
  },
  {
   "cell_type": "code",
   "execution_count": 8,
   "metadata": {
    "collapsed": true
   },
   "outputs": [],
   "source": [
    "testset = ElePreloader(datafile='data/test_list.csv',batch_size=BATCH_SIZE)\n",
    "with tf.device(\"/gpu:{}\".format(GPU_CORE[0])):\n",
    "    coord = tf.train.Coordinator()\n",
    "    testflow = FeedDictFlow({\n",
    "            'data':testset,\n",
    "        },coord,batch_size=BATCH_SIZE,shuffle=True,continuous=True,num_threads=1)\n",
    "testflow.start()"
   ]
  },
  {
   "cell_type": "code",
   "execution_count": 9,
   "metadata": {
    "collapsed": true
   },
   "outputs": [],
   "source": [
    "sample_x1,sample_y1,sample_value = trainflow.next()['data']"
   ]
  },
  {
   "cell_type": "code",
   "execution_count": 10,
   "metadata": {
    "collapsed": true
   },
   "outputs": [],
   "source": [
    "sample_x1,sample_y1,sample_value = testflow.next()['data']"
   ]
  },
  {
   "cell_type": "code",
   "execution_count": 11,
   "metadata": {},
   "outputs": [
    {
     "data": {
      "text/plain": [
       "((256, 10, 9, 14), (256, 2086), (256,))"
      ]
     },
     "execution_count": 11,
     "metadata": {},
     "output_type": "execute_result"
    }
   ],
   "source": [
    "sample_x1.shape,sample_y1.shape,sample_value.shape"
   ]
  },
  {
   "cell_type": "code",
   "execution_count": 12,
   "metadata": {},
   "outputs": [
    {
     "data": {
      "text/plain": [
       "'h0g2'"
      ]
     },
     "execution_count": 12,
     "metadata": {},
     "output_type": "execute_result"
    }
   ],
   "source": [
    "labels[np.argmax(sample_y1[0])]"
   ]
  },
  {
   "cell_type": "code",
   "execution_count": 13,
   "metadata": {},
   "outputs": [
    {
     "data": {
      "text/plain": [
       "array([[1, 1, 1, 1, 1, 1, 1, 1, 1],\n",
       "       [0, 0, 0, 0, 0, 0, 0, 0, 0],\n",
       "       [0, 1, 0, 0, 0, 0, 0, 1, 0],\n",
       "       [1, 0, 1, 0, 1, 0, 1, 0, 1],\n",
       "       [0, 0, 0, 0, 0, 0, 0, 0, 0],\n",
       "       [0, 0, 0, 0, 0, 0, 0, 0, 0],\n",
       "       [1, 0, 1, 0, 1, 0, 1, 0, 1],\n",
       "       [0, 1, 0, 0, 0, 0, 0, 1, 0],\n",
       "       [0, 0, 0, 0, 0, 0, 0, 0, 0],\n",
       "       [1, 1, 1, 1, 1, 1, 1, 1, 1]], dtype=uint64)"
      ]
     },
     "execution_count": 13,
     "metadata": {},
     "output_type": "execute_result"
    }
   ],
   "source": [
    "np.sum(sample_x1[0],axis=-1)"
   ]
  },
  {
   "cell_type": "code",
   "execution_count": 14,
   "metadata": {},
   "outputs": [
    {
     "data": {
      "text/plain": [
       "array([-1.,  1.,  0., -1.,  1.,  0.,  0.,  0.,  1.,  0.])"
      ]
     },
     "execution_count": 14,
     "metadata": {},
     "output_type": "execute_result"
    }
   ],
   "source": [
    "sample_value[:10]"
   ]
  },
  {
   "cell_type": "code",
   "execution_count": 15,
   "metadata": {},
   "outputs": [
    {
     "data": {
      "text/plain": [
       "2086"
      ]
     },
     "execution_count": 15,
     "metadata": {},
     "output_type": "execute_result"
    }
   ],
   "source": [
    "len(labels)"
   ]
  },
  {
   "cell_type": "code",
   "execution_count": 16,
   "metadata": {},
   "outputs": [
    {
     "data": {
      "text/plain": [
       "(10, 9)"
      ]
     },
     "execution_count": 16,
     "metadata": {},
     "output_type": "execute_result"
    }
   ],
   "source": [
    "np.sum(sample_x1[0],axis=-1).shape"
   ]
  },
  {
   "cell_type": "code",
   "execution_count": 17,
   "metadata": {
    "collapsed": true
   },
   "outputs": [],
   "source": [
    "def res_block(inputx,name,training,block_num=2,filters=256,kernel_size=(3,3)):\n",
    "    net = inputx\n",
    "    for i in range(block_num):\n",
    "        net = tf.layers.conv2d(net,filters=filters,kernel_size=kernel_size,activation=None,name=\"{}_res_conv{}\".format(name,i),padding='same')\n",
    "        net = tf.layers.batch_normalization(net,training=training,name=\"{}_res_bn{}\".format(name,i))\n",
    "        if i == block_num - 1:\n",
    "            net = net + inputx #= tf.concat((inputx,net),axis=-1)\n",
    "        net = tf.nn.elu(net,name=\"{}_res_elu{}\".format(name,i))\n",
    "    return net\n",
    "\n",
    "def conv_block(inputx,name,training,block_num=1,filters=2,kernel_size=(1,1)):\n",
    "    net = inputx\n",
    "    for i in range(block_num):\n",
    "        net = tf.layers.conv2d(net,filters=filters,kernel_size=kernel_size,activation=None,name=\"{}_convblock_conv{}\".format(name,i),padding='same')\n",
    "        net = tf.layers.batch_normalization(net,training=training,name=\"{}_convblock_bn{}\".format(name,i))\n",
    "        net = tf.nn.elu(net,name=\"{}_convblock_elu{}\".format(name,i))\n",
    "    # net [None,10,9,2]\n",
    "    netshape = net.get_shape().as_list()\n",
    "    print(\"inside conv block {}\".format(str(netshape)))\n",
    "    net = tf.reshape(net,shape=(-1,netshape[1] * netshape[2] * netshape[3]))\n",
    "    net = tf.layers.dense(net,10 * 9,name=\"{}_dense\".format(name))\n",
    "    net = tf.nn.elu(net,name=\"{}_elu\".format(name))\n",
    "    return net\n",
    "\n",
    "def res_net_board(inputx,name,training,filters=256):\n",
    "    net = inputx\n",
    "    net = tf.layers.conv2d(net,filters=filters,kernel_size=(3,3),activation=None,name=\"{}_res_convb\".format(name),padding='same')\n",
    "    net = tf.layers.batch_normalization(net,training=training,name=\"{}_res_bnb\".format(name))\n",
    "    net = tf.nn.elu(net,name=\"{}_res_elub\".format(name))\n",
    "    for i in range(NUM_RES_LAYERS):\n",
    "        net = res_block(net,name=\"{}_layer_{}\".format(name,i + 1),training=training)\n",
    "        print(net.get_shape().as_list())\n",
    "    print(\"inside res net {}\".format(str(net.get_shape().as_list())))\n",
    "    #net_unsoftmax = conv_block(net,name=\"{}_conv\".format(name),training=training)\n",
    "    return net\n",
    "\n",
    "def get_scatter(name):\n",
    "    with tf.variable_scope(\"Test\"):\n",
    "        ph = tf.placeholder(tf.float32,name=name)\n",
    "        op = tf.summary.scalar(name,ph)\n",
    "    return ph,op"
   ]
  },
  {
   "cell_type": "code",
   "execution_count": 18,
   "metadata": {
    "collapsed": true
   },
   "outputs": [],
   "source": [
    "def average_gradients(tower_grads):\n",
    "    \"\"\"Calculate the average gradient for each shared variable across all towers.\n",
    "    Note that this function provides a synchronization point across all towers.\n",
    "    Args:\n",
    "    tower_grads: List of lists of (gradient, variable) tuples. The outer list\n",
    "      is over individual gradients. The inner list is over the gradient\n",
    "      calculation for each tower.\n",
    "    Returns:\n",
    "     List of pairs of (gradient, variable) where the gradient has been averaged\n",
    "     across all towers.\n",
    "\n",
    "\n",
    "    \"\"\"\n",
    "    average_grads = []\n",
    "    for grad_and_vars in zip(*tower_grads):\n",
    "        # Note that each grad_and_vars looks like the following:\n",
    "        #   ((grad0_gpu0, var0_gpu0), ... , (grad0_gpuN, var0_gpuN))\n",
    "        grads = []\n",
    "        for g, _ in grad_and_vars:\n",
    "            # Add 0 dimension to the gradients to represent the tower.\n",
    "            expanded_g = tf.expand_dims(g, 0)\n",
    "            # Append on a 'tower' dimension which we will average over below.\n",
    "            grads.append(expanded_g)\n",
    "\n",
    "        # Average over the 'tower' dimension.\n",
    "        grad = tf.concat(grads,0)\n",
    "        grad = tf.reduce_mean(grad, 0)\n",
    "\n",
    "        # Keep in mind that the Variables are redundant because they are shared\n",
    "        # across towers. So .. we will just return the first tower's pointer to\n",
    "        # the Variable.\n",
    "        v = grad_and_vars[0][1]\n",
    "        grad_and_var = (grad, v)\n",
    "        average_grads.append(grad_and_var)\n",
    "    return average_grads\n",
    "\n",
    "def add_grad_to_list(opt,train_param,loss,tower_grad):\n",
    "    grads = opt.compute_gradients(loss, var_list = train_param)\n",
    "    grads = [i[0] for i in grads]\n",
    "    #print(grads)\n",
    "    tower_grad.append(zip(grads,train_param))\n",
    "    \n",
    "def get_op_mul(tower_gradients,optimizer,gs):\n",
    "    grads = average_gradients(tower_gradients)\n",
    "    train_op = optimizer.apply_gradients(grads,gs)\n",
    "    return train_op\n",
    "\n",
    "def reduce_mean(x):\n",
    "    return tf.reduce_mean(x)\n",
    "\n",
    "def merge(x):\n",
    "    return tf.concat(x,axis=0)"
   ]
  },
  {
   "cell_type": "code",
   "execution_count": 19,
   "metadata": {},
   "outputs": [
    {
     "data": {
      "text/plain": [
       "[0]"
      ]
     },
     "execution_count": 19,
     "metadata": {},
     "output_type": "execute_result"
    }
   ],
   "source": [
    "GPU_CORE"
   ]
  },
  {
   "cell_type": "code",
   "execution_count": 20,
   "metadata": {},
   "outputs": [
    {
     "name": "stdout",
     "output_type": "stream",
     "text": [
      "0\n",
      "[None, 10, 9, 256]\n",
      "[None, 10, 9, 256]\n",
      "[None, 10, 9, 256]\n",
      "[None, 10, 9, 256]\n",
      "[None, 10, 9, 256]\n",
      "[None, 10, 9, 256]\n",
      "[None, 10, 9, 256]\n",
      "inside res net [None, 10, 9, 256]\n"
     ]
    }
   ],
   "source": [
    "tf.reset_default_graph()\n",
    "\n",
    "NUM_RES_LAYERS = 7\n",
    "\n",
    "graph = tf.Graph()\n",
    "with graph.as_default():\n",
    "#with tf.device(\"/gpu:{}\".format(GPU_CORE)):\n",
    "    X = tf.placeholder(tf.float32,[None,10,9,14])\n",
    "    nextmove = tf.placeholder(tf.float32,[None,len(labels)])\n",
    "    score = tf.placeholder(tf.float32,[None,1])\n",
    "    \n",
    "    training = tf.placeholder(tf.bool,name='training_mode')\n",
    "    learning_rate = tf.placeholder(tf.float32)\n",
    "    global_step = tf.train.get_or_create_global_step()\n",
    "    optimizer_policy = tf.train.MomentumOptimizer(learning_rate=learning_rate,momentum=0.9)\n",
    "    optimizer_value = tf.train.MomentumOptimizer(learning_rate=learning_rate,momentum=0.9)\n",
    "    optimizer_multitarg = tf.train.MomentumOptimizer(learning_rate=learning_rate,momentum=0.9)\n",
    "    \n",
    "    tower_gradients_policy,tower_gradients_value,tower_gradients_multitarg = [],[],[]\n",
    "    \n",
    "    net_softmax_collection = []\n",
    "    value_head_collection = []\n",
    "    multitarget_loss_collection = []\n",
    "    value_loss_collection = []\n",
    "    policy_loss_collection = []\n",
    "    accuracy_select_collection = []\n",
    "    with tf.variable_scope(tf.get_variable_scope()) as vscope:\n",
    "        for ind,one_core in enumerate(GPU_CORE):\n",
    "            with tf.device(\"/gpu:{}\".format(one_core)):\n",
    "                print(ind)\n",
    "                body = res_net_board(X[ind * (BATCH_SIZE // len(GPU_CORE)):(ind + 1) * (BATCH_SIZE // len(GPU_CORE))],\n",
    "                                     \"selectnet\",training=training)\n",
    "                with tf.variable_scope(\"policy_head\"):\n",
    "                    policy_head = tf.layers.conv2d(body, 2, 1, padding='SAME')\n",
    "                    policy_head = tf.contrib.layers.batch_norm(policy_head, center=False, epsilon=1e-5, fused=True,\n",
    "                                                                is_training=training, activation_fn=tf.nn.relu)\n",
    "\n",
    "                    # print(self.policy_head.shape)  # (?, 9, 10, 2)\n",
    "                    policy_head = tf.reshape(policy_head, [-1, 9 * 10 * 2])\n",
    "                    policy_head = tf.contrib.layers.fully_connected(policy_head, len(labels), activation_fn=None)\n",
    "                    #self.policy_head.append(policy_head)    # 保存多个gpu的策略头结果（走子概率向量）\n",
    "\n",
    "                # 价值头\n",
    "                with tf.variable_scope(\"value_head\"):\n",
    "                    value_head = tf.layers.conv2d(body, 1, 1, padding='SAME')\n",
    "                    value_head = tf.contrib.layers.batch_norm(value_head, center=False, epsilon=1e-5, fused=True,\n",
    "                                                    is_training=training, activation_fn=tf.nn.relu)\n",
    "                    # print(self.value_head.shape)  # (?, 9, 10, 1)\n",
    "                    value_head = tf.reshape(value_head, [-1, 9 * 10 * 1])\n",
    "                    value_head = tf.contrib.layers.fully_connected(value_head, 256, activation_fn=tf.nn.relu)\n",
    "                    value_head = tf.contrib.layers.fully_connected(value_head, 1, activation_fn=tf.nn.tanh)\n",
    "                    value_head_collection.append(value_head)\n",
    "                net_unsoftmax = policy_head\n",
    "\n",
    "                with tf.variable_scope(\"Loss\"):\n",
    "                    policy_loss = tf.reduce_mean(tf.nn.softmax_cross_entropy_with_logits(\n",
    "                        labels=nextmove[ind * (BATCH_SIZE // len(GPU_CORE)):(ind + 1) * (BATCH_SIZE // len(GPU_CORE))],\n",
    "                        logits=net_unsoftmax))\n",
    "                    #loss_summary = tf.summary.scalar(\"move_loss\",policy_loss)\n",
    "                    value_loss = tf.losses.mean_squared_error(\n",
    "                        labels=score[ind * (BATCH_SIZE // len(GPU_CORE)):(ind + 1) * (BATCH_SIZE // len(GPU_CORE))],\n",
    "                        predictions=value_head) \n",
    "                    value_loss = tf.reduce_mean(value_loss)\n",
    "                    regularizer = tf.contrib.layers.l2_regularizer(scale=0.0001)\n",
    "                    regular_variables = tf.trainable_variables()\n",
    "                    l2_loss = tf.contrib.layers.apply_regularization(regularizer, regular_variables)\n",
    "                    multitarget_loss = value_loss + policy_loss\n",
    "                    \n",
    "                    multitarget_loss_collection.append(multitarget_loss)\n",
    "                    value_loss_collection.append(value_loss)\n",
    "                    policy_loss_collection.append(policy_loss)\n",
    "                net_softmax = tf.nn.softmax(net_unsoftmax)\n",
    "                net_softmax_collection.append(net_softmax)\n",
    "                \n",
    "                correct_prediction = tf.equal(tf.argmax(nextmove,1), tf.argmax(net_softmax,1))\n",
    "\n",
    "                with tf.variable_scope(\"Accuracy\"):\n",
    "                    accuracy_select = tf.reduce_mean(tf.cast(correct_prediction, tf.float32))\n",
    "                    accuracy_select_collection.append(accuracy_select)\n",
    "                tf.get_variable_scope().reuse_variables()\n",
    "                trainable_params = tf.trainable_variables()\n",
    "                tp_policy = [i for i in trainable_params if \n",
    "                                    ('value_head' not in i.name)]\n",
    "                tp_value = [i for i in trainable_params if \n",
    "                                    ('policy_head' not in i.name)]\n",
    "\n",
    "                add_grad_to_list(optimizer_policy,tp_policy,policy_loss,tower_gradients_policy)\n",
    "                add_grad_to_list(optimizer_value,tp_value,value_loss,tower_gradients_value)\n",
    "                add_grad_to_list(optimizer_multitarg,trainable_params,multitarget_loss,tower_gradients_multitarg)\n",
    "               \n",
    "    update_ops = tf.get_collection(tf.GraphKeys.UPDATE_OPS)\n",
    "    with tf.control_dependencies(update_ops):\n",
    "        #gradients_policy = average_gradients(tower_gradients_policy)\n",
    "        train_op_policy = get_op_mul(tower_gradients_policy,optimizer_policy,global_step)\n",
    "        train_op_value = get_op_mul(tower_gradients_value,optimizer_value,global_step)\n",
    "        train_op_multitarg = get_op_mul(tower_gradients_multitarg,optimizer_multitarg,global_step)\n",
    "        #train_op = optimizer.minimize(policy_loss,global_step=global_step)\n",
    "    net_softmax = merge(net_softmax_collection)\n",
    "    value_head = merge(value_head_collection)\n",
    "    multitarget_loss = reduce_mean(multitarget_loss_collection)\n",
    "    value_loss = reduce_mean(value_loss_collection)\n",
    "    policy_loss = reduce_mean(policy_loss_collection)\n",
    "    accuracy_select = reduce_mean(accuracy_select_collection)"
   ]
  },
  {
   "cell_type": "code",
   "execution_count": 28,
   "metadata": {
    "collapsed": true
   },
   "outputs": [],
   "source": [
    "with graph.as_default():\n",
    "    config = tf.ConfigProto()\n",
    "    config.gpu_options.allow_growth = True\n",
    "    config.allow_soft_placement = True\n",
    "    sess = tf.Session(config=config)\n",
    "    sess.run(tf.global_variables_initializer())\n",
    "    \n",
    "    tf.train.global_step(sess, global_step)"
   ]
  },
  {
   "cell_type": "code",
   "execution_count": 22,
   "metadata": {},
   "outputs": [
    {
     "name": "stdout",
     "output_type": "stream",
     "text": [
      "mkdir: 无法创建目录\"models\": 文件已存在\r\n"
     ]
    }
   ],
   "source": [
    "!mkdir models"
   ]
  },
  {
   "cell_type": "code",
   "execution_count": 23,
   "metadata": {
    "collapsed": true
   },
   "outputs": [],
   "source": [
    "import os\n",
    "if not os.path.exists(\"models/{}\".format(model_name)):\n",
    "    os.mkdir(\"models/{}\".format(model_name))"
   ]
  },
  {
   "cell_type": "code",
   "execution_count": 24,
   "metadata": {
    "collapsed": true
   },
   "outputs": [],
   "source": [
    "N_BATCH = 10000 * (128 / BATCH_SIZE)\n",
    "N_BATCH_TEST = 300 * (128 / BATCH_SIZE)\n",
    "N_BATCH = int(N_BATCH)\n",
    "N_BATCH_TEST = int(N_BATCH_TEST)"
   ]
  },
  {
   "cell_type": "code",
   "execution_count": 25,
   "metadata": {},
   "outputs": [
    {
     "data": {
      "text/plain": [
       "(5000, 150)"
      ]
     },
     "execution_count": 25,
     "metadata": {},
     "output_type": "execute_result"
    }
   ],
   "source": [
    "N_BATCH,N_BATCH_TEST"
   ]
  },
  {
   "cell_type": "code",
   "execution_count": 26,
   "metadata": {},
   "outputs": [
    {
     "data": {
      "text/plain": [
       "(0, 256)"
      ]
     },
     "execution_count": 26,
     "metadata": {},
     "output_type": "execute_result"
    }
   ],
   "source": [
    "ind * (BATCH_SIZE // len(GPU_CORE)),(ind + 1) * (BATCH_SIZE // len(GPU_CORE))"
   ]
  },
  {
   "cell_type": "raw",
   "metadata": {},
   "source": [
    "with graph.as_default():\n",
    "    train_epoch = 32\n",
    "    train_batch = 0\n",
    "    saver = tf.train.Saver(var_list=tf.global_variables())\n",
    "    saver.restore(sess,\"models/{}/model_{}\".format(model_name,train_epoch))"
   ]
  },
  {
   "cell_type": "code",
   "execution_count": null,
   "metadata": {
    "scrolled": false
   },
   "outputs": [
    {
     "name": "stdout",
     "output_type": "stream",
     "text": [
      "EPOCH 2 STEP 4999 LR 0.1 ACC 27.34 LOSS 2.84 value_loss 0.54 100.00 % [==================================================>] 1280000/1280000 \t used:1679s eta:0 sss\n",
      " epoch 2 100.00 % [==================================================>] 320000/320000 \t used:212s eta:0 sEPOCH 2 valid loss 2.8897688388824463 value loss 0.6428311467170715 acc 26.243125\n",
      "\n",
      "EPOCH 3 STEP 4999 LR 0.1 ACC 30.23 LOSS 2.62 value_loss 0.51 100.00 % [==================================================>] 1280000/1280000 \t used:1957s eta:0 ss\n",
      " epoch 3 100.00 % [==================================================>] 320000/320000 \t used:215s eta:0 sEPOCH 3 valid loss 2.650667667388916 value loss 0.6002789735794067 acc 30.513125\n",
      "\n",
      "EPOCH 4 STEP 4999 LR 0.1 ACC 33.38 LOSS 2.47 value_loss 0.49 100.00 % [==================================================>] 1280000/1280000 \t used:2015s eta:0 ss\n",
      " epoch 4 100.00 % [==================================================>] 320000/320000 \t used:216s eta:0 sEPOCH 4 valid loss 2.533902645111084 value loss 0.5921745896339417 acc 32.12875\n",
      "\n",
      "EPOCH 5 STEP 4999 LR 0.1 ACC 35.09 LOSS 2.36 value_loss 0.46 100.00 % [==================================================>] 1280000/1280000 \t used:1920s eta:0 ss\n",
      " epoch 5 100.00 % [==================================================>] 320000/320000 \t used:215s eta:0 sEPOCH 5 valid loss 2.4305031299591064 value loss 0.54811030626297 acc 34.0625\n",
      "\n",
      "EPOCH 6 STEP 4999 LR 0.1 ACC 35.14 LOSS 2.36 value_loss 0.47 100.00 % [==================================================>] 1280000/1280000 \t used:2009s eta:0 ss\n",
      " epoch 6 100.00 % [==================================================>] 320000/320000 \t used:214s eta:0 sEPOCH 6 valid loss 2.368988275527954 value loss 0.5792942643165588 acc 35.2940625\n",
      "\n",
      "EPOCH 7 STEP 4999 LR 0.1 ACC 37.66 LOSS 2.24 value_loss 0.49 100.00 % [==================================================>] 1280000/1280000 \t used:1913s eta:0 ss\n",
      " epoch 7 100.00 % [==================================================>] 320000/320000 \t used:214s eta:0 sEPOCH 7 valid loss 2.282895565032959 value loss 0.5657674074172974 acc 36.5665625\n",
      "\n",
      "EPOCH 8 STEP 4999 LR 0.1 ACC 39.24 LOSS 2.18 value_loss 0.46 100.00 % [==================================================>] 1280000/1280000 \t used:2021s eta:0 ss\n",
      " epoch 8 100.00 % [==================================================>] 320000/320000 \t used:213s eta:0 sEPOCH 8 valid loss 2.232208013534546 value loss 0.5620636343955994 acc 37.7790625\n",
      "\n",
      "EPOCH 9 STEP 4999 LR 0.1 ACC 40.13 LOSS 2.12 value_loss 0.47 100.00 % [==================================================>] 1280000/1280000 \t used:1924s eta:0 ss\n",
      " epoch 9 100.00 % [==================================================>] 320000/320000 \t used:214s eta:0 sEPOCH 9 valid loss 2.199859619140625 value loss 0.545734167098999 acc 38.4815625\n",
      "\n",
      "EPOCH 10 STEP 4999 LR 0.1 ACC 41.17 LOSS 2.06 value_loss 0.49 100.00 % [==================================================>] 1280000/1280000 \t used:2023s eta:0 ss\n",
      " epoch 10 100.00 % [==================================================>] 320000/320000 \t used:218s eta:0 sEPOCH 10 valid loss 2.147524356842041 value loss 0.5399824976921082 acc 39.384375\n",
      "\n",
      "EPOCH 11 STEP 4999 LR 0.1 ACC 42.11 LOSS 2.03 value_loss 0.45 100.00 % [==================================================>] 1280000/1280000 \t used:1922s eta:0 ss\n",
      " epoch 11 100.00 % [==================================================>] 320000/320000 \t used:214s eta:0 sEPOCH 11 valid loss 2.13093900680542 value loss 0.5392522811889648 acc 39.9540625\n",
      "\n",
      "EPOCH 12 STEP 4999 LR 0.1 ACC 42.2 LOSS 2.0 value_loss 0.52 100.00 % [==================================================>] 1280000/1280000 \t used:2012s eta:0 ssss\n",
      " epoch 12 100.00 % [==================================================>] 320000/320000 \t used:214s eta:0 sEPOCH 12 valid loss 2.091338634490967 value loss 0.5446038842201233 acc 40.538125\n",
      "\n",
      "EPOCH 13 STEP 4999 LR 0.1 ACC 42.63 LOSS 1.99 value_loss 0.44 100.00 % [==================================================>] 1280000/1280000 \t used:1937s eta:0 ss\n",
      " epoch 13 100.00 % [==================================================>] 320000/320000 \t used:216s eta:0 sEPOCH 13 valid loss 2.0504560470581055 value loss 0.5416216850280762 acc 41.3678125\n",
      "\n",
      "EPOCH 14 STEP 4999 LR 0.1 ACC 45.93 LOSS 1.86 value_loss 0.44 100.00 % [==================================================>] 1280000/1280000 \t used:2023s eta:0 ss\n",
      " epoch 14 100.00 % [==================================================>] 320000/320000 \t used:214s eta:0 sEPOCH 14 valid loss 2.043025016784668 value loss 0.5439398288726807 acc 41.441875\n",
      "\n",
      "EPOCH 15 STEP 4999 LR 0.05 ACC 47.29 LOSS 1.8 value_loss 0.44 100.00 % [==================================================>] 1280000/1280000 \t used:1954s eta:0 sss\n",
      " epoch 15 100.00 % [==================================================>] 320000/320000 \t used:222s eta:0 sEPOCH 15 valid loss 1.9543395042419434 value loss 0.5279549956321716 acc 43.290625\n",
      "\n",
      "EPOCH 16 STEP 4999 LR 0.05 ACC 46.46 LOSS 1.8 value_loss 0.45 100.00 % [==================================================>] 1280000/1280000 \t used:2032s eta:0 sss\n",
      " epoch 16 100.00 % [==================================================>] 320000/320000 \t used:220s eta:0 sEPOCH 16 valid loss 1.9382621049880981 value loss 0.5228803157806396 acc 43.509375\n",
      "\n",
      "EPOCH 17 STEP 4999 LR 0.05 ACC 48.95 LOSS 1.7 value_loss 0.45 100.00 % [==================================================>] 1280000/1280000 \t used:1960s eta:0 sss\n",
      " epoch 17 100.00 % [==================================================>] 320000/320000 \t used:219s eta:0 sEPOCH 17 valid loss 1.933958649635315 value loss 0.5423064231872559 acc 43.93875\n",
      "\n",
      "EPOCH 18 STEP 4999 LR 0.05 ACC 47.83 LOSS 1.76 value_loss 0.45 100.00 % [==================================================>] 1280000/1280000 \t used:2022s eta:0 ss\n",
      " epoch 18 100.00 % [==================================================>] 320000/320000 \t used:214s eta:0 sEPOCH 18 valid loss 1.9327805042266846 value loss 0.5238792896270752 acc 43.9428125\n",
      "\n",
      "EPOCH 19 STEP 4999 LR 0.05 ACC 47.98 LOSS 1.75 value_loss 0.46 100.00 % [==================================================>] 1280000/1280000 \t used:1965s eta:0 ss\n",
      " epoch 19 100.00 % [==================================================>] 320000/320000 \t used:213s eta:0 sEPOCH 19 valid loss 1.9116483926773071 value loss 0.5447497367858887 acc 44.241875\n",
      "\n",
      "EPOCH 20 STEP 4999 LR 0.05 ACC 50.38 LOSS 1.65 value_loss 0.43 100.00 % [==================================================>] 1280000/1280000 \t used:2015s eta:0 ss\n",
      " epoch 20 100.00 % [==================================================>] 320000/320000 \t used:215s eta:0 sEPOCH 20 valid loss 1.9198486804962158 value loss 0.5429391860961914 acc 44.1521875\n",
      "\n",
      "EPOCH 21 STEP 4999 LR 0.05 ACC 49.58 LOSS 1.68 value_loss 0.42 100.00 % [==================================================>] 1280000/1280000 \t used:1976s eta:0 ss\n",
      " epoch 21 100.00 % [==================================================>] 320000/320000 \t used:215s eta:0 sEPOCH 21 valid loss 1.9177494049072266 value loss 0.5206494927406311 acc 44.3146875\n",
      "\n",
      "EPOCH 22 STEP 4999 LR 0.05 ACC 49.4 LOSS 1.68 value_loss 0.41 100.00 % [==================================================>] 1280000/1280000 \t used:2022s eta:0 sss\n",
      " epoch 22 100.00 % [==================================================>] 320000/320000 \t used:214s eta:0 sEPOCH 22 valid loss 1.908808946609497 value loss 0.5452829599380493 acc 44.4859375\n",
      "\n",
      "EPOCH 23 STEP 4999 LR 0.05 ACC 53.08 LOSS 1.56 value_loss 0.42 100.00 % [==================================================>] 1280000/1280000 \t used:1970s eta:0 ss\n",
      " epoch 23 100.00 % [==================================================>] 320000/320000 \t used:212s eta:0 sEPOCH 23 valid loss 1.9039827585220337 value loss 0.5349015593528748 acc 44.77875\n",
      "\n",
      "EPOCH 24 STEP 4999 LR 0.05 ACC 51.14 LOSS 1.61 value_loss 0.37 100.00 % [==================================================>] 1280000/1280000 \t used:2034s eta:0 ss\n",
      " epoch 24 100.00 % [==================================================>] 320000/320000 \t used:212s eta:0 sEPOCH 24 valid loss 1.9065754413604736 value loss 0.5385537147521973 acc 44.95125\n",
      "\n"
     ]
    },
    {
     "name": "stdout",
     "output_type": "stream",
     "text": [
      "EPOCH 25 STEP 4999 LR 0.05 ACC 50.76 LOSS 1.63 value_loss 0.43 100.00 % [==================================================>] 1280000/1280000 \t used:1991s eta:0 ss\n",
      " epoch 25 100.00 % [==================================================>] 320000/320000 \t used:213s eta:0 sEPOCH 25 valid loss 1.899925947189331 value loss 0.5345991849899292 acc 44.686875\n",
      "\n",
      "EPOCH 26 STEP 4999 LR 0.05 ACC 54.15 LOSS 1.5 value_loss 0.38 100.00 % [==================================================>] 1280000/1280000 \t used:2023s eta:0 sss\n",
      " epoch 26 100.00 % [==================================================>] 320000/320000 \t used:212s eta:0 sEPOCH 26 valid loss 1.899824619293213 value loss 0.5591979622840881 acc 45.07875\n",
      "\n",
      "EPOCH 27 STEP 4999 LR 0.05 ACC 51.32 LOSS 1.59 value_loss 0.41 100.00 % [==================================================>] 1280000/1280000 \t used:1992s eta:0 ss\n",
      " epoch 27 100.00 % [==================================================>] 320000/320000 \t used:217s eta:0 sEPOCH 27 valid loss 1.9133810997009277 value loss 0.5372686982154846 acc 45.2159375\n",
      "\n",
      "EPOCH 28 STEP 4999 LR 0.05 ACC 51.87 LOSS 1.6 value_loss 0.41 100.00 % [==================================================>] 1280000/1280000 \t used:2245s eta:0 sss\n",
      " epoch 28 100.00 % [==================================================>] 320000/320000 \t used:213s eta:0 sEPOCH 28 valid loss 1.9008338451385498 value loss 0.5524048805236816 acc 45.298125\n",
      "\n",
      "EPOCH 29 STEP 4999 LR 0.05 ACC 53.43 LOSS 1.52 value_loss 0.37 100.00 % [==================================================>] 1280000/1280000 \t used:2001s eta:0 ss\n",
      " epoch 29 100.00 % [==================================================>] 320000/320000 \t used:212s eta:0 sEPOCH 29 valid loss 1.8994837999343872 value loss 0.5683954954147339 acc 45.3915625\n",
      "\n",
      "EPOCH 30 STEP 4999 LR 0.025 ACC 58.01 LOSS 1.37 value_loss 0.37 100.00 % [==================================================>] 1280000/1280000 \t used:2021s eta:0 ss\n",
      " epoch 30 100.00 % [==================================================>] 320000/320000 \t used:212s eta:0 sEPOCH 30 valid loss 1.8769851922988892 value loss 0.5413782000541687 acc 46.7121875\n",
      "\n",
      "EPOCH 31 STEP 4999 LR 0.025 ACC 58.12 LOSS 1.37 value_loss 0.36 100.00 % [==================================================>] 1280000/1280000 \t used:2007s eta:0 ss\n",
      " epoch 31 100.00 % [==================================================>] 320000/320000 \t used:211s eta:0 sEPOCH 31 valid loss 1.8785667419433594 value loss 0.5464293956756592 acc 46.6728125\n",
      "\n",
      "EPOCH 32 STEP 4999 LR 0.025 ACC 57.56 LOSS 1.4 value_loss 0.39 100.00 % [==================================================>] 1280000/1280000 \t used:1897s eta:0 sss\n",
      " epoch 32 100.00 % [==================================================>] 320000/320000 \t used:212s eta:0 sEPOCH 32 valid loss 1.8774973154067993 value loss 0.5360460877418518 acc 46.7228125\n",
      "\n",
      "EPOCH 33 STEP 4999 LR 0.025 ACC 58.6 LOSS 1.35 value_loss 0.4 100.00 % [==================================================>] 1280000/1280000 \t used:1884s eta:0 ssss\n",
      " epoch 33 100.00 % [==================================================>] 320000/320000 \t used:212s eta:0 sEPOCH 33 valid loss 1.9051382541656494 value loss 0.5569140315055847 acc 46.7309375\n",
      "\n",
      "EPOCH 34 STEP 4999 LR 0.025 ACC 59.66 LOSS 1.32 value_loss 0.37 100.00 % [==================================================>] 1280000/1280000 \t used:1850s eta:0 ss\n",
      " epoch 34 100.00 % [==================================================>] 320000/320000 \t used:213s eta:0 sEPOCH 34 valid loss 1.898827314376831 value loss 0.5345565676689148 acc 46.7878125\n",
      "\n",
      "EPOCH 35 STEP 4999 LR 0.025 ACC 58.35 LOSS 1.36 value_loss 0.39 100.00 % [==================================================>] 1280000/1280000 \t used:1878s eta:0 ss\n",
      " epoch 35 100.00 % [==================================================>] 320000/320000 \t used:214s eta:0 sEPOCH 35 valid loss 1.8817585706710815 value loss 0.5405541658401489 acc 47.143125\n",
      "\n",
      "EPOCH 36 STEP 4999 LR 0.025 ACC 60.94 LOSS 1.26 value_loss 0.36 100.00 % [==================================================>] 1280000/1280000 \t used:1781s eta:0 ss\n",
      " epoch 36 100.00 % [==================================================>] 320000/320000 \t used:212s eta:0 sEPOCH 36 valid loss 1.9425305128097534 value loss 0.5413868427276611 acc 46.5453125\n",
      "\n",
      "EPOCH 37 STEP 4999 LR 0.025 ACC 60.62 LOSS 1.28 value_loss 0.36 100.00 % [==================================================>] 1280000/1280000 \t used:1883s eta:0 ss\n",
      " epoch 37 100.00 % [==================================================>] 320000/320000 \t used:213s eta:0 sEPOCH 37 valid loss 1.9292809963226318 value loss 0.5346348881721497 acc 46.809375\n",
      "\n",
      "EPOCH 38 STEP 4999 LR 0.025 ACC 58.75 LOSS 1.34 value_loss 0.37 100.00 % [==================================================>] 1280000/1280000 \t used:1751s eta:0 ss\n",
      " epoch 38 100.00 % [==================================================>] 320000/320000 \t used:212s eta:0 sEPOCH 38 valid loss 1.909954309463501 value loss 0.5322897434234619 acc 46.99\n",
      "\n",
      "EPOCH 39 STEP 4999 LR 0.025 ACC 62.44 LOSS 1.22 value_loss 0.33 100.00 % [==================================================>] 1280000/1280000 \t used:1878s eta:0 ss\n",
      " epoch 39 100.00 % [==================================================>] 320000/320000 \t used:212s eta:0 sEPOCH 39 valid loss 1.9763835668563843 value loss 0.5532776117324829 acc 46.518125\n",
      "\n",
      "EPOCH 40 STEP 4999 LR 0.025 ACC 61.78 LOSS 1.24 value_loss 0.32 100.00 % [==================================================>] 1280000/1280000 \t used:1823s eta:0 ss\n",
      " epoch 40 100.00 % [==================================================>] 320000/320000 \t used:211s eta:0 sEPOCH 40 valid loss 1.9370746612548828 value loss 0.5444481372833252 acc 47.1834375\n",
      "\n",
      "EPOCH 41 STEP 4999 LR 0.025 ACC 60.35 LOSS 1.28 value_loss 0.34 100.00 % [==================================================>] 1280000/1280000 \t used:1874s eta:0 ss\n",
      " epoch 41 100.00 % [==================================================>] 320000/320000 \t used:214s eta:0 sEPOCH 41 valid loss 1.9331871271133423 value loss 0.5338751077651978 acc 47.12375\n",
      "\n",
      "EPOCH 42 STEP 4999 LR 0.025 ACC 65.82 LOSS 1.11 value_loss 0.34 100.00 % [==================================================>] 1280000/1280000 \t used:1876s eta:0 ss\n",
      " epoch 42 100.00 % [==================================================>] 320000/320000 \t used:212s eta:0 sEPOCH 42 valid loss 1.9819133281707764 value loss 0.5520861744880676 acc 47.0075\n",
      "\n",
      "EPOCH 43 STEP 4999 LR 0.025 ACC 62.04 LOSS 1.21 value_loss 0.34 100.00 % [==================================================>] 1280000/1280000 \t used:1869s eta:0 ss\n",
      " epoch 43 100.00 % [==================================================>] 320000/320000 \t used:212s eta:0 sEPOCH 43 valid loss 2.001384735107422 value loss 0.5344786047935486 acc 46.6728125\n",
      "\n",
      "EPOCH 44 STEP 4999 LR 0.025 ACC 62.89 LOSS 1.21 value_loss 0.33 100.00 % [==================================================>] 1280000/1280000 \t used:1878s eta:0 ss\n",
      " epoch 44 100.00 % [==================================================>] 320000/320000 \t used:212s eta:0 sEPOCH 44 valid loss 1.954575777053833 value loss 0.5287672877311707 acc 47.395625\n",
      "\n",
      "EPOCH 45 STEP 4999 LR 0.0125 ACC 69.55 LOSS 0.99 value_loss 0.29 100.00 % [==================================================>] 1280000/1280000 \t used:1798s eta:0 ss\n",
      " epoch 45 100.00 % [==================================================>] 320000/320000 \t used:212s eta:0 sEPOCH 45 valid loss 2.005671977996826 value loss 0.5503214597702026 acc 48.041875\n",
      "\n",
      "EPOCH 46 STEP 4999 LR 0.0125 ACC 67.89 LOSS 1.05 value_loss 0.32 100.00 % [==================================================>] 1280000/1280000 \t used:1883s eta:0 ss\n",
      " epoch 46 100.00 % [==================================================>] 320000/320000 \t used:213s eta:0 sEPOCH 46 valid loss 2.008280038833618 value loss 0.5287153124809265 acc 48.36625\n",
      "\n",
      "EPOCH 47 STEP 4999 LR 0.0125 ACC 68.2 LOSS 1.04 value_loss 0.31 100.00 % [==================================================>] 1280000/1280000 \t used:1734s eta:0 sss\n",
      " epoch 47 100.00 % [==================================================>] 320000/320000 \t used:213s eta:0 sEPOCH 47 valid loss 2.0354106426239014 value loss 0.561211347579956 acc 47.5803125\n",
      "\n"
     ]
    },
    {
     "name": "stdout",
     "output_type": "stream",
     "text": [
      "EPOCH 48 STEP 4999 LR 0.0125 ACC 71.72 LOSS 0.91 value_loss 0.27 100.00 % [==================================================>] 1280000/1280000 \t used:1872s eta:0 ss\n",
      " epoch 48 100.00 % [==================================================>] 320000/320000 \t used:212s eta:0 sEPOCH 48 valid loss 2.055657386779785 value loss 0.5388065576553345 acc 48.11125\n",
      "\n",
      "EPOCH 49 STEP 4999 LR 0.0125 ACC 70.71 LOSS 0.95 value_loss 0.3 100.00 % [==================================================>] 1280000/1280000 \t used:1815s eta:0 sss\n",
      " epoch 49 100.00 % [==================================================>] 320000/320000 \t used:213s eta:0 sEPOCH 49 valid loss 2.0866355895996094 value loss 0.555290937423706 acc 47.9121875\n",
      "\n",
      "EPOCH 50 STEP 4999 LR 0.0125 ACC 69.76 LOSS 0.99 value_loss 0.31 100.00 % [==================================================>] 1280000/1280000 \t used:1876s eta:0 ss\n",
      " epoch 50 100.00 % [==================================================>] 320000/320000 \t used:213s eta:0 sEPOCH 50 valid loss 2.0615270137786865 value loss 0.5483758449554443 acc 48.19375\n",
      "\n",
      "EPOCH 51 STEP 4999 LR 0.0125 ACC 74.3 LOSS 0.85 value_loss 0.27 100.00 % [==================================================>] 1280000/1280000 \t used:1876s eta:0 sss\n",
      " epoch 51 100.00 % [==================================================>] 320000/320000 \t used:213s eta:0 sEPOCH 51 valid loss 2.104620933532715 value loss 0.5487098693847656 acc 48.16875\n",
      "\n",
      "EPOCH 52 STEP 4999 LR 0.0125 ACC 71.11 LOSS 0.92 value_loss 0.3 100.00 % [==================================================>] 1280000/1280000 \t used:1867s eta:0 sss\n",
      " epoch 52 100.00 % [==================================================>] 320000/320000 \t used:213s eta:0 sEPOCH 52 valid loss 2.126504898071289 value loss 0.5449334979057312 acc 48.05625\n",
      "\n",
      "EPOCH 53 STEP 4999 LR 0.0125 ACC 71.1 LOSS 0.94 value_loss 0.31 100.00 % [==================================================>] 1280000/1280000 \t used:1869s eta:0 sss\n",
      " epoch 53 100.00 % [==================================================>] 320000/320000 \t used:211s eta:0 sEPOCH 53 valid loss 2.1150851249694824 value loss 0.5417486429214478 acc 48.07375\n",
      "\n",
      "EPOCH 54 STEP 4999 LR 0.0125 ACC 75.37 LOSS 0.82 value_loss 0.29 100.00 % [==================================================>] 1280000/1280000 \t used:1779s eta:0 ss\n",
      " epoch 54 100.00 % [==================================================>] 320000/320000 \t used:213s eta:0 sEPOCH 54 valid loss 2.1170260906219482 value loss 0.557168185710907 acc 48.1440625\n",
      "\n",
      "EPOCH 55 STEP 4999 LR 0.0125 ACC 72.78 LOSS 0.87 value_loss 0.27 100.00 % [==================================================>] 1280000/1280000 \t used:1873s eta:0 ss\n",
      " epoch 55 100.00 % [==================================================>] 320000/320000 \t used:211s eta:0 sEPOCH 55 valid loss 2.1687123775482178 value loss 0.545423150062561 acc 48.214375\n",
      "\n",
      "EPOCH 56 STEP 4999 LR 0.0125 ACC 71.84 LOSS 0.9 value_loss 0.3 100.00 % [==================================================>] 1280000/1280000 \t used:1741s eta:0 ssss\n",
      " epoch 56 100.00 % [==================================================>] 320000/320000 \t used:210s eta:0 sEPOCH 56 valid loss 2.1683030128479004 value loss 0.5652583241462708 acc 48.253125\n",
      "\n",
      "EPOCH 57 STEP 4999 LR 0.0125 ACC 70.49 LOSS 0.94 value_loss 0.3 100.00 % [==================================================>] 1280000/1280000 \t used:1880s eta:0 sss\n",
      " epoch 57 100.00 % [==================================================>] 320000/320000 \t used:212s eta:0 sEPOCH 57 valid loss 2.106261730194092 value loss 0.5408785939216614 acc 48.8675\n",
      "\n",
      "EPOCH 58 STEP 4999 LR 0.0125 ACC 74.36 LOSS 0.82 value_loss 0.27 100.00 % [==================================================>] 1280000/1280000 \t used:1811s eta:0 ss\n",
      " epoch 58 100.00 % [==================================================>] 320000/320000 \t used:211s eta:0 sEPOCH 58 valid loss 2.2307753562927246 value loss 0.5520336031913757 acc 47.9875\n",
      "\n",
      "EPOCH 59 STEP 4999 LR 0.0125 ACC 72.24 LOSS 0.89 value_loss 0.29 100.00 % [==================================================>] 1280000/1280000 \t used:1876s eta:0 ss\n",
      " epoch 59 100.00 % [==================================================>] 320000/320000 \t used:212s eta:0 sEPOCH 59 valid loss 2.212224006652832 value loss 0.5633620023727417 acc 48.065625\n",
      "\n",
      "EPOCH 60 STEP 4999 LR 0.00625 ACC 74.39 LOSS 0.84 value_loss 0.3 100.00 % [==================================================>] 1280000/1280000 \t used:1871s eta:0 sss\n",
      " epoch 60 100.00 % [==================================================>] 320000/320000 \t used:212s eta:0 sEPOCH 60 valid loss 2.2110071182250977 value loss 0.5522373914718628 acc 48.85625\n",
      "\n",
      "EPOCH 61 STEP 4999 LR 0.00625 ACC 78.03 LOSS 0.72 value_loss 0.29 100.00 % [==================================================>] 1280000/1280000 \t used:1853s eta:0 ss\n",
      " epoch 61 100.00 % [==================================================>] 320000/320000 \t used:213s eta:0 sEPOCH 61 valid loss 2.2793478965759277 value loss 0.5561954379081726 acc 49.5521875\n",
      "\n",
      "EPOCH 62 STEP 4999 LR 0.00625 ACC 78.69 LOSS 0.7 value_loss 0.27 100.00 % [==================================================>] 1280000/1280000 \t used:1872s eta:0 sss\n",
      " epoch 62 100.00 % [==================================================>] 320000/320000 \t used:213s eta:0 sEPOCH 62 valid loss 2.300442695617676 value loss 0.5761715173721313 acc 49.0703125\n",
      "\n",
      "EPOCH 63 STEP 4999 LR 0.00625 ACC 77.89 LOSS 0.72 value_loss 0.27 100.00 % [==================================================>] 1280000/1280000 \t used:1779s eta:0 ss\n",
      " epoch 63 100.00 % [==================================================>] 320000/320000 \t used:212s eta:0 sEPOCH 63 valid loss 2.297858476638794 value loss 0.5580835938453674 acc 49.3375\n",
      "\n",
      "EPOCH 64 STEP 4999 LR 0.00625 ACC 79.89 LOSS 0.67 value_loss 0.29 100.00 % [==================================================>] 1280000/1280000 \t used:1879s eta:0 ss\n",
      " epoch 64 100.00 % [==================================================>] 320000/320000 \t used:208s eta:0 sEPOCH 64 valid loss 2.36600399017334 value loss 0.5695804953575134 acc 49.0584375\n",
      "\n",
      "EPOCH 65 STEP 4999 LR 0.00625 ACC 79.15 LOSS 0.69 value_loss 0.27 100.00 % [==================================================>] 1280000/1280000 \t used:1764s eta:0 ss\n",
      " epoch 65 100.00 % [==================================================>] 320000/320000 \t used:210s eta:0 sEPOCH 65 valid loss 2.3331539630889893 value loss 0.5614840984344482 acc 49.5328125\n",
      "\n",
      "EPOCH 66 STEP 4999 LR 0.00625 ACC 77.61 LOSS 0.73 value_loss 0.25 100.00 % [==================================================>] 1280000/1280000 \t used:1898s eta:0 ss\n",
      " epoch 66 100.00 % [==================================================>] 320000/320000 \t used:210s eta:0 sEPOCH 66 valid loss 2.3775625228881836 value loss 0.557938277721405 acc 48.9696875\n",
      "\n",
      "EPOCH 67 STEP 4999 LR 0.00625 ACC 81.27 LOSS 0.63 value_loss 0.24 100.00 % [==================================================>] 1280000/1280000 \t used:1812s eta:0 ss\n",
      " epoch 67 100.00 % [==================================================>] 320000/320000 \t used:210s eta:0 sEPOCH 67 valid loss 2.414109468460083 value loss 0.5503425598144531 acc 49.1490625\n",
      "\n",
      "EPOCH 68 STEP 4999 LR 0.00625 ACC 79.91 LOSS 0.66 value_loss 0.25 100.00 % [==================================================>] 1280000/1280000 \t used:1899s eta:0 ss\n",
      " epoch 68 100.00 % [==================================================>] 320000/320000 \t used:209s eta:0 sEPOCH 68 valid loss 2.4102349281311035 value loss 0.5664827227592468 acc 49.30875\n",
      "\n",
      "EPOCH 69 STEP 4999 LR 0.00625 ACC 79.74 LOSS 0.66 value_loss 0.26 100.00 % [==================================================>] 1280000/1280000 \t used:1170s eta:0 ss\n",
      " epoch 69 100.00 % [==================================================>] 320000/320000 \t used:211s eta:0 sEPOCH 69 valid loss 2.4157910346984863 value loss 0.5709815621376038 acc 49.0975\n",
      "\n",
      "EPOCH 70 STEP 4999 LR 0.00625 ACC 83.26 LOSS 0.57 value_loss 0.25 100.00 % [==================================================>] 1280000/1280000 \t used:956s eta:0 ss\n",
      " epoch 70 100.00 % [==================================================>] 320000/320000 \t used:211s eta:0 sEPOCH 70 valid loss 2.47762393951416 value loss 0.5503069162368774 acc 49.0765625\n",
      "\n"
     ]
    },
    {
     "name": "stdout",
     "output_type": "stream",
     "text": [
      "EPOCH 71 STEP 4999 LR 0.00625 ACC 80.85 LOSS 0.62 value_loss 0.25 100.00 % [==================================================>] 1280000/1280000 \t used:958s eta:0 ss\n",
      " epoch 71 100.00 % [==================================================>] 320000/320000 \t used:212s eta:0 sEPOCH 71 valid loss 2.4849061965942383 value loss 0.5639262795448303 acc 49.2046875\n",
      "\n",
      "EPOCH 72 STEP 4999 LR 0.00625 ACC 79.73 LOSS 0.65 value_loss 0.27 100.00 % [==================================================>] 1280000/1280000 \t used:957s eta:0 ss\n",
      " epoch 72 100.00 % [==================================================>] 320000/320000 \t used:213s eta:0 sEPOCH 72 valid loss 2.465441942214966 value loss 0.5652086734771729 acc 49.47125\n",
      "\n",
      "EPOCH 73 STEP 4999 LR 0.00625 ACC 83.07 LOSS 0.56 value_loss 0.26 100.00 % [==================================================>] 1280000/1280000 \t used:958s eta:0 ss\n",
      " epoch 73 100.00 % [==================================================>] 320000/320000 \t used:214s eta:0 sEPOCH 73 valid loss 2.5183424949645996 value loss 0.5650336742401123 acc 49.1884375\n",
      "\n",
      "EPOCH 74 STEP 4999 LR 0.00625 ACC 82.57 LOSS 0.58 value_loss 0.23 100.00 % [==================================================>] 1280000/1280000 \t used:956s eta:0 ss\n",
      " epoch 74 100.00 % [==================================================>] 320000/320000 \t used:213s eta:0 sEPOCH 74 valid loss 2.528615713119507 value loss 0.5707994699478149 acc 49.0875\n",
      "\n",
      "EPOCH 75 STEP 4999 LR 0.003125 ACC 83.41 LOSS 0.56 value_loss 0.27 100.00 % [==================================================>] 1280000/1280000 \t used:957s eta:0 ss\n",
      " epoch 75 100.00 % [==================================================>] 320000/320000 \t used:213s eta:0 sEPOCH 75 valid loss 2.5366604328155518 value loss 0.552837610244751 acc 49.766875\n",
      "\n",
      "EPOCH 76 STEP 4999 LR 0.003125 ACC 86.59 LOSS 0.47 value_loss 0.25 100.00 % [==================================================>] 1280000/1280000 \t used:960s eta:0 ss\n",
      " epoch 76 100.00 % [==================================================>] 320000/320000 \t used:214s eta:0 sEPOCH 76 valid loss 2.595750093460083 value loss 0.5875692367553711 acc 49.701875\n",
      "\n",
      "EPOCH 77 STEP 4999 LR 0.003125 ACC 85.23 LOSS 0.51 value_loss 0.24 100.00 % [==================================================>] 1280000/1280000 \t used:964s eta:0 ss\n",
      " epoch 77 100.00 % [==================================================>] 320000/320000 \t used:213s eta:0 sEPOCH 77 valid loss 2.6025662422180176 value loss 0.5694504380226135 acc 49.8209375\n",
      "\n",
      "EPOCH 78 STEP 4999 LR 0.003125 ACC 84.76 LOSS 0.52 value_loss 0.25 100.00 % [==================================================>] 1280000/1280000 \t used:963s eta:0 ss\n",
      " epoch 78 100.00 % [==================================================>] 320000/320000 \t used:213s eta:0 sEPOCH 78 valid loss 2.605818510055542 value loss 0.5852342844009399 acc 49.7353125\n",
      "\n",
      "EPOCH 79 STEP 4999 LR 0.003125 ACC 86.7 LOSS 0.47 value_loss 0.24 100.00 % [==================================================>] 1280000/1280000 \t used:963s eta:0 sss\n",
      " epoch 79 100.00 % [==================================================>] 320000/320000 \t used:215s eta:0 sEPOCH 79 valid loss 2.6500396728515625 value loss 0.5835660099983215 acc 49.5815625\n",
      "\n",
      "EPOCH 80 STEP 4999 LR 0.003125 ACC 85.86 LOSS 0.49 value_loss 0.23 100.00 % [==================================================>] 1280000/1280000 \t used:960s eta:0 ss\n",
      " epoch 80 100.00 % [==================================================>] 320000/320000 \t used:214s eta:0 sEPOCH 80 valid loss 2.6748530864715576 value loss 0.5601961016654968 acc 49.60625\n",
      "\n",
      "EPOCH 81 STEP 4999 LR 0.003125 ACC 85.07 LOSS 0.52 value_loss 0.26 100.00 % [==================================================>] 1280000/1280000 \t used:963s eta:0 ss\n",
      " epoch 81 100.00 % [==================================================>] 320000/320000 \t used:213s eta:0 sEPOCH 81 valid loss 2.6703693866729736 value loss 0.5707793235778809 acc 49.823125\n",
      "\n",
      "EPOCH 82 STEP 4999 LR 0.003125 ACC 87.36 LOSS 0.46 value_loss 0.24 100.00 % [==================================================>] 1280000/1280000 \t used:962s eta:0 ss\n",
      " epoch 82 100.00 % [==================================================>] 320000/320000 \t used:212s eta:0 sEPOCH 82 valid loss 2.6663877964019775 value loss 0.5769792199134827 acc 49.85375\n",
      "\n",
      "EPOCH 83 STEP 4999 LR 0.003125 ACC 86.44 LOSS 0.48 value_loss 0.25 100.00 % [==================================================>] 1280000/1280000 \t used:963s eta:0 ss\n",
      " epoch 83 100.00 % [==================================================>] 320000/320000 \t used:213s eta:0 sEPOCH 83 valid loss 2.7442092895507812 value loss 0.5767632126808167 acc 49.498125\n",
      "\n",
      "EPOCH 84 STEP 4999 LR 0.003125 ACC 85.33 LOSS 0.5 value_loss 0.23 100.00 % [==================================================>] 1280000/1280000 \t used:964s eta:0 sss\n",
      " epoch 84 18.96 % [=========>-----------------------------------------] 60672/320000 \t used:36s eta:154 s"
     ]
    }
   ],
   "source": [
    "restore = False\n",
    "N_EPOCH = 100\n",
    "DECAY_EPOCH = 15\n",
    "\n",
    "class ExpVal:\n",
    "    def __init__(self,exp_a=0.97):\n",
    "        self.val = None\n",
    "        self.exp_a = exp_a\n",
    "    def update(self,newval):\n",
    "        if self.val == None:\n",
    "            self.val = newval\n",
    "        else:\n",
    "            self.val = self.exp_a * self.val + (1 - self.exp_a) * newval\n",
    "    def getval(self):\n",
    "        return round(self.val,2)\n",
    "    \n",
    "expacc_move = ExpVal()\n",
    "exploss = ExpVal()\n",
    "expsteploss = ExpVal()\n",
    "\n",
    "begining_learning_rate = 1e-1\n",
    "\n",
    "pred_image = None\n",
    "if restore == False:\n",
    "    train_epoch = 1\n",
    "    train_batch = 0\n",
    "for one_epoch in range(train_epoch + 1,N_EPOCH):\n",
    "    train_epoch = one_epoch\n",
    "    pb = ProgressBar(worksum=N_BATCH * BATCH_SIZE,info=\" epoch {} batch {}\".format(train_epoch,train_batch))\n",
    "    pb.startjob()\n",
    "    \n",
    "    for one_batch in range(N_BATCH):\n",
    "        if restore == True and one_batch < train_batch:\n",
    "            pb.auto_display = False\n",
    "            pb.complete(BATCH_SIZE)\n",
    "            pb.auto_display = True\n",
    "            continue\n",
    "        else:\n",
    "            restore = False\n",
    "        train_batch = one_batch\n",
    "        \n",
    "        batch_x,batch_y,batch_v = trainflow.next()['data']\n",
    "        batch_v = np.expand_dims(np.nan_to_num(batch_v),1)\n",
    "        # learning rate decay strategy\n",
    "        batch_lr = begining_learning_rate * 2 ** -(one_epoch // DECAY_EPOCH)\n",
    "        with graph.as_default():\n",
    "            _,step_loss,step_value_loss,step_acc_move,step_value,step_val_predict = sess.run(\n",
    "                [train_op_multitarg,policy_loss,value_loss,accuracy_select,global_step,value_head],feed_dict={\n",
    "                    X:batch_x,nextmove:batch_y,learning_rate:batch_lr,training:True,score:batch_v,\n",
    "                })\n",
    "        \n",
    "        step_acc_move *= 100\n",
    "        \n",
    "        expacc_move.update(step_acc_move)\n",
    "        exploss.update(step_loss)\n",
    "        expsteploss.update(step_value_loss)\n",
    "\n",
    "       \n",
    "        pb.info = \"EPOCH {} STEP {} LR {} ACC {} LOSS {} value_loss {}\".format(\n",
    "            one_epoch,one_batch,batch_lr,expacc_move.getval(),exploss.getval(),expsteploss.getval())\n",
    "        \n",
    "        pb.complete(BATCH_SIZE)\n",
    "    print()\n",
    "    pb = ProgressBar(worksum=N_BATCH // 4 * BATCH_SIZE,info=\" epoch {}\".format(train_epoch))\n",
    "    pb.startjob()\n",
    "    losses = []\n",
    "    value_losses = []\n",
    "    accs = []\n",
    "    for one_batch in range(N_BATCH // 4):\n",
    "        batch_x,batch_y,batch_v = testflow.next()['data']\n",
    "        batch_v = np.expand_dims(np.nan_to_num(batch_v),1)\n",
    "        # learning rate decay strategy\n",
    "        batch_lr = begining_learning_rate * 10 ** -(one_epoch // DECAY_EPOCH)\n",
    "        with graph.as_default():\n",
    "            step_loss,step_value_loss,step_acc_move,step_value = sess.run(\n",
    "                [policy_loss,value_loss,accuracy_select,global_step],feed_dict={\n",
    "                    X:batch_x,nextmove:batch_y,learning_rate:batch_lr,training:False,score:batch_v,\n",
    "                })\n",
    "        \n",
    "        step_acc_move *= 100\n",
    "        losses.append(step_loss)\n",
    "        accs.append(step_acc_move)\n",
    "        value_losses.append(step_value_loss)\n",
    "        pb.complete(BATCH_SIZE)\n",
    "    print(\"EPOCH {} valid loss {} value loss {} acc {}\".format(train_epoch,np.average(losses)\n",
    "                                                               ,np.average(value_losses),np.average(accs)))\n",
    "    print()\n",
    "    with graph.as_default():\n",
    "        saver = tf.train.Saver(var_list=tf.global_variables())\n",
    "        saver.save(sess,\"models/{}/model_{}\".format(model_name,one_epoch))"
   ]
  },
  {
   "cell_type": "code",
   "execution_count": null,
   "metadata": {
    "collapsed": true
   },
   "outputs": [],
   "source": []
  }
 ],
 "metadata": {
  "anaconda-cloud": {},
  "kernelspec": {
   "display_name": "tf1.3_python",
   "language": "python",
   "name": "tf1.3_kernel"
  },
  "language_info": {
   "codemirror_mode": {
    "name": "ipython",
    "version": 3
   },
   "file_extension": ".py",
   "mimetype": "text/x-python",
   "name": "python",
   "nbconvert_exporter": "python",
   "pygments_lexer": "ipython3",
   "version": "3.6.0"
  }
 },
 "nbformat": 4,
 "nbformat_minor": 1
}
